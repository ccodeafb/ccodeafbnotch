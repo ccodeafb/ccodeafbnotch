{
 "cells": [
  {
   "cell_type": "code",
   "execution_count": 1,
   "metadata": {
    "id": "y6lUzVsirJ5V"
   },
   "outputs": [],
   "source": [
    "# Importamos pandas\n",
    "\n",
    "import pandas as pd\n"
   ]
  },
  {
   "cell_type": "markdown",
   "metadata": {
    "id": "U52PNIBwpsQC"
   },
   "source": [
    "# Actividades de Merge y Join:"
   ]
  },
  {
   "cell_type": "code",
   "execution_count": 2,
   "metadata": {
    "colab": {
     "base_uri": "https://localhost:8080/",
     "height": 206
    },
    "executionInfo": {
     "elapsed": 27,
     "status": "ok",
     "timestamp": 1689181191037,
     "user": {
      "displayName": "Felix Enriquez",
      "userId": "05512138648137656203"
     },
     "user_tz": -120
    },
    "id": "s4IRkgfyCuC4",
    "outputId": "8bf6e9a0-5beb-4241-bebf-ac7646bbc2d2"
   },
   "outputs": [
    {
     "data": {
      "text/html": [
       "<div>\n",
       "<style scoped>\n",
       "    .dataframe tbody tr th:only-of-type {\n",
       "        vertical-align: middle;\n",
       "    }\n",
       "\n",
       "    .dataframe tbody tr th {\n",
       "        vertical-align: top;\n",
       "    }\n",
       "\n",
       "    .dataframe thead th {\n",
       "        text-align: right;\n",
       "    }\n",
       "</style>\n",
       "<table border=\"1\" class=\"dataframe\">\n",
       "  <thead>\n",
       "    <tr style=\"text-align: right;\">\n",
       "      <th></th>\n",
       "      <th>cliente_id</th>\n",
       "      <th>nombre</th>\n",
       "      <th>edad</th>\n",
       "    </tr>\n",
       "  </thead>\n",
       "  <tbody>\n",
       "    <tr>\n",
       "      <th>0</th>\n",
       "      <td>1</td>\n",
       "      <td>Juan</td>\n",
       "      <td>30</td>\n",
       "    </tr>\n",
       "    <tr>\n",
       "      <th>1</th>\n",
       "      <td>2</td>\n",
       "      <td>María</td>\n",
       "      <td>25</td>\n",
       "    </tr>\n",
       "    <tr>\n",
       "      <th>2</th>\n",
       "      <td>3</td>\n",
       "      <td>Pedro</td>\n",
       "      <td>40</td>\n",
       "    </tr>\n",
       "    <tr>\n",
       "      <th>3</th>\n",
       "      <td>4</td>\n",
       "      <td>Laura</td>\n",
       "      <td>35</td>\n",
       "    </tr>\n",
       "    <tr>\n",
       "      <th>4</th>\n",
       "      <td>5</td>\n",
       "      <td>Ana</td>\n",
       "      <td>28</td>\n",
       "    </tr>\n",
       "  </tbody>\n",
       "</table>\n",
       "</div>"
      ],
      "text/plain": [
       "   cliente_id nombre  edad\n",
       "0           1   Juan    30\n",
       "1           2  María    25\n",
       "2           3  Pedro    40\n",
       "3           4  Laura    35\n",
       "4           5    Ana    28"
      ]
     },
     "execution_count": 2,
     "metadata": {},
     "output_type": "execute_result"
    }
   ],
   "source": [
    "# Crea un dataframe de clientes y almacenalo en una variable llamada clientes\n",
    "\n",
    "lista_clientes = [(1, \"Juan\", 30),(2, \"María\", 25),(3, \"Pedro\", 40),(4, \"Laura\", 35 ),(5, \"Ana\", 28)]\n",
    "columnas1 = (\"cliente_id\",\"nombre\",\"edad\")\n",
    "\n",
    "clientes = pd.DataFrame(lista_clientes, columns=columnas1)\n",
    "clientes"
   ]
  },
  {
   "cell_type": "code",
   "execution_count": 3,
   "metadata": {
    "colab": {
     "base_uri": "https://localhost:8080/",
     "height": 206
    },
    "executionInfo": {
     "elapsed": 243,
     "status": "ok",
     "timestamp": 1689181256462,
     "user": {
      "displayName": "Felix Enriquez",
      "userId": "05512138648137656203"
     },
     "user_tz": -120
    },
    "id": "FHmQ_nE1C8VV",
    "outputId": "23fcb9cd-2df2-435b-ce54-5b1c0b2185b3"
   },
   "outputs": [
    {
     "data": {
      "text/html": [
       "<div>\n",
       "<style scoped>\n",
       "    .dataframe tbody tr th:only-of-type {\n",
       "        vertical-align: middle;\n",
       "    }\n",
       "\n",
       "    .dataframe tbody tr th {\n",
       "        vertical-align: top;\n",
       "    }\n",
       "\n",
       "    .dataframe thead th {\n",
       "        text-align: right;\n",
       "    }\n",
       "</style>\n",
       "<table border=\"1\" class=\"dataframe\">\n",
       "  <thead>\n",
       "    <tr style=\"text-align: right;\">\n",
       "      <th></th>\n",
       "      <th>pedido_id</th>\n",
       "      <th>cliente_id</th>\n",
       "      <th>producto</th>\n",
       "      <th>cantidad</th>\n",
       "    </tr>\n",
       "  </thead>\n",
       "  <tbody>\n",
       "    <tr>\n",
       "      <th>0</th>\n",
       "      <td>101</td>\n",
       "      <td>2</td>\n",
       "      <td>Camisa</td>\n",
       "      <td>2</td>\n",
       "    </tr>\n",
       "    <tr>\n",
       "      <th>1</th>\n",
       "      <td>102</td>\n",
       "      <td>4</td>\n",
       "      <td>Pantalón</td>\n",
       "      <td>1</td>\n",
       "    </tr>\n",
       "    <tr>\n",
       "      <th>2</th>\n",
       "      <td>103</td>\n",
       "      <td>1</td>\n",
       "      <td>Zapatos</td>\n",
       "      <td>3</td>\n",
       "    </tr>\n",
       "    <tr>\n",
       "      <th>3</th>\n",
       "      <td>104</td>\n",
       "      <td>3</td>\n",
       "      <td>Bolso</td>\n",
       "      <td>2</td>\n",
       "    </tr>\n",
       "    <tr>\n",
       "      <th>4</th>\n",
       "      <td>105</td>\n",
       "      <td>5</td>\n",
       "      <td>Sombrero</td>\n",
       "      <td>1</td>\n",
       "    </tr>\n",
       "  </tbody>\n",
       "</table>\n",
       "</div>"
      ],
      "text/plain": [
       "   pedido_id  cliente_id  producto  cantidad\n",
       "0        101           2    Camisa         2\n",
       "1        102           4  Pantalón         1\n",
       "2        103           1   Zapatos         3\n",
       "3        104           3     Bolso         2\n",
       "4        105           5  Sombrero         1"
      ]
     },
     "execution_count": 3,
     "metadata": {},
     "output_type": "execute_result"
    }
   ],
   "source": [
    "# Crea un dataframe de pedidos realizados por esos clientes y almacenalos en una variable llamada pedidos\n",
    "\n",
    "lista_pedidos = [(101, 2, \"Camisa\", 2),(102,  4, \"Pantalón\", 1),(103, 1, \"Zapatos\", 3),(104, 3, \"Bolso\", 2 ),(105, 5, \"Sombrero\", 1)]\n",
    "columnas2 = (\"pedido_id\", \"cliente_id\",\"producto\",\"cantidad\")\n",
    "\n",
    "pedidos = pd.DataFrame(lista_pedidos, columns=columnas2)\n",
    "pedidos"
   ]
  },
  {
   "cell_type": "code",
   "execution_count": 4,
   "metadata": {
    "colab": {
     "base_uri": "https://localhost:8080/",
     "height": 206
    },
    "executionInfo": {
     "elapsed": 223,
     "status": "ok",
     "timestamp": 1689181320712,
     "user": {
      "displayName": "Felix Enriquez",
      "userId": "05512138648137656203"
     },
     "user_tz": -120
    },
    "id": "m3uXtoEGsH9U",
    "outputId": "6a46456a-b17c-48ea-c3ac-77d6b66fa8aa"
   },
   "outputs": [
    {
     "data": {
      "text/html": [
       "<div>\n",
       "<style scoped>\n",
       "    .dataframe tbody tr th:only-of-type {\n",
       "        vertical-align: middle;\n",
       "    }\n",
       "\n",
       "    .dataframe tbody tr th {\n",
       "        vertical-align: top;\n",
       "    }\n",
       "\n",
       "    .dataframe thead th {\n",
       "        text-align: right;\n",
       "    }\n",
       "</style>\n",
       "<table border=\"1\" class=\"dataframe\">\n",
       "  <thead>\n",
       "    <tr style=\"text-align: right;\">\n",
       "      <th></th>\n",
       "      <th>cliente_id</th>\n",
       "      <th>nombre</th>\n",
       "      <th>edad</th>\n",
       "      <th>pedido_id</th>\n",
       "      <th>producto</th>\n",
       "      <th>cantidad</th>\n",
       "    </tr>\n",
       "  </thead>\n",
       "  <tbody>\n",
       "    <tr>\n",
       "      <th>0</th>\n",
       "      <td>1</td>\n",
       "      <td>Juan</td>\n",
       "      <td>30</td>\n",
       "      <td>103</td>\n",
       "      <td>Zapatos</td>\n",
       "      <td>3</td>\n",
       "    </tr>\n",
       "    <tr>\n",
       "      <th>1</th>\n",
       "      <td>2</td>\n",
       "      <td>María</td>\n",
       "      <td>25</td>\n",
       "      <td>101</td>\n",
       "      <td>Camisa</td>\n",
       "      <td>2</td>\n",
       "    </tr>\n",
       "    <tr>\n",
       "      <th>2</th>\n",
       "      <td>3</td>\n",
       "      <td>Pedro</td>\n",
       "      <td>40</td>\n",
       "      <td>104</td>\n",
       "      <td>Bolso</td>\n",
       "      <td>2</td>\n",
       "    </tr>\n",
       "    <tr>\n",
       "      <th>3</th>\n",
       "      <td>4</td>\n",
       "      <td>Laura</td>\n",
       "      <td>35</td>\n",
       "      <td>102</td>\n",
       "      <td>Pantalón</td>\n",
       "      <td>1</td>\n",
       "    </tr>\n",
       "    <tr>\n",
       "      <th>4</th>\n",
       "      <td>5</td>\n",
       "      <td>Ana</td>\n",
       "      <td>28</td>\n",
       "      <td>105</td>\n",
       "      <td>Sombrero</td>\n",
       "      <td>1</td>\n",
       "    </tr>\n",
       "  </tbody>\n",
       "</table>\n",
       "</div>"
      ],
      "text/plain": [
       "   cliente_id nombre  edad  pedido_id  producto  cantidad\n",
       "0           1   Juan    30        103   Zapatos         3\n",
       "1           2  María    25        101    Camisa         2\n",
       "2           3  Pedro    40        104     Bolso         2\n",
       "3           4  Laura    35        102  Pantalón         1\n",
       "4           5    Ana    28        105  Sombrero         1"
      ]
     },
     "execution_count": 4,
     "metadata": {},
     "output_type": "execute_result"
    }
   ],
   "source": [
    "# Realizar el merge basándote en la id de los clientes y almacena el dataframe resultante en una varaible llamada merge_df\n",
    "\n",
    "merge_df = clientes.merge(pedidos, on=\"cliente_id\") \n",
    "merge_df"
   ]
  },
  {
   "cell_type": "markdown",
   "metadata": {
    "id": "2mSdB04qtVWa"
   },
   "source": [
    "Hint:\n",
    "- La combinación inner devuelve solo las filas que tienen coincidencias en ambos DataFrames.\n",
    "- La combinación outer devuelve todas las filas de ambos DataFrames y rellena los valores faltantes con NaN en caso de no haber coincidencias.\n",
    "- La combinación left devuelve todas las filas del DataFrame izquierdo y las filas coincidentes del DataFrame derecho.\n",
    "- La combinación right devuelve todas las filas del DataFrame derecho y las filas coincidentes del DataFrame izquierdo.\n",
    "\n",
    "Probemos estas combinaciones con otros dos dataframes:"
   ]
  },
  {
   "cell_type": "code",
   "execution_count": 5,
   "metadata": {
    "colab": {
     "base_uri": "https://localhost:8080/",
     "height": 206
    },
    "executionInfo": {
     "elapsed": 228,
     "status": "ok",
     "timestamp": 1689181513695,
     "user": {
      "displayName": "Felix Enriquez",
      "userId": "05512138648137656203"
     },
     "user_tz": -120
    },
    "id": "QweKiQwcD9mf",
    "outputId": "4adf61d7-aeee-49dd-ca67-7e69a6405e10"
   },
   "outputs": [
    {
     "data": {
      "text/html": [
       "<div>\n",
       "<style scoped>\n",
       "    .dataframe tbody tr th:only-of-type {\n",
       "        vertical-align: middle;\n",
       "    }\n",
       "\n",
       "    .dataframe tbody tr th {\n",
       "        vertical-align: top;\n",
       "    }\n",
       "\n",
       "    .dataframe thead th {\n",
       "        text-align: right;\n",
       "    }\n",
       "</style>\n",
       "<table border=\"1\" class=\"dataframe\">\n",
       "  <thead>\n",
       "    <tr style=\"text-align: right;\">\n",
       "      <th></th>\n",
       "      <th>empleado_id</th>\n",
       "      <th>nombre</th>\n",
       "      <th>departamento</th>\n",
       "    </tr>\n",
       "  </thead>\n",
       "  <tbody>\n",
       "    <tr>\n",
       "      <th>0</th>\n",
       "      <td>1</td>\n",
       "      <td>Juan</td>\n",
       "      <td>Ventas</td>\n",
       "    </tr>\n",
       "    <tr>\n",
       "      <th>1</th>\n",
       "      <td>2</td>\n",
       "      <td>María</td>\n",
       "      <td>Marketing</td>\n",
       "    </tr>\n",
       "    <tr>\n",
       "      <th>2</th>\n",
       "      <td>3</td>\n",
       "      <td>Pedro</td>\n",
       "      <td>Ventas</td>\n",
       "    </tr>\n",
       "    <tr>\n",
       "      <th>3</th>\n",
       "      <td>4</td>\n",
       "      <td>Laura</td>\n",
       "      <td>Finanzas</td>\n",
       "    </tr>\n",
       "    <tr>\n",
       "      <th>4</th>\n",
       "      <td>5</td>\n",
       "      <td>Ana</td>\n",
       "      <td>Marketing</td>\n",
       "    </tr>\n",
       "  </tbody>\n",
       "</table>\n",
       "</div>"
      ],
      "text/plain": [
       "   empleado_id nombre departamento\n",
       "0            1   Juan       Ventas\n",
       "1            2  María    Marketing\n",
       "2            3  Pedro       Ventas\n",
       "3            4  Laura     Finanzas\n",
       "4            5    Ana    Marketing"
      ]
     },
     "execution_count": 5,
     "metadata": {},
     "output_type": "execute_result"
    }
   ],
   "source": [
    "# Crea un DataFrame de empleados y almacenalos en una variable llamada empleados\n",
    "\n",
    "lista_empleados = [(1, \"Juan\", \"Ventas\"),(2, \"María\", \"Marketing\"),(3, \"Pedro\", \"Ventas\"),(4, \"Laura\", \"Finanzas\"),(5, \"Ana\",\"Marketing\")]\n",
    "columnas3 = (\"empleado_id\", \"nombre\",\"departamento\")\n",
    "\n",
    "empleados = pd.DataFrame(lista_empleados, columns=columnas3)\n",
    "empleados"
   ]
  },
  {
   "cell_type": "code",
   "execution_count": 6,
   "metadata": {
    "colab": {
     "base_uri": "https://localhost:8080/",
     "height": 143
    },
    "executionInfo": {
     "elapsed": 287,
     "status": "ok",
     "timestamp": 1689181578696,
     "user": {
      "displayName": "Felix Enriquez",
      "userId": "05512138648137656203"
     },
     "user_tz": -120
    },
    "id": "BT54pfBOEHKD",
    "outputId": "bae42776-ba3f-486f-8f98-df14552e1167"
   },
   "outputs": [
    {
     "data": {
      "text/html": [
       "<div>\n",
       "<style scoped>\n",
       "    .dataframe tbody tr th:only-of-type {\n",
       "        vertical-align: middle;\n",
       "    }\n",
       "\n",
       "    .dataframe tbody tr th {\n",
       "        vertical-align: top;\n",
       "    }\n",
       "\n",
       "    .dataframe thead th {\n",
       "        text-align: right;\n",
       "    }\n",
       "</style>\n",
       "<table border=\"1\" class=\"dataframe\">\n",
       "  <thead>\n",
       "    <tr style=\"text-align: right;\">\n",
       "      <th></th>\n",
       "      <th>empleado_id</th>\n",
       "      <th>salario</th>\n",
       "    </tr>\n",
       "  </thead>\n",
       "  <tbody>\n",
       "    <tr>\n",
       "      <th>0</th>\n",
       "      <td>2</td>\n",
       "      <td>3000</td>\n",
       "    </tr>\n",
       "    <tr>\n",
       "      <th>1</th>\n",
       "      <td>4</td>\n",
       "      <td>4000</td>\n",
       "    </tr>\n",
       "    <tr>\n",
       "      <th>2</th>\n",
       "      <td>6</td>\n",
       "      <td>5000</td>\n",
       "    </tr>\n",
       "  </tbody>\n",
       "</table>\n",
       "</div>"
      ],
      "text/plain": [
       "   empleado_id  salario\n",
       "0            2     3000\n",
       "1            4     4000\n",
       "2            6     5000"
      ]
     },
     "execution_count": 6,
     "metadata": {},
     "output_type": "execute_result"
    }
   ],
   "source": [
    "# Crea un DataFrame de salarios que registre los salarios de ALGUNOS empleados y almacenalo en una variable llamada salarios\n",
    "\n",
    "lista_salarios = [(2, 3000),(4, 4000),(6, 5000 )]\n",
    "columnas4 = (\"empleado_id\", \"salario\")\n",
    "\n",
    "salarios = pd.DataFrame(lista_salarios, columns=columnas4)\n",
    "salarios"
   ]
  },
  {
   "cell_type": "code",
   "execution_count": 7,
   "metadata": {
    "colab": {
     "base_uri": "https://localhost:8080/",
     "height": 112
    },
    "executionInfo": {
     "elapsed": 20,
     "status": "ok",
     "timestamp": 1689181827141,
     "user": {
      "displayName": "Felix Enriquez",
      "userId": "05512138648137656203"
     },
     "user_tz": -120
    },
    "id": "spfVw5NdEaqR",
    "outputId": "62f92cbf-7286-4dbb-dc59-b071290d0681"
   },
   "outputs": [
    {
     "data": {
      "text/html": [
       "<div>\n",
       "<style scoped>\n",
       "    .dataframe tbody tr th:only-of-type {\n",
       "        vertical-align: middle;\n",
       "    }\n",
       "\n",
       "    .dataframe tbody tr th {\n",
       "        vertical-align: top;\n",
       "    }\n",
       "\n",
       "    .dataframe thead th {\n",
       "        text-align: right;\n",
       "    }\n",
       "</style>\n",
       "<table border=\"1\" class=\"dataframe\">\n",
       "  <thead>\n",
       "    <tr style=\"text-align: right;\">\n",
       "      <th></th>\n",
       "      <th>empleado_id</th>\n",
       "      <th>salario</th>\n",
       "      <th>nombre</th>\n",
       "      <th>departamento</th>\n",
       "    </tr>\n",
       "  </thead>\n",
       "  <tbody>\n",
       "    <tr>\n",
       "      <th>0</th>\n",
       "      <td>2</td>\n",
       "      <td>3000</td>\n",
       "      <td>María</td>\n",
       "      <td>Marketing</td>\n",
       "    </tr>\n",
       "    <tr>\n",
       "      <th>1</th>\n",
       "      <td>4</td>\n",
       "      <td>4000</td>\n",
       "      <td>Laura</td>\n",
       "      <td>Finanzas</td>\n",
       "    </tr>\n",
       "  </tbody>\n",
       "</table>\n",
       "</div>"
      ],
      "text/plain": [
       "   empleado_id  salario nombre departamento\n",
       "0            2     3000  María    Marketing\n",
       "1            4     4000  Laura     Finanzas"
      ]
     },
     "execution_count": 7,
     "metadata": {},
     "output_type": "execute_result"
    }
   ],
   "source": [
    "# Crea un dataframe a partir de empleados y salarios de modo que tengamos los datos completos coincidentes en ambos Dataframes. (Nombre variable libre)\n",
    "\n",
    "merge_df2 = salarios.merge(empleados, on=\"empleado_id\", how=\"inner\")\n",
    "merge_df2"
   ]
  },
  {
   "cell_type": "code",
   "execution_count": 8,
   "metadata": {
    "colab": {
     "base_uri": "https://localhost:8080/",
     "height": 238
    },
    "executionInfo": {
     "elapsed": 291,
     "status": "ok",
     "timestamp": 1689181957664,
     "user": {
      "displayName": "Felix Enriquez",
      "userId": "05512138648137656203"
     },
     "user_tz": -120
    },
    "id": "kCokSKdgFVAk",
    "outputId": "710480b8-8072-4e8a-f012-8fd594f9b73b"
   },
   "outputs": [
    {
     "data": {
      "text/html": [
       "<div>\n",
       "<style scoped>\n",
       "    .dataframe tbody tr th:only-of-type {\n",
       "        vertical-align: middle;\n",
       "    }\n",
       "\n",
       "    .dataframe tbody tr th {\n",
       "        vertical-align: top;\n",
       "    }\n",
       "\n",
       "    .dataframe thead th {\n",
       "        text-align: right;\n",
       "    }\n",
       "</style>\n",
       "<table border=\"1\" class=\"dataframe\">\n",
       "  <thead>\n",
       "    <tr style=\"text-align: right;\">\n",
       "      <th></th>\n",
       "      <th>empleado_id</th>\n",
       "      <th>nombre</th>\n",
       "      <th>departamento</th>\n",
       "      <th>salario</th>\n",
       "    </tr>\n",
       "  </thead>\n",
       "  <tbody>\n",
       "    <tr>\n",
       "      <th>0</th>\n",
       "      <td>1</td>\n",
       "      <td>Juan</td>\n",
       "      <td>Ventas</td>\n",
       "      <td>NaN</td>\n",
       "    </tr>\n",
       "    <tr>\n",
       "      <th>1</th>\n",
       "      <td>2</td>\n",
       "      <td>María</td>\n",
       "      <td>Marketing</td>\n",
       "      <td>3000.0</td>\n",
       "    </tr>\n",
       "    <tr>\n",
       "      <th>2</th>\n",
       "      <td>3</td>\n",
       "      <td>Pedro</td>\n",
       "      <td>Ventas</td>\n",
       "      <td>NaN</td>\n",
       "    </tr>\n",
       "    <tr>\n",
       "      <th>3</th>\n",
       "      <td>4</td>\n",
       "      <td>Laura</td>\n",
       "      <td>Finanzas</td>\n",
       "      <td>4000.0</td>\n",
       "    </tr>\n",
       "    <tr>\n",
       "      <th>4</th>\n",
       "      <td>5</td>\n",
       "      <td>Ana</td>\n",
       "      <td>Marketing</td>\n",
       "      <td>NaN</td>\n",
       "    </tr>\n",
       "    <tr>\n",
       "      <th>5</th>\n",
       "      <td>6</td>\n",
       "      <td>NaN</td>\n",
       "      <td>NaN</td>\n",
       "      <td>5000.0</td>\n",
       "    </tr>\n",
       "  </tbody>\n",
       "</table>\n",
       "</div>"
      ],
      "text/plain": [
       "   empleado_id nombre departamento  salario\n",
       "0            1   Juan       Ventas      NaN\n",
       "1            2  María    Marketing   3000.0\n",
       "2            3  Pedro       Ventas      NaN\n",
       "3            4  Laura     Finanzas   4000.0\n",
       "4            5    Ana    Marketing      NaN\n",
       "5            6    NaN          NaN   5000.0"
      ]
     },
     "execution_count": 8,
     "metadata": {},
     "output_type": "execute_result"
    }
   ],
   "source": [
    "# Crea un dataframe a partir de empleados y salarios de modo que tengamos los salarios de todos los empleados. Si no hay salario registrado automáticamente saldrá NaN (Nombre variable libre)\n",
    "\n",
    "merge_df3 = empleados.merge(salarios, on=\"empleado_id\", how=\"outer\")\n",
    "merge_df3"
   ]
  },
  {
   "cell_type": "code",
   "execution_count": 9,
   "metadata": {
    "colab": {
     "base_uri": "https://localhost:8080/",
     "height": 206
    },
    "executionInfo": {
     "elapsed": 18,
     "status": "ok",
     "timestamp": 1689182204623,
     "user": {
      "displayName": "Felix Enriquez",
      "userId": "05512138648137656203"
     },
     "user_tz": -120
    },
    "id": "_f87lkG7F2mI",
    "outputId": "54aadb6c-5a50-4472-b96e-a289aa5c45ac"
   },
   "outputs": [
    {
     "data": {
      "text/html": [
       "<div>\n",
       "<style scoped>\n",
       "    .dataframe tbody tr th:only-of-type {\n",
       "        vertical-align: middle;\n",
       "    }\n",
       "\n",
       "    .dataframe tbody tr th {\n",
       "        vertical-align: top;\n",
       "    }\n",
       "\n",
       "    .dataframe thead th {\n",
       "        text-align: right;\n",
       "    }\n",
       "</style>\n",
       "<table border=\"1\" class=\"dataframe\">\n",
       "  <thead>\n",
       "    <tr style=\"text-align: right;\">\n",
       "      <th></th>\n",
       "      <th>empleado_id</th>\n",
       "      <th>nombre</th>\n",
       "      <th>departamento</th>\n",
       "      <th>salario</th>\n",
       "    </tr>\n",
       "  </thead>\n",
       "  <tbody>\n",
       "    <tr>\n",
       "      <th>0</th>\n",
       "      <td>1</td>\n",
       "      <td>Juan</td>\n",
       "      <td>Ventas</td>\n",
       "      <td>NaN</td>\n",
       "    </tr>\n",
       "    <tr>\n",
       "      <th>1</th>\n",
       "      <td>2</td>\n",
       "      <td>María</td>\n",
       "      <td>Marketing</td>\n",
       "      <td>3000.0</td>\n",
       "    </tr>\n",
       "    <tr>\n",
       "      <th>2</th>\n",
       "      <td>3</td>\n",
       "      <td>Pedro</td>\n",
       "      <td>Ventas</td>\n",
       "      <td>NaN</td>\n",
       "    </tr>\n",
       "    <tr>\n",
       "      <th>3</th>\n",
       "      <td>4</td>\n",
       "      <td>Laura</td>\n",
       "      <td>Finanzas</td>\n",
       "      <td>4000.0</td>\n",
       "    </tr>\n",
       "    <tr>\n",
       "      <th>4</th>\n",
       "      <td>5</td>\n",
       "      <td>Ana</td>\n",
       "      <td>Marketing</td>\n",
       "      <td>NaN</td>\n",
       "    </tr>\n",
       "  </tbody>\n",
       "</table>\n",
       "</div>"
      ],
      "text/plain": [
       "   empleado_id nombre departamento  salario\n",
       "0            1   Juan       Ventas      NaN\n",
       "1            2  María    Marketing   3000.0\n",
       "2            3  Pedro       Ventas      NaN\n",
       "3            4  Laura     Finanzas   4000.0\n",
       "4            5    Ana    Marketing      NaN"
      ]
     },
     "execution_count": 9,
     "metadata": {},
     "output_type": "execute_result"
    }
   ],
   "source": [
    "# Crea un dataframe a partir de empleados y salarios de modo que tengamos los salarios de todos los datos posibles de los empleados \n",
    "#   cuya ID aparece en la tabla empleados. (Nombre variable libre)\n",
    "\n",
    "merge_df4 = empleados.merge(salarios, on=\"empleado_id\", how=\"left\")\n",
    "merge_df4"
   ]
  },
  {
   "cell_type": "code",
   "execution_count": 10,
   "metadata": {
    "colab": {
     "base_uri": "https://localhost:8080/",
     "height": 143
    },
    "executionInfo": {
     "elapsed": 19,
     "status": "ok",
     "timestamp": 1689182265867,
     "user": {
      "displayName": "Felix Enriquez",
      "userId": "05512138648137656203"
     },
     "user_tz": -120
    },
    "id": "OcuAKdPTtbjz",
    "outputId": "ee3d3fce-9223-4f94-91d9-cf3cd018135d"
   },
   "outputs": [
    {
     "data": {
      "text/html": [
       "<div>\n",
       "<style scoped>\n",
       "    .dataframe tbody tr th:only-of-type {\n",
       "        vertical-align: middle;\n",
       "    }\n",
       "\n",
       "    .dataframe tbody tr th {\n",
       "        vertical-align: top;\n",
       "    }\n",
       "\n",
       "    .dataframe thead th {\n",
       "        text-align: right;\n",
       "    }\n",
       "</style>\n",
       "<table border=\"1\" class=\"dataframe\">\n",
       "  <thead>\n",
       "    <tr style=\"text-align: right;\">\n",
       "      <th></th>\n",
       "      <th>empleado_id</th>\n",
       "      <th>nombre</th>\n",
       "      <th>departamento</th>\n",
       "      <th>salario</th>\n",
       "    </tr>\n",
       "  </thead>\n",
       "  <tbody>\n",
       "    <tr>\n",
       "      <th>0</th>\n",
       "      <td>2</td>\n",
       "      <td>María</td>\n",
       "      <td>Marketing</td>\n",
       "      <td>3000</td>\n",
       "    </tr>\n",
       "    <tr>\n",
       "      <th>1</th>\n",
       "      <td>4</td>\n",
       "      <td>Laura</td>\n",
       "      <td>Finanzas</td>\n",
       "      <td>4000</td>\n",
       "    </tr>\n",
       "    <tr>\n",
       "      <th>2</th>\n",
       "      <td>6</td>\n",
       "      <td>NaN</td>\n",
       "      <td>NaN</td>\n",
       "      <td>5000</td>\n",
       "    </tr>\n",
       "  </tbody>\n",
       "</table>\n",
       "</div>"
      ],
      "text/plain": [
       "   empleado_id nombre departamento  salario\n",
       "0            2  María    Marketing     3000\n",
       "1            4  Laura     Finanzas     4000\n",
       "2            6    NaN          NaN     5000"
      ]
     },
     "execution_count": 10,
     "metadata": {},
     "output_type": "execute_result"
    }
   ],
   "source": [
    "# Crea un dataframe a partir de empleados y salarios de modo que tengamos los salarios de todos los datos posibles de los empleados cuya ID aparece en la tabla salarios. (Nombre variable libre)\n",
    "\n",
    "merge_df5 = empleados.merge(salarios, on=\"empleado_id\", how=\"right\")\n",
    "merge_df5"
   ]
  },
  {
   "cell_type": "markdown",
   "metadata": {
    "id": "YjiISDQBwgdn"
   },
   "source": [
    "Hint:\n",
    "- Join Inner (por defecto): Devuelve solo las filas que tienen coincidencias en ambos DataFrames. Se utiliza el método join() sin especificar el parámetro how (o how='inner').\n",
    "\n",
    "- Join Outer (Full): Devuelve todas las filas de ambos DataFrames y rellena los valores faltantes con NaN en caso de no haber coincidencias. Se utiliza how='outer'.\n",
    "\n",
    "- Join Left: Devuelve todas las filas del DataFrame izquierdo y las filas coincidentes del DataFrame derecho. Se utiliza how='left'.\n",
    "\n",
    "- Join Right: Devuelve todas las filas del DataFrame derecho y las filas coincidentes del DataFrame izquierdo. Se utiliza how='right'.\n",
    "\n",
    "- Join utilizando sufijos: Si los DataFrames tienen columnas con el mismo nombre, se pueden especificar sufijos para diferenciarlas en el resultado. Se utiliza el parámetro suffixes para agregar sufijos a las columnas en conflicto.\n",
    "\n",
    "Practiquemos:"
   ]
  },
  {
   "cell_type": "code",
   "execution_count": 11,
   "metadata": {
    "colab": {
     "base_uri": "https://localhost:8080/",
     "height": 175
    },
    "executionInfo": {
     "elapsed": 440,
     "status": "ok",
     "timestamp": 1689182764789,
     "user": {
      "displayName": "Felix Enriquez",
      "userId": "05512138648137656203"
     },
     "user_tz": -120
    },
    "id": "478zRyW4HtaV",
    "outputId": "638d5127-1f10-4e01-cfb5-8b40dfcba8b2"
   },
   "outputs": [
    {
     "data": {
      "text/html": [
       "<div>\n",
       "<style scoped>\n",
       "    .dataframe tbody tr th:only-of-type {\n",
       "        vertical-align: middle;\n",
       "    }\n",
       "\n",
       "    .dataframe tbody tr th {\n",
       "        vertical-align: top;\n",
       "    }\n",
       "\n",
       "    .dataframe thead th {\n",
       "        text-align: right;\n",
       "    }\n",
       "</style>\n",
       "<table border=\"1\" class=\"dataframe\">\n",
       "  <thead>\n",
       "    <tr style=\"text-align: right;\">\n",
       "      <th></th>\n",
       "      <th>ID</th>\n",
       "      <th>Empleo</th>\n",
       "    </tr>\n",
       "  </thead>\n",
       "  <tbody>\n",
       "    <tr>\n",
       "      <th>0</th>\n",
       "      <td>1</td>\n",
       "      <td>Dentista</td>\n",
       "    </tr>\n",
       "    <tr>\n",
       "      <th>1</th>\n",
       "      <td>2</td>\n",
       "      <td>Profesora</td>\n",
       "    </tr>\n",
       "    <tr>\n",
       "      <th>2</th>\n",
       "      <td>3</td>\n",
       "      <td>Cocinero</td>\n",
       "    </tr>\n",
       "    <tr>\n",
       "      <th>3</th>\n",
       "      <td>4</td>\n",
       "      <td>Camarera</td>\n",
       "    </tr>\n",
       "  </tbody>\n",
       "</table>\n",
       "</div>"
      ],
      "text/plain": [
       "   ID     Empleo\n",
       "0   1   Dentista\n",
       "1   2  Profesora\n",
       "2   3   Cocinero\n",
       "3   4   Camarera"
      ]
     },
     "execution_count": 11,
     "metadata": {},
     "output_type": "execute_result"
    }
   ],
   "source": [
    "# Crea un dataframe de empleos de personas y almacenalo en una variable llamada empleos\n",
    "\n",
    "lista_empleos = [(1, \"Dentista\"),(2, \"Profesora\"),(3, \"Cocinero\"),(4, \"Camarera\")]\n",
    "columnas5 = (\"ID\",\"Empleo\")\n",
    "\n",
    "empleos = pd.DataFrame(lista_empleos, columns=columnas5)\n",
    "empleos"
   ]
  },
  {
   "cell_type": "code",
   "execution_count": 12,
   "metadata": {
    "colab": {
     "base_uri": "https://localhost:8080/",
     "height": 175
    },
    "executionInfo": {
     "elapsed": 20,
     "status": "ok",
     "timestamp": 1689182837902,
     "user": {
      "displayName": "Felix Enriquez",
      "userId": "05512138648137656203"
     },
     "user_tz": -120
    },
    "id": "6NTMjKrzIU4P",
    "outputId": "58571e17-2c5a-4071-ddbc-94279d15b4b4"
   },
   "outputs": [
    {
     "data": {
      "text/html": [
       "<div>\n",
       "<style scoped>\n",
       "    .dataframe tbody tr th:only-of-type {\n",
       "        vertical-align: middle;\n",
       "    }\n",
       "\n",
       "    .dataframe tbody tr th {\n",
       "        vertical-align: top;\n",
       "    }\n",
       "\n",
       "    .dataframe thead th {\n",
       "        text-align: right;\n",
       "    }\n",
       "</style>\n",
       "<table border=\"1\" class=\"dataframe\">\n",
       "  <thead>\n",
       "    <tr style=\"text-align: right;\">\n",
       "      <th></th>\n",
       "      <th>ID</th>\n",
       "      <th>Num_hijos</th>\n",
       "    </tr>\n",
       "  </thead>\n",
       "  <tbody>\n",
       "    <tr>\n",
       "      <th>0</th>\n",
       "      <td>1</td>\n",
       "      <td>0</td>\n",
       "    </tr>\n",
       "    <tr>\n",
       "      <th>1</th>\n",
       "      <td>2</td>\n",
       "      <td>2</td>\n",
       "    </tr>\n",
       "    <tr>\n",
       "      <th>2</th>\n",
       "      <td>8</td>\n",
       "      <td>3</td>\n",
       "    </tr>\n",
       "    <tr>\n",
       "      <th>3</th>\n",
       "      <td>10</td>\n",
       "      <td>0</td>\n",
       "    </tr>\n",
       "  </tbody>\n",
       "</table>\n",
       "</div>"
      ],
      "text/plain": [
       "   ID  Num_hijos\n",
       "0   1          0\n",
       "1   2          2\n",
       "2   8          3\n",
       "3  10          0"
      ]
     },
     "execution_count": 12,
     "metadata": {},
     "output_type": "execute_result"
    }
   ],
   "source": [
    "# Crea un dataframe número de hijos de persona y almacenalo en una variable llamada hijos (sólo deben coincidir algunas IDs con la tabla empleos)\n",
    "\n",
    "lista_hijos = [(1,0 ),(2,2 ),(8, 3),(10,0 )]\n",
    "columnas6 = (\"ID\",\"Num_hijos\")\n",
    "\n",
    "hijos = pd.DataFrame(lista_hijos, columns=columnas6)\n",
    "hijos"
   ]
  },
  {
   "cell_type": "code",
   "execution_count": 13,
   "metadata": {
    "id": "X4J1CSm3Jgmi"
   },
   "outputs": [],
   "source": [
    "# Establece la columna ID en ambos Dataframes como el índice (recuerda a nuestros amigos inplace y drop)\n",
    "\n",
    "empleos.set_index(\"ID\", inplace=True)\n",
    "hijos.set_index(\"ID\", inplace=True)"
   ]
  },
  {
   "cell_type": "code",
   "execution_count": 14,
   "metadata": {
    "colab": {
     "base_uri": "https://localhost:8080/",
     "height": 206
    },
    "executionInfo": {
     "elapsed": 225,
     "status": "ok",
     "timestamp": 1689183266594,
     "user": {
      "displayName": "Felix Enriquez",
      "userId": "05512138648137656203"
     },
     "user_tz": -120
    },
    "id": "FzSo6RFPKAI4",
    "outputId": "91762aec-ffb8-4dda-e161-8468e7309793"
   },
   "outputs": [
    {
     "data": {
      "text/html": [
       "<div>\n",
       "<style scoped>\n",
       "    .dataframe tbody tr th:only-of-type {\n",
       "        vertical-align: middle;\n",
       "    }\n",
       "\n",
       "    .dataframe tbody tr th {\n",
       "        vertical-align: top;\n",
       "    }\n",
       "\n",
       "    .dataframe thead th {\n",
       "        text-align: right;\n",
       "    }\n",
       "</style>\n",
       "<table border=\"1\" class=\"dataframe\">\n",
       "  <thead>\n",
       "    <tr style=\"text-align: right;\">\n",
       "      <th></th>\n",
       "      <th>Empleo</th>\n",
       "    </tr>\n",
       "    <tr>\n",
       "      <th>ID</th>\n",
       "      <th></th>\n",
       "    </tr>\n",
       "  </thead>\n",
       "  <tbody>\n",
       "    <tr>\n",
       "      <th>1</th>\n",
       "      <td>Dentista</td>\n",
       "    </tr>\n",
       "    <tr>\n",
       "      <th>2</th>\n",
       "      <td>Profesora</td>\n",
       "    </tr>\n",
       "    <tr>\n",
       "      <th>3</th>\n",
       "      <td>Cocinero</td>\n",
       "    </tr>\n",
       "    <tr>\n",
       "      <th>4</th>\n",
       "      <td>Camarera</td>\n",
       "    </tr>\n",
       "  </tbody>\n",
       "</table>\n",
       "</div>"
      ],
      "text/plain": [
       "       Empleo\n",
       "ID           \n",
       "1    Dentista\n",
       "2   Profesora\n",
       "3    Cocinero\n",
       "4    Camarera"
      ]
     },
     "execution_count": 14,
     "metadata": {},
     "output_type": "execute_result"
    }
   ],
   "source": [
    "# Por ejemplo empleos se vería así\n",
    "empleos"
   ]
  },
  {
   "cell_type": "code",
   "execution_count": 15,
   "metadata": {
    "colab": {
     "base_uri": "https://localhost:8080/",
     "height": 206
    },
    "executionInfo": {
     "elapsed": 254,
     "status": "ok",
     "timestamp": 1689183262816,
     "user": {
      "displayName": "Felix Enriquez",
      "userId": "05512138648137656203"
     },
     "user_tz": -120
    },
    "id": "Uqkoi-huJTmk",
    "outputId": "e76352a6-7be4-4777-eba2-8b4c027d8e13"
   },
   "outputs": [
    {
     "data": {
      "text/html": [
       "<div>\n",
       "<style scoped>\n",
       "    .dataframe tbody tr th:only-of-type {\n",
       "        vertical-align: middle;\n",
       "    }\n",
       "\n",
       "    .dataframe tbody tr th {\n",
       "        vertical-align: top;\n",
       "    }\n",
       "\n",
       "    .dataframe thead th {\n",
       "        text-align: right;\n",
       "    }\n",
       "</style>\n",
       "<table border=\"1\" class=\"dataframe\">\n",
       "  <thead>\n",
       "    <tr style=\"text-align: right;\">\n",
       "      <th></th>\n",
       "      <th>Empleo</th>\n",
       "      <th>Num_hijos</th>\n",
       "    </tr>\n",
       "    <tr>\n",
       "      <th>ID</th>\n",
       "      <th></th>\n",
       "      <th></th>\n",
       "    </tr>\n",
       "  </thead>\n",
       "  <tbody>\n",
       "    <tr>\n",
       "      <th>1</th>\n",
       "      <td>Dentista</td>\n",
       "      <td>0.0</td>\n",
       "    </tr>\n",
       "    <tr>\n",
       "      <th>2</th>\n",
       "      <td>Profesora</td>\n",
       "      <td>2.0</td>\n",
       "    </tr>\n",
       "    <tr>\n",
       "      <th>3</th>\n",
       "      <td>Cocinero</td>\n",
       "      <td>NaN</td>\n",
       "    </tr>\n",
       "    <tr>\n",
       "      <th>4</th>\n",
       "      <td>Camarera</td>\n",
       "      <td>NaN</td>\n",
       "    </tr>\n",
       "  </tbody>\n",
       "</table>\n",
       "</div>"
      ],
      "text/plain": [
       "       Empleo  Num_hijos\n",
       "ID                      \n",
       "1    Dentista        0.0\n",
       "2   Profesora        2.0\n",
       "3    Cocinero        NaN\n",
       "4    Camarera        NaN"
      ]
     },
     "execution_count": 15,
     "metadata": {},
     "output_type": "execute_result"
    }
   ],
   "source": [
    "# Crea un Dataframe donde estén todas las personas de la tabla empleo y se refleje el número de hijos de cada uno (tendremos NaNs)\n",
    "\n",
    "empleos_hijos = empleos.join(hijos, on=\"ID\")\n",
    "empleos_hijos"
   ]
  },
  {
   "cell_type": "code",
   "execution_count": 16,
   "metadata": {
    "colab": {
     "base_uri": "https://localhost:8080/",
     "height": 206
    },
    "executionInfo": {
     "elapsed": 20,
     "status": "ok",
     "timestamp": 1689183699184,
     "user": {
      "displayName": "Felix Enriquez",
      "userId": "05512138648137656203"
     },
     "user_tz": -120
    },
    "id": "hidBSu16MS3z",
    "outputId": "eebf880c-d46f-4013-99d0-432c4ee9e23f"
   },
   "outputs": [
    {
     "data": {
      "text/html": [
       "<div>\n",
       "<style scoped>\n",
       "    .dataframe tbody tr th:only-of-type {\n",
       "        vertical-align: middle;\n",
       "    }\n",
       "\n",
       "    .dataframe tbody tr th {\n",
       "        vertical-align: top;\n",
       "    }\n",
       "\n",
       "    .dataframe thead th {\n",
       "        text-align: right;\n",
       "    }\n",
       "</style>\n",
       "<table border=\"1\" class=\"dataframe\">\n",
       "  <thead>\n",
       "    <tr style=\"text-align: right;\">\n",
       "      <th></th>\n",
       "      <th>Empleo</th>\n",
       "      <th>Num_hijos</th>\n",
       "    </tr>\n",
       "    <tr>\n",
       "      <th>ID</th>\n",
       "      <th></th>\n",
       "      <th></th>\n",
       "    </tr>\n",
       "  </thead>\n",
       "  <tbody>\n",
       "    <tr>\n",
       "      <th>1</th>\n",
       "      <td>Dentista</td>\n",
       "      <td>0.0</td>\n",
       "    </tr>\n",
       "    <tr>\n",
       "      <th>2</th>\n",
       "      <td>Profesora</td>\n",
       "      <td>2.0</td>\n",
       "    </tr>\n",
       "    <tr>\n",
       "      <th>3</th>\n",
       "      <td>Cocinero</td>\n",
       "      <td>NaN</td>\n",
       "    </tr>\n",
       "    <tr>\n",
       "      <th>4</th>\n",
       "      <td>Camarera</td>\n",
       "      <td>NaN</td>\n",
       "    </tr>\n",
       "  </tbody>\n",
       "</table>\n",
       "</div>"
      ],
      "text/plain": [
       "       Empleo  Num_hijos\n",
       "ID                      \n",
       "1    Dentista        0.0\n",
       "2   Profesora        2.0\n",
       "3    Cocinero        NaN\n",
       "4    Camarera        NaN"
      ]
     },
     "execution_count": 16,
     "metadata": {},
     "output_type": "execute_result"
    }
   ],
   "source": [
    "# Obtén el mismo resultado pero usando el argumento \"how\"\n",
    "\n",
    "empleos_hijos2 = empleos.join(hijos, on=\"ID\", how='left')\n",
    "empleos_hijos2"
   ]
  },
  {
   "cell_type": "code",
   "execution_count": 17,
   "metadata": {
    "colab": {
     "base_uri": "https://localhost:8080/",
     "height": 269
    },
    "executionInfo": {
     "elapsed": 242,
     "status": "ok",
     "timestamp": 1689183584269,
     "user": {
      "displayName": "Felix Enriquez",
      "userId": "05512138648137656203"
     },
     "user_tz": -120
    },
    "id": "FfzAmENqKhKT",
    "outputId": "3bcb249b-155f-48c8-ef1e-c6614f7ca213"
   },
   "outputs": [
    {
     "data": {
      "text/html": [
       "<div>\n",
       "<style scoped>\n",
       "    .dataframe tbody tr th:only-of-type {\n",
       "        vertical-align: middle;\n",
       "    }\n",
       "\n",
       "    .dataframe tbody tr th {\n",
       "        vertical-align: top;\n",
       "    }\n",
       "\n",
       "    .dataframe thead th {\n",
       "        text-align: right;\n",
       "    }\n",
       "</style>\n",
       "<table border=\"1\" class=\"dataframe\">\n",
       "  <thead>\n",
       "    <tr style=\"text-align: right;\">\n",
       "      <th></th>\n",
       "      <th>Empleo</th>\n",
       "      <th>Num_hijos</th>\n",
       "    </tr>\n",
       "    <tr>\n",
       "      <th>ID</th>\n",
       "      <th></th>\n",
       "      <th></th>\n",
       "    </tr>\n",
       "  </thead>\n",
       "  <tbody>\n",
       "    <tr>\n",
       "      <th>1</th>\n",
       "      <td>Dentista</td>\n",
       "      <td>0.0</td>\n",
       "    </tr>\n",
       "    <tr>\n",
       "      <th>2</th>\n",
       "      <td>Profesora</td>\n",
       "      <td>2.0</td>\n",
       "    </tr>\n",
       "    <tr>\n",
       "      <th>3</th>\n",
       "      <td>Cocinero</td>\n",
       "      <td>NaN</td>\n",
       "    </tr>\n",
       "    <tr>\n",
       "      <th>4</th>\n",
       "      <td>Camarera</td>\n",
       "      <td>NaN</td>\n",
       "    </tr>\n",
       "    <tr>\n",
       "      <th>8</th>\n",
       "      <td>NaN</td>\n",
       "      <td>3.0</td>\n",
       "    </tr>\n",
       "    <tr>\n",
       "      <th>10</th>\n",
       "      <td>NaN</td>\n",
       "      <td>0.0</td>\n",
       "    </tr>\n",
       "  </tbody>\n",
       "</table>\n",
       "</div>"
      ],
      "text/plain": [
       "       Empleo  Num_hijos\n",
       "ID                      \n",
       "1    Dentista        0.0\n",
       "2   Profesora        2.0\n",
       "3    Cocinero        NaN\n",
       "4    Camarera        NaN\n",
       "8         NaN        3.0\n",
       "10        NaN        0.0"
      ]
     },
     "execution_count": 17,
     "metadata": {},
     "output_type": "execute_result"
    }
   ],
   "source": [
    "# Crea un Dataframe donde estén todas las personas de AMBAS tablas (tendremos NaNs)\n",
    "\n",
    "empleos_hijos3 = empleos.join(hijos, how='outer')\n",
    "empleos_hijos3"
   ]
  },
  {
   "cell_type": "code",
   "execution_count": 18,
   "metadata": {
    "id": "T3-qYpVUMBSd"
   },
   "outputs": [],
   "source": [
    "# Y ahora que pasaría se tienemos nombre de columna en ambas tablas que se llaman igual por ejemplo Ciudad?\n",
    "empleos['Ciudad'] = ['Madrid','Barcelona','Valencia','Sevilla']\n",
    "hijos['Ciudad'] = ['Madrid','Barcelona','Matalascañas','Palencia']"
   ]
  },
  {
   "cell_type": "code",
   "execution_count": 19,
   "metadata": {
    "colab": {
     "base_uri": "https://localhost:8080/",
     "height": 269
    },
    "executionInfo": {
     "elapsed": 20,
     "status": "ok",
     "timestamp": 1689184039930,
     "user": {
      "displayName": "Felix Enriquez",
      "userId": "05512138648137656203"
     },
     "user_tz": -120
    },
    "id": "Motxjqa7NG0f",
    "outputId": "1045764d-5fdb-4357-ca80-3b9decd87661"
   },
   "outputs": [
    {
     "data": {
      "text/html": [
       "<div>\n",
       "<style scoped>\n",
       "    .dataframe tbody tr th:only-of-type {\n",
       "        vertical-align: middle;\n",
       "    }\n",
       "\n",
       "    .dataframe tbody tr th {\n",
       "        vertical-align: top;\n",
       "    }\n",
       "\n",
       "    .dataframe thead th {\n",
       "        text-align: right;\n",
       "    }\n",
       "</style>\n",
       "<table border=\"1\" class=\"dataframe\">\n",
       "  <thead>\n",
       "    <tr style=\"text-align: right;\">\n",
       "      <th></th>\n",
       "      <th>Empleo</th>\n",
       "      <th>Ciudad_empleos</th>\n",
       "      <th>Num_hijos</th>\n",
       "      <th>Ciudad_hijos</th>\n",
       "    </tr>\n",
       "    <tr>\n",
       "      <th>ID</th>\n",
       "      <th></th>\n",
       "      <th></th>\n",
       "      <th></th>\n",
       "      <th></th>\n",
       "    </tr>\n",
       "  </thead>\n",
       "  <tbody>\n",
       "    <tr>\n",
       "      <th>1</th>\n",
       "      <td>Dentista</td>\n",
       "      <td>Madrid</td>\n",
       "      <td>0.0</td>\n",
       "      <td>Madrid</td>\n",
       "    </tr>\n",
       "    <tr>\n",
       "      <th>2</th>\n",
       "      <td>Profesora</td>\n",
       "      <td>Barcelona</td>\n",
       "      <td>2.0</td>\n",
       "      <td>Barcelona</td>\n",
       "    </tr>\n",
       "    <tr>\n",
       "      <th>3</th>\n",
       "      <td>Cocinero</td>\n",
       "      <td>Valencia</td>\n",
       "      <td>NaN</td>\n",
       "      <td>NaN</td>\n",
       "    </tr>\n",
       "    <tr>\n",
       "      <th>4</th>\n",
       "      <td>Camarera</td>\n",
       "      <td>Sevilla</td>\n",
       "      <td>NaN</td>\n",
       "      <td>NaN</td>\n",
       "    </tr>\n",
       "    <tr>\n",
       "      <th>8</th>\n",
       "      <td>NaN</td>\n",
       "      <td>NaN</td>\n",
       "      <td>3.0</td>\n",
       "      <td>Matalascañas</td>\n",
       "    </tr>\n",
       "    <tr>\n",
       "      <th>10</th>\n",
       "      <td>NaN</td>\n",
       "      <td>NaN</td>\n",
       "      <td>0.0</td>\n",
       "      <td>Palencia</td>\n",
       "    </tr>\n",
       "  </tbody>\n",
       "</table>\n",
       "</div>"
      ],
      "text/plain": [
       "       Empleo Ciudad_empleos  Num_hijos  Ciudad_hijos\n",
       "ID                                                   \n",
       "1    Dentista         Madrid        0.0        Madrid\n",
       "2   Profesora      Barcelona        2.0     Barcelona\n",
       "3    Cocinero       Valencia        NaN           NaN\n",
       "4    Camarera        Sevilla        NaN           NaN\n",
       "8         NaN            NaN        3.0  Matalascañas\n",
       "10        NaN            NaN        0.0      Palencia"
      ]
     },
     "execution_count": 19,
     "metadata": {},
     "output_type": "execute_result"
    }
   ],
   "source": [
    "# Haz uso de los sufijos para indicar la ciudad de la tabla empleo y ciudad de la taba hijos; haz un outer join\n",
    "\n",
    "empleos_hijos4 = empleos.join(hijos, how='outer',lsuffix = \"_empleos\",rsuffix = \"_hijos\")\n",
    "empleos_hijos4"
   ]
  },
  {
   "cell_type": "markdown",
   "metadata": {
    "id": "HfNu-jtsywRR"
   },
   "source": [
    "## Ejercicio extra I:\n",
    "\n",
    "Tu objetivo es combinar estos conjuntos de datos para obtener un DataFrame final que muestre la siguiente información:\n",
    "\n",
    "Columnas: \"estudiante_id\", \"nombre\", \"edad\", \"materia\" y \"calificacion\".\n",
    "\n",
    "Filas: Todas las filas que se puedan obtener al combinar los datos de ambos conjuntos.\n",
    "\n",
    "Debes realizar la combinación de datos de manera que se incluyan todos los estudiantes, independientemente de si tienen o no calificaciones registradas.\n",
    "\n",
    "Utiliza el método adecuado (merge o join) y la combinación correspondiente (inner, outer, left o right) para lograr esto."
   ]
  },
  {
   "cell_type": "code",
   "execution_count": 20,
   "metadata": {
    "id": "ynFM5pNtyqvc"
   },
   "outputs": [],
   "source": [
    "# DataFrame de estudiantes\n",
    "estudiantes = pd.DataFrame({\n",
    "    'estudiante_id': [1, 2, 3, 4, 5],\n",
    "    'nombre': ['Juan', 'María', 'Pedro', 'Laura', 'Ana'],\n",
    "    'edad': [20, 22, 21, 19, 20]\n",
    "})\n",
    "\n",
    "# DataFrame de calificaciones\n",
    "calificaciones = pd.DataFrame({\n",
    "    'estudiante_id': [1, 3, 4, 6, 7],\n",
    "    'materia': ['Matemáticas', 'Historia', 'Inglés', 'Matemáticas', 'Ciencias'],\n",
    "    'calificacion': [85, 90, 78, 92, 88]\n",
    "})"
   ]
  },
  {
   "cell_type": "code",
   "execution_count": 21,
   "metadata": {
    "colab": {
     "base_uri": "https://localhost:8080/",
     "height": 269
    },
    "executionInfo": {
     "elapsed": 18,
     "status": "ok",
     "timestamp": 1689184259912,
     "user": {
      "displayName": "Felix Enriquez",
      "userId": "05512138648137656203"
     },
     "user_tz": -120
    },
    "id": "N1-N-ZYLy6Ax",
    "outputId": "1dd458ae-4f4f-4200-8dd4-87508b10a819"
   },
   "outputs": [
    {
     "data": {
      "text/html": [
       "<div>\n",
       "<style scoped>\n",
       "    .dataframe tbody tr th:only-of-type {\n",
       "        vertical-align: middle;\n",
       "    }\n",
       "\n",
       "    .dataframe tbody tr th {\n",
       "        vertical-align: top;\n",
       "    }\n",
       "\n",
       "    .dataframe thead th {\n",
       "        text-align: right;\n",
       "    }\n",
       "</style>\n",
       "<table border=\"1\" class=\"dataframe\">\n",
       "  <thead>\n",
       "    <tr style=\"text-align: right;\">\n",
       "      <th></th>\n",
       "      <th>estudiante_id</th>\n",
       "      <th>nombre</th>\n",
       "      <th>edad</th>\n",
       "      <th>materia</th>\n",
       "      <th>calificacion</th>\n",
       "    </tr>\n",
       "  </thead>\n",
       "  <tbody>\n",
       "    <tr>\n",
       "      <th>0</th>\n",
       "      <td>1</td>\n",
       "      <td>Juan</td>\n",
       "      <td>20.0</td>\n",
       "      <td>Matemáticas</td>\n",
       "      <td>85.0</td>\n",
       "    </tr>\n",
       "    <tr>\n",
       "      <th>1</th>\n",
       "      <td>2</td>\n",
       "      <td>María</td>\n",
       "      <td>22.0</td>\n",
       "      <td>NaN</td>\n",
       "      <td>NaN</td>\n",
       "    </tr>\n",
       "    <tr>\n",
       "      <th>2</th>\n",
       "      <td>3</td>\n",
       "      <td>Pedro</td>\n",
       "      <td>21.0</td>\n",
       "      <td>Historia</td>\n",
       "      <td>90.0</td>\n",
       "    </tr>\n",
       "    <tr>\n",
       "      <th>3</th>\n",
       "      <td>4</td>\n",
       "      <td>Laura</td>\n",
       "      <td>19.0</td>\n",
       "      <td>Inglés</td>\n",
       "      <td>78.0</td>\n",
       "    </tr>\n",
       "    <tr>\n",
       "      <th>4</th>\n",
       "      <td>5</td>\n",
       "      <td>Ana</td>\n",
       "      <td>20.0</td>\n",
       "      <td>NaN</td>\n",
       "      <td>NaN</td>\n",
       "    </tr>\n",
       "    <tr>\n",
       "      <th>5</th>\n",
       "      <td>6</td>\n",
       "      <td>NaN</td>\n",
       "      <td>NaN</td>\n",
       "      <td>Matemáticas</td>\n",
       "      <td>92.0</td>\n",
       "    </tr>\n",
       "    <tr>\n",
       "      <th>6</th>\n",
       "      <td>7</td>\n",
       "      <td>NaN</td>\n",
       "      <td>NaN</td>\n",
       "      <td>Ciencias</td>\n",
       "      <td>88.0</td>\n",
       "    </tr>\n",
       "  </tbody>\n",
       "</table>\n",
       "</div>"
      ],
      "text/plain": [
       "   estudiante_id nombre  edad      materia  calificacion\n",
       "0              1   Juan  20.0  Matemáticas          85.0\n",
       "1              2  María  22.0          NaN           NaN\n",
       "2              3  Pedro  21.0     Historia          90.0\n",
       "3              4  Laura  19.0       Inglés          78.0\n",
       "4              5    Ana  20.0          NaN           NaN\n",
       "5              6    NaN   NaN  Matemáticas          92.0\n",
       "6              7    NaN   NaN     Ciencias          88.0"
      ]
     },
     "execution_count": 21,
     "metadata": {},
     "output_type": "execute_result"
    }
   ],
   "source": [
    "# Tu código para alcanzar el resultado deseado\n",
    "\n",
    "ee1 = estudiantes.merge(calificaciones, on=\"estudiante_id\", how=\"outer\")\n",
    "ee1"
   ]
  },
  {
   "cell_type": "markdown",
   "metadata": {
    "id": "LKeXmEJ4z68s"
   },
   "source": [
    "## Ejercicio extra II:\n",
    "Tienes tres conjuntos de datos que contienen información sobre ventas realizadas por diferentes vendedores. Los conjuntos de datos son los siguientes:\n",
    "\n",
    "- DataFrame \"vendedores\" con las columnas \"vendedor_id\", \"nombre\" y \"ciudad\".\n",
    "- DataFrame \"ventas\" con las columnas \"venta_id\", \"vendedor_id\" y \"monto\".\n",
    "- DataFrame \"clientes\" con las columnas \"cliente_id\", \"nombre\" y \"ciudad\".\n",
    "\n",
    "Tu objetivo es combinar estos conjuntos de datos para obtener un DataFrame final que muestre la siguiente información:\n",
    "\n",
    "- Columnas: \"vendedor_id\", \"nombre\", \"ciudad\", \"venta_id\", \"monto\", \"cliente_id\".\n",
    "- Filas: Todas las filas que se puedan obtener al combinar los datos de los tres conjuntos.\n",
    "\n",
    "Debes realizar la combinación de datos de manera que se incluyan todas las ventas realizadas, independientemente de si tienen o no información de vendedor o cliente asociada. Utiliza el método y la combinación adecuada para lograr esto."
   ]
  },
  {
   "cell_type": "code",
   "execution_count": 22,
   "metadata": {
    "id": "j3oUZJte0lgM"
   },
   "outputs": [],
   "source": [
    "# DataFrame de vendedores\n",
    "vendedores = pd.DataFrame({\n",
    "    'vendedor_id': [1, 2, 3, 4, 5],\n",
    "    'nombre': ['Juan', 'María', 'Pedro', 'Laura', 'Ana'],\n",
    "    'ciudad': ['Madrid', 'Barcelona', 'Madrid', 'Valencia', 'Barcelona']\n",
    "})\n",
    "\n",
    "# DataFrame de ventas\n",
    "ventas = pd.DataFrame({\n",
    "    'venta_id': [1, 2, 3, 4, 5],\n",
    "    'vendedor_id': [1, 2, 4, 3, 6],\n",
    "    'monto': [1000, 1500, 2000, 1200, 1800]\n",
    "})\n",
    "\n",
    "# DataFrame de clientes\n",
    "clientes = pd.DataFrame({\n",
    "    'cliente_id': [1, 2, 3, 4, 5],\n",
    "    'nombre': ['Carlos', 'Elena', 'Pedro', 'Laura', 'Ana'],\n",
    "    'ciudad': ['Madrid', 'Barcelona', 'Sevilla', 'Valencia', 'Barcelona']\n",
    "})"
   ]
  },
  {
   "cell_type": "code",
   "execution_count": 23,
   "metadata": {
    "colab": {
     "base_uri": "https://localhost:8080/",
     "height": 238
    },
    "executionInfo": {
     "elapsed": 239,
     "status": "ok",
     "timestamp": 1689184418311,
     "user": {
      "displayName": "Felix Enriquez",
      "userId": "05512138648137656203"
     },
     "user_tz": -120
    },
    "id": "6C-9vJgxO8bC",
    "outputId": "9412df6e-4110-44dd-f657-a2847f04988c"
   },
   "outputs": [
    {
     "data": {
      "text/html": [
       "<div>\n",
       "<style scoped>\n",
       "    .dataframe tbody tr th:only-of-type {\n",
       "        vertical-align: middle;\n",
       "    }\n",
       "\n",
       "    .dataframe tbody tr th {\n",
       "        vertical-align: top;\n",
       "    }\n",
       "\n",
       "    .dataframe thead th {\n",
       "        text-align: right;\n",
       "    }\n",
       "</style>\n",
       "<table border=\"1\" class=\"dataframe\">\n",
       "  <thead>\n",
       "    <tr style=\"text-align: right;\">\n",
       "      <th></th>\n",
       "      <th>vendedor_id</th>\n",
       "      <th>nombre</th>\n",
       "      <th>ciudad_x</th>\n",
       "      <th>venta_id</th>\n",
       "      <th>monto</th>\n",
       "      <th>cliente_id</th>\n",
       "      <th>ciudad_y</th>\n",
       "    </tr>\n",
       "  </thead>\n",
       "  <tbody>\n",
       "    <tr>\n",
       "      <th>0</th>\n",
       "      <td>1.0</td>\n",
       "      <td>Juan</td>\n",
       "      <td>Madrid</td>\n",
       "      <td>1.0</td>\n",
       "      <td>1000.0</td>\n",
       "      <td>NaN</td>\n",
       "      <td>NaN</td>\n",
       "    </tr>\n",
       "    <tr>\n",
       "      <th>1</th>\n",
       "      <td>2.0</td>\n",
       "      <td>María</td>\n",
       "      <td>Barcelona</td>\n",
       "      <td>2.0</td>\n",
       "      <td>1500.0</td>\n",
       "      <td>NaN</td>\n",
       "      <td>NaN</td>\n",
       "    </tr>\n",
       "    <tr>\n",
       "      <th>2</th>\n",
       "      <td>3.0</td>\n",
       "      <td>Pedro</td>\n",
       "      <td>Madrid</td>\n",
       "      <td>4.0</td>\n",
       "      <td>1200.0</td>\n",
       "      <td>3.0</td>\n",
       "      <td>Sevilla</td>\n",
       "    </tr>\n",
       "    <tr>\n",
       "      <th>3</th>\n",
       "      <td>4.0</td>\n",
       "      <td>Laura</td>\n",
       "      <td>Valencia</td>\n",
       "      <td>3.0</td>\n",
       "      <td>2000.0</td>\n",
       "      <td>4.0</td>\n",
       "      <td>Valencia</td>\n",
       "    </tr>\n",
       "    <tr>\n",
       "      <th>4</th>\n",
       "      <td>5.0</td>\n",
       "      <td>Ana</td>\n",
       "      <td>Barcelona</td>\n",
       "      <td>NaN</td>\n",
       "      <td>NaN</td>\n",
       "      <td>5.0</td>\n",
       "      <td>Barcelona</td>\n",
       "    </tr>\n",
       "    <tr>\n",
       "      <th>5</th>\n",
       "      <td>6.0</td>\n",
       "      <td>NaN</td>\n",
       "      <td>NaN</td>\n",
       "      <td>5.0</td>\n",
       "      <td>1800.0</td>\n",
       "      <td>NaN</td>\n",
       "      <td>NaN</td>\n",
       "    </tr>\n",
       "    <tr>\n",
       "      <th>6</th>\n",
       "      <td>NaN</td>\n",
       "      <td>Carlos</td>\n",
       "      <td>NaN</td>\n",
       "      <td>NaN</td>\n",
       "      <td>NaN</td>\n",
       "      <td>1.0</td>\n",
       "      <td>Madrid</td>\n",
       "    </tr>\n",
       "    <tr>\n",
       "      <th>7</th>\n",
       "      <td>NaN</td>\n",
       "      <td>Elena</td>\n",
       "      <td>NaN</td>\n",
       "      <td>NaN</td>\n",
       "      <td>NaN</td>\n",
       "      <td>2.0</td>\n",
       "      <td>Barcelona</td>\n",
       "    </tr>\n",
       "  </tbody>\n",
       "</table>\n",
       "</div>"
      ],
      "text/plain": [
       "   vendedor_id  nombre   ciudad_x  venta_id   monto  cliente_id   ciudad_y\n",
       "0          1.0    Juan     Madrid       1.0  1000.0         NaN        NaN\n",
       "1          2.0   María  Barcelona       2.0  1500.0         NaN        NaN\n",
       "2          3.0   Pedro     Madrid       4.0  1200.0         3.0    Sevilla\n",
       "3          4.0   Laura   Valencia       3.0  2000.0         4.0   Valencia\n",
       "4          5.0     Ana  Barcelona       NaN     NaN         5.0  Barcelona\n",
       "5          6.0     NaN        NaN       5.0  1800.0         NaN        NaN\n",
       "6          NaN  Carlos        NaN       NaN     NaN         1.0     Madrid\n",
       "7          NaN   Elena        NaN       NaN     NaN         2.0  Barcelona"
      ]
     },
     "execution_count": 23,
     "metadata": {},
     "output_type": "execute_result"
    }
   ],
   "source": [
    "# Tu código para alcanzar el resultado deseado (Hint:Quizás la solución sea un merge de otro merge)\n",
    "\n",
    "ee2 = (vendedores.merge(ventas, on=\"vendedor_id\", how=\"outer\")).merge(clientes, on=\"nombre\", how=\"outer\")\n",
    "ee2"
   ]
  },
  {
   "cell_type": "markdown",
   "metadata": {
    "id": "jLb8q0fV9mFX"
   },
   "source": [
    "# Actividades de Multiindex:"
   ]
  },
  {
   "cell_type": "markdown",
   "metadata": {
    "id": "II8rD-5LGrFG"
   },
   "source": [
    "## Creación de Multiindex usando el método from_arrays()"
   ]
  },
  {
   "cell_type": "code",
   "execution_count": 24,
   "metadata": {
    "colab": {
     "base_uri": "https://localhost:8080/"
    },
    "executionInfo": {
     "elapsed": 273,
     "status": "ok",
     "timestamp": 1689186560525,
     "user": {
      "displayName": "Felix Enriquez",
      "userId": "05512138648137656203"
     },
     "user_tz": -120
    },
    "id": "XZvZ_7l4GwkL",
    "outputId": "d02f53cb-bbc9-4c8b-e18b-25007c51645d"
   },
   "outputs": [
    {
     "data": {
      "text/plain": [
       "MultiIndex([(1, 'A'),\n",
       "            (1, 'B'),\n",
       "            (2, 'A'),\n",
       "            (2, 'B')],\n",
       "           names=['Planta', 'Puerta'])"
      ]
     },
     "execution_count": 24,
     "metadata": {},
     "output_type": "execute_result"
    }
   ],
   "source": [
    "# Creamos una lista de listas para los niveles del MultiIndex\n",
    "\n",
    "arrays = [[1, 1, 2, 2], ['A', 'B', 'A', 'B']]\n",
    "\n",
    "# Creamos el MultiIndex utilizando el método .from_arrays()\n",
    "\n",
    "MultiIndex = pd.MultiIndex.from_arrays(arrays, names=('Planta', 'Puerta'))\n",
    "\n",
    "# Muestralo\n",
    "\n",
    "MultiIndex"
   ]
  },
  {
   "cell_type": "markdown",
   "metadata": {
    "id": "ITO8uATaFD5g"
   },
   "source": [
    "## Creación de dataframes con Multiindex:\n",
    "Vamos a crear un pequeño ejemplo para las edades de los vecinos de un edificio de 2 plantas. El edificio tedrá planta 1 y planta 2; cada planta tiene puerta A y puerta B (supongamos que en cada casa vive solo una persona y que tan sólo vamos a registrar la edad de cada vecino en una sola columna)."
   ]
  },
  {
   "cell_type": "code",
   "execution_count": 25,
   "metadata": {
    "id": "DMXjOnC2QziP"
   },
   "outputs": [],
   "source": [
    "# Creamos una lista de tuplas en la que cada tupla es el número de la planta y la letra de la puerta y la almacenamos en la variable niveles\n",
    "\n",
    "niveles = [(1, \"A\"), ( 1, \"B\"), (2, \"A\"), (2, \"B\")]"
   ]
  },
  {
   "cell_type": "code",
   "execution_count": 26,
   "metadata": {
    "id": "vStHbrGDRHt4"
   },
   "outputs": [
    {
     "data": {
      "text/plain": [
       "MultiIndex([(1, 'A'),\n",
       "            (1, 'B'),\n",
       "            (2, 'A'),\n",
       "            (2, 'B')],\n",
       "           )"
      ]
     },
     "execution_count": 26,
     "metadata": {},
     "output_type": "execute_result"
    }
   ],
   "source": [
    "# Creamos el MultiIndex utilizando el método from_tuples y lo almacenamos en la variable multiindex\n",
    "\n",
    "multiindex = pd.MultiIndex.from_tuples(niveles)\n",
    "multiindex"
   ]
  },
  {
   "cell_type": "code",
   "execution_count": 27,
   "metadata": {
    "id": "wNk9JB2MQ-Ym"
   },
   "outputs": [],
   "source": [
    "# Creamos una lista de edades inventadas para cada vecino del edificio y la almacenamos en una variable llamada edades\n",
    "\n",
    "\n",
    "edades = [35,20,30,40]"
   ]
  },
  {
   "cell_type": "code",
   "execution_count": 28,
   "metadata": {
    "colab": {
     "base_uri": "https://localhost:8080/",
     "height": 206
    },
    "executionInfo": {
     "elapsed": 260,
     "status": "ok",
     "timestamp": 1689185279545,
     "user": {
      "displayName": "Felix Enriquez",
      "userId": "05512138648137656203"
     },
     "user_tz": -120
    },
    "id": "ZqT-WTevRZMF",
    "outputId": "e85854f9-54a0-48ec-8de5-3abfbe5d74d1"
   },
   "outputs": [
    {
     "data": {
      "text/html": [
       "<div>\n",
       "<style scoped>\n",
       "    .dataframe tbody tr th:only-of-type {\n",
       "        vertical-align: middle;\n",
       "    }\n",
       "\n",
       "    .dataframe tbody tr th {\n",
       "        vertical-align: top;\n",
       "    }\n",
       "\n",
       "    .dataframe thead th {\n",
       "        text-align: right;\n",
       "    }\n",
       "</style>\n",
       "<table border=\"1\" class=\"dataframe\">\n",
       "  <thead>\n",
       "    <tr style=\"text-align: right;\">\n",
       "      <th></th>\n",
       "      <th></th>\n",
       "      <th>Edades</th>\n",
       "    </tr>\n",
       "  </thead>\n",
       "  <tbody>\n",
       "    <tr>\n",
       "      <th rowspan=\"2\" valign=\"top\">1</th>\n",
       "      <th>A</th>\n",
       "      <td>35</td>\n",
       "    </tr>\n",
       "    <tr>\n",
       "      <th>B</th>\n",
       "      <td>20</td>\n",
       "    </tr>\n",
       "    <tr>\n",
       "      <th rowspan=\"2\" valign=\"top\">2</th>\n",
       "      <th>A</th>\n",
       "      <td>30</td>\n",
       "    </tr>\n",
       "    <tr>\n",
       "      <th>B</th>\n",
       "      <td>40</td>\n",
       "    </tr>\n",
       "  </tbody>\n",
       "</table>\n",
       "</div>"
      ],
      "text/plain": [
       "     Edades\n",
       "1 A      35\n",
       "  B      20\n",
       "2 A      30\n",
       "  B      40"
      ]
     },
     "execution_count": 28,
     "metadata": {},
     "output_type": "execute_result"
    }
   ],
   "source": [
    "# Juntamos todo creando un dataframe y almacenándolo en la variable df_multiidx\n",
    "\n",
    "df_multiidx = pd.DataFrame(edades, index = multiindex, columns = [\"Edades\"])\n",
    "df_multiidx"
   ]
  },
  {
   "cell_type": "code",
   "execution_count": 29,
   "metadata": {
    "colab": {
     "base_uri": "https://localhost:8080/"
    },
    "executionInfo": {
     "elapsed": 230,
     "status": "ok",
     "timestamp": 1689185168672,
     "user": {
      "displayName": "Felix Enriquez",
      "userId": "05512138648137656203"
     },
     "user_tz": -120
    },
    "id": "bM6BSc45RuUo",
    "outputId": "f784e38b-9555-4ddb-b3e4-7875e1c9ba12"
   },
   "outputs": [
    {
     "data": {
      "text/plain": [
       "Edades    30\n",
       "Name: (2, A), dtype: int64"
      ]
     },
     "execution_count": 29,
     "metadata": {},
     "output_type": "execute_result"
    }
   ],
   "source": [
    "# Muestra el valor de la edad para el vecino que vive en el segundo A\n",
    "\n",
    "df_multiidx.loc[(2, \"A\")]"
   ]
  },
  {
   "cell_type": "code",
   "execution_count": 30,
   "metadata": {
    "colab": {
     "base_uri": "https://localhost:8080/",
     "height": 206
    },
    "executionInfo": {
     "elapsed": 20,
     "status": "ok",
     "timestamp": 1689185319628,
     "user": {
      "displayName": "Felix Enriquez",
      "userId": "05512138648137656203"
     },
     "user_tz": -120
    },
    "id": "i2j2T6_3SEZu",
    "outputId": "993666b5-37d7-41f1-f5ff-119bf844705c"
   },
   "outputs": [
    {
     "data": {
      "text/plain": [
       "MultiIndex([(1, 'A'),\n",
       "            (1, 'B'),\n",
       "            (2, 'A'),\n",
       "            (2, 'B')],\n",
       "           )"
      ]
     },
     "execution_count": 30,
     "metadata": {},
     "output_type": "execute_result"
    }
   ],
   "source": [
    "# Realiza el mismo ejercicio pero esta vez usando el método from_product:\n",
    "# Creamos una lista de valores para cada nivel del MultiIndex llamadas nivel1 y nivel2\n",
    "\n",
    "nivel1 = [1, 2]\n",
    "nivel2 = [\"A\", \"B\"]\n",
    "# Creamos el MultiIndex utilizando el método from_product\n",
    "\n",
    "multiindex1 = pd.MultiIndex.from_product([nivel1,nivel2])\n",
    "multiindex1\n"
   ]
  },
  {
   "cell_type": "code",
   "execution_count": 31,
   "metadata": {},
   "outputs": [
    {
     "data": {
      "text/html": [
       "<div>\n",
       "<style scoped>\n",
       "    .dataframe tbody tr th:only-of-type {\n",
       "        vertical-align: middle;\n",
       "    }\n",
       "\n",
       "    .dataframe tbody tr th {\n",
       "        vertical-align: top;\n",
       "    }\n",
       "\n",
       "    .dataframe thead th {\n",
       "        text-align: right;\n",
       "    }\n",
       "</style>\n",
       "<table border=\"1\" class=\"dataframe\">\n",
       "  <thead>\n",
       "    <tr style=\"text-align: right;\">\n",
       "      <th></th>\n",
       "      <th></th>\n",
       "      <th>Edades</th>\n",
       "    </tr>\n",
       "  </thead>\n",
       "  <tbody>\n",
       "    <tr>\n",
       "      <th rowspan=\"2\" valign=\"top\">1</th>\n",
       "      <th>A</th>\n",
       "      <td>35</td>\n",
       "    </tr>\n",
       "    <tr>\n",
       "      <th>B</th>\n",
       "      <td>20</td>\n",
       "    </tr>\n",
       "    <tr>\n",
       "      <th rowspan=\"2\" valign=\"top\">2</th>\n",
       "      <th>A</th>\n",
       "      <td>30</td>\n",
       "    </tr>\n",
       "    <tr>\n",
       "      <th>B</th>\n",
       "      <td>40</td>\n",
       "    </tr>\n",
       "  </tbody>\n",
       "</table>\n",
       "</div>"
      ],
      "text/plain": [
       "     Edades\n",
       "1 A      35\n",
       "  B      20\n",
       "2 A      30\n",
       "  B      40"
      ]
     },
     "execution_count": 31,
     "metadata": {},
     "output_type": "execute_result"
    }
   ],
   "source": [
    "# Creamos una lista de edades inventadas para cada vecino del edificio y la almacenamos en una variable llamada edades\n",
    "\n",
    "\n",
    "# Juntamos todo creando un dataframe y almacenándolo en la variable df_multiidx\n",
    "\n",
    "df_multiidx1 =  pd.DataFrame(edades, index = multiindex, columns = [\"Edades\"])\n",
    "df_multiidx1"
   ]
  },
  {
   "cell_type": "markdown",
   "metadata": {
    "id": "LYfm57c0Hpfw"
   },
   "source": [
    "## Set_index y sort_index:"
   ]
  },
  {
   "cell_type": "code",
   "execution_count": 32,
   "metadata": {
    "id": "DasrMd3QHrC8"
   },
   "outputs": [],
   "source": [
    "# Creamos un DataFrame de ejemplo desordenado\n",
    "df = pd.DataFrame({'Planta': [2, 2, 1, 1],\n",
    "                   'Puerta': ['B', 'A', 'A', 'B'],\n",
    "                   'Valor1': [10, 20, 30, 40],\n",
    "                   'Valor2': [50, 60, 70, 80]})"
   ]
  },
  {
   "cell_type": "code",
   "execution_count": 33,
   "metadata": {
    "colab": {
     "base_uri": "https://localhost:8080/",
     "height": 206
    },
    "executionInfo": {
     "elapsed": 20,
     "status": "ok",
     "timestamp": 1689186321460,
     "user": {
      "displayName": "Felix Enriquez",
      "userId": "05512138648137656203"
     },
     "user_tz": -120
    },
    "id": "ykzVHSPJWRUC",
    "outputId": "870030eb-7ae3-42a5-cf0f-fe6e8f8bd192"
   },
   "outputs": [
    {
     "data": {
      "text/html": [
       "<div>\n",
       "<style scoped>\n",
       "    .dataframe tbody tr th:only-of-type {\n",
       "        vertical-align: middle;\n",
       "    }\n",
       "\n",
       "    .dataframe tbody tr th {\n",
       "        vertical-align: top;\n",
       "    }\n",
       "\n",
       "    .dataframe thead th {\n",
       "        text-align: right;\n",
       "    }\n",
       "</style>\n",
       "<table border=\"1\" class=\"dataframe\">\n",
       "  <thead>\n",
       "    <tr style=\"text-align: right;\">\n",
       "      <th></th>\n",
       "      <th></th>\n",
       "      <th>Valor1</th>\n",
       "      <th>Valor2</th>\n",
       "    </tr>\n",
       "    <tr>\n",
       "      <th>Planta</th>\n",
       "      <th>Puerta</th>\n",
       "      <th></th>\n",
       "      <th></th>\n",
       "    </tr>\n",
       "  </thead>\n",
       "  <tbody>\n",
       "    <tr>\n",
       "      <th rowspan=\"2\" valign=\"top\">2</th>\n",
       "      <th>B</th>\n",
       "      <td>10</td>\n",
       "      <td>50</td>\n",
       "    </tr>\n",
       "    <tr>\n",
       "      <th>A</th>\n",
       "      <td>20</td>\n",
       "      <td>60</td>\n",
       "    </tr>\n",
       "    <tr>\n",
       "      <th rowspan=\"2\" valign=\"top\">1</th>\n",
       "      <th>A</th>\n",
       "      <td>30</td>\n",
       "      <td>70</td>\n",
       "    </tr>\n",
       "    <tr>\n",
       "      <th>B</th>\n",
       "      <td>40</td>\n",
       "      <td>80</td>\n",
       "    </tr>\n",
       "  </tbody>\n",
       "</table>\n",
       "</div>"
      ],
      "text/plain": [
       "               Valor1  Valor2\n",
       "Planta Puerta                \n",
       "2      B           10      50\n",
       "       A           20      60\n",
       "1      A           30      70\n",
       "       B           40      80"
      ]
     },
     "execution_count": 33,
     "metadata": {},
     "output_type": "execute_result"
    }
   ],
   "source": [
    "# Utilizamos el método set_index para establecer 'Nivel1' y 'Nivel2' como índices\n",
    "\n",
    "df.set_index([\"Planta\", \"Puerta\"], inplace=True)\n",
    "\n",
    "# La jerarquía de los nuevos índices dependerá del orden en la que se nombren las columnas en la lista.\n",
    "\n",
    "# Mostramos el DataFrame resultante\n",
    "df"
   ]
  },
  {
   "cell_type": "code",
   "execution_count": 34,
   "metadata": {
    "colab": {
     "base_uri": "https://localhost:8080/",
     "height": 206
    },
    "executionInfo": {
     "elapsed": 20,
     "status": "ok",
     "timestamp": 1689186370735,
     "user": {
      "displayName": "Felix Enriquez",
      "userId": "05512138648137656203"
     },
     "user_tz": -120
    },
    "id": "j9foHTD9We5C",
    "outputId": "0fb0545c-0b59-4aff-9802-d9bb5b77ec6d"
   },
   "outputs": [
    {
     "data": {
      "text/html": [
       "<div>\n",
       "<style scoped>\n",
       "    .dataframe tbody tr th:only-of-type {\n",
       "        vertical-align: middle;\n",
       "    }\n",
       "\n",
       "    .dataframe tbody tr th {\n",
       "        vertical-align: top;\n",
       "    }\n",
       "\n",
       "    .dataframe thead th {\n",
       "        text-align: right;\n",
       "    }\n",
       "</style>\n",
       "<table border=\"1\" class=\"dataframe\">\n",
       "  <thead>\n",
       "    <tr style=\"text-align: right;\">\n",
       "      <th></th>\n",
       "      <th></th>\n",
       "      <th>Valor1</th>\n",
       "      <th>Valor2</th>\n",
       "    </tr>\n",
       "    <tr>\n",
       "      <th>Planta</th>\n",
       "      <th>Puerta</th>\n",
       "      <th></th>\n",
       "      <th></th>\n",
       "    </tr>\n",
       "  </thead>\n",
       "  <tbody>\n",
       "    <tr>\n",
       "      <th rowspan=\"2\" valign=\"top\">1</th>\n",
       "      <th>A</th>\n",
       "      <td>30</td>\n",
       "      <td>70</td>\n",
       "    </tr>\n",
       "    <tr>\n",
       "      <th>B</th>\n",
       "      <td>40</td>\n",
       "      <td>80</td>\n",
       "    </tr>\n",
       "    <tr>\n",
       "      <th rowspan=\"2\" valign=\"top\">2</th>\n",
       "      <th>A</th>\n",
       "      <td>20</td>\n",
       "      <td>60</td>\n",
       "    </tr>\n",
       "    <tr>\n",
       "      <th>B</th>\n",
       "      <td>10</td>\n",
       "      <td>50</td>\n",
       "    </tr>\n",
       "  </tbody>\n",
       "</table>\n",
       "</div>"
      ],
      "text/plain": [
       "               Valor1  Valor2\n",
       "Planta Puerta                \n",
       "1      A           30      70\n",
       "       B           40      80\n",
       "2      A           20      60\n",
       "       B           10      50"
      ]
     },
     "execution_count": 34,
     "metadata": {},
     "output_type": "execute_result"
    }
   ],
   "source": [
    "# Ordenamos el Dataframe por sus indices\n",
    "\n",
    "df.sort_index( inplace=True)\n",
    "# Muestralo\n",
    "\n",
    "df"
   ]
  },
  {
   "cell_type": "markdown",
   "metadata": {
    "id": "3ad4imobS6W5"
   },
   "source": [
    "## Ejercicio extra III (dificultad un poco alta):\n",
    "Creación de un Multiindex a partir de un dataframe usando from_frame() y estableciendolos a nivel de COLUMNA (no filas como hemos hecho hasta ahora):"
   ]
  },
  {
   "cell_type": "code",
   "execution_count": 35,
   "metadata": {
    "colab": {
     "base_uri": "https://localhost:8080/",
     "height": 175
    },
    "executionInfo": {
     "elapsed": 22,
     "status": "ok",
     "timestamp": 1689185775631,
     "user": {
      "displayName": "Felix Enriquez",
      "userId": "05512138648137656203"
     },
     "user_tz": -120
    },
    "id": "a_emA0juFyyp",
    "outputId": "d427cdaa-49fa-4fb8-efe2-f0f1fc8ed14c"
   },
   "outputs": [
    {
     "data": {
      "text/html": [
       "<div>\n",
       "<style scoped>\n",
       "    .dataframe tbody tr th:only-of-type {\n",
       "        vertical-align: middle;\n",
       "    }\n",
       "\n",
       "    .dataframe tbody tr th {\n",
       "        vertical-align: top;\n",
       "    }\n",
       "\n",
       "    .dataframe thead th {\n",
       "        text-align: right;\n",
       "    }\n",
       "</style>\n",
       "<table border=\"1\" class=\"dataframe\">\n",
       "  <thead>\n",
       "    <tr style=\"text-align: right;\">\n",
       "      <th></th>\n",
       "      <th>Piso</th>\n",
       "      <th>Puerta</th>\n",
       "      <th>Edad</th>\n",
       "    </tr>\n",
       "  </thead>\n",
       "  <tbody>\n",
       "    <tr>\n",
       "      <th>0</th>\n",
       "      <td>1</td>\n",
       "      <td>A</td>\n",
       "      <td>10</td>\n",
       "    </tr>\n",
       "    <tr>\n",
       "      <th>1</th>\n",
       "      <td>1</td>\n",
       "      <td>B</td>\n",
       "      <td>20</td>\n",
       "    </tr>\n",
       "    <tr>\n",
       "      <th>2</th>\n",
       "      <td>2</td>\n",
       "      <td>A</td>\n",
       "      <td>30</td>\n",
       "    </tr>\n",
       "    <tr>\n",
       "      <th>3</th>\n",
       "      <td>2</td>\n",
       "      <td>B</td>\n",
       "      <td>40</td>\n",
       "    </tr>\n",
       "  </tbody>\n",
       "</table>\n",
       "</div>"
      ],
      "text/plain": [
       "   Piso Puerta  Edad\n",
       "0     1      A    10\n",
       "1     1      B    20\n",
       "2     2      A    30\n",
       "3     2      B    40"
      ]
     },
     "execution_count": 35,
     "metadata": {},
     "output_type": "execute_result"
    }
   ],
   "source": [
    "# Creamos un DataFrame con columnas que representan los niveles del MultiIndex y los valores, llámalo df_data\n",
    "df_data = pd.DataFrame({'Piso': [1,1,2,2],\n",
    "                   'Puerta': ['A', 'B', 'A', 'B'],\n",
    "                   'Edad': [10, 20, 30, 40]})\n",
    "df_data"
   ]
  },
  {
   "cell_type": "code",
   "execution_count": 36,
   "metadata": {
    "colab": {
     "base_uri": "https://localhost:8080/"
    },
    "executionInfo": {
     "elapsed": 280,
     "status": "ok",
     "timestamp": 1689185778412,
     "user": {
      "displayName": "Felix Enriquez",
      "userId": "05512138648137656203"
     },
     "user_tz": -120
    },
    "id": "TLfWNvJdTtsb",
    "outputId": "bc4a5cfb-fd0d-4cf0-d8af-6f95eaed5147"
   },
   "outputs": [
    {
     "data": {
      "text/plain": [
       "MultiIndex([(1, 'A'),\n",
       "            (1, 'B'),\n",
       "            (2, 'A'),\n",
       "            (2, 'B')],\n",
       "           names=['Piso', 'Puerta'])"
      ]
     },
     "execution_count": 36,
     "metadata": {},
     "output_type": "execute_result"
    }
   ],
   "source": [
    "# Creamos el MultiIndex utilizando el método from_frame (usa el dataframe que acabas de crear), guardalo en una variable llamada multiindex\n",
    "\n",
    "edades1 = df_data[\"Edad\"].to_list()\n",
    "del(df_data[\"Edad\"])\n",
    "multiindex2 = pd.MultiIndex.from_frame(df_data)\n",
    "multiindex2"
   ]
  },
  {
   "cell_type": "code",
   "execution_count": 37,
   "metadata": {
    "colab": {
     "base_uri": "https://localhost:8080/",
     "height": 112
    },
    "executionInfo": {
     "elapsed": 226,
     "status": "ok",
     "timestamp": 1689185960155,
     "user": {
      "displayName": "Felix Enriquez",
      "userId": "05512138648137656203"
     },
     "user_tz": -120
    },
    "id": "tijP7yzrURP0",
    "outputId": "3af91136-4a2f-420f-c63c-8bf612d7e020"
   },
   "outputs": [
    {
     "data": {
      "text/html": [
       "<div>\n",
       "<style scoped>\n",
       "    .dataframe tbody tr th:only-of-type {\n",
       "        vertical-align: middle;\n",
       "    }\n",
       "\n",
       "    .dataframe tbody tr th {\n",
       "        vertical-align: top;\n",
       "    }\n",
       "\n",
       "    .dataframe thead tr th {\n",
       "        text-align: left;\n",
       "    }\n",
       "</style>\n",
       "<table border=\"1\" class=\"dataframe\">\n",
       "  <thead>\n",
       "    <tr>\n",
       "      <th>Piso</th>\n",
       "      <th colspan=\"2\" halign=\"left\">1</th>\n",
       "      <th colspan=\"2\" halign=\"left\">2</th>\n",
       "    </tr>\n",
       "    <tr>\n",
       "      <th>Puerta</th>\n",
       "      <th>A</th>\n",
       "      <th>B</th>\n",
       "      <th>A</th>\n",
       "      <th>B</th>\n",
       "    </tr>\n",
       "  </thead>\n",
       "  <tbody>\n",
       "    <tr>\n",
       "      <th>0</th>\n",
       "      <td>10</td>\n",
       "      <td>20</td>\n",
       "      <td>30</td>\n",
       "      <td>40</td>\n",
       "    </tr>\n",
       "  </tbody>\n",
       "</table>\n",
       "</div>"
      ],
      "text/plain": [
       "Piso     1       2    \n",
       "Puerta   A   B   A   B\n",
       "0       10  20  30  40"
      ]
     },
     "execution_count": 37,
     "metadata": {},
     "output_type": "execute_result"
    }
   ],
   "source": [
    "# Creamos el DataFrame con las edades y el MultiIndex de columnas\n",
    "\n",
    "df_multiidx2 =  pd.DataFrame(edades1, index = multiindex2).T\n",
    "df_multiidx2"
   ]
  },
  {
   "cell_type": "code",
   "execution_count": 38,
   "metadata": {
    "colab": {
     "base_uri": "https://localhost:8080/"
    },
    "executionInfo": {
     "elapsed": 239,
     "status": "ok",
     "timestamp": 1689186053691,
     "user": {
      "displayName": "Felix Enriquez",
      "userId": "05512138648137656203"
     },
     "user_tz": -120
    },
    "id": "5mutlDpoVQ5F",
    "outputId": "181fa1e5-6ca1-434c-b682-14077ed62d09"
   },
   "outputs": [
    {
     "data": {
      "text/plain": [
       "0    20\n",
       "Name: (1, B), dtype: int64"
      ]
     },
     "execution_count": 38,
     "metadata": {},
     "output_type": "execute_result"
    }
   ],
   "source": [
    "# Muestra la edad del vecino del primero B\n",
    "\n",
    "df_multiidx2[(1, \"B\")]"
   ]
  },
  {
   "cell_type": "code",
   "execution_count": null,
   "metadata": {},
   "outputs": [],
   "source": []
  }
 ],
 "metadata": {
  "colab": {
   "authorship_tag": "ABX9TyNizEiAGlxwAFpNftwz11wx",
   "provenance": []
  },
  "kernelspec": {
   "display_name": "Python 3 (ipykernel)",
   "language": "python",
   "name": "python3"
  },
  "language_info": {
   "codemirror_mode": {
    "name": "ipython",
    "version": 3
   },
   "file_extension": ".py",
   "mimetype": "text/x-python",
   "name": "python",
   "nbconvert_exporter": "python",
   "pygments_lexer": "ipython3",
   "version": "3.10.9"
  }
 },
 "nbformat": 4,
 "nbformat_minor": 1
}
