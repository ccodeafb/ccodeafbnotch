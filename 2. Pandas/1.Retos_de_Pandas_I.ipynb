{
 "cells": [
  {
   "cell_type": "code",
   "execution_count": 3,
   "metadata": {
    "id": "pzYiySVVNLMP"
   },
   "outputs": [],
   "source": [
    "# Importamos pandas y numpy\n",
    "\n",
    "import pandas as pd\n",
    "import numpy as np\n"
   ]
  },
  {
   "cell_type": "markdown",
   "metadata": {
    "id": "r49ae9V4M7TD"
   },
   "source": [
    "# Reto 1\n",
    "\n",
    "Mediante la creación de una lista de tuplas y otra de Strings, crea un\n",
    "Dataframe de como mínimo 5 columnas y 5 filas."
   ]
  },
  {
   "cell_type": "code",
   "execution_count": 7,
   "metadata": {
    "colab": {
     "base_uri": "https://localhost:8080/"
    },
    "executionInfo": {
     "elapsed": 460,
     "status": "ok",
     "timestamp": 1687371964313,
     "user": {
      "displayName": "Felix Enriquez",
      "userId": "05512138648137656203"
     },
     "user_tz": -120
    },
    "id": "YK331YWvLjbx",
    "outputId": "7fcfc30b-0959-425c-b30f-2adfc2fb8f2c"
   },
   "outputs": [
    {
     "data": {
      "text/html": [
       "<div>\n",
       "<style scoped>\n",
       "    .dataframe tbody tr th:only-of-type {\n",
       "        vertical-align: middle;\n",
       "    }\n",
       "\n",
       "    .dataframe tbody tr th {\n",
       "        vertical-align: top;\n",
       "    }\n",
       "\n",
       "    .dataframe thead th {\n",
       "        text-align: right;\n",
       "    }\n",
       "</style>\n",
       "<table border=\"1\" class=\"dataframe\">\n",
       "  <thead>\n",
       "    <tr style=\"text-align: right;\">\n",
       "      <th></th>\n",
       "      <th>Marca</th>\n",
       "      <th>Seg</th>\n",
       "      <th>Pais</th>\n",
       "      <th>Vel. Max.</th>\n",
       "      <th>Tipo</th>\n",
       "    </tr>\n",
       "  </thead>\n",
       "  <tbody>\n",
       "    <tr>\n",
       "      <th>0</th>\n",
       "      <td>BMW</td>\n",
       "      <td>10</td>\n",
       "      <td>Alemania</td>\n",
       "      <td>250</td>\n",
       "      <td>Deportivo</td>\n",
       "    </tr>\n",
       "    <tr>\n",
       "      <th>1</th>\n",
       "      <td>Fiat</td>\n",
       "      <td>17</td>\n",
       "      <td>Italia</td>\n",
       "      <td>210</td>\n",
       "      <td>Turismo</td>\n",
       "    </tr>\n",
       "    <tr>\n",
       "      <th>2</th>\n",
       "      <td>Ferrari</td>\n",
       "      <td>1</td>\n",
       "      <td>Italia</td>\n",
       "      <td>310</td>\n",
       "      <td>Lujo</td>\n",
       "    </tr>\n",
       "    <tr>\n",
       "      <th>3</th>\n",
       "      <td>Porsche</td>\n",
       "      <td>2</td>\n",
       "      <td>Alemania</td>\n",
       "      <td>330</td>\n",
       "      <td>Lujo</td>\n",
       "    </tr>\n",
       "    <tr>\n",
       "      <th>4</th>\n",
       "      <td>Kia</td>\n",
       "      <td>14</td>\n",
       "      <td>Corea</td>\n",
       "      <td>210</td>\n",
       "      <td>Turismo</td>\n",
       "    </tr>\n",
       "  </tbody>\n",
       "</table>\n",
       "</div>"
      ],
      "text/plain": [
       "     Marca  Seg      Pais  Vel. Max.       Tipo\n",
       "0      BMW   10  Alemania        250  Deportivo\n",
       "1     Fiat   17    Italia        210    Turismo\n",
       "2  Ferrari    1    Italia        310       Lujo\n",
       "3  Porsche    2  Alemania        330       Lujo\n",
       "4      Kia   14     Corea        210    Turismo"
      ]
     },
     "execution_count": 7,
     "metadata": {},
     "output_type": "execute_result"
    }
   ],
   "source": [
    "# Definición de las listas de tuplas y strings\n",
    "\n",
    "t1 = (\"BMW\", 10, \"Alemania\", 250, \"Deportivo\")\n",
    "t2 = (\"Fiat\", 17, \"Italia\", 210, \"Turismo\")\n",
    "t3 = (\"Ferrari\", 1, \"Italia\", 310, \"Lujo\")\n",
    "t4 = (\"Porsche\", 2, \"Alemania\", 330 , \"Lujo\")\n",
    "t5 = (\"Kia\", 14, \"Corea\", 210, \"Turismo\")\n",
    "lista_coches = [t1, t2, t3,t4, t5]\n",
    "columnas1 = (\"Marca\", \"Seg\", \"Pais\", \"Vel. Max.\", \"Tipo\")\n",
    "\n",
    "# Creación del DataFrame\n",
    "\n",
    "cs = pd.DataFrame(lista_coches, columns=columnas1)\n",
    "\n",
    "# Imprimir el DataFrame\n",
    "\n",
    "cs"
   ]
  },
  {
   "cell_type": "markdown",
   "metadata": {
    "id": "iqvsGRvuNP1m"
   },
   "source": [
    "# Reto 2\n",
    "Mediante la creación de una lista de diccionarios, crea el mismo\n",
    "dataframe anterior pero, esta vez, haz que las columnas aparezcan\n",
    "en distinto orden y que, al menos 2 de las filas no contengan datos."
   ]
  },
  {
   "cell_type": "code",
   "execution_count": 10,
   "metadata": {
    "colab": {
     "base_uri": "https://localhost:8080/"
    },
    "executionInfo": {
     "elapsed": 253,
     "status": "ok",
     "timestamp": 1687372062707,
     "user": {
      "displayName": "Felix Enriquez",
      "userId": "05512138648137656203"
     },
     "user_tz": -120
    },
    "id": "bEsUE45NNTzh",
    "outputId": "fd2cad14-dbf9-418d-dae6-885523ac74d9"
   },
   "outputs": [
    {
     "data": {
      "text/html": [
       "<div>\n",
       "<style scoped>\n",
       "    .dataframe tbody tr th:only-of-type {\n",
       "        vertical-align: middle;\n",
       "    }\n",
       "\n",
       "    .dataframe tbody tr th {\n",
       "        vertical-align: top;\n",
       "    }\n",
       "\n",
       "    .dataframe thead th {\n",
       "        text-align: right;\n",
       "    }\n",
       "</style>\n",
       "<table border=\"1\" class=\"dataframe\">\n",
       "  <thead>\n",
       "    <tr style=\"text-align: right;\">\n",
       "      <th></th>\n",
       "      <th>Marca</th>\n",
       "      <th>Seg</th>\n",
       "      <th>Vel. Max.</th>\n",
       "      <th>Pais</th>\n",
       "      <th>Tipo</th>\n",
       "    </tr>\n",
       "  </thead>\n",
       "  <tbody>\n",
       "    <tr>\n",
       "      <th>0</th>\n",
       "      <td>BMW</td>\n",
       "      <td>10.0</td>\n",
       "      <td>250.0</td>\n",
       "      <td>Alemania</td>\n",
       "      <td>Deportivo</td>\n",
       "    </tr>\n",
       "    <tr>\n",
       "      <th>1</th>\n",
       "      <td>Fiat</td>\n",
       "      <td>17.0</td>\n",
       "      <td>210.0</td>\n",
       "      <td>Italia</td>\n",
       "      <td>Turismo</td>\n",
       "    </tr>\n",
       "    <tr>\n",
       "      <th>2</th>\n",
       "      <td>NaN</td>\n",
       "      <td>NaN</td>\n",
       "      <td>NaN</td>\n",
       "      <td>NaN</td>\n",
       "      <td>NaN</td>\n",
       "    </tr>\n",
       "    <tr>\n",
       "      <th>3</th>\n",
       "      <td>Ferrari</td>\n",
       "      <td>1.0</td>\n",
       "      <td>310.0</td>\n",
       "      <td>Italia</td>\n",
       "      <td>Lujo</td>\n",
       "    </tr>\n",
       "    <tr>\n",
       "      <th>4</th>\n",
       "      <td>Porsche</td>\n",
       "      <td>2.0</td>\n",
       "      <td>330.0</td>\n",
       "      <td>Alemania</td>\n",
       "      <td>Lujo</td>\n",
       "    </tr>\n",
       "    <tr>\n",
       "      <th>5</th>\n",
       "      <td>NaN</td>\n",
       "      <td>NaN</td>\n",
       "      <td>NaN</td>\n",
       "      <td>NaN</td>\n",
       "      <td>NaN</td>\n",
       "    </tr>\n",
       "    <tr>\n",
       "      <th>6</th>\n",
       "      <td>Kia</td>\n",
       "      <td>14.0</td>\n",
       "      <td>210.0</td>\n",
       "      <td>Corea</td>\n",
       "      <td>Turismo</td>\n",
       "    </tr>\n",
       "  </tbody>\n",
       "</table>\n",
       "</div>"
      ],
      "text/plain": [
       "     Marca   Seg  Vel. Max.      Pais       Tipo\n",
       "0      BMW  10.0      250.0  Alemania  Deportivo\n",
       "1     Fiat  17.0      210.0    Italia    Turismo\n",
       "2      NaN   NaN        NaN       NaN        NaN\n",
       "3  Ferrari   1.0      310.0    Italia       Lujo\n",
       "4  Porsche   2.0      330.0  Alemania       Lujo\n",
       "5      NaN   NaN        NaN       NaN        NaN\n",
       "6      Kia  14.0      210.0     Corea    Turismo"
      ]
     },
     "execution_count": 10,
     "metadata": {},
     "output_type": "execute_result"
    }
   ],
   "source": [
    "# Definición de la lista de diccionarios\n",
    "\n",
    "t1 = {\"Marca\": \"BMW\", \"Seg\": 10, \"Vel. Max.\": 250, \"Pais\": \"Alemania\", \"Tipo\": \"Deportivo\"}\n",
    "t2 = {\"Marca\":\"Fiat\",\"Seg\":  17, \"Vel. Max.\": 210, \"Pais\": \"Italia\",  \"Tipo\": \"Turismo\"}\n",
    "t3 = {\"Marca\":\"Ferrari\", \"Seg\": 1, \"Vel. Max.\": 310, \"Pais\": \"Italia\",  \"Tipo\": \"Lujo\"}\n",
    "t4 = {\"Marca\":\"Porsche\", \"Seg\": 2, \"Vel. Max.\": 330, \"Pais\": \"Alemania\",  \"Tipo\": \"Lujo\"}\n",
    "t5 = {\"Marca\":\"Kia\", \"Seg\": 14, \"Vel. Max.\": 210, \"Pais\": \"Corea\",  \"Tipo\": \"Turismo\"}\n",
    "lista_coches2 = [t1, t2, \"\", t3,t4, \"\", t5]\n",
    "columnas2 = (\"Marca\", \"Seg\", \"Vel. Max.\", \"Pais\", \"Tipo\")\n",
    "\n",
    "# Definición de los nombres de las columnas\n",
    "\n",
    "# Creación del DataFrame\n",
    "\n",
    "ch = pd.DataFrame(lista_coches2, columns=columnas2)\n",
    "\n",
    "# Imprimir el DataFrame\n",
    "\n",
    "ch"
   ]
  },
  {
   "cell_type": "markdown",
   "metadata": {
    "id": "2QUKJ5jlNpJa"
   },
   "source": [
    "# Reto 3\n",
    "\n",
    "Crea un archivo CSV mediante el bloc de notas. Este archivo debe\n",
    "representar la compra efectuada por 5 personas distintas en una\n",
    "carnicería que solo dispone de 6 tipos de carne. Utiliza como\n",
    "separadores de columna un símbolo distinto a la coma.\n",
    "\n",
    "# Reto 4\n",
    "\n",
    "Importa el archivo creado en el RETO 3 mediante Pandas para crear un\n",
    "dataframe. Se mostrará por consola al ser finalizado."
   ]
  },
  {
   "cell_type": "code",
   "execution_count": 14,
   "metadata": {
    "id": "7vPRZysJNvXD"
   },
   "outputs": [
    {
     "data": {
      "text/html": [
       "<div>\n",
       "<style scoped>\n",
       "    .dataframe tbody tr th:only-of-type {\n",
       "        vertical-align: middle;\n",
       "    }\n",
       "\n",
       "    .dataframe tbody tr th {\n",
       "        vertical-align: top;\n",
       "    }\n",
       "\n",
       "    .dataframe thead th {\n",
       "        text-align: right;\n",
       "    }\n",
       "</style>\n",
       "<table border=\"1\" class=\"dataframe\">\n",
       "  <thead>\n",
       "    <tr style=\"text-align: right;\">\n",
       "      <th></th>\n",
       "      <th>Nombre</th>\n",
       "      <th>Carne 1</th>\n",
       "      <th>Carne 2</th>\n",
       "      <th>Carne 3</th>\n",
       "      <th>Carne 4</th>\n",
       "      <th>Carne 5</th>\n",
       "      <th>Carne 6</th>\n",
       "    </tr>\n",
       "  </thead>\n",
       "  <tbody>\n",
       "    <tr>\n",
       "      <th>0</th>\n",
       "      <td>Pepe</td>\n",
       "      <td>3</td>\n",
       "      <td>2</td>\n",
       "      <td>0</td>\n",
       "      <td>2</td>\n",
       "      <td>3</td>\n",
       "      <td>3</td>\n",
       "    </tr>\n",
       "    <tr>\n",
       "      <th>1</th>\n",
       "      <td>Sonia</td>\n",
       "      <td>3</td>\n",
       "      <td>3</td>\n",
       "      <td>3</td>\n",
       "      <td>2</td>\n",
       "      <td>2</td>\n",
       "      <td>2</td>\n",
       "    </tr>\n",
       "    <tr>\n",
       "      <th>2</th>\n",
       "      <td>Francisca</td>\n",
       "      <td>0</td>\n",
       "      <td>2</td>\n",
       "      <td>2</td>\n",
       "      <td>4</td>\n",
       "      <td>4</td>\n",
       "      <td>3</td>\n",
       "    </tr>\n",
       "    <tr>\n",
       "      <th>3</th>\n",
       "      <td>Hector</td>\n",
       "      <td>1</td>\n",
       "      <td>2</td>\n",
       "      <td>4</td>\n",
       "      <td>0</td>\n",
       "      <td>1</td>\n",
       "      <td>3</td>\n",
       "    </tr>\n",
       "    <tr>\n",
       "      <th>4</th>\n",
       "      <td>Felipe</td>\n",
       "      <td>2</td>\n",
       "      <td>1</td>\n",
       "      <td>3</td>\n",
       "      <td>1</td>\n",
       "      <td>3</td>\n",
       "      <td>0</td>\n",
       "    </tr>\n",
       "  </tbody>\n",
       "</table>\n",
       "</div>"
      ],
      "text/plain": [
       "      Nombre  Carne 1  Carne 2  Carne 3  Carne 4  Carne 5  Carne 6\n",
       "0       Pepe        3        2        0        2        3        3\n",
       "1      Sonia        3        3        3        2        2        2\n",
       "2  Francisca        0        2        2        4        4        3\n",
       "3     Hector        1        2        4        0        1        3\n",
       "4     Felipe        2        1        3        1        3        0"
      ]
     },
     "execution_count": 14,
     "metadata": {},
     "output_type": "execute_result"
    }
   ],
   "source": [
    "compras_total = pd.read_csv(\"compras.csv\", sep=';')\n",
    "compras_total"
   ]
  },
  {
   "cell_type": "code",
   "execution_count": null,
   "metadata": {},
   "outputs": [],
   "source": []
  }
 ],
 "metadata": {
  "colab": {
   "authorship_tag": "ABX9TyN4eS8vmi/o2UvLqVKjFBbF",
   "provenance": []
  },
  "kernelspec": {
   "display_name": "Python 3 (ipykernel)",
   "language": "python",
   "name": "python3"
  },
  "language_info": {
   "codemirror_mode": {
    "name": "ipython",
    "version": 3
   },
   "file_extension": ".py",
   "mimetype": "text/x-python",
   "name": "python",
   "nbconvert_exporter": "python",
   "pygments_lexer": "ipython3",
   "version": "3.10.9"
  }
 },
 "nbformat": 4,
 "nbformat_minor": 1
}
