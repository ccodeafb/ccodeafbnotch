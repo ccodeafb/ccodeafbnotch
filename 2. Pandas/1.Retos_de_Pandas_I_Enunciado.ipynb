{
 "cells": [
  {
   "cell_type": "code",
   "execution_count": null,
   "metadata": {
    "id": "pzYiySVVNLMP"
   },
   "outputs": [],
   "source": [
    "# Importamos pandas y numpy"
   ]
  },
  {
   "cell_type": "markdown",
   "metadata": {
    "id": "r49ae9V4M7TD"
   },
   "source": [
    "# Reto 1\n",
    "\n",
    "Mediante la creación de una lista de tuplas y otra de Strings, crea un\n",
    "Dataframe de como mínimo 5 columnas y 5 filas."
   ]
  },
  {
   "cell_type": "code",
   "execution_count": null,
   "metadata": {
    "colab": {
     "base_uri": "https://localhost:8080/"
    },
    "executionInfo": {
     "elapsed": 460,
     "status": "ok",
     "timestamp": 1687371964313,
     "user": {
      "displayName": "Felix Enriquez",
      "userId": "05512138648137656203"
     },
     "user_tz": -120
    },
    "id": "YK331YWvLjbx",
    "outputId": "7fcfc30b-0959-425c-b30f-2adfc2fb8f2c"
   },
   "outputs": [
    {
     "name": "stdout",
     "output_type": "stream",
     "text": [
      "   ID Nombre  Edad Género  Altura\n",
      "0   1   Juan    25      M     165\n",
      "1   2  María    30      F     170\n",
      "2   3  Pedro    35      M     180\n",
      "3   4    Ana    28      F     160\n",
      "4   5   Luis    32      M     175\n"
     ]
    }
   ],
   "source": [
    "# Definición de las listas de tuplas y strings\n",
    "\n",
    "# Creación del DataFrame\n",
    "\n",
    "# Imprimir el DataFrame\n"
   ]
  },
  {
   "cell_type": "markdown",
   "metadata": {
    "id": "iqvsGRvuNP1m"
   },
   "source": [
    "# Reto 2\n",
    "Mediante la creación de una lista de diccionarios, crea el mismo\n",
    "dataframe anterior pero, esta vez, haz que las columnas aparezcan\n",
    "en distinto orden y que, al menos 2 de las filas no contengan datos."
   ]
  },
  {
   "cell_type": "code",
   "execution_count": null,
   "metadata": {
    "colab": {
     "base_uri": "https://localhost:8080/"
    },
    "executionInfo": {
     "elapsed": 253,
     "status": "ok",
     "timestamp": 1687372062707,
     "user": {
      "displayName": "Felix Enriquez",
      "userId": "05512138648137656203"
     },
     "user_tz": -120
    },
    "id": "bEsUE45NNTzh",
    "outputId": "fd2cad14-dbf9-418d-dae6-885523ac74d9"
   },
   "outputs": [
    {
     "name": "stdout",
     "output_type": "stream",
     "text": [
      "  Nombre Género  Edad  Altura  ID\n",
      "0   Juan      M  25.0   165.0   1\n",
      "1  María      F  30.0   170.0   2\n",
      "2  Pedro      M  35.0   180.0   3\n",
      "3    Ana    NaN   NaN     NaN   4\n",
      "4   Luis      M  32.0     NaN   5\n"
     ]
    }
   ],
   "source": [
    "# Definición de la lista de diccionarios\n",
    "\n",
    "# Definición de los nombres de las columnas\n",
    "\n",
    "# Creación del DataFrame\n",
    "\n",
    "# Imprimir el DataFrame\n"
   ]
  },
  {
   "cell_type": "markdown",
   "metadata": {
    "id": "2QUKJ5jlNpJa"
   },
   "source": [
    "# Reto 3\n",
    "\n",
    "Crea un archivo CSV mediante el bloc de notas. Este archivo debe\n",
    "representar la compra efectuada por 5 personas distintas en una\n",
    "carnicería que solo dispone de 6 tipos de carne. Utiliza como\n",
    "separadores de columna un símbolo distinto a la coma.\n",
    "\n",
    "# Reto 4\n",
    "\n",
    "Importa el archivo creado en el RETO 3 mediante Pandas para crear un\n",
    "dataframe. Se mostrará por consola al ser finalizado."
   ]
  },
  {
   "cell_type": "code",
   "execution_count": null,
   "metadata": {
    "id": "7vPRZysJNvXD"
   },
   "outputs": [],
   "source": [
    "# LIBRE"
   ]
  }
 ],
 "metadata": {
  "colab": {
   "authorship_tag": "ABX9TyN4eS8vmi/o2UvLqVKjFBbF",
   "provenance": []
  },
  "kernelspec": {
   "display_name": "Python 3 (ipykernel)",
   "language": "python",
   "name": "python3"
  },
  "language_info": {
   "codemirror_mode": {
    "name": "ipython",
    "version": 3
   },
   "file_extension": ".py",
   "mimetype": "text/x-python",
   "name": "python",
   "nbconvert_exporter": "python",
   "pygments_lexer": "ipython3",
   "version": "3.10.10"
  }
 },
 "nbformat": 4,
 "nbformat_minor": 1
}
