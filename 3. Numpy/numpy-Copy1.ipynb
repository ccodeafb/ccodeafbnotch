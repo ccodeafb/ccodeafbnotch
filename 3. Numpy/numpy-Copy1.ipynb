{
 "cells": [
  {
   "cell_type": "code",
   "execution_count": 1,
   "id": "02bf5268",
   "metadata": {},
   "outputs": [],
   "source": [
    "import numpy as np"
   ]
  },
  {
   "cell_type": "markdown",
   "id": "5ed4ac7e",
   "metadata": {},
   "source": [
    "### Referencias:\n",
    "\n",
    "- https://numpy.org/doc/stable/reference/random/generated/numpy.random.randint.html\n",
    "- https://numpy.org/doc/stable/reference/generated/numpy.linspace.html"
   ]
  },
  {
   "cell_type": "markdown",
   "id": "5235d09f",
   "metadata": {},
   "source": [
    "### Reto 1\n",
    "\n",
    "- Crea un array de forma manual con 10 valores\n",
    "- ¿Cuánto suman los valores de ese array?\n",
    "- Multiplica por 5 los valores del array\n",
    "- ¿Es la suma de las multiplicaciones igual a la multiplicacion por 5 de la suma?"
   ]
  },
  {
   "cell_type": "code",
   "execution_count": 163,
   "id": "5d2a3380",
   "metadata": {},
   "outputs": [
    {
     "name": "stdout",
     "output_type": "stream",
     "text": [
      "Si\n"
     ]
    }
   ],
   "source": [
    "array = np.random.rand(1,10)\n",
    "suma = np.sum(array)\n",
    "multiplicacion = array*5\n",
    "if np.sum(multiplicacion) == suma*5:print(\"Si\")"
   ]
  },
  {
   "cell_type": "markdown",
   "id": "0f67afe5",
   "metadata": {},
   "source": [
    "### Reto 2\n",
    "\n",
    "Vamos a suponer que tenemos una tienda y tenemos los datos de ventas de 20 semanas de 3 productos distintos.\n",
    "\n",
    "- Crea un array llamado `ventas` utilizando el metodo `np.random.randint()` con 140 filas (20 semanas) y 3 columnas (3 productos). Este array representará las ventas durante este periodo.\n",
    "\n",
    "- Crea un array llamado `dias` que represente los dias de la semana con las letas LMXJVSD de la misma longitud que el array anterior.\n",
    "\n",
    "Utiliza la seleccion condicional para obtener el numero de ventas por producto por dia de la semana y contestar a las siguientes preguntas:\n",
    "\n",
    "- ¿Cual es la media de productos (en total) vendidos cada dia de la semana?\n",
    "- ¿Cual es el producto mas vendido los sabados?\n",
    "- ¿Cuál fue el día con las mayores ventas para cada producto?\n",
    "\n",
    "* Por producto nos referimos al producto del indice 0, 1 o 2"
   ]
  },
  {
   "cell_type": "code",
   "execution_count": 171,
   "id": "914d8ff2",
   "metadata": {},
   "outputs": [
    {
     "data": {
      "text/plain": [
       "(140, 3)"
      ]
     },
     "execution_count": 171,
     "metadata": {},
     "output_type": "execute_result"
    }
   ],
   "source": [
    "ventas = np.random.randint(0,999,size = (140,3))\n",
    "ventas.shape\n"
   ]
  },
  {
   "cell_type": "markdown",
   "id": "11b32349",
   "metadata": {},
   "source": [
    "### Reto 3\n",
    "\n",
    "Supongamos que eres un profesor y acabas de calificar los exámenes finales de tu curso. Tienes las calificaciones de 60 estudiantes y quieres entender mejor la distribución de las calificaciones.\n",
    "\n",
    "- Genera los datos de forma aleatoria, con las notas variando entre 50 y 100)\n",
    "- Utiliza para calcular los deciles (10%, 20%, 30%, ...)\n",
    "- Vamos a realizar un pequeño grafico. Calcula la diferencia entre los distintos deciles, y por cada diferencia imprime los siguiente `{decil_inferior}-{decil_superior}: '*' * int(diferencia)`, es decir un pequeño diagrama de barras que indique la diferencia entre los deciles.\n"
   ]
  },
  {
   "cell_type": "code",
   "execution_count": null,
   "id": "331cb8d7",
   "metadata": {},
   "outputs": [],
   "source": []
  },
  {
   "cell_type": "markdown",
   "id": "c6499955",
   "metadata": {},
   "source": [
    "### Reto 4:\n",
    "\n",
    "- Crea un array 2D de tamaño 5x5, lleno de unos utilizando np.ones().\n",
    "- Cambia el valor de la segunda y cuarta fila para que sean 2.\n",
    "- Cambia el valor de la tercera columna para que sea 3.\n",
    "- Calcula la suma de todos los elementos de la matriz.\n",
    "- Calcula la suma de cada fila y cada columna.\n",
    "- Convierte la matriz en un array de la siguiente forma(investiga que metodos pueden hacer esto, mira la docuemntacion)\n",
    "\n",
    "```\n",
    "[[0, 1, 2],\n",
    " [3, 4, 5],    -> [0, 1, 2, 3, 4, 5, 6, 7, 8, 9]\n",
    " [6, 7, 8]]\n",
    "```"
   ]
  },
  {
   "cell_type": "code",
   "execution_count": null,
   "id": "77ad233e",
   "metadata": {},
   "outputs": [],
   "source": []
  },
  {
   "cell_type": "markdown",
   "id": "be07e73f",
   "metadata": {},
   "source": [
    "### Reto 5:\n",
    "\n",
    "Para este reto, necesitarás la biblioteca PIL (Pillow) además de numpy. Si no la tienes instalada, puedes hacerlo con `pip install pillow`.\n",
    "\n",
    "- Descarga una imagen de Internet y colocala en esta carpeta. Puedes utilizar la función Image.open() de la biblioteca PIL en combinación con la biblioteca requests para hacerlo. Sustituye `FILE_PATH` por el path de tu imagen.\n",
    "\n",
    "- Convierte la imagen a una matriz de NumPy utilizando la función np.array(img).\n",
    "\n",
    "- Imprime las dimensiones de la matriz resultante. Para una imagen en color, la matriz resultante debería ser tridimensional (alto x ancho x 3). ¿Se corresponden estas dimensiones con las dimensiones de la imagen? ¿Que representa la ultima dimension? Investiga por tu cuenta y pide ayuda si te atascas. \n",
    "\n",
    "- Calcula e imprime el valor promedio de los píxeles rojos, verdes y azules (las tres capas de la matriz) de la imagen.\n",
    "\n",
    "- Encuentra e imprime los valores mínimos y máximos de los píxeles rojos, verdes y azules."
   ]
  },
  {
   "cell_type": "code",
   "execution_count": null,
   "id": "22bebc44",
   "metadata": {},
   "outputs": [],
   "source": [
    "from PIL import Image\n",
    "FILE_PATH = '...'\n",
    "img = Image.open(FILE_PATH)"
   ]
  },
  {
   "cell_type": "code",
   "execution_count": null,
   "id": "9878beb3",
   "metadata": {},
   "outputs": [],
   "source": []
  }
 ],
 "metadata": {
  "kernelspec": {
   "display_name": "Python 3 (ipykernel)",
   "language": "python",
   "name": "python3"
  },
  "language_info": {
   "codemirror_mode": {
    "name": "ipython",
    "version": 3
   },
   "file_extension": ".py",
   "mimetype": "text/x-python",
   "name": "python",
   "nbconvert_exporter": "python",
   "pygments_lexer": "ipython3",
   "version": "3.10.9"
  }
 },
 "nbformat": 4,
 "nbformat_minor": 5
}
