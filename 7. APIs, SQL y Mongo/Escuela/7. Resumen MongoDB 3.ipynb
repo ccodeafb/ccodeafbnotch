{
 "cells": [
  {
   "cell_type": "markdown",
   "metadata": {},
   "source": [
    "# Resumen MongoDB Agregaciones"
   ]
  },
  {
   "cell_type": "markdown",
   "metadata": {},
   "source": [
    "## 1. Conexión con la Base de Datos"
   ]
  },
  {
   "cell_type": "code",
   "execution_count": null,
   "metadata": {},
   "outputs": [],
   "source": [
    "import pymongo\n",
    "import datetime\n",
    "\n",
    "client = pymongo.MongoClient(\"mongodb://localhost:27017\")\n",
    "db = client.pyMongoDataBase\n",
    "collection = db.buy\n",
    "\n",
    "cursor = collection.aggregate ([{\"$group\" : { \"_id\" : \"$product\",\"total\": {\"$sum\" : \"$price_unit\"}}}])\n",
    "\n",
    "for data in cursor:\n",
    "    print(data)"
   ]
  },
  {
   "cell_type": "markdown",
   "metadata": {},
   "source": [
    "## 2. Equivalencia WHERE"
   ]
  },
  {
   "cell_type": "markdown",
   "metadata": {},
   "source": [
    "### 2.1 Documentos cuyo producto sea \"lemon\""
   ]
  },
  {
   "cell_type": "code",
   "execution_count": null,
   "metadata": {},
   "outputs": [],
   "source": [
    "cursor = collection.aggregate ([{\"$match\":{\"product\": \"lemon\"}}])\n",
    "\n",
    "for data in cursor:\n",
    "    print(data)"
   ]
  },
  {
   "cell_type": "markdown",
   "metadata": {},
   "source": [
    "## 3. Equivalencia SELECT"
   ]
  },
  {
   "cell_type": "markdown",
   "metadata": {},
   "source": [
    "### 3.1 Mostrar solo el nombre y precio total de los documentos cuyo producto sea \"lemon\"\n",
    "\n"
   ]
  },
  {
   "cell_type": "code",
   "execution_count": null,
   "metadata": {},
   "outputs": [],
   "source": [
    "cursor = collection.aggregate ([{\"$match\":{\"product\": \"lemon\"}},\n",
    "                                {\"$project\": {\"_id\": 0,\n",
    "                                              \"Nombre Producto \": \"$product\",\n",
    "                                              \"Precio Total:\" : \"$price_total\"}}])\n",
    "\n",
    "for data in cursor:\n",
    "    print(data)"
   ]
  },
  {
   "cell_type": "markdown",
   "metadata": {},
   "source": [
    "## 4. Equivalencia COUNT"
   ]
  },
  {
   "cell_type": "markdown",
   "metadata": {},
   "source": [
    "### 4.1 Veces que aparece \"lemon\" en nuestras compras."
   ]
  },
  {
   "cell_type": "code",
   "execution_count": null,
   "metadata": {},
   "outputs": [],
   "source": [
    "cursor = collection.aggregate ([{\"$match\":{\"product\": \"lemon\"}}, {\"$count\": \"Lemons Number\"}])\n",
    "\n",
    "for data in cursor:\n",
    "    print(data)"
   ]
  },
  {
   "cell_type": "markdown",
   "metadata": {},
   "source": [
    "### 4.2 Otra Manera"
   ]
  },
  {
   "cell_type": "code",
   "execution_count": null,
   "metadata": {},
   "outputs": [],
   "source": [
    "cursor = collection.aggregate ([{\"$match\":{\"product\": \"lemon\"}}, \n",
    "                               {\"$group\" : { \"_id\" : \"$product\", \"Lemons Number\": {\"$sum\" : 1}}}])\n",
    "\n",
    "for data in cursor:\n",
    "    print(data)"
   ]
  },
  {
   "cell_type": "markdown",
   "metadata": {},
   "source": [
    "## 5. Equivalencia AVG"
   ]
  },
  {
   "cell_type": "markdown",
   "metadata": {},
   "source": [
    "### 5.1 Cuanto me he gastado de media en producto \"lemon\" por compra"
   ]
  },
  {
   "cell_type": "code",
   "execution_count": null,
   "metadata": {},
   "outputs": [],
   "source": [
    "cursor = collection.aggregate ([{\"$match\":{\"product\": \"lemon\"}}, \n",
    "                                {\"$group\" : { \"_id\" : \"$product\", \n",
    "                                             \"Total Price AVG\": {\"$avg\": \"$price_total\"}}}])\n",
    "\n",
    "for data in cursor:\n",
    "    print(data)"
   ]
  },
  {
   "cell_type": "markdown",
   "metadata": {},
   "source": [
    "## 6. Equivalencia SUM\n"
   ]
  },
  {
   "cell_type": "markdown",
   "metadata": {},
   "source": [
    "### 6.1 Cuanto me he gastado en producto \"lemon\""
   ]
  },
  {
   "cell_type": "code",
   "execution_count": null,
   "metadata": {},
   "outputs": [],
   "source": [
    "cursor = collection.aggregate ([{\"$match\":{\"product\": \"lemon\"}}, \n",
    "                                {\"$group\" : { \"_id\" : \"$product\", \n",
    "                                             \"Total Price\": {\"$sum\": \"$price_total\"}}}])\n",
    "\n",
    "for data in cursor:\n",
    "    print(data)"
   ]
  },
  {
   "cell_type": "markdown",
   "metadata": {},
   "source": [
    "## 7. Equivalencia AND y OR\n"
   ]
  },
  {
   "cell_type": "markdown",
   "metadata": {},
   "source": [
    "### 7.1 Filtrar por productos \"lemon\" cuyo precio por unidad sea 0.25 o el precio total de la compra sea mayor que 3\n"
   ]
  },
  {
   "cell_type": "code",
   "execution_count": null,
   "metadata": {},
   "outputs": [],
   "source": [
    "cursor = collection.aggregate ([{\"$match\":\n",
    "                                        {\"$and\": [{\"product\":\"lemon\"}, \n",
    "                                                  {\"$or\" : [ {\"price_unit\" : {\"$eq\" : 0.25}}, \n",
    "                                                             {\"price_total\": {\"$gt\": 3}}]}]}}])\n",
    "\n",
    "for data in cursor:\n",
    "    print(data)"
   ]
  },
  {
   "cell_type": "markdown",
   "metadata": {},
   "source": [
    "## 8. Equivalencia GROUP BY\n"
   ]
  },
  {
   "cell_type": "markdown",
   "metadata": {},
   "source": [
    "### 8.1 Mostrar la cantidad total gastada por producto.\n"
   ]
  },
  {
   "cell_type": "code",
   "execution_count": null,
   "metadata": {},
   "outputs": [],
   "source": [
    "cursor = collection.aggregate ([{\"$group\" : { \"_id\" : \"$product\", \n",
    "                                             \"Total Price\": {\"$sum\": \"$price_total\"}}}])\n",
    "\n",
    "for data in cursor:\n",
    "    print(data)"
   ]
  },
  {
   "cell_type": "markdown",
   "metadata": {},
   "source": [
    "## 9. Equivalencia HAVING\n"
   ]
  },
  {
   "cell_type": "markdown",
   "metadata": {},
   "source": [
    "### 9.1 Monstrar la cantidad total gastada por producto si esta cantidad es mayor que 3.3"
   ]
  },
  {
   "cell_type": "code",
   "execution_count": null,
   "metadata": {},
   "outputs": [],
   "source": [
    "cursor = collection.aggregate ([{\"$group\" : { \"_id\" : \"$product\", \n",
    "                                             \"Total Price\": {\"$sum\": \"$price_total\"}}},\n",
    "                               {\"$match\": {\"Total Price\": {\"$gt\": 3.3}}}])\n",
    "\n",
    "for data in cursor:\n",
    "    print(data)"
   ]
  },
  {
   "cell_type": "markdown",
   "metadata": {},
   "source": [
    "## 10. Equivalencia ORDER BY\n"
   ]
  },
  {
   "cell_type": "markdown",
   "metadata": {},
   "source": [
    "### 10.1 Monstrar la cantidad total gastada por producto si esta cantidad es mayor que 3.3 en orden ascendente\n"
   ]
  },
  {
   "cell_type": "code",
   "execution_count": null,
   "metadata": {},
   "outputs": [],
   "source": [
    "cursor = collection.aggregate ([{\"$group\" : { \"_id\" : \"$product\", \n",
    "                                             \"Total Price\": {\"$sum\": \"$price_total\"}}},\n",
    "                               {\"$match\": {\"Total Price\": {\"$gt\": 3.3}}},\n",
    "                               {\"$sort\": {\"Total Price\": 1}}])\n",
    "\n",
    "for data in cursor:\n",
    "    print(data)"
   ]
  },
  {
   "cell_type": "markdown",
   "metadata": {},
   "source": [
    "## 11. Equivalencia LIMIT\n"
   ]
  },
  {
   "cell_type": "markdown",
   "metadata": {},
   "source": [
    "### 11.1 Monstrar máximo 2 productos junto con el total de la cantidad gastada si esta cantidad es mayor que 4 en orden descendente\n"
   ]
  },
  {
   "cell_type": "code",
   "execution_count": null,
   "metadata": {},
   "outputs": [],
   "source": [
    "cursor = collection.aggregate ([{\"$group\" : { \"_id\" : \"$product\", \n",
    "                                             \"Total Price\": {\"$sum\": \"$price_total\"}}},\n",
    "                               {\"$match\": {\"Total Price\": {\"$gt\": 4}}},\n",
    "                               {\"$sort\": {\"Total Price\": -1}},\n",
    "                               {\"$limit\": 2}])\n",
    "\n",
    "for data in cursor:\n",
    "    print(data)"
   ]
  }
 ],
 "metadata": {
  "kernelspec": {
   "display_name": "Python 3 (ipykernel)",
   "language": "python",
   "name": "python3"
  },
  "language_info": {
   "codemirror_mode": {
    "name": "ipython",
    "version": 3
   },
   "file_extension": ".py",
   "mimetype": "text/x-python",
   "name": "python",
   "nbconvert_exporter": "python",
   "pygments_lexer": "ipython3",
   "version": "3.10.9"
  }
 },
 "nbformat": 4,
 "nbformat_minor": 4
}
