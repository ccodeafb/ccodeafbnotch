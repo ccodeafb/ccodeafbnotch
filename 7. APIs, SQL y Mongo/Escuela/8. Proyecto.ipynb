{
 "cells": [
  {
   "cell_type": "code",
   "execution_count": 2,
   "metadata": {},
   "outputs": [],
   "source": [
    "import pymongo\n",
    "import datetime\n",
    "import csv\n",
    "import dateutil\n",
    "import pandas as pd\n",
    "import random\n",
    "from faker import Faker as fake\n",
    "from pandas import DataFrame"
   ]
  },
  {
   "cell_type": "markdown",
   "metadata": {},
   "source": [
    "# Proyecto\n",
    "\n",
    "## Paso 1: Crear BBDD de MongoDB\n",
    " \n",
    "* El objetivo de este proyecto es implementar una BBDD similar a la de IMDB MONGODB y python.\n",
    "\n",
    "* Diseñar una BBDD en MONGO con todas dos colecciones (professional, movie). \n",
    "\n",
    "* Crear una colección Professional con los siguientes campos:\n",
    "\t- **name**: string\n",
    "\t- **age**: number\n",
    "\t- **weight**: number\n",
    "\t- **height**: number\n",
    "\t- **isRetired**: boolean\n",
    "\t- **nationality**: string\n",
    "\t- **oscarsNumber**: number\n",
    "\t- **profession**: string\n",
    "* Crear una colección movie con los siguientes campos:\n",
    "\t- **title**: string\n",
    "\t- **releaseYear**: number\n",
    "\t- **actors**: string[]\n",
    "\t- **nacionality**: string\n",
    "\t- **director**: string[]\n",
    "\t- **writer**: string[]\n",
    "\t- **language**: string\n",
    "\t- **plataforma**: string\n",
    "\t- **isMCU**: boolean\n",
    "\t- **mainCharacterName**: string\n",
    "\t- **producer**: string\n",
    "\t- **distributor**: string\n",
    "\t- **genre**: string\n",
    "\n",
    "* Cada película tendrá mas de un actor que consistirá en un conjunto de nombres de actor.* \n",
    "* Cada película tendrá mas de un guionista que consistirá en un conjunto de nombres de guionistas.\n",
    "* Cada película tendrá mas de un director que consistirá en un conjunto de nombres de direct\n"
   ]
  },
  {
   "cell_type": "markdown",
   "metadata": {},
   "source": [
    "## Paso 2: Implementación de la BBDD\n",
    "* Implementar utilizando MONGO Compass y PyMongo la base de datos diseñada en el apartado anterior.\n",
    "\n",
    "* Añadiendo los suficientes documentos en cada colección para realizar todas las combinaciones posibles de todos los campos."
   ]
  },
  {
   "cell_type": "code",
   "execution_count": 4,
   "metadata": {},
   "outputs": [],
   "source": [
    "client = pymongo.MongoClient(\"mongodb://localhost:27017/\")\n",
    "db = client.IMDB\n",
    "fake = fake(['es_ES','de_DE','es_AR','it_IT','en_UK','fr_FR','en_US','fi_FI'])"
   ]
  },
  {
   "cell_type": "code",
   "execution_count": 157,
   "metadata": {},
   "outputs": [],
   "source": [
    "professions = [\"fontanero\", \"programador\", \"atleta\", \"musico\", \"cartero\", \"saltador\", \"cajero\", \"matematico\", \"doctor\", \"cientifico\", \"electricista\", \"tejedor\", \"militar\", \"zapatero\", \"empresario\", \"politico\", \"profesor\", \"psicologo\"]\n",
    "nationality = [\"frances\", \"colombiano\", \"estounidense\", \"español\", \"suizo\", \"austriaco\", \"belga\", \"mexicano\", \"finlandes\", \"uruguayo\", \"italiano\", \"canadiense\"]\n",
    "titles = [\"El divorcio\", \"Titanic\", \"Monstruos SA\", \"Lo que el viento se llevo\", \"Maquinistas\", \"HP 3\", \"Shrek 3\", \"Shrek Ultimatum\", \"Shrek 2\", \"HP 8\", \"Matrix\", \"El resplandor\", \"El internado\", \"Oppenheimer\", \"Barbie\", \"La sirenita\", \"La Momia\", \"Interstellar\", \"Aventuras misteriosas\", \"Viajes al mas alla\", \"Star wars 34\", \"Star wars: contraataca\"]\n",
    "plataformas = [\"HBO\", \"A3Player\", \"hulu\", \"DAZN\", \"Netflix\", \"MiTele\", \"Movistar+\", \"Amazon\", \"Youtube\"]\n",
    "generos = [\"Terror\", \"Comedia\", \"Romantica\", \"Historica\", \"Ciencia Ficcion\", \"Suspense\", \"Documental\"]\n",
    "oscars = [0,0,0,0,0,0,0,1,2,3,4,5,1,1,2,7,5,4,1,2,0,0,8]"
   ]
  },
  {
   "cell_type": "code",
   "execution_count": 55,
   "metadata": {},
   "outputs": [
    {
     "name": "stdout",
     "output_type": "stream",
     "text": [
      "[ObjectId('64d0a4f2505c46efac161f5e'), ObjectId('64d0a4f2505c46efac161f5f'), ObjectId('64d0a4f2505c46efac161f60'), ObjectId('64d0a4f2505c46efac161f61'), ObjectId('64d0a4f2505c46efac161f62'), ObjectId('64d0a4f2505c46efac161f63'), ObjectId('64d0a4f2505c46efac161f64'), ObjectId('64d0a4f2505c46efac161f65'), ObjectId('64d0a4f2505c46efac161f66'), ObjectId('64d0a4f2505c46efac161f67'), ObjectId('64d0a4f2505c46efac161f68')]\n"
     ]
    }
   ],
   "source": [
    "collection = db.professionals\n",
    "\n",
    "ls = [{\"name\": fake.name(),\"age\": random.randint(0, 90),\"weight\": random.randint(30, 150),\"height\": random.randint(100, 210),\"isRetired\": False,\"nationality\": random.choice(nationality),\"oscarsNumber\": random.choice(oscars),\"profession\": random.choice(professions)}\n",
    " for _ in range(10)]\n",
    "\n",
    "ids = collection.insert_many(ls).inserted_ids\n",
    "print(ids)"
   ]
  },
  {
   "cell_type": "code",
   "execution_count": 158,
   "metadata": {},
   "outputs": [
    {
     "name": "stdout",
     "output_type": "stream",
     "text": [
      "[ObjectId('64d0b5d3505c46efac161fa6'), ObjectId('64d0b5d3505c46efac161fa7'), ObjectId('64d0b5d3505c46efac161fa8'), ObjectId('64d0b5d3505c46efac161fa9'), ObjectId('64d0b5d3505c46efac161faa'), ObjectId('64d0b5d3505c46efac161fab'), ObjectId('64d0b5d3505c46efac161fac'), ObjectId('64d0b5d3505c46efac161fad'), ObjectId('64d0b5d3505c46efac161fae'), ObjectId('64d0b5d3505c46efac161faf'), ObjectId('64d0b5d3505c46efac161fb0'), ObjectId('64d0b5d3505c46efac161fb1')]\n"
     ]
    }
   ],
   "source": [
    "collection = db.movies\n",
    "\n",
    "ms = [{\"title\": random.choice(titles),\"releaseYear\": random.randint(1910, 2023),\"actors\": [fake.name(),fake.name()], \"nationality\":random.choice(nationality),\"directors\": [fake.name(),fake.name()],\"writers\": [fake.name(),fake.name()],\"language\":random.choice(nationality),\"platform\":random.choice(plataformas),\"isMCU\": False,\"maincharac\": fake.name(),\"producer\": fake.name(),\"distributor\": random.choice(plataformas),\"genre\": random.choice(generos)}\n",
    " for _ in range(10)]\n",
    "\n",
    "ids = collection.insert_many(ms).inserted_ids\n",
    "print(ids)"
   ]
  },
  {
   "cell_type": "markdown",
   "metadata": {},
   "source": [
    "# Paso 3: Alimentar la Colección professional con CSV\n",
    "* Crear un fichero en formato CSV con datos de profesionales y añadir dichos datos a la base de datos. \n",
    "\n"
   ]
  },
  {
   "cell_type": "code",
   "execution_count": 307,
   "metadata": {},
   "outputs": [],
   "source": [
    "collection = db.professionals"
   ]
  },
  {
   "cell_type": "code",
   "execution_count": 56,
   "metadata": {},
   "outputs": [],
   "source": [
    "professionals_csv = pd.read_csv('professionals.csv')\n",
    "\n",
    "professionals_dict = professionals_csv.to_dict(\"records\")\n",
    "\n",
    "ids = collection.insert_many(professionals_dict).inserted_ids"
   ]
  },
  {
   "cell_type": "markdown",
   "metadata": {},
   "source": [
    "# Paso 4: Realizar las siguientes consultas en python\n",
    "\n",
    "* Mostrar todos los profesionales cuyo nombre empiece por “C”.\n"
   ]
  },
  {
   "cell_type": "code",
   "execution_count": 310,
   "metadata": {},
   "outputs": [
    {
     "name": "stdout",
     "output_type": "stream",
     "text": [
      "{'name': 'Cirillo Trussardi', 'profession': 'tejedor'}\n",
      "{'name': 'Ciro Travaglia', 'profession': 'cartero'}\n"
     ]
    }
   ],
   "source": [
    "cursor = collection.find({\"name\": {\"$regex\": \"^C\"}}, {\"_id\":0, \"name\": 1, \"profession\": 1}).sort(\"name\",1)\n",
    "\n",
    "\n",
    "for data in cursor:\n",
    "    print(data)"
   ]
  },
  {
   "cell_type": "markdown",
   "metadata": {},
   "source": [
    "Mostrar todos los profesionales que midan más de 170 cm y pesen menos de 85Kg."
   ]
  },
  {
   "cell_type": "code",
   "execution_count": 188,
   "metadata": {},
   "outputs": [
    {
     "name": "stdout",
     "output_type": "stream",
     "text": [
      "{'Nombre': 'Nicole Gray', 'Altura ': 79, 'Peso:': 210}\n",
      "{'Nombre': 'Viktoria Hübel-Wesack', 'Altura ': 64, 'Peso:': 171}\n",
      "{'Nombre': 'Victoria Caceres', 'Altura ': 65, 'Peso:': 180}\n",
      "{'Nombre': 'Sr(a). Martina Leiva', 'Altura ': 61, 'Peso:': 183}\n",
      "{'Nombre': 'Dominique Hubert', 'Altura ': 48, 'Peso:': 171}\n"
     ]
    }
   ],
   "source": [
    "cursor = collection.aggregate ([{\"$match\":\n",
    "                                 {\"$and\" : [ {\"weight\" : {\"$lt\" : 85}}, \n",
    "                                           {\"height\": {\"$gt\": 170}}]}},\n",
    "                               {\"$project\": {\"_id\": 0,\n",
    "                                              \"Nombre\": \"$name\",\n",
    "                                              \"Altura \": \"$weight\",\n",
    "                                              \"Peso:\" : \"$height\"}}])\n",
    "\n",
    "for data in cursor:\n",
    "    print(data)"
   ]
  },
  {
   "cell_type": "markdown",
   "metadata": {},
   "source": [
    "Mostrar solo el nombre, apellidos y numero de oscars de los profesionales que tengan al menos 2 oscars.\n"
   ]
  },
  {
   "cell_type": "code",
   "execution_count": 200,
   "metadata": {},
   "outputs": [
    {
     "name": "stdout",
     "output_type": "stream",
     "text": [
      "{'Nombre y apellidos': 'Antti Aalto', 'Oscars:': 2}\n",
      "{'Nombre y apellidos': 'Tim Francis', 'Oscars:': 7}\n",
      "{'Nombre y apellidos': 'Viktoria Hübel-Wesack', 'Oscars:': 4}\n",
      "{'Nombre y apellidos': 'Victoria Caceres', 'Oscars:': 5}\n",
      "{'Nombre y apellidos': 'Sr(a). Martina Leiva', 'Oscars:': 7}\n",
      "{'Nombre y apellidos': 'Dimas Salmerón', 'Oscars:': 2}\n",
      "{'Nombre y apellidos': 'Elmeri Keränen', 'Oscars:': 5}\n",
      "{'Nombre y apellidos': 'Dr Kathleen Hughes', 'Oscars:': 7}\n",
      "{'Nombre y apellidos': 'Luchino Palazzo-Muti', 'Oscars:': 7}\n",
      "{'Nombre y apellidos': 'Fernando Ferrero Roman', 'Oscars:': 4}\n"
     ]
    }
   ],
   "source": [
    "cursor = collection.aggregate ([{\"$match\":\n",
    "                                 {\"oscarsNumber\" : {\"$gte\" : 2}}},\n",
    "                               {\"$project\": {\"_id\": 0,\n",
    "                                              \"Nombre y apellidos\": \"$name\",\n",
    "                                              \"Oscars:\" : \"$oscarsNumber\"}}])\n",
    "\n",
    "for data in cursor:\n",
    "    print(data)"
   ]
  },
  {
   "cell_type": "markdown",
   "metadata": {},
   "source": [
    "Mostrar el numero de profesionales retirados, el número de profesionales no retirados y el total de profesionales de la colección."
   ]
  },
  {
   "cell_type": "code",
   "execution_count": 240,
   "metadata": {},
   "outputs": [
    {
     "name": "stdout",
     "output_type": "stream",
     "text": [
      "{'_id': False, 'Total': 13}\n",
      "{'_id': True, 'Total': 8}\n"
     ]
    }
   ],
   "source": [
    "cursor = collection.aggregate([{'$group': {'_id': \"$isRetired\",\n",
    "                                            'Total': {'$sum': { '$cond': [\"$isRetired\", 1, 1]}}}}])\n",
    "\n",
    "for data in cursor:\n",
    "    print(data)"
   ]
  },
  {
   "cell_type": "markdown",
   "metadata": {},
   "source": [
    "Mostrar nombre, apellidos, nacionalidad y año de nacimiento de aquellos profesionales que tengan una edad mayor que 20 ordenados de manera ascendente."
   ]
  },
  {
   "cell_type": "code",
   "execution_count": 269,
   "metadata": {},
   "outputs": [
    {
     "data": {
      "text/html": [
       "<div>\n",
       "<style scoped>\n",
       "    .dataframe tbody tr th:only-of-type {\n",
       "        vertical-align: middle;\n",
       "    }\n",
       "\n",
       "    .dataframe tbody tr th {\n",
       "        vertical-align: top;\n",
       "    }\n",
       "\n",
       "    .dataframe thead th {\n",
       "        text-align: right;\n",
       "    }\n",
       "</style>\n",
       "<table border=\"1\" class=\"dataframe\">\n",
       "  <thead>\n",
       "    <tr style=\"text-align: right;\">\n",
       "      <th></th>\n",
       "      <th>Nombre</th>\n",
       "      <th>Nacionalidad</th>\n",
       "      <th>Edad</th>\n",
       "      <th>Año de nacimiento</th>\n",
       "    </tr>\n",
       "  </thead>\n",
       "  <tbody>\n",
       "    <tr>\n",
       "      <th>0</th>\n",
       "      <td>Nicole Gray</td>\n",
       "      <td>estounidense</td>\n",
       "      <td>24</td>\n",
       "      <td>1999</td>\n",
       "    </tr>\n",
       "    <tr>\n",
       "      <th>1</th>\n",
       "      <td>Robby Vollbrecht</td>\n",
       "      <td>español</td>\n",
       "      <td>24</td>\n",
       "      <td>1999</td>\n",
       "    </tr>\n",
       "    <tr>\n",
       "      <th>2</th>\n",
       "      <td>Fernando Ferrero Roman</td>\n",
       "      <td>estounidense</td>\n",
       "      <td>25</td>\n",
       "      <td>1998</td>\n",
       "    </tr>\n",
       "    <tr>\n",
       "      <th>3</th>\n",
       "      <td>Diane Brookes</td>\n",
       "      <td>estounidense</td>\n",
       "      <td>28</td>\n",
       "      <td>1995</td>\n",
       "    </tr>\n",
       "    <tr>\n",
       "      <th>4</th>\n",
       "      <td>Prof. Arne Eimer</td>\n",
       "      <td>italiano</td>\n",
       "      <td>28</td>\n",
       "      <td>1995</td>\n",
       "    </tr>\n",
       "    <tr>\n",
       "      <th>5</th>\n",
       "      <td>Sr(a). Martina Leiva</td>\n",
       "      <td>finlandes</td>\n",
       "      <td>36</td>\n",
       "      <td>1987</td>\n",
       "    </tr>\n",
       "    <tr>\n",
       "      <th>6</th>\n",
       "      <td>Luchino Palazzo-Muti</td>\n",
       "      <td>italiano</td>\n",
       "      <td>46</td>\n",
       "      <td>1977</td>\n",
       "    </tr>\n",
       "    <tr>\n",
       "      <th>7</th>\n",
       "      <td>Victoria Caceres</td>\n",
       "      <td>suizo</td>\n",
       "      <td>48</td>\n",
       "      <td>1975</td>\n",
       "    </tr>\n",
       "    <tr>\n",
       "      <th>8</th>\n",
       "      <td>Griselda Cendron</td>\n",
       "      <td>colombiano</td>\n",
       "      <td>49</td>\n",
       "      <td>1974</td>\n",
       "    </tr>\n",
       "    <tr>\n",
       "      <th>9</th>\n",
       "      <td>Cirillo Trussardi</td>\n",
       "      <td>austriaco</td>\n",
       "      <td>56</td>\n",
       "      <td>1967</td>\n",
       "    </tr>\n",
       "    <tr>\n",
       "      <th>10</th>\n",
       "      <td>Viktoria Hübel-Wesack</td>\n",
       "      <td>mexicano</td>\n",
       "      <td>57</td>\n",
       "      <td>1966</td>\n",
       "    </tr>\n",
       "    <tr>\n",
       "      <th>11</th>\n",
       "      <td>Antti Aalto</td>\n",
       "      <td>suizo</td>\n",
       "      <td>60</td>\n",
       "      <td>1963</td>\n",
       "    </tr>\n",
       "    <tr>\n",
       "      <th>12</th>\n",
       "      <td>Dominique Hubert</td>\n",
       "      <td>mexicano</td>\n",
       "      <td>64</td>\n",
       "      <td>1959</td>\n",
       "    </tr>\n",
       "    <tr>\n",
       "      <th>13</th>\n",
       "      <td>Tim Francis</td>\n",
       "      <td>estounidense</td>\n",
       "      <td>66</td>\n",
       "      <td>1957</td>\n",
       "    </tr>\n",
       "    <tr>\n",
       "      <th>14</th>\n",
       "      <td>Ciro Travaglia</td>\n",
       "      <td>estounidense</td>\n",
       "      <td>68</td>\n",
       "      <td>1955</td>\n",
       "    </tr>\n",
       "    <tr>\n",
       "      <th>15</th>\n",
       "      <td>Dr Kathleen Hughes</td>\n",
       "      <td>frances</td>\n",
       "      <td>76</td>\n",
       "      <td>1947</td>\n",
       "    </tr>\n",
       "    <tr>\n",
       "      <th>16</th>\n",
       "      <td>Gary Walsh</td>\n",
       "      <td>italiano</td>\n",
       "      <td>86</td>\n",
       "      <td>1937</td>\n",
       "    </tr>\n",
       "    <tr>\n",
       "      <th>17</th>\n",
       "      <td>Elmeri Keränen</td>\n",
       "      <td>finlandes</td>\n",
       "      <td>87</td>\n",
       "      <td>1936</td>\n",
       "    </tr>\n",
       "  </tbody>\n",
       "</table>\n",
       "</div>"
      ],
      "text/plain": [
       "                    Nombre  Nacionalidad  Edad  Año de nacimiento\n",
       "0              Nicole Gray  estounidense    24               1999\n",
       "1         Robby Vollbrecht       español    24               1999\n",
       "2   Fernando Ferrero Roman  estounidense    25               1998\n",
       "3            Diane Brookes  estounidense    28               1995\n",
       "4         Prof. Arne Eimer      italiano    28               1995\n",
       "5     Sr(a). Martina Leiva     finlandes    36               1987\n",
       "6     Luchino Palazzo-Muti      italiano    46               1977\n",
       "7         Victoria Caceres         suizo    48               1975\n",
       "8         Griselda Cendron    colombiano    49               1974\n",
       "9        Cirillo Trussardi     austriaco    56               1967\n",
       "10   Viktoria Hübel-Wesack      mexicano    57               1966\n",
       "11             Antti Aalto         suizo    60               1963\n",
       "12        Dominique Hubert      mexicano    64               1959\n",
       "13             Tim Francis  estounidense    66               1957\n",
       "14          Ciro Travaglia  estounidense    68               1955\n",
       "15      Dr Kathleen Hughes       frances    76               1947\n",
       "16              Gary Walsh      italiano    86               1937\n",
       "17          Elmeri Keränen     finlandes    87               1936"
      ]
     },
     "execution_count": 269,
     "metadata": {},
     "output_type": "execute_result"
    }
   ],
   "source": [
    "cursor = collection.aggregate ([{\"$match\":\n",
    "                                 {\"age\" : {\"$gt\" : 20}}},\n",
    "                               {\"$project\": {\"_id\": 0,\n",
    "                                              \"Nombre\": \"$name\",\n",
    "                                              \"Nacionalidad\" : \"$nationality\",\n",
    "                                            \"Edad\": \"$age\"}},\n",
    "                                {\"$sort\": {\"Edad\": 1}}])\n",
    "\n",
    "#Convertimos en dataframe y añadimos columna de año de nacimiento\n",
    "df = DataFrame(list(cursor))\n",
    "Año = []\n",
    "for i in df['Edad']:\n",
    "    Año.append(2023 - i)\n",
    "\n",
    "df['Año de nacimiento'] = Año\n",
    "\n",
    "df"
   ]
  },
  {
   "cell_type": "markdown",
   "metadata": {},
   "source": [
    "Hacer lo mismo que en el anterior punto pero como máximo muestre 10 documentos."
   ]
  },
  {
   "cell_type": "code",
   "execution_count": 222,
   "metadata": {},
   "outputs": [
    {
     "data": {
      "text/html": [
       "<div>\n",
       "<style scoped>\n",
       "    .dataframe tbody tr th:only-of-type {\n",
       "        vertical-align: middle;\n",
       "    }\n",
       "\n",
       "    .dataframe tbody tr th {\n",
       "        vertical-align: top;\n",
       "    }\n",
       "\n",
       "    .dataframe thead th {\n",
       "        text-align: right;\n",
       "    }\n",
       "</style>\n",
       "<table border=\"1\" class=\"dataframe\">\n",
       "  <thead>\n",
       "    <tr style=\"text-align: right;\">\n",
       "      <th></th>\n",
       "      <th>Nombre</th>\n",
       "      <th>Nacionalidad</th>\n",
       "      <th>Edad</th>\n",
       "      <th>Año de nacimiento</th>\n",
       "    </tr>\n",
       "  </thead>\n",
       "  <tbody>\n",
       "    <tr>\n",
       "      <th>0</th>\n",
       "      <td>Robby Vollbrecht</td>\n",
       "      <td>español</td>\n",
       "      <td>24</td>\n",
       "      <td>1999</td>\n",
       "    </tr>\n",
       "    <tr>\n",
       "      <th>1</th>\n",
       "      <td>Nicole Gray</td>\n",
       "      <td>estounidense</td>\n",
       "      <td>24</td>\n",
       "      <td>1999</td>\n",
       "    </tr>\n",
       "    <tr>\n",
       "      <th>2</th>\n",
       "      <td>Fernando Ferrero Roman</td>\n",
       "      <td>estounidense</td>\n",
       "      <td>25</td>\n",
       "      <td>1998</td>\n",
       "    </tr>\n",
       "    <tr>\n",
       "      <th>3</th>\n",
       "      <td>Prof. Arne Eimer</td>\n",
       "      <td>italiano</td>\n",
       "      <td>28</td>\n",
       "      <td>1995</td>\n",
       "    </tr>\n",
       "    <tr>\n",
       "      <th>4</th>\n",
       "      <td>Diane Brookes</td>\n",
       "      <td>estounidense</td>\n",
       "      <td>28</td>\n",
       "      <td>1995</td>\n",
       "    </tr>\n",
       "    <tr>\n",
       "      <th>5</th>\n",
       "      <td>Sr(a). Martina Leiva</td>\n",
       "      <td>finlandes</td>\n",
       "      <td>36</td>\n",
       "      <td>1987</td>\n",
       "    </tr>\n",
       "    <tr>\n",
       "      <th>6</th>\n",
       "      <td>Luchino Palazzo-Muti</td>\n",
       "      <td>italiano</td>\n",
       "      <td>46</td>\n",
       "      <td>1977</td>\n",
       "    </tr>\n",
       "    <tr>\n",
       "      <th>7</th>\n",
       "      <td>Victoria Caceres</td>\n",
       "      <td>suizo</td>\n",
       "      <td>48</td>\n",
       "      <td>1975</td>\n",
       "    </tr>\n",
       "    <tr>\n",
       "      <th>8</th>\n",
       "      <td>Griselda Cendron</td>\n",
       "      <td>colombiano</td>\n",
       "      <td>49</td>\n",
       "      <td>1974</td>\n",
       "    </tr>\n",
       "    <tr>\n",
       "      <th>9</th>\n",
       "      <td>Cirillo Trussardi</td>\n",
       "      <td>austriaco</td>\n",
       "      <td>56</td>\n",
       "      <td>1967</td>\n",
       "    </tr>\n",
       "  </tbody>\n",
       "</table>\n",
       "</div>"
      ],
      "text/plain": [
       "                   Nombre  Nacionalidad  Edad  Año de nacimiento\n",
       "0        Robby Vollbrecht       español    24               1999\n",
       "1             Nicole Gray  estounidense    24               1999\n",
       "2  Fernando Ferrero Roman  estounidense    25               1998\n",
       "3        Prof. Arne Eimer      italiano    28               1995\n",
       "4           Diane Brookes  estounidense    28               1995\n",
       "5    Sr(a). Martina Leiva     finlandes    36               1987\n",
       "6    Luchino Palazzo-Muti      italiano    46               1977\n",
       "7        Victoria Caceres         suizo    48               1975\n",
       "8        Griselda Cendron    colombiano    49               1974\n",
       "9       Cirillo Trussardi     austriaco    56               1967"
      ]
     },
     "execution_count": 222,
     "metadata": {},
     "output_type": "execute_result"
    }
   ],
   "source": [
    "cursor = collection.aggregate ([{\"$match\":\n",
    "                                 {\"age\" : {\"$gt\" : 20}}},\n",
    "                               {\"$project\": {\"_id\": 0,\n",
    "                                              \"Nombre\": \"$name\",\n",
    "                                              \"Nacionalidad\" : \"$nationality\",\n",
    "                                            \"Edad\": \"$age\"}},\n",
    "                                {\"$sort\": {\"Edad\": 1}},\n",
    "                                {\"$limit\": 10}])\n",
    "\n",
    "#Convertimos en dataframe y añadimos columna de año de nacimiento\n",
    "df = DataFrame(list(cursor))\n",
    "Año = []\n",
    "for i in df['Edad']:\n",
    "    Año.append(2023 - i)\n",
    "\n",
    "df['Año de nacimiento'] = Año\n",
    "\n",
    "df"
   ]
  },
  {
   "cell_type": "markdown",
   "metadata": {},
   "source": [
    "Mostrar el numero total de profesionales agrupados por profesión."
   ]
  },
  {
   "cell_type": "code",
   "execution_count": 260,
   "metadata": {},
   "outputs": [
    {
     "name": "stdout",
     "output_type": "stream",
     "text": [
      "{'_id': 'militar', 'total': 3}\n",
      "{'_id': 'cientifico', 'total': 2}\n",
      "{'_id': 'atleta', 'total': 1}\n",
      "{'_id': 'cartero', 'total': 3}\n",
      "{'_id': 'psicologo', 'total': 1}\n",
      "{'_id': 'tejedor', 'total': 1}\n",
      "{'_id': 'cajero', 'total': 7}\n",
      "{'_id': 'fontanero', 'total': 1}\n",
      "{'_id': 'profesor', 'total': 2}\n"
     ]
    }
   ],
   "source": [
    "pipeline = [{\"$group\": {\"_id\": \"$profession\", \"total\": {'$sum': 1}}}]\n",
    "\n",
    "cursor = collection.aggregate(pipeline)\n",
    "\n",
    "for data in cursor:\n",
    "    print(data)"
   ]
  },
  {
   "cell_type": "markdown",
   "metadata": {},
   "source": [
    "Filtrar el anterior resultado para que solo aparezcan los profesionales con más de un oscar."
   ]
  },
  {
   "cell_type": "code",
   "execution_count": 261,
   "metadata": {},
   "outputs": [
    {
     "name": "stdout",
     "output_type": "stream",
     "text": [
      "{'_id': 'fontanero', 'total': 1}\n",
      "{'_id': 'cajero', 'total': 3}\n",
      "{'_id': 'militar', 'total': 3}\n",
      "{'_id': 'cartero', 'total': 1}\n",
      "{'_id': 'cientifico', 'total': 1}\n",
      "{'_id': 'atleta', 'total': 1}\n"
     ]
    }
   ],
   "source": [
    "pipeline = [{\"$match\": {\"oscarsNumber\" : {\"$gt\" : 1}}},\n",
    "            {\"$group\": {\"_id\": \"$profession\", \"total\": {'$sum': 1}}}]\n",
    "\n",
    "cursor = collection.aggregate(pipeline)\n",
    "\n",
    "for data in cursor:\n",
    "    print(data)"
   ]
  },
  {
   "cell_type": "markdown",
   "metadata": {},
   "source": [
    "Filtrar lo anterior para que solo muestre profesionales que hayan nacido entre 1970 y 1990."
   ]
  },
  {
   "cell_type": "code",
   "execution_count": 286,
   "metadata": {},
   "outputs": [
    {
     "name": "stdout",
     "output_type": "stream",
     "text": [
      "{'_id': 'militar', 'total': 1}\n",
      "{'_id': 'cientifico', 'total': 1}\n",
      "{'_id': 'atleta', 'total': 1}\n"
     ]
    }
   ],
   "source": [
    "pipeline = [{\"$match\":\n",
    "             {\"$and\" : [ {\"oscarsNumber\" : {\"$gt\" : 1}},\n",
    "                       {\"age\": {\"$lt\": 53,\"$gt\":33}}]}},\n",
    "            {\"$group\": {\"_id\": \"$profession\", \"total\": {'$sum': 1}}}]\n",
    "\n",
    "cursor = db.professionals.aggregate(pipeline)\n",
    "\n",
    "for data in cursor:\n",
    "    print(data)"
   ]
  },
  {
   "cell_type": "markdown",
   "metadata": {},
   "source": [
    "Volcar toda información del anterior punto en un Dataframe."
   ]
  },
  {
   "cell_type": "code",
   "execution_count": 275,
   "metadata": {
    "scrolled": true
   },
   "outputs": [
    {
     "data": {
      "text/html": [
       "<div>\n",
       "<style scoped>\n",
       "    .dataframe tbody tr th:only-of-type {\n",
       "        vertical-align: middle;\n",
       "    }\n",
       "\n",
       "    .dataframe tbody tr th {\n",
       "        vertical-align: top;\n",
       "    }\n",
       "\n",
       "    .dataframe thead th {\n",
       "        text-align: right;\n",
       "    }\n",
       "</style>\n",
       "<table border=\"1\" class=\"dataframe\">\n",
       "  <thead>\n",
       "    <tr style=\"text-align: right;\">\n",
       "      <th></th>\n",
       "      <th>_id</th>\n",
       "      <th>total</th>\n",
       "    </tr>\n",
       "  </thead>\n",
       "  <tbody>\n",
       "    <tr>\n",
       "      <th>0</th>\n",
       "      <td>militar</td>\n",
       "      <td>1</td>\n",
       "    </tr>\n",
       "    <tr>\n",
       "      <th>1</th>\n",
       "      <td>cientifico</td>\n",
       "      <td>1</td>\n",
       "    </tr>\n",
       "    <tr>\n",
       "      <th>2</th>\n",
       "      <td>atleta</td>\n",
       "      <td>1</td>\n",
       "    </tr>\n",
       "  </tbody>\n",
       "</table>\n",
       "</div>"
      ],
      "text/plain": [
       "          _id  total\n",
       "0     militar      1\n",
       "1  cientifico      1\n",
       "2      atleta      1"
      ]
     },
     "execution_count": 275,
     "metadata": {},
     "output_type": "execute_result"
    }
   ],
   "source": [
    "pipeline = [{\"$match\":\n",
    "             {\"$and\" : [ {\"oscarsNumber\" : {\"$gt\" : 1}},\n",
    "                       {\"age\": {\"$lt\": 53,\"$gt\":33}}]}},\n",
    "            {\"$group\": {\"_id\": \"$profession\", \"total\": {'$sum': 1}}}]\n",
    "cursor = db.professionals.aggregate(pipeline)\n",
    "df = DataFrame(list(cursor))\n",
    "df"
   ]
  },
  {
   "cell_type": "markdown",
   "metadata": {},
   "source": [
    "# Paso 5: Alimentar la Colección movie con CSV\n",
    "* Crear un fichero en formato CSV con datos de pelicylas y añadir dichos datos a la base de datos. "
   ]
  },
  {
   "cell_type": "code",
   "execution_count": 297,
   "metadata": {},
   "outputs": [],
   "source": [
    "collection = db.movies\n",
    "\n",
    "movies_csv = pd.read_csv('movies.csv')"
   ]
  },
  {
   "cell_type": "code",
   "execution_count": 298,
   "metadata": {},
   "outputs": [],
   "source": [
    "#PREPARAMOS EL DATAFRAME PARA MONGO\n",
    "\n",
    "#renombrar columnas para futuras funciones\n",
    "\n",
    "movies_csv = movies_csv.rename(columns={'actors[0]':'actors0','actors[1]':'actors1',\n",
    "                                        'writers[0]':'writers0','writers[1]':'writers1',\n",
    "                                       'directors[0]':'directors0','directors[1]':'directors1'})\n",
    "\n",
    "#creamos columnas agrupadas\n",
    "\n",
    "movies_csv['actors2'] = movies_csv.actors1.str.cat(movies_csv.actors0,sep=',')\n",
    "movies_csv['directors2'] = movies_csv.directors1.str.cat(movies_csv.directors0,sep=',')\n",
    "movies_csv['writers2'] = movies_csv.writers1.str.cat(movies_csv.writers0,sep=',')\n",
    "\n",
    "#pasamos columnas agrupadas a array\n",
    "\n",
    "actors = []\n",
    "for i in movies_csv['actors2']:\n",
    "    actors.append(i.split(\",\"))\n",
    "\n",
    "movies_csv['actors'] = actors\n",
    "\n",
    "writers = []\n",
    "for i in movies_csv['writers2']:\n",
    "    writers.append(i.split(\",\"))\n",
    "\n",
    "movies_csv['writers'] = writers\n",
    "\n",
    "directors = []\n",
    "for i in movies_csv['directors2']:\n",
    "    directors.append(i.split(\",\"))\n",
    "\n",
    "movies_csv['directors'] = directors\n",
    "\n",
    "#ordenamos y eliminamos columnas innecesarias\n",
    "\n",
    "movies_csv.drop(['actors1','actors0','directors1','writers1','directors0','writers0','actors2','directors2','writers2'], axis=1, inplace=True)\n",
    "\n",
    "movies_csv = movies_csv[['title', 'releaseYear','actors', 'nationality','directors',\n",
    "       'writers', 'language', 'platform', 'isMCU',\n",
    "       'maincharac', 'producer', 'distributor', 'genre']]\n"
   ]
  },
  {
   "cell_type": "code",
   "execution_count": 153,
   "metadata": {},
   "outputs": [],
   "source": [
    "movies_dict = movies_csv.to_dict(\"records\")\n",
    "\n",
    "ids = collection.insert_many(movies_dict).inserted_ids"
   ]
  },
  {
   "cell_type": "code",
   "execution_count": 5,
   "metadata": {},
   "outputs": [],
   "source": [
    "collection = db.movies"
   ]
  },
  {
   "cell_type": "markdown",
   "metadata": {},
   "source": [
    "# Paso 6: Realizar las siguientes consultas en python\n",
    "* Mostrar todas las películas que sean del MCU.\n"
   ]
  },
  {
   "cell_type": "code",
   "execution_count": 321,
   "metadata": {},
   "outputs": [
    {
     "name": "stdout",
     "output_type": "stream",
     "text": [
      "{'title': 'Oppenheimer', 'releaseYear': 1991}\n",
      "{'title': 'La sirenita', 'releaseYear': 2005}\n",
      "{'title': 'Interstellar', 'releaseYear': 1912}\n",
      "{'title': 'HP 8', 'releaseYear': 2015}\n",
      "{'title': 'El divorcio', 'releaseYear': 2020}\n"
     ]
    }
   ],
   "source": [
    "cursor = collection.find({\"isMCU\": True}, {\"_id\":0, \"title\": 1, \"releaseYear\": 1}).sort(\"title\",-1)\n",
    "\n",
    "for data in cursor:\n",
    "    print(data)"
   ]
  },
  {
   "cell_type": "markdown",
   "metadata": {},
   "source": [
    "* Mostrar solo los títulos de películas que tengas al menos 3 actores o 2 directores o 1 guionista."
   ]
  },
  {
   "cell_type": "code",
   "execution_count": 334,
   "metadata": {},
   "outputs": [
    {
     "name": "stdout",
     "output_type": "stream",
     "text": [
      "{'Titulo': 'El divorcio'}\n",
      "{'Titulo': 'Monstruos SA'}\n",
      "{'Titulo': 'Shrek 2'}\n",
      "{'Titulo': 'La sirenita'}\n",
      "{'Titulo': 'Shrek Ultimatum'}\n",
      "{'Titulo': 'Barbie'}\n",
      "{'Titulo': 'Oppenheimer'}\n",
      "{'Titulo': 'La sirenita'}\n",
      "{'Titulo': 'El internado'}\n",
      "{'Titulo': 'Interstellar'}\n",
      "{'Titulo': 'Titanic'}\n",
      "{'Titulo': 'Matrix'}\n",
      "{'Titulo': 'Maquinistas'}\n",
      "{'Titulo': 'El divorcio'}\n",
      "{'Titulo': 'Barbie'}\n",
      "{'Titulo': 'HP 8'}\n",
      "{'Titulo': 'Star wars: contraataca'}\n",
      "{'Titulo': 'Barbie'}\n"
     ]
    }
   ],
   "source": [
    "pipeline = [{\"$match\" :\n",
    "               {\"$or\" : [ {\"actors.3\" : {\"$exists\" : True}},\n",
    "                         {\"directors.2\": {\"$exists\": True}},\n",
    "                         {\"writers.1\": {\"$exists\": True}}]}},\n",
    "           {\"$project\": {\"_id\": 0,\n",
    "                         \"Titulo\": \"$title\"}}]\n",
    "\n",
    "cursor = collection.aggregate (pipeline)\n",
    "\n",
    "for data in cursor:\n",
    "    print(data)"
   ]
  },
  {
   "cell_type": "markdown",
   "metadata": {},
   "source": [
    "* Mostrar el titulo de la película y el año de estreno ordenado por plataforma. "
   ]
  },
  {
   "cell_type": "code",
   "execution_count": 347,
   "metadata": {},
   "outputs": [
    {
     "name": "stdout",
     "output_type": "stream",
     "text": [
      "{'Nombre': 'Barbie', 'Año': 2023, 'Plataforma': 'A3Player'}\n",
      "{'Nombre': 'El internado', 'Año': 1919, 'Plataforma': 'Amazon'}\n",
      "{'Nombre': 'Star wars: contraataca', 'Año': 2007, 'Plataforma': 'Amazon'}\n",
      "{'Nombre': 'El divorcio', 'Año': 2020, 'Plataforma': 'DAZN'}\n",
      "{'Nombre': 'La sirenita', 'Año': 1998, 'Plataforma': 'DAZN'}\n",
      "{'Nombre': 'Monstruos SA', 'Año': 2003, 'Plataforma': 'HBO'}\n",
      "{'Nombre': 'Interstellar', 'Año': 1912, 'Plataforma': 'HBO'}\n",
      "{'Nombre': 'Barbie', 'Año': 1995, 'Plataforma': 'HBO'}\n",
      "{'Nombre': 'Oppenheimer', 'Año': 1991, 'Plataforma': 'MiTele'}\n",
      "{'Nombre': 'Titanic', 'Año': 1939, 'Plataforma': 'MiTele'}\n",
      "{'Nombre': 'Matrix', 'Año': 1998, 'Plataforma': 'MiTele'}\n",
      "{'Nombre': 'Maquinistas', 'Año': 2021, 'Plataforma': 'MiTele'}\n",
      "{'Nombre': 'Shrek 2', 'Año': 2014, 'Plataforma': 'Netflix'}\n",
      "{'Nombre': 'Shrek Ultimatum', 'Año': 2020, 'Plataforma': 'Youtube'}\n",
      "{'Nombre': 'Barbie', 'Año': 1911, 'Plataforma': 'Youtube'}\n",
      "{'Nombre': 'HP 8', 'Año': 2015, 'Plataforma': 'Youtube'}\n",
      "{'Nombre': 'La sirenita', 'Año': 2005, 'Plataforma': 'hulu'}\n",
      "{'Nombre': 'El divorcio', 'Año': 2006, 'Plataforma': 'hulu'}\n"
     ]
    }
   ],
   "source": [
    "pipeline = [{\"$project\": {\"_id\": 0,\n",
    "                          \"Nombre\": \"$title\",\n",
    "                          \"Año\": \"$releaseYear\",\n",
    "                          \"Plataforma\" : \"$platform\"}},\n",
    "            {\"$sort\": {\"Plataforma\": 1}}]\n",
    "\n",
    "cursor = collection.aggregate (pipeline)\n",
    "\n",
    "for data in cursor:\n",
    "    print(data)"
   ]
  },
  {
   "cell_type": "markdown",
   "metadata": {},
   "source": [
    "* Mostrar los datos de todas las 10 ultima películas de un director concreto que en los últimos 10 años ordenadas por de la más antigua a la más nueva."
   ]
  },
  {
   "cell_type": "code",
   "execution_count": 408,
   "metadata": {},
   "outputs": [
    {
     "name": "stdout",
     "output_type": "stream",
     "text": [
      "{'Titulo': 'Shrek Ultimatum', 'Año': 2020, 'Director': ['Heidi Rantala-Anttila', 'Sybilla Lübs']}\n"
     ]
    }
   ],
   "source": [
    "pipeline = [{\"$match\" :\n",
    "             {\"directors\":{\"$eq\": \"Heidi Rantala-Anttila\"}}},\n",
    "           {\"$project\": {\"_id\": 0,\n",
    "                         \"Titulo\": \"$title\",\n",
    "                        \"Año\": \"$releaseYear\",\n",
    "                        \"Director\": \"$directors\"}},\n",
    "           {\"$sort\": {\"Año\": 1}},\n",
    "           {\"$limit\": 10}]\n",
    "\n",
    "cursor = collection.aggregate (pipeline)\n",
    "for data in cursor:\n",
    "    print(data)"
   ]
  },
  {
   "cell_type": "markdown",
   "metadata": {},
   "source": [
    "* Mostrar el titulo de cada película, el numero de actores, directores y guionistas por película de los 5 últimos años ordenados por titulo de película.\n"
   ]
  },
  {
   "cell_type": "code",
   "execution_count": 422,
   "metadata": {},
   "outputs": [
    {
     "name": "stdout",
     "output_type": "stream",
     "text": [
      "{'Titulo': 'Barbie', 'Nº Actores': 2, 'Nº Directores': 2, 'Nº Escritores': 2}\n",
      "{'Titulo': 'El divorcio', 'Nº Actores': 2, 'Nº Directores': 2, 'Nº Escritores': 2}\n",
      "{'Titulo': 'Maquinistas', 'Nº Actores': 2, 'Nº Directores': 2, 'Nº Escritores': 2}\n",
      "{'Titulo': 'Shrek Ultimatum', 'Nº Actores': 2, 'Nº Directores': 2, 'Nº Escritores': 2}\n"
     ]
    }
   ],
   "source": [
    "pipeline = [{\"$match\" : {\"releaseYear\" : {\"$gt\" : 2018}}},\n",
    "           {\"$project\": {\"_id\": 0,\n",
    "                         \"Titulo\": \"$title\",\n",
    "                        \"Nº Actores\": {\"$size\" : \"$actors\"},\n",
    "                         \"Nº Directores\": {\"$size\" : \"$directors\"},\n",
    "                         \"Nº Escritores\": {\"$size\" : \"$writers\"}}},\n",
    "           {\"$sort\": {\"Titulo\": 1}}]\n",
    "\n",
    "cursor = collection.aggregate (pipeline)\n",
    "for data in cursor:\n",
    "    print(data)"
   ]
  },
  {
   "cell_type": "markdown",
   "metadata": {},
   "source": [
    "* Mostrar cuantos directores hacen películas en cada idioma que tengas almacenado en la colección."
   ]
  },
  {
   "cell_type": "code",
   "execution_count": 439,
   "metadata": {},
   "outputs": [
    {
     "name": "stdout",
     "output_type": "stream",
     "text": [
      "{'_id': 'italiano', 'Total Directores': 6}\n",
      "{'_id': 'español', 'Total Directores': 10}\n",
      "{'_id': 'aleman', 'Total Directores': 4}\n",
      "{'_id': 'ingles', 'Total Directores': 6}\n",
      "{'_id': 'finlandes', 'Total Directores': 6}\n",
      "{'_id': 'frances', 'Total Directores': 4}\n"
     ]
    }
   ],
   "source": [
    "pipeline = [{\"$project\": {\"language\": 1, \"Nº Directores\": {\"$size\": \"$directors\"}}},\n",
    "            {\"$group\": {\"_id\": \"$language\", \"Total Directores\": {\"$sum\": \"$Nº Directores\"}}}]\n",
    "\n",
    "cursor = collection.aggregate(pipeline)\n",
    "for data in cursor:\n",
    "    print(data)"
   ]
  },
  {
   "cell_type": "markdown",
   "metadata": {},
   "source": [
    "* Mostrar cuantos actores hacen películas en cada nacionalidad que tengas almacenada en la colección."
   ]
  },
  {
   "cell_type": "code",
   "execution_count": 440,
   "metadata": {},
   "outputs": [
    {
     "name": "stdout",
     "output_type": "stream",
     "text": [
      "{'_id': 'colombiano', 'Total Actores': 4}\n",
      "{'_id': 'suizo', 'Total Actores': 2}\n",
      "{'_id': 'belga', 'Total Actores': 2}\n",
      "{'_id': 'estounidense', 'Total Actores': 2}\n",
      "{'_id': 'uruguayo', 'Total Actores': 2}\n",
      "{'_id': 'italiano', 'Total Actores': 4}\n",
      "{'_id': 'español', 'Total Actores': 2}\n",
      "{'_id': 'mexicano', 'Total Actores': 4}\n",
      "{'_id': 'finlandes', 'Total Actores': 8}\n",
      "{'_id': 'austriaco', 'Total Actores': 6}\n"
     ]
    }
   ],
   "source": [
    "pipeline = [{\"$project\": {\"nationality\": 1, \"Nº Actores\": {\"$size\": \"$actors\"}}},\n",
    "            {\"$group\": {\"_id\": \"$nationality\", \"Total Actores\": {\"$sum\": \"$Nº Actores\"}}}]\n",
    "\n",
    "cursor = collection.aggregate(pipeline)\n",
    "for data in cursor:\n",
    "    print(data)"
   ]
  },
  {
   "cell_type": "markdown",
   "metadata": {},
   "source": [
    "* Mostrar el nombre y apellidos de todos los actores guardados en la colección películas sin repetición."
   ]
  },
  {
   "cell_type": "code",
   "execution_count": 16,
   "metadata": {},
   "outputs": [
    {
     "data": {
      "text/plain": [
       "['Katrina Gonzalez',\n",
       " 'Sylvie De Oliveira',\n",
       " 'Ramona Contrafatto',\n",
       " 'Belinda Brown',\n",
       " 'Anaïs Marie du Mathieu',\n",
       " 'Alwina Mitschke',\n",
       " 'Allan Virtanen',\n",
       " 'Hannu Uotila',\n",
       " 'Prof. Alexandra Meyer MBA.',\n",
       " 'Hannes Kostolzin MBA.',\n",
       " 'Lucila Donoso',\n",
       " 'Bernadette Cordier de la Durand',\n",
       " 'Stéphane Wagner',\n",
       " 'Noémi Neveu-Martinez',\n",
       " 'Dott. Francesca Lippomano',\n",
       " 'Bernardo Lamas Saura',\n",
       " 'Mia Ortiz',\n",
       " 'Fanny Pedraza España',\n",
       " 'Manon Barthelemy',\n",
       " 'Abril Agustin Martinez',\n",
       " 'Segismundo del Carrasco',\n",
       " 'Lola Dylan Luna',\n",
       " 'Aurélie Coste',\n",
       " 'Ubaldo Morricone',\n",
       " 'Giacinto Liguori',\n",
       " 'Bienvenida Nélida Bejarano Cárdenas',\n",
       " 'Kelly Wood-Cook',\n",
       " 'Carolyn Savage-Stokes',\n",
       " 'Derek Brown',\n",
       " 'Valeri Lorch-Täsche',\n",
       " 'Rodney Bullock',\n",
       " 'Sr(a). Santino Benitez',\n",
       " 'Jordana Vilanova',\n",
       " 'Sr(a). Pilar Maldonado',\n",
       " 'Noémi Gérard de la Marchand',\n",
       " 'Robert Laine']"
      ]
     },
     "execution_count": 16,
     "metadata": {},
     "output_type": "execute_result"
    }
   ],
   "source": [
    "def personas_unicas(x):\n",
    "    pipeline = [{\"$project\": {\"_id\": 0,\"actores\": x}}]\n",
    "\n",
    "    cursor = collection.aggregate(pipeline)    \n",
    "\n",
    "    lista_actores = []\n",
    "    for i in cursor:\n",
    "        for actores in i.values():\n",
    "            for actor in actores:\n",
    "                if actor not in lista_actores:\n",
    "                    lista_actores.append(actor)\n",
    "    return(lista_actores)\n",
    "    \n",
    "\n",
    "personas_unicas(\"$actors\")"
   ]
  },
  {
   "cell_type": "code",
   "execution_count": null,
   "metadata": {},
   "outputs": [],
   "source": [
    "#manera felix\n",
    "\n",
    "distinct_actors = movie_collection.distinct(\"actors\")\n",
    "for actor in distinct_actors:\n",
    "    print(actor)"
   ]
  },
  {
   "cell_type": "markdown",
   "metadata": {},
   "source": [
    "* Mostrar el número de actores, directores y guionistas distintos almacenados en vuestra colección películas."
   ]
  },
  {
   "cell_type": "code",
   "execution_count": 22,
   "metadata": {},
   "outputs": [
    {
     "name": "stdout",
     "output_type": "stream",
     "text": [
      "El numero de actores unicos es: 36\n",
      "El numero de directores unicos es: 36\n",
      "El numero de guionistas unicos es: 36\n"
     ]
    }
   ],
   "source": [
    "print(f'El numero de actores unicos es: {len(personas_unicas(\"$actors\"))}')\n",
    "print(f'El numero de directores unicos es: {len(personas_unicas(\"$directors\"))}')\n",
    "print(f'El numero de guionistas unicos es: {len(personas_unicas(\"$writers\"))}')"
   ]
  },
  {
   "cell_type": "markdown",
   "metadata": {},
   "source": [
    "* Mostrar el titulo de película, año de estreno y director de las 5 películas ordenadas de mas antigua a mas nuevas entre los años 1975 y 2000."
   ]
  },
  {
   "cell_type": "code",
   "execution_count": 30,
   "metadata": {},
   "outputs": [
    {
     "name": "stdout",
     "output_type": "stream",
     "text": [
      "{'Titulo': 'Oppenheimer', 'Año': 1991, 'Director': ['Lasse Hartikainen', 'Kevin Walker-Spencer']}\n",
      "{'Titulo': 'Barbie', 'Año': 1995, 'Director': ['Kim Kerr-Akhtar', 'Amy Stone']}\n",
      "{'Titulo': 'La sirenita', 'Año': 1998, 'Director': ['Mr Matthew Brooks', 'Corinne Mallet']}\n",
      "{'Titulo': 'Matrix', 'Año': 1998, 'Director': ['Johannes Hänninen-Saarinen', 'Valentina Lara Acuña']}\n"
     ]
    }
   ],
   "source": [
    "pipeline = [{\"$match\" :\n",
    "             {\"releaseYear\":{\"$lt\": 2000,\"$gt\": 1975}}},\n",
    "           {\"$project\": {\"_id\": 0,\n",
    "                         \"Titulo\": \"$title\",\n",
    "                        \"Año\": \"$releaseYear\",\n",
    "                        \"Director\": \"$directors\"}},\n",
    "           {\"$sort\": {\"Año\": 1}},\n",
    "           {\"$limit\": 5}]\n",
    "\n",
    "cursor = collection.aggregate(pipeline)\n",
    "for data in cursor:\n",
    "    print(data)"
   ]
  },
  {
   "cell_type": "markdown",
   "metadata": {},
   "source": [
    "* Volcar toda la información del punto anterior en un Dataframe "
   ]
  },
  {
   "cell_type": "code",
   "execution_count": 29,
   "metadata": {},
   "outputs": [
    {
     "data": {
      "text/html": [
       "<div>\n",
       "<style scoped>\n",
       "    .dataframe tbody tr th:only-of-type {\n",
       "        vertical-align: middle;\n",
       "    }\n",
       "\n",
       "    .dataframe tbody tr th {\n",
       "        vertical-align: top;\n",
       "    }\n",
       "\n",
       "    .dataframe thead th {\n",
       "        text-align: right;\n",
       "    }\n",
       "</style>\n",
       "<table border=\"1\" class=\"dataframe\">\n",
       "  <thead>\n",
       "    <tr style=\"text-align: right;\">\n",
       "      <th></th>\n",
       "      <th>Titulo</th>\n",
       "      <th>Año</th>\n",
       "      <th>Director</th>\n",
       "    </tr>\n",
       "  </thead>\n",
       "  <tbody>\n",
       "    <tr>\n",
       "      <th>0</th>\n",
       "      <td>Oppenheimer</td>\n",
       "      <td>1991</td>\n",
       "      <td>[Lasse Hartikainen, Kevin Walker-Spencer]</td>\n",
       "    </tr>\n",
       "    <tr>\n",
       "      <th>1</th>\n",
       "      <td>Barbie</td>\n",
       "      <td>1995</td>\n",
       "      <td>[Kim Kerr-Akhtar, Amy Stone]</td>\n",
       "    </tr>\n",
       "    <tr>\n",
       "      <th>2</th>\n",
       "      <td>La sirenita</td>\n",
       "      <td>1998</td>\n",
       "      <td>[Mr Matthew Brooks, Corinne Mallet]</td>\n",
       "    </tr>\n",
       "    <tr>\n",
       "      <th>3</th>\n",
       "      <td>Matrix</td>\n",
       "      <td>1998</td>\n",
       "      <td>[Johannes Hänninen-Saarinen, Valentina Lara Ac...</td>\n",
       "    </tr>\n",
       "  </tbody>\n",
       "</table>\n",
       "</div>"
      ],
      "text/plain": [
       "        Titulo   Año                                           Director\n",
       "0  Oppenheimer  1991          [Lasse Hartikainen, Kevin Walker-Spencer]\n",
       "1       Barbie  1995                       [Kim Kerr-Akhtar, Amy Stone]\n",
       "2  La sirenita  1998                [Mr Matthew Brooks, Corinne Mallet]\n",
       "3       Matrix  1998  [Johannes Hänninen-Saarinen, Valentina Lara Ac..."
      ]
     },
     "execution_count": 29,
     "metadata": {},
     "output_type": "execute_result"
    }
   ],
   "source": [
    "pipeline = [{\"$match\" :\n",
    "             {\"releaseYear\":{\"$lt\": 2000,\"$gt\": 1975}}},\n",
    "           {\"$project\": {\"_id\": 0,\n",
    "                         \"Titulo\": \"$title\",\n",
    "                        \"Año\": \"$releaseYear\",\n",
    "                        \"Director\": \"$directors\"}},\n",
    "           {\"$sort\": {\"Año\": 1}},\n",
    "           {\"$limit\": 5}]\n",
    "\n",
    "cursor = collection.aggregate (pipeline)\n",
    "\n",
    "df = DataFrame(list(cursor))\n",
    "\n",
    "df"
   ]
  },
  {
   "cell_type": "code",
   "execution_count": 35,
   "metadata": {},
   "outputs": [],
   "source": [
    "#  rewind - solo con find, no con aggregate\n",
    "#       movies_df = pd.DataFrame.from_records(cursor.rewind())"
   ]
  }
 ],
 "metadata": {
  "kernelspec": {
   "display_name": "Python 3 (ipykernel)",
   "language": "python",
   "name": "python3"
  },
  "language_info": {
   "codemirror_mode": {
    "name": "ipython",
    "version": 3
   },
   "file_extension": ".py",
   "mimetype": "text/x-python",
   "name": "python",
   "nbconvert_exporter": "python",
   "pygments_lexer": "ipython3",
   "version": "3.10.9"
  }
 },
 "nbformat": 4,
 "nbformat_minor": 2
}
