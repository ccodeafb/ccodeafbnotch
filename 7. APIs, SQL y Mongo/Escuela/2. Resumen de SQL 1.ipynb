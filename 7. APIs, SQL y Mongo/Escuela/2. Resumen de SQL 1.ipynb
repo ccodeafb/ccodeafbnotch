{
 "cells": [
  {
   "cell_type": "markdown",
   "metadata": {},
   "source": [
    "# Resumen SQL 1"
   ]
  },
  {
   "cell_type": "markdown",
   "metadata": {},
   "source": [
    " "
   ]
  },
  {
   "cell_type": "markdown",
   "metadata": {},
   "source": [
    "## Conexión con la Base de Datos"
   ]
  },
  {
   "cell_type": "markdown",
   "metadata": {},
   "source": [
    "Esto varía dependiendo de la BD a la que te vayas a conectar:\n",
    "\n",
    "* sqlite: es neceario el módulo `sqlite3`\n",
    "* PostgreSQL: necesitas el módulo `psycopg2`\n",
    "* MySQL: hay varias alternativas, como `mysqlclient` o `pymysql`que es el que vamos a utilizar."
   ]
  },
  {
   "cell_type": "code",
   "execution_count": null,
   "metadata": {},
   "outputs": [],
   "source": [
    "import pymysql # Si no lo tienes instalado se instala con: pip install pymysql\n",
    "print (\"Conexion con la BBDD\")\n",
    "miConexion = pymysql.connect( host='localhost', user= 'root', password='codenotch', db='data_analytics' )\n",
    "print (\"Conexión Correcta\")\n"
   ]
  },
  {
   "cell_type": "markdown",
   "metadata": {},
   "source": [
    "## Desconexión con la Base de Datos"
   ]
  },
  {
   "cell_type": "code",
   "execution_count": null,
   "metadata": {},
   "outputs": [],
   "source": [
    "miConexion.close()\n",
    "print(\"Desconexión correcta\")"
   ]
  },
  {
   "cell_type": "markdown",
   "metadata": {},
   "source": [
    "## Crear una tabla"
   ]
  },
  {
   "cell_type": "code",
   "execution_count": null,
   "metadata": {},
   "outputs": [],
   "source": [
    "print (\"Crear una tabla de PyMySQL:\")\n",
    "\n",
    "import pymysql\n",
    "miConexion = pymysql.connect( host='localhost', user= 'root', \n",
    "                              password='codenotch', db='data_analytics' )\n",
    "cur = miConexion.cursor()\n",
    "sql = \"CREATE TABLE direccion (id INT AUTO_INCREMENT PRIMARY KEY, calle VARCHAR(200), numero INT, ciudad VARCHAR(60))\"\n",
    "print(sql)\n",
    "cur.execute(sql)\n",
    "rows = cur.fetchall()\n",
    "print (\"Tabla Creada\")\n",
    "print(rows)\n",
    "\n",
    "miConexion.close()"
   ]
  },
  {
   "cell_type": "markdown",
   "metadata": {},
   "source": [
    "## Borrar una tabla"
   ]
  },
  {
   "cell_type": "code",
   "execution_count": null,
   "metadata": {},
   "outputs": [],
   "source": [
    "print (\"Borrar una tabla de PyMySQL:\")\n",
    "\n",
    "import pymysql\n",
    "miConexion = pymysql.connect( host='localhost', user= 'root', \n",
    "                              password='codenotch', db='data_analytics' )\n",
    "cur = miConexion.cursor()\n",
    "cur.execute( \"DROP TABLE IF EXISTS direccion\" )\n",
    "rows = cur.fetchall()\n",
    "print (\"Tabla Borrada\")\n",
    "print(rows)\n",
    "\n",
    "miConexion.close()"
   ]
  },
  {
   "cell_type": "code",
   "execution_count": null,
   "metadata": {},
   "outputs": [],
   "source": []
  }
 ],
 "metadata": {
  "kernelspec": {
   "display_name": "Python 3 (ipykernel)",
   "language": "python",
   "name": "python3"
  },
  "language_info": {
   "codemirror_mode": {
    "name": "ipython",
    "version": 3
   },
   "file_extension": ".py",
   "mimetype": "text/x-python",
   "name": "python",
   "nbconvert_exporter": "python",
   "pygments_lexer": "ipython3",
   "version": "3.10.9"
  }
 },
 "nbformat": 4,
 "nbformat_minor": 4
}
