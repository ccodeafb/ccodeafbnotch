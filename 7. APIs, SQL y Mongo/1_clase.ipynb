{
 "cells": [
  {
   "cell_type": "code",
   "execution_count": 13,
   "id": "3e97b418",
   "metadata": {},
   "outputs": [],
   "source": [
    "empleados = {\n",
    "    \"empleado1\": {\n",
    "        \"nombre\": \"Juan\",\n",
    "        \"edad\": 35,\n",
    "        \"puestos\": [\"Gerente\", \"Analista\"],\n",
    "        \"proyectos\": {\n",
    "            \"proyecto1\": {\"nombre\": \"Proyecto A\", \"horas\": 40},\n",
    "            \"proyecto2\": {\"nombre\": \"Proyecto B\", \"horas\": 20},\n",
    "        }\n",
    "    },\n",
    "    \"empleado2\": {\n",
    "        \"nombre\": \"María\",\n",
    "        \"edad\": 28,\n",
    "        \"puestos\": [\"Analista\", \"Desarrollador\"],\n",
    "        \"proyectos\": {\n",
    "            \"proyecto1\": {\"nombre\": \"Proyecto C\", \"horas\": 30},\n",
    "            \"proyecto3\": {\"nombre\": \"Proyecto D\", \"horas\": 15},\n",
    "        }\n",
    "    },\n",
    "}\n",
    "\n"
   ]
  },
  {
   "cell_type": "markdown",
   "id": "8d773b04",
   "metadata": {},
   "source": [
    "imprimir el nombre, edad y lista de puestos de cada empleado"
   ]
  },
  {
   "cell_type": "code",
   "execution_count": 16,
   "id": "b4f0a415",
   "metadata": {},
   "outputs": [
    {
     "name": "stdout",
     "output_type": "stream",
     "text": [
      "empleado1\n",
      "empleado2\n"
     ]
    }
   ],
   "source": [
    "for empleado in empleados:\n",
    "    #print(empleado['nombre']+' '+empleado['edad']+' '+empleado['puestos'])\n",
    "    print(empleado)"
   ]
  },
  {
   "cell_type": "markdown",
   "id": "3a6cb30a",
   "metadata": {},
   "source": [
    "nombre y las horas de los proyectos en los que está trabajando cada empleado."
   ]
  },
  {
   "cell_type": "code",
   "execution_count": 25,
   "id": "9409b795",
   "metadata": {},
   "outputs": [
    {
     "ename": "TypeError",
     "evalue": "'int' object is not subscriptable",
     "output_type": "error",
     "traceback": [
      "\u001b[1;31m---------------------------------------------------------------------------\u001b[0m",
      "\u001b[1;31mTypeError\u001b[0m                                 Traceback (most recent call last)",
      "Cell \u001b[1;32mIn[25], line 3\u001b[0m\n\u001b[0;32m      1\u001b[0m \u001b[38;5;28;01mfor\u001b[39;00m i, empleado \u001b[38;5;129;01min\u001b[39;00m empleados\u001b[38;5;241m.\u001b[39mitems():\n\u001b[0;32m      2\u001b[0m     \u001b[38;5;28;01mfor\u001b[39;00m i, dato \u001b[38;5;129;01min\u001b[39;00m \u001b[38;5;28menumerate\u001b[39m(empleado):\n\u001b[1;32m----> 3\u001b[0m         \u001b[38;5;28mprint\u001b[39m(\u001b[43mi\u001b[49m\u001b[43m[\u001b[49m\u001b[38;5;124;43m'\u001b[39;49m\u001b[38;5;124;43mnombre\u001b[39;49m\u001b[38;5;124;43m'\u001b[39;49m\u001b[43m]\u001b[49m)\n",
      "\u001b[1;31mTypeError\u001b[0m: 'int' object is not subscriptable"
     ]
    }
   ],
   "source": [
    "for i, empleado in empleados.items():\n",
    "    for i, dato in enumerate(empleado):\n",
    "        print(i['nombre'])\n"
   ]
  },
  {
   "cell_type": "code",
   "execution_count": null,
   "id": "c1fb57fa",
   "metadata": {},
   "outputs": [],
   "source": []
  },
  {
   "cell_type": "code",
   "execution_count": null,
   "id": "6a1abe57",
   "metadata": {},
   "outputs": [],
   "source": []
  }
 ],
 "metadata": {
  "kernelspec": {
   "display_name": "Python 3 (ipykernel)",
   "language": "python",
   "name": "python3"
  },
  "language_info": {
   "codemirror_mode": {
    "name": "ipython",
    "version": 3
   },
   "file_extension": ".py",
   "mimetype": "text/x-python",
   "name": "python",
   "nbconvert_exporter": "python",
   "pygments_lexer": "ipython3",
   "version": "3.10.9"
  }
 },
 "nbformat": 4,
 "nbformat_minor": 5
}
