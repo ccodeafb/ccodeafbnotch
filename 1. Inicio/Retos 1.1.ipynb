{
 "cells": [
  {
   "cell_type": "markdown",
   "id": "28723a31",
   "metadata": {},
   "source": [
    "# Reto 1"
   ]
  },
  {
   "cell_type": "code",
   "execution_count": 5,
   "id": "e7cc0978",
   "metadata": {},
   "outputs": [],
   "source": [
    "#Construye una función “calculadora()” que reciba como parámetros de entrada:\n",
    "\n",
    "#Tipo de operación y Operadores (siempre 2 operadores para hacerlo más sencillo).\n",
    "\n",
    "#Las operaciones permitidas son: suma (“sum”), resta (“subs”), multiplicación (“mult”) y división (“div”).\n",
    "\n",
    "#Dependiendo del identificador de la operación, y los parámetros de entrada, la función debe decidir qué operación \n",
    "#  realizar y devolvernos un resultado válido.\n",
    "\n",
    "def calculadora(operacion,a,b):\n",
    "    \n",
    "    if operacion == \"suma\": \n",
    "        return sum(a,b)\n",
    "    elif operacion == \"resta\":\n",
    "        return a-b\n",
    "    elif operacion == \"multiplicacion\":\n",
    "        return a * b\n",
    "    elif operacion == \"division\":\n",
    "        return a / b\n",
    "    else: print(\"Operadores incorrectos\")\n",
    "\n"
   ]
  },
  {
   "cell_type": "markdown",
   "id": "efa6bf99",
   "metadata": {},
   "source": [
    "# Reto 2"
   ]
  },
  {
   "cell_type": "code",
   "execution_count": 9,
   "id": "b0efefff",
   "metadata": {},
   "outputs": [
    {
     "name": "stdout",
     "output_type": "stream",
     "text": [
      "[245, 123, 357]\n",
      "[33, 62, 72, 15]\n",
      "[25, 24, 20, 26]\n",
      "La longitud no es la misma, no se pueden multiplicar\n"
     ]
    },
    {
     "data": {
      "text/plain": [
       "[8, 38, 52, -11]"
      ]
     },
     "execution_count": 9,
     "metadata": {},
     "output_type": "execute_result"
    }
   ],
   "source": [
    "#Luego coloca el fichero en esta misma carpeta e importa y utiliza esas funciones\n",
    "import random\n",
    "import vectores\n",
    "\n",
    "ejemplo_vector1 = vectores.crear_vector(3,385)\n",
    "print(ejemplo_vector1)\n",
    "ejemplo_vector2 = vectores.crear_vector(4,94)\n",
    "print(ejemplo_vector2)\n",
    "ejemplo_vector3 = vectores.crear_vector(4,40)\n",
    "print(ejemplo_vector3)\n",
    "\n",
    "\n",
    "vectores.mult_vector(ejemplo_vector1,ejemplo_vector2)\n",
    "vectores.resta_vector(ejemplo_vector2,ejemplo_vector3)\n",
    "\n"
   ]
  },
  {
   "cell_type": "markdown",
   "id": "6ae59be4",
   "metadata": {},
   "source": [
    "# Reto 3"
   ]
  },
  {
   "cell_type": "code",
   "execution_count": null,
   "id": "3fa4a3c3",
   "metadata": {},
   "outputs": [],
   "source": [
    "#Use la función incorporada len() para encontrar la longitud de la siguiente cadena de texto: \"¡Hola, mundo!\".\n",
    "\n",
    "cadena = \"¡Hola, mundo!\"\n",
    "len(cadena)\n",
    "\n",
    "#Cree una función llamada doblar() que toma un número y devuelve el doble de ese número. Luego use la función map() \n",
    "#para doblar todos los números en la siguiente lista: [1, 2, 3, 4, 5].\n",
    "\n",
    "def doblar(n):\n",
    "    return n*2\n",
    "lista_numeros = [1, 2, 3, 4, 5]\n",
    "resultado = list(map(doblar, lista_numeros))\n",
    "\n",
    "\n",
    "#Cree una función llamada multiplicar() que toma dos números y devuelve su producto. Luego use la función reduce() \n",
    "#para multiplicar todos los números en la siguiente lista: [1, 2, 3, 4, 5].\n",
    "\n",
    "from functools import reduce\n",
    "\n",
    "def multiplicar(n,p):\n",
    "    return n*p\n",
    "lista_numeros2 = [1, 2, 3, 4, 5]\n",
    "resultado = reduce(multiplicar, lista_numeros2)"
   ]
  },
  {
   "cell_type": "code",
   "execution_count": null,
   "id": "136d9cb7",
   "metadata": {},
   "outputs": [],
   "source": []
  }
 ],
 "metadata": {
  "kernelspec": {
   "display_name": "Python 3 (ipykernel)",
   "language": "python",
   "name": "python3"
  },
  "language_info": {
   "codemirror_mode": {
    "name": "ipython",
    "version": 3
   },
   "file_extension": ".py",
   "mimetype": "text/x-python",
   "name": "python",
   "nbconvert_exporter": "python",
   "pygments_lexer": "ipython3",
   "version": "3.10.9"
  }
 },
 "nbformat": 4,
 "nbformat_minor": 5
}
