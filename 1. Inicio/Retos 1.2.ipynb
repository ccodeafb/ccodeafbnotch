{
 "cells": [
  {
   "cell_type": "markdown",
   "id": "a6a6c237",
   "metadata": {},
   "source": [
    "# Retos 1.2"
   ]
  },
  {
   "cell_type": "code",
   "execution_count": 161,
   "id": "a6db9c3c",
   "metadata": {},
   "outputs": [],
   "source": [
    "#De la misma manera que en el ejemplo de esta unidad, crea la clase\n",
    "#“Persona” de la manera más completa que se te ocurra.\n",
    "\n",
    "import datetime\n",
    "anyoactual = datetime.date.today().year\n",
    "\n",
    "class Persona():\n",
    "    def __init__(self,nombre,anyoNacimiento,peso,altura,aficiones):\n",
    "        self.nombre=nombre\n",
    "        self.anyoNacimiento=anyoNacimiento\n",
    "        self.peso=peso\n",
    "        self.altura=altura\n",
    "        self.aficiones=aficiones\n",
    "    def hablar(self):\n",
    "        print(\"¡Hola!\")\n",
    "    def saltar(self):\n",
    "        print(\"Saltó 0.5 metros\")\n",
    "        \n",
    "#Reto 2\n",
    "#Utilizando la clase “Persona” definida en el punto anterior, haz que se pueda\n",
    "#calcular el IMC (índice de mas corporal) de cualquier persona que se haya creado como un objeto de la clase.\n",
    "\n",
    "    def IMC(self):\n",
    "        return self.peso / self.altura\n",
    "    \n",
    "#Reto 3\n",
    "#Añadir el atributo anyoNacimiento a la clase ”Persona” e implementar el\n",
    "#método edad que tome como parámetro el año actual y calcule la edad de la persona\n",
    "\n",
    "    def edad(self):\n",
    "        return anyoactual-self.anyoNacimiento\n",
    "    \n",
    "#Reto 4\n",
    "#Añadir un método que se denomine mostrarTodos que muestre por consola cada una de los atributos de la clase “Persona” \n",
    "#seguido por “:” y el valor del atributo.\n",
    "    \n",
    "    def mostrarTodos(self):\n",
    "        print(f\"Nombre: {self.nombre}, Año de nacimiento: {self.anyoNacimiento}, Peso: {self.peso}, Altura: {self.altura}\")\n",
    "\n",
    "        \n",
    "##Reto 5\n",
    "#Añadir el atributo aficiones a la clase “Persona”, que es un array de strings, y\n",
    "#crear un método denominado mostrarAficiones, que muestre por consola las aficiones de la persona.\n",
    "\n",
    "    def mostrarAficiones(self):\n",
    "        print(\"Las aficiones son: \" + \", \".join(a.capitalize() for a in self.aficiones))     \n",
    "                \n",
    "#Reto 6\n",
    "#• Crear una clase que se llame ”Agenda” que tenga un atributo que sea una lista de objetos de la clase “Persona”.\n",
    "\n",
    "persona1 = Persona(\"Diego\",1990,180,79,[\"correr\",\"bailar\"])\n",
    "persona2 = Persona(\"Raquel\",1985,170,57,[\"leer\",\"saltar\"])\n",
    "persona3 = Persona(\"Marisa\",2015,130,34,[\"futbol\",\"deberes\"])\n",
    "\n",
    "class Agenda():\n",
    "    def __init__(self):\n",
    "        self.lista_p=[]\n",
    "    def añadir_personas(self,p):\n",
    "        self.lista_p.append(p)\n",
    "\n",
    "#• Crear un método llamado printPersonas que imprima cada uno de los atributos de cada objeto persona.\n",
    "\n",
    "    def printPersonas(self):\n",
    "        for p in self.lista_p:\n",
    "            p.mostrarTodos()\n",
    "    \n",
    "    "
   ]
  },
  {
   "cell_type": "code",
   "execution_count": 158,
   "id": "8ab4d4dd",
   "metadata": {},
   "outputs": [
    {
     "name": "stdout",
     "output_type": "stream",
     "text": [
      "Nombre: Diego, Año de nacimiento: 1990, Peso: 180, Altura: 79\n",
      "Las aficiones son: Correr, Bailar\n",
      "33\n"
     ]
    }
   ],
   "source": [
    "\n",
    "persona1.mostrarTodos()\n",
    "persona1.mostrarAficiones()\n",
    "print(persona1.edad())\n"
   ]
  },
  {
   "cell_type": "code",
   "execution_count": 164,
   "id": "fd9f0a49",
   "metadata": {},
   "outputs": [
    {
     "name": "stdout",
     "output_type": "stream",
     "text": [
      "Nombre: Diego, Año de nacimiento: 1990, Peso: 180, Altura: 79\n",
      "Nombre: Raquel, Año de nacimiento: 1985, Peso: 170, Altura: 57\n",
      "Nombre: Marisa, Año de nacimiento: 2015, Peso: 130, Altura: 34\n"
     ]
    }
   ],
   "source": [
    "\n",
    "Agenda1=Agenda()\n",
    "Agenda1.añadir_personas(persona1)\n",
    "Agenda1.añadir_personas(persona2)\n",
    "Agenda1.añadir_personas(persona3)\n",
    "Agenda1.printPersonas()\n"
   ]
  },
  {
   "cell_type": "code",
   "execution_count": null,
   "id": "6cd3e752",
   "metadata": {},
   "outputs": [],
   "source": []
  }
 ],
 "metadata": {
  "kernelspec": {
   "display_name": "Python 3 (ipykernel)",
   "language": "python",
   "name": "python3"
  },
  "language_info": {
   "codemirror_mode": {
    "name": "ipython",
    "version": 3
   },
   "file_extension": ".py",
   "mimetype": "text/x-python",
   "name": "python",
   "nbconvert_exporter": "python",
   "pygments_lexer": "ipython3",
   "version": "3.10.9"
  }
 },
 "nbformat": 4,
 "nbformat_minor": 5
}
