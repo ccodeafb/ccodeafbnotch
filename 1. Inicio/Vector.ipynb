{
 "cells": [
  {
   "cell_type": "code",
   "execution_count": 7,
   "id": "cd3bd630",
   "metadata": {},
   "outputs": [],
   "source": [
    "import random\n",
    "\n",
    "#Crear vector(n, m): Crea un vector de n números aleatorios que van desde 0 hasta m.\n",
    "\n",
    "def crear_vector(n, m):\n",
    "    vector = []\n",
    "    for v in range(n):\n",
    "        vector.append(random.randint(0, m))\n",
    "    return vector\n",
    "\n",
    "  "
   ]
  },
  {
   "cell_type": "code",
   "execution_count": 10,
   "id": "945cfa3e",
   "metadata": {},
   "outputs": [
    {
     "name": "stdout",
     "output_type": "stream",
     "text": [
      "La longitud no es la misma, no se pueden sumar\n"
     ]
    },
    {
     "data": {
      "text/plain": [
       "[]"
      ]
     },
     "execution_count": 10,
     "metadata": {},
     "output_type": "execute_result"
    }
   ],
   "source": [
    "#Suma vector(v1, v2): Suma dos vectores v1 y v2 si y solo si tienen el mismo numero de elementos.\n",
    "\n",
    "def suma_vector(v1,v2):\n",
    "    v3 = []\n",
    "    if len(v1) == len(v2):\n",
    "        for i in range(len(v1)): \n",
    "            v3.append(v1[i]+v2[i])\n",
    "    else: print(\"La longitud no es la misma, no se pueden sumar\")\n",
    "    return v3\n",
    "\n",
    "v1 = crear_vector(3,5)\n",
    "v2 = crear_vector(7,4)\n",
    "suma_vector(v1,v2)\n",
    "\n"
   ]
  },
  {
   "cell_type": "code",
   "execution_count": 129,
   "id": "aa05d549",
   "metadata": {},
   "outputs": [
    {
     "name": "stdout",
     "output_type": "stream",
     "text": [
      "[2, 6, 10]\n"
     ]
    }
   ],
   "source": [
    "#Producto numero vector(n, v1): Multiplica el vector v1 por el numero n.\n",
    "\n",
    "def prod_vector(n,v1):\n",
    "    v2 = []\n",
    "    for i in range(len(v1)): \n",
    "        v2.append(v1[i]*n)\n",
    "    return v2\n"
   ]
  },
  {
   "cell_type": "code",
   "execution_count": 88,
   "id": "03e21a9b",
   "metadata": {},
   "outputs": [
    {
     "name": "stdout",
     "output_type": "stream",
     "text": [
      "[128, 4, 0, 0, 6, 0, 8, 5, 0, 0, 0, 0, 0, 1, 2, 4, 1, 6, 0, 0, 0, 1, 3, 4, 0, 5, 5, 2, 4, 3, 5, 4, 2, 5, 4, 4, 0, 2, 3, 3, 4, 2]\n"
     ]
    }
   ],
   "source": [
    "#Resta vector(v1, v2): Resta dos vectores v1 y v2 si y solo si tienen el mismo numero de elementos.\n",
    "\n",
    "def resta_vector(v1,v2):\n",
    "    try:\n",
    "        if len(v1) == len(v2):\n",
    "            v3 = []\n",
    "            for i in range(len(v1)): \n",
    "                v3.append(v1[i]-v2[i])\n",
    "        return v3\n",
    "    except: print(\"La longitud no es la misma, no se pueden restar\")\n"
   ]
  },
  {
   "cell_type": "code",
   "execution_count": 130,
   "id": "5c9034d8",
   "metadata": {},
   "outputs": [
    {
     "name": "stdout",
     "output_type": "stream",
     "text": [
      "[5, 5, 7]\n",
      "[7, 4, 9]\n",
      "[35, 20, 63]\n"
     ]
    }
   ],
   "source": [
    "#Producto vector(v1, v2): Multiplica dos vectores v1 y v2 si y solo si tienen el mismo número de elementos\n",
    "\n",
    "def mult_vector(v1,v2):\n",
    "    try:\n",
    "        if len(v1) == len(v2):\n",
    "            v3 = []\n",
    "            for i in range(len(v1)): \n",
    "                v3.append(v1[i]*v2[i])\n",
    "        return v3\n",
    "    except: print(\"La longitud no es la misma, no se pueden multiplicar\")\n",
    "        "
   ]
  },
  {
   "cell_type": "code",
   "execution_count": null,
   "id": "2468a4d4",
   "metadata": {},
   "outputs": [],
   "source": [
    "#Luego coloca el fichero en esta misma carpeta e importa y utiliza esas funciones"
   ]
  }
 ],
 "metadata": {
  "kernelspec": {
   "display_name": "Python 3 (ipykernel)",
   "language": "python",
   "name": "python3"
  },
  "language_info": {
   "codemirror_mode": {
    "name": "ipython",
    "version": 3
   },
   "file_extension": ".py",
   "mimetype": "text/x-python",
   "name": "python",
   "nbconvert_exporter": "python",
   "pygments_lexer": "ipython3",
   "version": "3.10.9"
  }
 },
 "nbformat": 4,
 "nbformat_minor": 5
}
