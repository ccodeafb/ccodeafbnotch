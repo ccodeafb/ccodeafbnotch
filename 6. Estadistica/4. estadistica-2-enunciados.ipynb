{
 "cells": [
  {
   "cell_type": "code",
   "execution_count": 1,
   "id": "67cdbea9",
   "metadata": {},
   "outputs": [],
   "source": [
    "import random\n",
    "import numpy as np\n",
    "import matplotlib.pyplot as plt"
   ]
  },
  {
   "cell_type": "markdown",
   "id": "3907fd16",
   "metadata": {},
   "source": [
    "### Reto 1\n",
    "\n",
    "Estás jugando a un juego de dados con un dado estándar de seis caras. En cada turno, tiras el dado una vez. Responde a las siguientes preguntas:\n",
    "\n",
    "- a) ¿Cuál es la probabilidad de que saques un 3?\n",
    "- b) ¿Cuál es la probabilidad de que saques un número par?\n",
    "- c) Si tiras el dado dos veces, ¿cuál es la probabilidad de que saques dos números iguales?\n",
    "- d) Si tiras el dado dos veces, ¿cuál es la probabilidad de que la suma de los números sea 7?\n",
    "- e) Si tiras el dado tres veces, ¿cuál es la probabilidad de que saques al menos un 6?\n",
    "\n",
    "No hace falta que hagas un programa para resolverlo, con escribir las operaciones vale."
   ]
  },
  {
   "cell_type": "code",
   "execution_count": null,
   "id": "5d1c7b55",
   "metadata": {},
   "outputs": [],
   "source": []
  },
  {
   "cell_type": "markdown",
   "id": "11872f84",
   "metadata": {},
   "source": [
    "### Reto 2\n",
    "\n",
    "Vamos a realizar una simulación sencilla. El propósito va a ser estimar las probabilidades de que ocurrar algún suceso. Vamos a suponer que tenemos por un lado el número de la carta (1-10) y el palo (A, B, C, D).\n",
    "\n",
    "Mediante una simulación de 10000 intentos, calcular las probabilidades de que ocurra lo siguiente:\n",
    "- Sacar un 4\n",
    "- Sacando dos cartas, que éstas sumen 10 (la primera carta se devuelve al mazo).\n",
    "- La probabilidad de sacar la carta 5A\n",
    "- La probabilidad de que la segunda carta sea menor que la primera\n",
    "    \n",
    "Utilizar la función np.random.choice."
   ]
  },
  {
   "cell_type": "code",
   "execution_count": 2,
   "id": "304106e2",
   "metadata": {},
   "outputs": [],
   "source": [
    "cartas = [str(i) + palo for i in range(1, 11) for palo in 'ABCD']"
   ]
  },
  {
   "cell_type": "code",
   "execution_count": null,
   "id": "7ffe5824",
   "metadata": {},
   "outputs": [],
   "source": []
  },
  {
   "cell_type": "markdown",
   "id": "4a101547",
   "metadata": {},
   "source": [
    "### Reto 3\n",
    "\n",
    "Lee acerca de la paradoja del cumpleaños (https://es.wikipedia.org/wiki/Paradoja_del_cumplea%C3%B1os) y crea un programa para, dado un numero de personas N, calcular la probabilidad de que haya dos personas que cumplen los años el mismo día mediante una simulacion.\n",
    "\n",
    "Para ello:\n",
    "- Crea una funcion que cree una lista de numeros aleatorios del 1 al 365 tantos como personas haya en la sala.\n",
    "- Comprueba si en esa lista hay dos numeros repetidos. Eso significaria que hay dos personas que cumplen años el mismo dia.\n",
    "- Repite este proceso 10.000 veces para cada N del 1 al 365 y obten la probabilidad para cada N\n",
    "- Dibuja un grafico en el que el eje X sea el numero de personas y el eje Y la probabilidad de que dos personas cumplan años el mismo dia"
   ]
  },
  {
   "cell_type": "code",
   "execution_count": null,
   "id": "614fa558",
   "metadata": {},
   "outputs": [],
   "source": []
  },
  {
   "cell_type": "markdown",
   "id": "1311af94",
   "metadata": {},
   "source": [
    "### Reto 4\n",
    "\n",
    "Una pandemia mundial asola la Tierra y ya ha infectado a un 10% de la población. Un test de una enfermedad tiene un 90% de fiabilidad, es decir, si alguien está enfermo y se le aplica, dará positivo un 90% de las veces. Si alguien no está enfermo, dará negativo un 90% de las veces.\n",
    "\n",
    "Suponiendo que nos hicieran un test aleatorio y diéramos positivo, ¿cuál sería la probabilidad de tener esa enfermedad?\n",
    "\n",
    "Solucionar este problema mediante una simulación y mediante la Ley de Bayes.\n",
    "\n",
    "Para las simulaciones hacer simulaciones para 10, 100, 500, 1000 y 10000 individuos y plotear cómo el valor estimado se parece cada vez más al valor calculado."
   ]
  },
  {
   "cell_type": "code",
   "execution_count": null,
   "id": "9224cbf2",
   "metadata": {},
   "outputs": [],
   "source": []
  }
 ],
 "metadata": {
  "kernelspec": {
   "display_name": "Python 3 (ipykernel)",
   "language": "python",
   "name": "python3"
  },
  "language_info": {
   "codemirror_mode": {
    "name": "ipython",
    "version": 3
   },
   "file_extension": ".py",
   "mimetype": "text/x-python",
   "name": "python",
   "nbconvert_exporter": "python",
   "pygments_lexer": "ipython3",
   "version": "3.10.10"
  }
 },
 "nbformat": 4,
 "nbformat_minor": 5
}
