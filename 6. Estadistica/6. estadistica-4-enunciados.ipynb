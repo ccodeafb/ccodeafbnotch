{
 "cells": [
  {
   "cell_type": "code",
   "execution_count": 2,
   "id": "c4ec6269",
   "metadata": {},
   "outputs": [],
   "source": [
    "import numpy as np\n",
    "import scipy.stats as stats"
   ]
  },
  {
   "cell_type": "markdown",
   "id": "d7b324d2",
   "metadata": {},
   "source": [
    "### Reto 1\n",
    "\n",
    "- Crea dos distribuciones normales iguales\n",
    "- Obten 30 muestras de cada distribucion\n",
    "- Utilizando un test estadístico t-test, comprueba si la hipotesis nula se rechaza en favor de la hipótesis alternativa, con un $\\alpha=0.05$\n",
    "- Repite este proceso 1000 veces y obtén el numero de veces que se rechaza la hipótesis nula en favor de la alternativa respecto al total de veces que se ha hecho este proceso\n",
    "- ¿Qué significa esto?\n",
    "\n",
    "- Opcional: puedes dibujar un plot en el que el eje X sea el numero de simulaciones y el eje Y sea la fraccion de veces que la hipotesis alternativa se ha aceptado"
   ]
  },
  {
   "cell_type": "code",
   "execution_count": null,
   "id": "367dae96",
   "metadata": {},
   "outputs": [],
   "source": []
  },
  {
   "cell_type": "markdown",
   "id": "842095c0",
   "metadata": {},
   "source": [
    "### Reto 2\n",
    "\n",
    "- Crea dos distribuciones normales (una con $\\mu=7, \\sigma=1$ y otra con $\\mu=7.0001, \\sigma=1$)\n",
    "- Obten 100.000 muestras de cada distribucion\n",
    "- Utilizando un test estadístico t-test, comprueba si la hipotesis nula se rechaza en favor de la hipótesis alternativa, con un $\\alpha=0.05$\n",
    "- Repite este proceso 1000 veces y obtén el numero de veces que se rechaza la hipótesis nula en favor de la alternativa respecto al total de veces que se ha hecho este proceso\n",
    "- ¿Qué significa esto?"
   ]
  },
  {
   "cell_type": "code",
   "execution_count": null,
   "id": "29c0e27d",
   "metadata": {},
   "outputs": [],
   "source": []
  },
  {
   "cell_type": "markdown",
   "id": "84f5ac7c",
   "metadata": {},
   "source": [
    "### Reto 3\n",
    "\n",
    "Supongamos que una empresa de la industria del café afirma que su peso medio del paquete de café es de 500 gramos. Recoges una muestra de 30 paquetes para testar esta afirmación. Utiliza la prueba t de una muestra para evaluar si la media poblacional es realmente de 500 gramos con un nivel de significancia del 0.05."
   ]
  },
  {
   "cell_type": "code",
   "execution_count": 14,
   "id": "be96d2f9",
   "metadata": {},
   "outputs": [],
   "source": [
    "muestras = [507.84, 488.19, 501.65, 494.70,\n",
    "           479.79, 505.65, 500.42, 503.53,\n",
    "           486.65 , 505.63, 486.26, 498.87,\n",
    "           490.56, 502.16 , 491.24 , 506.23,\n",
    "           503.81, 493.83, 509.51, 491.74,\n",
    "           488.10 , 496.29 , 501.80, 490.73,\n",
    "           493.97, 486.00, 498.68, 498.72,\n",
    "           473.91, 483.49]"
   ]
  },
  {
   "cell_type": "code",
   "execution_count": null,
   "id": "d11a4522",
   "metadata": {},
   "outputs": [],
   "source": []
  },
  {
   "cell_type": "markdown",
   "id": "d14e50cb",
   "metadata": {},
   "source": [
    "### Reto 4\n",
    "\n",
    "Los siguientes datos son notas de un examen de dos clases distintas. Realizar un contraste de hipótesis para comprobar si las notas de una clase fueron mejores que las de la otra. Comprobar los requisitos para poder aplicar el ttest."
   ]
  },
  {
   "cell_type": "code",
   "execution_count": null,
   "id": "48043908",
   "metadata": {},
   "outputs": [],
   "source": [
    "A = [5.02, 6.5, 8.17, 7.08, 4.95, 8.76, 6.66, 7.51, 7.46, 7.7]\n",
    "B = [8.9, 7.36, 4.73, 7.41, 8.64, 5.78, 4.77, 7.63, 5.51, 7.05]"
   ]
  },
  {
   "cell_type": "code",
   "execution_count": null,
   "id": "4c980374",
   "metadata": {},
   "outputs": [],
   "source": []
  },
  {
   "cell_type": "markdown",
   "id": "d07abf70",
   "metadata": {},
   "source": [
    "### Reto 4 (abierto)\n",
    "\n",
    "Abre un dataset de tu elección y escoge alguna feature. Crea dos grupos separados por otra feature (por ejemplo, edad como feature y los grupos que creas son los que se salvaron vs. los que no se salvaron).\n",
    "\n",
    "Aplica el test correspondiente para saber si existe alguna diferencia significativa en esos grupos en base a esa feature."
   ]
  },
  {
   "cell_type": "code",
   "execution_count": null,
   "id": "cc4dd861",
   "metadata": {},
   "outputs": [],
   "source": []
  }
 ],
 "metadata": {
  "kernelspec": {
   "display_name": "Python 3 (ipykernel)",
   "language": "python",
   "name": "python3"
  },
  "language_info": {
   "codemirror_mode": {
    "name": "ipython",
    "version": 3
   },
   "file_extension": ".py",
   "mimetype": "text/x-python",
   "name": "python",
   "nbconvert_exporter": "python",
   "pygments_lexer": "ipython3",
   "version": "3.10.10"
  }
 },
 "nbformat": 4,
 "nbformat_minor": 5
}
