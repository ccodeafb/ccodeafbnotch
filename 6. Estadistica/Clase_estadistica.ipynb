{
 "cells": [
  {
   "cell_type": "markdown",
   "id": "9bdada34",
   "metadata": {},
   "source": [
    "`Arrow Up/Arrow Down` : Navigate between cells\n",
    "\n",
    "`A`: Insert a new cell above the current cell.\n",
    "\n",
    "`B`: Insert a new cell below the current cell.\n",
    "\n",
    "`C`: Copy the selected cell.\n",
    "\n",
    "`V`: Paste the copied cell below the current cell.\n",
    "\n",
    "`D`: Delete the selected cell.\n",
    "\n",
    "`Z`: Undo the last cell operation.\n",
    "\n",
    "`M`: Convert the selected cell to a markdown cell.\n",
    "\n",
    "`Y`: Convert the selected cell to a code cell.\n",
    "\n",
    "`Shift` + `Arrow Up/Arrow Down`: Select multiple cells.\n",
    "\n",
    "`Ctrl` + `Shift` + `-` : Split the current cell at the \n",
    "cursor.\n",
    "\n",
    "`Ctrl` + `Shift` + `Minus` : Split the current cell at the cursor.\n",
    "\n",
    "`Shift` + `M`: Merge selected cells.\n",
    "\n",
    "`Ctrl` + `Shift` + `P`: Open the command palette.\n",
    "\n",
    "`Shift` + `Enter` : Run the current cell and move the cursor to the next cell.\n",
    "\n",
    "`Ctrl` + `Enter` : Run the current cell without moving the cursor."
   ]
  },
  {
   "cell_type": "code",
   "execution_count": 23,
   "id": "db16257e",
   "metadata": {},
   "outputs": [
    {
     "name": "stdout",
     "output_type": "stream",
     "text": [
      "Solucion: 0.55\n"
     ]
    }
   ],
   "source": [
    "#Enunciado:\n",
    "A = 0.75                  # = vuelo A \n",
    "RA = 0.02                 # = retrasado si A\n",
    "B = 0.25                  # = vuelo no A\n",
    "RB = 0.05                 # = vuelo retrasado si no A\n",
    "\n",
    "#Pregunta: si sabemos que hay un retraso, cual es la probabilidad de que sea de A\n",
    "\n",
    "R = RA*A+B*RB             # = vuelo retrasado\n",
    "\n",
    "AR = (RA*A)/R             # = A si retrasado \n",
    "\n",
    "print(f'Solucion: {AR:.2f}')"
   ]
  },
  {
   "cell_type": "markdown",
   "id": "dc4c23f5",
   "metadata": {},
   "source": [
    "Estimando la probabilidad de tener 3 caras cada vez que se lanzan tres monedas, se repite 10000"
   ]
  },
  {
   "cell_type": "code",
   "execution_count": 38,
   "id": "f25db7e4",
   "metadata": {},
   "outputs": [
    {
     "data": {
      "text/plain": [
       "0.1242"
      ]
     },
     "execution_count": 38,
     "metadata": {},
     "output_type": "execute_result"
    }
   ],
   "source": [
    "import numpy as np\n",
    "\n",
    "n_simulaciones = 10000\n",
    "resultados = [\"cara\", \"cruz\"]\n",
    "\n",
    "contador_tres_caras = 0\n",
    "\n",
    "for _ in range(n_simulaciones):\n",
    "    lanzamientos = np.random.choice(resultados, 3)\n",
    "    if np.all(lanzamientos == \"cara\"):\n",
    "        contador_tres_caras += 1\n",
    "\n",
    "prob_tres_caras = contador_tres_caras / n_simulaciones\n",
    "prob_tres_caras\n",
    "# Tip: esto no es la esperanza, no estas calculando la probabilidad sino simulandola(estimandola)\n",
    "#  Por eso cada vez que se ejecuta la probabilidad es distinta"
   ]
  },
  {
   "cell_type": "markdown",
   "id": "47aa6e26",
   "metadata": {},
   "source": [
    "def p_infectado_si_positivo(simulaciones):\n",
    "    infectado = np.random.choice([True, False], p=[0.1, 0.9], size=simulaciones)\n",
    "    test = np.where(infectado, np.random.choice([True, False], p=[0.9, 0.1], size=simulaciones),\n",
    "                    np.random.choice([True, False], p=[0.1, 0.9], size=simulaciones))\n",
    "    favorables = 0\n",
    "    for i, j in zip(test,infectado):\n",
    "        if i == True and j == True:\n",
    "            favorables += 1\n",
    "    return favorables / simulaciones\n",
    "\n",
    "\n",
    "\n",
    "plt.plot(n_simulaciones,dibujar_pandemia(1), marker='o')\n",
    "plt.xlabel('Número de simulaciones')\n",
    "plt.ylabel('Probabilidad simulada de enfermedad dado un test positivo')\n",
    "#Prob Bayes\n",
    "plt.axhline(p_infectado_si_positivo, color='red', linestyle='--')\n",
    "plt.show()"
   ]
  },
  {
   "cell_type": "markdown",
   "id": "b5f1f305",
   "metadata": {},
   "source": [
    "T TEST"
   ]
  },
  {
   "cell_type": "code",
   "execution_count": 3,
   "id": "503031e7",
   "metadata": {},
   "outputs": [],
   "source": [
    "from scipy.stats import ttest_ind"
   ]
  },
  {
   "cell_type": "code",
   "execution_count": 17,
   "id": "f61f7730",
   "metadata": {},
   "outputs": [],
   "source": [
    "A = [9.5, 10 , 0.4 , 10, 8.1, 5.5]\n",
    "B = [0.5, 10 , 2 , 4.2, 8.1, 1.3]"
   ]
  },
  {
   "cell_type": "code",
   "execution_count": 19,
   "id": "5c137bfa",
   "metadata": {},
   "outputs": [
    {
     "data": {
      "text/plain": [
       "Ttest_indResult(statistic=1.3120963092194682, pvalue=0.21880707300873078)"
      ]
     },
     "execution_count": 19,
     "metadata": {},
     "output_type": "execute_result"
    }
   ],
   "source": [
    "ttest_ind(A,B)"
   ]
  },
  {
   "cell_type": "code",
   "execution_count": 20,
   "id": "0cc1c673",
   "metadata": {},
   "outputs": [],
   "source": [
    "pvalue=0.21880707300873078"
   ]
  },
  {
   "cell_type": "markdown",
   "id": "2fb78ff2",
   "metadata": {},
   "source": [
    "p-value: probabilidad de que, con los datos observados, H0 sea cierta. Si esta\n",
    "probabilidad es muy baja, rechazaremos H0\n",
    "\n",
    "y elegiremos H1\n",
    "\n",
    "p < .1 : la diferencia no es significativa, pero puede sugerir seguir investigando\n",
    "\n",
    "p < .05 : la diferencia es significativa\n",
    "\n",
    "p < .01 : la diferencia es muy significativa"
   ]
  },
  {
   "cell_type": "markdown",
   "id": "bd0b6b04",
   "metadata": {},
   "source": [
    "p < alpha : rechazamos H0 y aceptamos H1"
   ]
  },
  {
   "cell_type": "code",
   "execution_count": 21,
   "id": "a4f6e244",
   "metadata": {},
   "outputs": [
    {
     "name": "stdout",
     "output_type": "stream",
     "text": [
      " aceptamos H0 y rechazamos H1\n"
     ]
    }
   ],
   "source": [
    "def t_test(alpha):\n",
    "    if pvalue < alpha: print(' rechazamos H0 y aceptamos H1')\n",
    "    else: print(' aceptamos H0 y rechazamos H1')\n",
    "                                 \n",
    "        \n",
    "t_test(0.05)"
   ]
  }
 ],
 "metadata": {
  "kernelspec": {
   "display_name": "Python 3 (ipykernel)",
   "language": "python",
   "name": "python3"
  },
  "language_info": {
   "codemirror_mode": {
    "name": "ipython",
    "version": 3
   },
   "file_extension": ".py",
   "mimetype": "text/x-python",
   "name": "python",
   "nbconvert_exporter": "python",
   "pygments_lexer": "ipython3",
   "version": "3.10.9"
  }
 },
 "nbformat": 4,
 "nbformat_minor": 5
}
