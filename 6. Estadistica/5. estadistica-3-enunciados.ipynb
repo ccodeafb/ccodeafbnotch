{
 "cells": [
  {
   "cell_type": "code",
   "execution_count": 1,
   "id": "25e351dd",
   "metadata": {},
   "outputs": [],
   "source": [
    "import sympy as sp\n",
    "import pandas as pd\n",
    "import numpy as np\n",
    "import matplotlib.pyplot as plt"
   ]
  },
  {
   "cell_type": "markdown",
   "id": "7a3073fd",
   "metadata": {},
   "source": [
    "### Reto 1\n",
    "\n",
    "Obtén la tabla de Z-Scores (desde 0 hasta 3), calculando las integrales correspondientes con scipy y almacenando los datos en un DataFrame"
   ]
  },
  {
   "cell_type": "code",
   "execution_count": null,
   "id": "02594ef5",
   "metadata": {},
   "outputs": [],
   "source": []
  },
  {
   "cell_type": "markdown",
   "id": "f6e6b267",
   "metadata": {},
   "source": [
    "### Reto 2\n",
    "\n",
    "- Genera 1000 números aleatorios que siguen una distribución uniforme entre 0 y 10, y crea un histograma de los resultados.\n",
    "\n",
    "- Genera 1000 números aleatorios que siguen una distribución normal con una media de 0 y una desviación estándar de 1. Crea un histograma de los resultados. Ahora haz lo mismo con una distribucion de media 5 y desviacion estándar de 3,, otra con media -3 y desviacion estándar de 2. Crea un histograma con todos los resultados.\n",
    "\n",
    "- Genera 1000 números aleatorios que siguen una distribución exponencial (busca informacion acerca de esta distribucion) con una escala de 1. Crea un histograma de los resultados.\n",
    "\n",
    "- Ahora, genera 1000 números aleatorios para cada una de las cuatro distribuciones de probabilidad que mencionamos anteriormente y crea un gráfico de caja y bigotes (boxplot) para comparar las distribuciones."
   ]
  },
  {
   "cell_type": "code",
   "execution_count": null,
   "id": "70aae372",
   "metadata": {},
   "outputs": [],
   "source": []
  },
  {
   "cell_type": "markdown",
   "id": "098379d1",
   "metadata": {},
   "source": [
    "### Reto 3\n",
    "\n",
    "- Genera 1000 numeros aleatorios de una distribucion normal.\n",
    "- Calcula la distribucion de probabilidad acumulada.\n",
    "- Inventa una funcion para *samplear* de esa distribución de probabilidad acumulada y samplea otros 1000 puntos con este método.\n",
    "- Compara ambas distribucion en un histograma"
   ]
  },
  {
   "cell_type": "code",
   "execution_count": null,
   "id": "8c91f626",
   "metadata": {},
   "outputs": [],
   "source": []
  }
 ],
 "metadata": {
  "kernelspec": {
   "display_name": "Python 3 (ipykernel)",
   "language": "python",
   "name": "python3"
  },
  "language_info": {
   "codemirror_mode": {
    "name": "ipython",
    "version": 3
   },
   "file_extension": ".py",
   "mimetype": "text/x-python",
   "name": "python",
   "nbconvert_exporter": "python",
   "pygments_lexer": "ipython3",
   "version": "3.10.10"
  }
 },
 "nbformat": 4,
 "nbformat_minor": 5
}
