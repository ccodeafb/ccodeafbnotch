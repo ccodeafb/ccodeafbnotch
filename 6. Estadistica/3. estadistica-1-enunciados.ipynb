{
 "cells": [
  {
   "cell_type": "markdown",
   "id": "7fee4292",
   "metadata": {},
   "source": [
    "### Ejercicio 1\n",
    "\n",
    "Crea las funciones para calcular:\n",
    "- la media\n",
    "- la mediana\n",
    "- la moda\n",
    "- la desviacion tipica\n",
    "- la varianza\n",
    "- la kurtosis\n",
    "\n",
    "No utilices las funciones de numpy que las calcula).\n",
    "\n",
    "Después calcula esos valores para la lista de datos\n",
    "\n",
    "`x = [5, 7, 4, 9, 3, 2, 5, 12, 9, 2, 5, 6]`"
   ]
  },
  {
   "cell_type": "code",
   "execution_count": null,
   "id": "9bae11fe",
   "metadata": {},
   "outputs": [],
   "source": []
  },
  {
   "cell_type": "markdown",
   "id": "cc40a773",
   "metadata": {},
   "source": [
    "### Reto 2\n",
    "\n",
    "Carga el siguiente dataset y realiza lo siguiente (quizas tengas que instalar `pip install scikit-learn`)\n",
    "\n",
    "*Antiguedad:*\n",
    "- Un histograma de la distribucion de antiguedades.\n",
    "- Un boxplot en el que compares los precios de las casas de mas de 30 años con los de las casas de menos de 30 años\n",
    "\n",
    "*Ingresos:*\n",
    "- Un histograma de la distribucion del ingreso medio.\n",
    "- Un boxplot en el que compares los precios de las casas con un ingreso medio de menos de 3 con mas de 3\n",
    "\n",
    "*Ocupacion:*\n",
    "- Un histograma de la distribucion de la ocupacion media\n",
    "- Un boxplot en el que compares los precios de las casas con una ocupacion menor de 1000 y mayor de 1000\n",
    "\n",
    "¿Que conclusiones sacas?¿Hay valores atipicos?"
   ]
  },
  {
   "cell_type": "code",
   "execution_count": 1,
   "id": "f7c90921",
   "metadata": {},
   "outputs": [
    {
     "name": "stdout",
     "output_type": "stream",
     "text": [
      ".. _california_housing_dataset:\n",
      "\n",
      "California Housing dataset\n",
      "--------------------------\n",
      "\n",
      "**Data Set Characteristics:**\n",
      "\n",
      "    :Number of Instances: 20640\n",
      "\n",
      "    :Number of Attributes: 8 numeric, predictive attributes and the target\n",
      "\n",
      "    :Attribute Information:\n",
      "        - MedInc        median income in block group\n",
      "        - HouseAge      median house age in block group\n",
      "        - AveRooms      average number of rooms per household\n",
      "        - AveBedrms     average number of bedrooms per household\n",
      "        - Population    block group population\n",
      "        - AveOccup      average number of household members\n",
      "        - Latitude      block group latitude\n",
      "        - Longitude     block group longitude\n",
      "\n",
      "    :Missing Attribute Values: None\n",
      "\n",
      "This dataset was obtained from the StatLib repository.\n",
      "https://www.dcc.fc.up.pt/~ltorgo/Regression/cal_housing.html\n",
      "\n",
      "The target variable is the median house value for California districts,\n",
      "expressed in hundreds of thousands of dollars ($100,000).\n",
      "\n",
      "This dataset was derived from the 1990 U.S. census, using one row per census\n",
      "block group. A block group is the smallest geographical unit for which the U.S.\n",
      "Census Bureau publishes sample data (a block group typically has a population\n",
      "of 600 to 3,000 people).\n",
      "\n",
      "A household is a group of people residing within a home. Since the average\n",
      "number of rooms and bedrooms in this dataset are provided per household, these\n",
      "columns may take surprisingly large values for block groups with few households\n",
      "and many empty houses, such as vacation resorts.\n",
      "\n",
      "It can be downloaded/loaded using the\n",
      ":func:`sklearn.datasets.fetch_california_housing` function.\n",
      "\n",
      ".. topic:: References\n",
      "\n",
      "    - Pace, R. Kelley and Ronald Barry, Sparse Spatial Autoregressions,\n",
      "      Statistics and Probability Letters, 33 (1997) 291-297\n",
      "\n"
     ]
    }
   ],
   "source": [
    "import numpy as np\n",
    "import pandas as pd\n",
    "import matplotlib.pyplot as plt\n",
    "\n",
    "from sklearn.datasets import fetch_california_housing\n",
    "\n",
    "housing = fetch_california_housing()\n",
    "print(housing['DESCR'])"
   ]
  },
  {
   "cell_type": "code",
   "execution_count": 20,
   "id": "3fc4b95e",
   "metadata": {},
   "outputs": [],
   "source": [
    "df = pd.DataFrame(housing['data'], columns=housing['feature_names'])\n",
    "df['Price'] = housing['target']"
   ]
  },
  {
   "cell_type": "code",
   "execution_count": null,
   "id": "d3c7f82b",
   "metadata": {},
   "outputs": [],
   "source": []
  },
  {
   "cell_type": "markdown",
   "id": "5c7d2647",
   "metadata": {},
   "source": [
    "### Reto 3\n",
    "\n",
    "Los investigadores han recolectado datos sobre las longitudes de dos especies muy diferentes: hormigas y elefantes. Quieren comparar la variabilidad de las longitudes dentro de estas dos especies.\n",
    "Los datos en centimetros estan mostrados abajo.\n",
    "\n",
    "**Media y Desviación Estándar:** Para cada conjunto de datos, calcula la media y la desviación estándar de las longitudes.\n",
    "\n",
    "**Coeficiente de Variación:** Calcula el coeficiente de variación (CV) para cada conjunto de datos.\n",
    "\n",
    "Comparación: ¿Cuál de las dos especies muestra una mayor variabilidad en las longitudes"
   ]
  },
  {
   "cell_type": "code",
   "execution_count": 58,
   "id": "4b48939b",
   "metadata": {},
   "outputs": [],
   "source": [
    "longitudes_hormigas = [0.6, 0.9, 1, 1.1, 1.1, 0.8, 0.9, 1, 0.7, 0.9]\n",
    "longitudes_elefantes = [300, 315, 280, 325, 290, 295, 305, 310, 320, 300]"
   ]
  },
  {
   "cell_type": "code",
   "execution_count": null,
   "id": "601255f7",
   "metadata": {},
   "outputs": [],
   "source": []
  }
 ],
 "metadata": {
  "kernelspec": {
   "display_name": "Python 3 (ipykernel)",
   "language": "python",
   "name": "python3"
  },
  "language_info": {
   "codemirror_mode": {
    "name": "ipython",
    "version": 3
   },
   "file_extension": ".py",
   "mimetype": "text/x-python",
   "name": "python",
   "nbconvert_exporter": "python",
   "pygments_lexer": "ipython3",
   "version": "3.10.10"
  }
 },
 "nbformat": 4,
 "nbformat_minor": 5
}
