{
 "cells": [
  {
   "cell_type": "code",
   "execution_count": 144,
   "id": "3aa4125a",
   "metadata": {},
   "outputs": [],
   "source": [
    "import numpy as np\n",
    "import matplotlib.pyplot as plt\n",
    "from scipy import misc\n",
    "from sklearn.decomposition import TruncatedSVD\n",
    "from scipy.sparse import csr_matrix\n",
    "import pandas as pd\n",
    "from sklearn.linear_model import LinearRegression\n",
    "df = pd.read_csv(\"worlddata23.csv\")\n",
    "df.drop(['Capital/Major City','Density\\n(P/Km2)','Abbreviation','Gross primary education enrollment (%)','CPI','Agricultural Land( %)','CPI Change (%)','Gross tertiary education enrollment (%)','Gasoline Price','Out of pocket health expenditure','Forested Area (%)','Co2-Emissions','GDP','Population: Labor force participation (%)','Tax revenue (%)','Total tax rate','Unemployment rate','Minimum wage','Land Area(Km2)','Currency-Code','Largest city','Official language','Armed Forces size','Population','Urban_population'], axis=1, inplace=True)\n",
    "df1 = pd.read_csv(\"bankdefault.csv\")"
   ]
  },
  {
   "cell_type": "markdown",
   "id": "59874770",
   "metadata": {},
   "source": [
    "# SVD"
   ]
  },
  {
   "cell_type": "markdown",
   "id": "e7971ccd",
   "metadata": {},
   "source": [
    "Reducir la dimensión de unos datos mediante SVD y posteriormente comentar la variabilidad explicada por esas componente (sumatorio).\n",
    "\n",
    "https://numpy.org/doc/1.19/user/tutorial-svd.html\n",
    "\n",
    "https://scikit-learn.org/stable/modules/generated/sklearn.decomposition.TruncatedSVD.html\n",
    "\n",
    "A = UΣV\n",
    "T\n",
    "\n",
    "Matriz real A (m × n)\n",
    "Matrices ortogonales U (de orden m) y V (de orden n)\n",
    "Matriz diagonal Σ (de tamaño m × n)\n",
    "\n",
    "U = “eigen”-bases\n",
    "Σ = importancia\n",
    "V = “blending” de vectores"
   ]
  },
  {
   "cell_type": "code",
   "execution_count": 145,
   "id": "4e5a6f05",
   "metadata": {},
   "outputs": [
    {
     "data": {
      "text/html": [
       "<div>\n",
       "<style scoped>\n",
       "    .dataframe tbody tr th:only-of-type {\n",
       "        vertical-align: middle;\n",
       "    }\n",
       "\n",
       "    .dataframe tbody tr th {\n",
       "        vertical-align: top;\n",
       "    }\n",
       "\n",
       "    .dataframe thead th {\n",
       "        text-align: right;\n",
       "    }\n",
       "</style>\n",
       "<table border=\"1\" class=\"dataframe\">\n",
       "  <thead>\n",
       "    <tr style=\"text-align: right;\">\n",
       "      <th></th>\n",
       "      <th>Birth Rate</th>\n",
       "      <th>Calling Code</th>\n",
       "      <th>Fertility Rate</th>\n",
       "      <th>Infant mortality</th>\n",
       "      <th>Life expectancy</th>\n",
       "      <th>Maternal mortality ratio</th>\n",
       "      <th>Physicians per thousand</th>\n",
       "      <th>Latitude</th>\n",
       "      <th>Longitude</th>\n",
       "    </tr>\n",
       "    <tr>\n",
       "      <th>Country</th>\n",
       "      <th></th>\n",
       "      <th></th>\n",
       "      <th></th>\n",
       "      <th></th>\n",
       "      <th></th>\n",
       "      <th></th>\n",
       "      <th></th>\n",
       "      <th></th>\n",
       "      <th></th>\n",
       "    </tr>\n",
       "  </thead>\n",
       "  <tbody>\n",
       "    <tr>\n",
       "      <th>Afghanistan</th>\n",
       "      <td>32.49</td>\n",
       "      <td>93.0</td>\n",
       "      <td>4.47</td>\n",
       "      <td>47.9</td>\n",
       "      <td>64.5</td>\n",
       "      <td>638.0</td>\n",
       "      <td>0.28</td>\n",
       "      <td>33.939110</td>\n",
       "      <td>67.709953</td>\n",
       "    </tr>\n",
       "    <tr>\n",
       "      <th>Albania</th>\n",
       "      <td>11.78</td>\n",
       "      <td>355.0</td>\n",
       "      <td>1.62</td>\n",
       "      <td>7.8</td>\n",
       "      <td>78.5</td>\n",
       "      <td>15.0</td>\n",
       "      <td>1.20</td>\n",
       "      <td>41.153332</td>\n",
       "      <td>20.168331</td>\n",
       "    </tr>\n",
       "    <tr>\n",
       "      <th>Algeria</th>\n",
       "      <td>24.28</td>\n",
       "      <td>213.0</td>\n",
       "      <td>3.02</td>\n",
       "      <td>20.1</td>\n",
       "      <td>76.7</td>\n",
       "      <td>112.0</td>\n",
       "      <td>1.72</td>\n",
       "      <td>28.033886</td>\n",
       "      <td>1.659626</td>\n",
       "    </tr>\n",
       "    <tr>\n",
       "      <th>Angola</th>\n",
       "      <td>40.73</td>\n",
       "      <td>244.0</td>\n",
       "      <td>5.52</td>\n",
       "      <td>51.6</td>\n",
       "      <td>60.8</td>\n",
       "      <td>241.0</td>\n",
       "      <td>0.21</td>\n",
       "      <td>-11.202692</td>\n",
       "      <td>17.873887</td>\n",
       "    </tr>\n",
       "    <tr>\n",
       "      <th>Antigua and Barbuda</th>\n",
       "      <td>15.33</td>\n",
       "      <td>1.0</td>\n",
       "      <td>1.99</td>\n",
       "      <td>5.0</td>\n",
       "      <td>76.9</td>\n",
       "      <td>42.0</td>\n",
       "      <td>2.76</td>\n",
       "      <td>17.060816</td>\n",
       "      <td>-61.796428</td>\n",
       "    </tr>\n",
       "    <tr>\n",
       "      <th>...</th>\n",
       "      <td>...</td>\n",
       "      <td>...</td>\n",
       "      <td>...</td>\n",
       "      <td>...</td>\n",
       "      <td>...</td>\n",
       "      <td>...</td>\n",
       "      <td>...</td>\n",
       "      <td>...</td>\n",
       "      <td>...</td>\n",
       "    </tr>\n",
       "    <tr>\n",
       "      <th>Venezuela</th>\n",
       "      <td>17.88</td>\n",
       "      <td>58.0</td>\n",
       "      <td>2.27</td>\n",
       "      <td>21.4</td>\n",
       "      <td>72.1</td>\n",
       "      <td>125.0</td>\n",
       "      <td>1.92</td>\n",
       "      <td>6.423750</td>\n",
       "      <td>-66.589730</td>\n",
       "    </tr>\n",
       "    <tr>\n",
       "      <th>Vietnam</th>\n",
       "      <td>16.75</td>\n",
       "      <td>84.0</td>\n",
       "      <td>2.05</td>\n",
       "      <td>16.5</td>\n",
       "      <td>75.3</td>\n",
       "      <td>43.0</td>\n",
       "      <td>0.82</td>\n",
       "      <td>14.058324</td>\n",
       "      <td>108.277199</td>\n",
       "    </tr>\n",
       "    <tr>\n",
       "      <th>Yemen</th>\n",
       "      <td>30.45</td>\n",
       "      <td>967.0</td>\n",
       "      <td>3.79</td>\n",
       "      <td>42.9</td>\n",
       "      <td>66.1</td>\n",
       "      <td>164.0</td>\n",
       "      <td>0.31</td>\n",
       "      <td>15.552727</td>\n",
       "      <td>48.516388</td>\n",
       "    </tr>\n",
       "    <tr>\n",
       "      <th>Zambia</th>\n",
       "      <td>36.19</td>\n",
       "      <td>260.0</td>\n",
       "      <td>4.63</td>\n",
       "      <td>40.4</td>\n",
       "      <td>63.5</td>\n",
       "      <td>213.0</td>\n",
       "      <td>1.19</td>\n",
       "      <td>-13.133897</td>\n",
       "      <td>27.849332</td>\n",
       "    </tr>\n",
       "    <tr>\n",
       "      <th>Zimbabwe</th>\n",
       "      <td>30.68</td>\n",
       "      <td>263.0</td>\n",
       "      <td>3.62</td>\n",
       "      <td>33.9</td>\n",
       "      <td>61.2</td>\n",
       "      <td>458.0</td>\n",
       "      <td>0.21</td>\n",
       "      <td>-19.015438</td>\n",
       "      <td>29.154857</td>\n",
       "    </tr>\n",
       "  </tbody>\n",
       "</table>\n",
       "<p>179 rows × 9 columns</p>\n",
       "</div>"
      ],
      "text/plain": [
       "                     Birth Rate  Calling Code  Fertility Rate  \\\n",
       "Country                                                         \n",
       "Afghanistan               32.49          93.0            4.47   \n",
       "Albania                   11.78         355.0            1.62   \n",
       "Algeria                   24.28         213.0            3.02   \n",
       "Angola                    40.73         244.0            5.52   \n",
       "Antigua and Barbuda       15.33           1.0            1.99   \n",
       "...                         ...           ...             ...   \n",
       "Venezuela                 17.88          58.0            2.27   \n",
       "Vietnam                   16.75          84.0            2.05   \n",
       "Yemen                     30.45         967.0            3.79   \n",
       "Zambia                    36.19         260.0            4.63   \n",
       "Zimbabwe                  30.68         263.0            3.62   \n",
       "\n",
       "                     Infant mortality  Life expectancy  \\\n",
       "Country                                                  \n",
       "Afghanistan                      47.9             64.5   \n",
       "Albania                           7.8             78.5   \n",
       "Algeria                          20.1             76.7   \n",
       "Angola                           51.6             60.8   \n",
       "Antigua and Barbuda               5.0             76.9   \n",
       "...                               ...              ...   \n",
       "Venezuela                        21.4             72.1   \n",
       "Vietnam                          16.5             75.3   \n",
       "Yemen                            42.9             66.1   \n",
       "Zambia                           40.4             63.5   \n",
       "Zimbabwe                         33.9             61.2   \n",
       "\n",
       "                     Maternal mortality ratio  Physicians per thousand  \\\n",
       "Country                                                                  \n",
       "Afghanistan                             638.0                     0.28   \n",
       "Albania                                  15.0                     1.20   \n",
       "Algeria                                 112.0                     1.72   \n",
       "Angola                                  241.0                     0.21   \n",
       "Antigua and Barbuda                      42.0                     2.76   \n",
       "...                                       ...                      ...   \n",
       "Venezuela                               125.0                     1.92   \n",
       "Vietnam                                  43.0                     0.82   \n",
       "Yemen                                   164.0                     0.31   \n",
       "Zambia                                  213.0                     1.19   \n",
       "Zimbabwe                                458.0                     0.21   \n",
       "\n",
       "                      Latitude   Longitude  \n",
       "Country                                     \n",
       "Afghanistan          33.939110   67.709953  \n",
       "Albania              41.153332   20.168331  \n",
       "Algeria              28.033886    1.659626  \n",
       "Angola              -11.202692   17.873887  \n",
       "Antigua and Barbuda  17.060816  -61.796428  \n",
       "...                        ...         ...  \n",
       "Venezuela             6.423750  -66.589730  \n",
       "Vietnam              14.058324  108.277199  \n",
       "Yemen                15.552727   48.516388  \n",
       "Zambia              -13.133897   27.849332  \n",
       "Zimbabwe            -19.015438   29.154857  \n",
       "\n",
       "[179 rows x 9 columns]"
      ]
     },
     "execution_count": 145,
     "metadata": {},
     "output_type": "execute_result"
    }
   ],
   "source": [
    "df = df.dropna()\n",
    "df.set_index(\"Country\", inplace=True)\n",
    "numpy_world_data = df.to_numpy()\n",
    "df"
   ]
  },
  {
   "cell_type": "code",
   "execution_count": 146,
   "id": "a874914b",
   "metadata": {},
   "outputs": [
    {
     "data": {
      "text/plain": [
       "array([[ 3.2490000e+01,  9.3000000e+01,  4.4700000e+00, ...,\n",
       "         2.8000000e-01,  3.3939110e+01,  6.7709953e+01],\n",
       "       [ 1.1780000e+01,  3.5500000e+02,  1.6200000e+00, ...,\n",
       "         1.2000000e+00,  4.1153332e+01,  2.0168331e+01],\n",
       "       [ 2.4280000e+01,  2.1300000e+02,  3.0200000e+00, ...,\n",
       "         1.7200000e+00,  2.8033886e+01,  1.6596260e+00],\n",
       "       ...,\n",
       "       [ 3.0450000e+01,  9.6700000e+02,  3.7900000e+00, ...,\n",
       "         3.1000000e-01,  1.5552727e+01,  4.8516388e+01],\n",
       "       [ 3.6190000e+01,  2.6000000e+02,  4.6300000e+00, ...,\n",
       "         1.1900000e+00, -1.3133897e+01,  2.7849332e+01],\n",
       "       [ 3.0680000e+01,  2.6300000e+02,  3.6200000e+00, ...,\n",
       "         2.1000000e-01, -1.9015438e+01,  2.9154857e+01]])"
      ]
     },
     "execution_count": 146,
     "metadata": {},
     "output_type": "execute_result"
    }
   ],
   "source": [
    "numpy_world_data"
   ]
  },
  {
   "cell_type": "code",
   "execution_count": 147,
   "id": "3cbee5b3",
   "metadata": {},
   "outputs": [],
   "source": [
    "# preparamos el numpy dataset con csr\n",
    "csr_world_data = csr_matrix(numpy_world_data)\n",
    "\n",
    "# definimos la transformacion SVD\n",
    "svd = TruncatedSVD(n_components=4, n_iter=15, random_state=48)\n",
    "#componentes = variables que usamos\n",
    "svd.fit(x)\n",
    "\n",
    "# aplicamos la transformacion al dataset\n",
    "svd_world_data = svd.transform(csr_world_data)\n"
   ]
  },
  {
   "cell_type": "code",
   "execution_count": 148,
   "id": "4545d823",
   "metadata": {},
   "outputs": [
    {
     "name": "stdout",
     "output_type": "stream",
     "text": [
      "Variabilidad explicada por los componentes: 0.9965605101001191, en nuestro caso con 4 componentes explicamos el 99%\n"
     ]
    }
   ],
   "source": [
    "print(f'Variabilidad explicada por los componentes: {svd.explained_variance_ratio_.sum()}, en nuestro caso con 4 componentes explicamos el 99%')"
   ]
  },
  {
   "cell_type": "code",
   "execution_count": null,
   "id": "8da31c00",
   "metadata": {},
   "outputs": [],
   "source": []
  },
  {
   "cell_type": "markdown",
   "id": "590cab6f",
   "metadata": {},
   "source": [
    "# Regresion\n"
   ]
  },
  {
   "cell_type": "markdown",
   "id": "07c3aba2",
   "metadata": {},
   "source": [
    "Aplicar regresión sobre un conjunto de datos, obtener los coeficientes e interpretarlos\n",
    "\n",
    "https://scikit-learn.org/stable/modules/generated/sklearn.linear_model.LinearRegression.html"
   ]
  },
  {
   "cell_type": "code",
   "execution_count": 5,
   "id": "91b26f83",
   "metadata": {},
   "outputs": [],
   "source": [
    "esperanza = dn[:,16]\n",
    "nacimientosx1000 = dn[:,4]"
   ]
  },
  {
   "cell_type": "code",
   "execution_count": 6,
   "id": "0ec5b82c",
   "metadata": {},
   "outputs": [
    {
     "data": {
      "text/html": [
       "<style>#sk-container-id-1 {color: black;background-color: white;}#sk-container-id-1 pre{padding: 0;}#sk-container-id-1 div.sk-toggleable {background-color: white;}#sk-container-id-1 label.sk-toggleable__label {cursor: pointer;display: block;width: 100%;margin-bottom: 0;padding: 0.3em;box-sizing: border-box;text-align: center;}#sk-container-id-1 label.sk-toggleable__label-arrow:before {content: \"▸\";float: left;margin-right: 0.25em;color: #696969;}#sk-container-id-1 label.sk-toggleable__label-arrow:hover:before {color: black;}#sk-container-id-1 div.sk-estimator:hover label.sk-toggleable__label-arrow:before {color: black;}#sk-container-id-1 div.sk-toggleable__content {max-height: 0;max-width: 0;overflow: hidden;text-align: left;background-color: #f0f8ff;}#sk-container-id-1 div.sk-toggleable__content pre {margin: 0.2em;color: black;border-radius: 0.25em;background-color: #f0f8ff;}#sk-container-id-1 input.sk-toggleable__control:checked~div.sk-toggleable__content {max-height: 200px;max-width: 100%;overflow: auto;}#sk-container-id-1 input.sk-toggleable__control:checked~label.sk-toggleable__label-arrow:before {content: \"▾\";}#sk-container-id-1 div.sk-estimator input.sk-toggleable__control:checked~label.sk-toggleable__label {background-color: #d4ebff;}#sk-container-id-1 div.sk-label input.sk-toggleable__control:checked~label.sk-toggleable__label {background-color: #d4ebff;}#sk-container-id-1 input.sk-hidden--visually {border: 0;clip: rect(1px 1px 1px 1px);clip: rect(1px, 1px, 1px, 1px);height: 1px;margin: -1px;overflow: hidden;padding: 0;position: absolute;width: 1px;}#sk-container-id-1 div.sk-estimator {font-family: monospace;background-color: #f0f8ff;border: 1px dotted black;border-radius: 0.25em;box-sizing: border-box;margin-bottom: 0.5em;}#sk-container-id-1 div.sk-estimator:hover {background-color: #d4ebff;}#sk-container-id-1 div.sk-parallel-item::after {content: \"\";width: 100%;border-bottom: 1px solid gray;flex-grow: 1;}#sk-container-id-1 div.sk-label:hover label.sk-toggleable__label {background-color: #d4ebff;}#sk-container-id-1 div.sk-serial::before {content: \"\";position: absolute;border-left: 1px solid gray;box-sizing: border-box;top: 0;bottom: 0;left: 50%;z-index: 0;}#sk-container-id-1 div.sk-serial {display: flex;flex-direction: column;align-items: center;background-color: white;padding-right: 0.2em;padding-left: 0.2em;position: relative;}#sk-container-id-1 div.sk-item {position: relative;z-index: 1;}#sk-container-id-1 div.sk-parallel {display: flex;align-items: stretch;justify-content: center;background-color: white;position: relative;}#sk-container-id-1 div.sk-item::before, #sk-container-id-1 div.sk-parallel-item::before {content: \"\";position: absolute;border-left: 1px solid gray;box-sizing: border-box;top: 0;bottom: 0;left: 50%;z-index: -1;}#sk-container-id-1 div.sk-parallel-item {display: flex;flex-direction: column;z-index: 1;position: relative;background-color: white;}#sk-container-id-1 div.sk-parallel-item:first-child::after {align-self: flex-end;width: 50%;}#sk-container-id-1 div.sk-parallel-item:last-child::after {align-self: flex-start;width: 50%;}#sk-container-id-1 div.sk-parallel-item:only-child::after {width: 0;}#sk-container-id-1 div.sk-dashed-wrapped {border: 1px dashed gray;margin: 0 0.4em 0.5em 0.4em;box-sizing: border-box;padding-bottom: 0.4em;background-color: white;}#sk-container-id-1 div.sk-label label {font-family: monospace;font-weight: bold;display: inline-block;line-height: 1.2em;}#sk-container-id-1 div.sk-label-container {text-align: center;}#sk-container-id-1 div.sk-container {/* jupyter's `normalize.less` sets `[hidden] { display: none; }` but bootstrap.min.css set `[hidden] { display: none !important; }` so we also need the `!important` here to be able to override the default hidden behavior on the sphinx rendered scikit-learn.org. See: https://github.com/scikit-learn/scikit-learn/issues/21755 */display: inline-block !important;position: relative;}#sk-container-id-1 div.sk-text-repr-fallback {display: none;}</style><div id=\"sk-container-id-1\" class=\"sk-top-container\"><div class=\"sk-text-repr-fallback\"><pre>LinearRegression()</pre><b>In a Jupyter environment, please rerun this cell to show the HTML representation or trust the notebook. <br />On GitHub, the HTML representation is unable to render, please try loading this page with nbviewer.org.</b></div><div class=\"sk-container\" hidden><div class=\"sk-item\"><div class=\"sk-estimator sk-toggleable\"><input class=\"sk-toggleable__control sk-hidden--visually\" id=\"sk-estimator-id-1\" type=\"checkbox\" checked><label for=\"sk-estimator-id-1\" class=\"sk-toggleable__label sk-toggleable__label-arrow\">LinearRegression</label><div class=\"sk-toggleable__content\"><pre>LinearRegression()</pre></div></div></div></div></div>"
      ],
      "text/plain": [
       "LinearRegression()"
      ]
     },
     "execution_count": 6,
     "metadata": {},
     "output_type": "execute_result"
    }
   ],
   "source": [
    "model = LinearRegression()\n",
    "model.fit(esperanza.reshape(-1, 1), nacimientosx1000)"
   ]
  },
  {
   "cell_type": "code",
   "execution_count": 35,
   "id": "07f293e1",
   "metadata": {},
   "outputs": [
    {
     "name": "stdout",
     "output_type": "stream",
     "text": [
      "Yi ≈ β0 + β1xi, i = 1, . . . , n.\n",
      "\n",
      " El coeficiente de la regresion lineal (β1) es [-1.17189551], cuando la esperanza de vida aumenta un punto, los nacimientos disminuyen 1,17 unidades\n",
      "\n",
      " El termino independiente o intercepto (β0) es 105.15415540248567, igual al valor de Y cuando la variable es cero\n",
      "\n",
      " La factorizacion por SVD da [80.95634575] valores singulares\n"
     ]
    }
   ],
   "source": [
    "print(f'Yi ≈ β0 + β1xi, i = 1, . . . , n.\\n\\n El coeficiente de la regresion lineal (β1) es {model.coef_}, cuando la esperanza de vida aumenta un punto, los nacimientos disminuyen 1,17 unidades')\n",
    "print(f'\\n El termino independiente o intercepto (β0) es {model.intercept_}, igual al valor de Y cuando la variable es cero')\n",
    "print(f'\\n La factorizacion por SVD da {model.singular_} valores singulares')"
   ]
  },
  {
   "cell_type": "code",
   "execution_count": null,
   "id": "c100de29",
   "metadata": {},
   "outputs": [],
   "source": []
  }
 ],
 "metadata": {
  "kernelspec": {
   "display_name": "Python 3 (ipykernel)",
   "language": "python",
   "name": "python3"
  },
  "language_info": {
   "codemirror_mode": {
    "name": "ipython",
    "version": 3
   },
   "file_extension": ".py",
   "mimetype": "text/x-python",
   "name": "python",
   "nbconvert_exporter": "python",
   "pygments_lexer": "ipython3",
   "version": "3.10.9"
  }
 },
 "nbformat": 4,
 "nbformat_minor": 5
}
