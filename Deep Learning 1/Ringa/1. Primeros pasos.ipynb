{
 "cells": [
  {
   "cell_type": "code",
   "execution_count": 36,
   "id": "173ea43e-7c89-49c1-aae5-c47f3f1b656e",
   "metadata": {},
   "outputs": [
    {
     "name": "stdout",
     "output_type": "stream",
     "text": [
      "Pelo color: Rojo\n",
      "Pelo color2: Claro\n",
      "Genero: Mujer\n",
      "Gordura: 4\n",
      "Musculos: 3\n",
      "Piel oscuridad: 1\n",
      "Piel tono: Frio\n"
     ]
    }
   ],
   "source": [
    "import random\n",
    "print('Pelo color:', random.choice([\"Castaño\",'Rubio', 'Rojo', 'Negro']))\n",
    "print('Pelo color2:', random.choice(['Muy claro','Claro','Medio','Oscuro','Muy oscuro']))\n",
    "print('Genero:', random.choice([\"Hombre\",'Mujer']))\n",
    "print('Gordura:', random.choice([0,1,1,2,2,3,3,4,5,6,7,8,9,10]))\n",
    "print('Musculos:', random.choice([0,1,1,2,2,3,3,4,5,6,7,8,9,10]))\n",
    "print('Piel oscuridad:', random.choice([0,1,2,3,4,5,6,7,8,9,10]))\n",
    "print('Piel tono:', random.choice(['Calido', 'Frio']))"
   ]
  },
  {
   "cell_type": "code",
   "execution_count": 1,
   "id": "d29a20d5-166f-440b-80ee-b869b379bf6d",
   "metadata": {},
   "outputs": [],
   "source": [
    "import tensorflow as tf\n",
    "import numpy as np\n",
    "celsius = np.array([-40, -10, 0, 8, 15, 22, 38], dtype=float)\n",
    "fahrenheit = np.array([-40, 14, 32, 46, 59, 72, 100], dtype=float)"
   ]
  },
  {
   "cell_type": "code",
   "execution_count": 18,
   "id": "e482a518-8cc1-4dd3-9e9c-4b785ea560c9",
   "metadata": {},
   "outputs": [
    {
     "name": "stderr",
     "output_type": "stream",
     "text": [
      "C:\\Users\\Usuario\\anaconda3\\lib\\site-packages\\keras\\src\\layers\\core\\dense.py:87: UserWarning: Do not pass an `input_shape`/`input_dim` argument to a layer. When using Sequential models, prefer using an `Input(shape)` object as the first layer in the model instead.\n",
      "  super().__init__(activity_regularizer=activity_regularizer, **kwargs)\n"
     ]
    }
   ],
   "source": [
    "#capa = tf.keras.layers.Dense(units=1, input_shape=[1])\n",
    "#modelo = tf.keras.Sequential([capa])\n",
    "\n",
    "oculta1 = tf.keras.layers.Dense(units=3, input_shape=[1])\n",
    "oculta2 = tf.keras.layers.Dense(units=3)\n",
    "salida = tf.keras.layers.Dense(units=1)\n",
    "modelo = tf.keras.Sequential([oculta1, oculta2, salida])"
   ]
  },
  {
   "cell_type": "code",
   "execution_count": 19,
   "id": "bf1a865e-3c49-43be-b59c-af1b1c7fec06",
   "metadata": {},
   "outputs": [],
   "source": [
    "modelo.compile(\n",
    "    optimizer=tf.keras.optimizers.Adam(0.1),\n",
    "    loss='mean_squared_error'\n",
    ")"
   ]
  },
  {
   "cell_type": "code",
   "execution_count": 20,
   "id": "b8d0356c-9aab-4e05-a3cc-21e7cc09c041",
   "metadata": {},
   "outputs": [
    {
     "name": "stdout",
     "output_type": "stream",
     "text": [
      "Comenzando entrenamiento...\n",
      "Modelo entrenado!\n"
     ]
    }
   ],
   "source": [
    "print(\"Comenzando entrenamiento...\")\n",
    "historial = modelo.fit(celsius, fahrenheit, epochs=700, verbose=False)\n",
    "print(\"Modelo entrenado!\")"
   ]
  },
  {
   "cell_type": "code",
   "execution_count": 21,
   "id": "c8dd4808-ab4c-4968-b4e7-9b8fbbcc5e8e",
   "metadata": {},
   "outputs": [
    {
     "data": {
      "text/plain": [
       "[<matplotlib.lines.Line2D at 0x18acd0f1c90>]"
      ]
     },
     "execution_count": 21,
     "metadata": {},
     "output_type": "execute_result"
    },
    {
     "data": {
      "image/png": "[encoded data removed]",
      "text/plain": [
       "<Figure size 640x480 with 1 Axes>"
      ]
     },
     "metadata": {},
     "output_type": "display_data"
    }
   ],
   "source": [
    "import matplotlib.pyplot as plt\n",
    "plt.xlabel(\"# Epoca\")\n",
    "plt.ylabel(\"Magnitud de pérdida\")\n",
    "plt.plot(historial.history[\"loss\"])"
   ]
  },
  {
   "cell_type": "code",
   "execution_count": 22,
   "id": "8b18b68f-edad-4159-a99c-a2fac42078a8",
   "metadata": {},
   "outputs": [
    {
     "name": "stdout",
     "output_type": "stream",
     "text": [
      "Hagamos una predicción!\n",
      "\u001b[1m1/1\u001b[0m \u001b[32m━━━━━━━━━━━━━━━━━━━━\u001b[0m\u001b[37m\u001b[0m \u001b[1m0s\u001b[0m 41ms/step\n",
      "El resultado es [[211.74742]] fahrenheit!\n"
     ]
    }
   ],
   "source": [
    "print(\"Hagamos una predicción!\")\n",
    "resultado = modelo.predict(np.array([100.0]))\n",
    "print(\"El resultado es \" + str(resultado) + \" fahrenheit!\")"
   ]
  },
  {
   "cell_type": "code",
   "execution_count": 23,
   "id": "a1c4862c-51e0-481e-bc93-b1692e3f15f5",
   "metadata": {},
   "outputs": [
    {
     "name": "stdout",
     "output_type": "stream",
     "text": [
      "Variables internas del modelo\n",
      "[array([[-0.03250973,  1.0261906 ,  0.52456856]], dtype=float32), array([-1.764243,  3.951257, -2.645729], dtype=float32), array([[ 0.96571547,  0.4113941 , -0.35266402],\n",
      "       [-1.102487  , -1.0031939 ,  2.1392546 ],\n",
      "       [ 1.2153025 , -0.45097008,  0.17041111]], dtype=float32), array([-3.8165839 , -0.10325875,  2.8148477 ], dtype=float32), array([[-1.8019878 ],\n",
      "       [ 0.18663274],\n",
      "       [ 0.4748136 ]], dtype=float32), array([3.6015513], dtype=float32)]\n"
     ]
    }
   ],
   "source": [
    "print(\"Variables internas del modelo\")\n",
    "print(modelo.get_weights())"
   ]
  },
  {
   "cell_type": "code",
   "execution_count": null,
   "id": "020e8144-1a5e-444e-9ff2-2cb9f844fc78",
   "metadata": {},
   "outputs": [],
   "source": []
  },
  {
   "cell_type": "code",
   "execution_count": null,
   "id": "1ba60e36-9f4e-4b89-8907-020122efc26c",
   "metadata": {},
   "outputs": [],
   "source": []
  },
  {
   "cell_type": "code",
   "execution_count": null,
   "id": "fb8ca06b-4912-48a9-aa68-09bb71b4fdee",
   "metadata": {},
   "outputs": [],
   "source": []
  }
 ],
 "metadata": {
  "kernelspec": {
   "display_name": "Python 3 (ipykernel)",
   "language": "python",
   "name": "python3"
  },
  "language_info": {
   "codemirror_mode": {
    "name": "ipython",
    "version": 3
   },
   "file_extension": ".py",
   "mimetype": "text/x-python",
   "name": "python",
   "nbconvert_exporter": "python",
   "pygments_lexer": "ipython3",
   "version": "3.10.9"
  }
 },
 "nbformat": 4,
 "nbformat_minor": 5
}
