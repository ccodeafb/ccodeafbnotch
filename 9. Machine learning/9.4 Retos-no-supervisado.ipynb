{
 "cells": [
  {
   "cell_type": "code",
   "execution_count": 44,
   "id": "b9ddbdbd",
   "metadata": {},
   "outputs": [],
   "source": [
    "import pandas as pd\n",
    "import numpy as np\n",
    "import sklearn\n",
    "from sklearn.model_selection import train_test_split\n",
    "import matplotlib.pyplot as plt\n",
    "from sklearn import datasets\n",
    "from sklearn.cluster import KMeans"
   ]
  },
  {
   "cell_type": "markdown",
   "id": "969b7d60",
   "metadata": {},
   "source": [
    "### Reto 1\n",
    "Utiliza el Iris dataset, que contiene información sobre la longitud y ancho de sépalos y pétalos de flores Iris.\n",
    "\n",
    "Aunque este conjunto de datos típicamente se usa para tareas de clasificación, tu tarea será realizar un clustering y luego comparar los clusters obtenidos con las etiquetas reales para ver qué tan bien el algoritmo ha logrado agrupar las flores similares.\n",
    "\n",
    "- Importa el Iris dataset con scikit-learn.\n"
   ]
  },
  {
   "cell_type": "code",
   "execution_count": 9,
   "id": "7aa45860",
   "metadata": {},
   "outputs": [],
   "source": [
    "iris = datasets.load_iris(as_frame = True)\n",
    "x = iris.data"
   ]
  },
  {
   "cell_type": "markdown",
   "id": "0320d1d6",
   "metadata": {},
   "source": [
    "- Utiliza el algoritmo KMeans de scikit-learn para realizar el clustering (https://scikit-learn.org/stable/modules/generated/sklearn.cluster.KMeans.html). \n",
    "- Asumiendo que desconoces el número real de clases, puedes elegir k=3 para el número de clusters, ya que este es el número real de clases en el dataset.\n"
   ]
  },
  {
   "cell_type": "code",
   "execution_count": 10,
   "id": "a2dc2924",
   "metadata": {},
   "outputs": [
    {
     "name": "stderr",
     "output_type": "stream",
     "text": [
      "C:\\Users\\Usuario\\anaconda3\\lib\\site-packages\\sklearn\\cluster\\_kmeans.py:1436: UserWarning: KMeans is known to have a memory leak on Windows with MKL, when there are less chunks than available threads. You can avoid it by setting the environment variable OMP_NUM_THREADS=1.\n",
      "  warnings.warn(\n"
     ]
    },
    {
     "data": {
      "text/plain": [
       "array([1, 1, 1, 1, 1, 1, 1, 1, 1, 1, 1, 1, 1, 1, 1, 1, 1, 1, 1, 1, 1, 1,\n",
       "       1, 1, 1, 1, 1, 1, 1, 1, 1, 1, 1, 1, 1, 1, 1, 1, 1, 1, 1, 1, 1, 1,\n",
       "       1, 1, 1, 1, 1, 1, 2, 0, 2, 0, 0, 0, 0, 0, 0, 0, 0, 0, 0, 0, 0, 0,\n",
       "       0, 0, 0, 0, 0, 0, 0, 0, 0, 0, 0, 2, 0, 0, 0, 0, 0, 0, 0, 0, 0, 0,\n",
       "       0, 0, 0, 0, 0, 0, 0, 0, 0, 0, 0, 0, 2, 0, 2, 2, 2, 2, 0, 2, 2, 2,\n",
       "       2, 2, 2, 0, 0, 2, 2, 2, 2, 0, 2, 0, 2, 0, 2, 2, 0, 0, 2, 2, 2, 2,\n",
       "       2, 0, 2, 2, 2, 2, 0, 2, 2, 2, 0, 2, 2, 2, 0, 2, 2, 0])"
      ]
     },
     "execution_count": 10,
     "metadata": {},
     "output_type": "execute_result"
    }
   ],
   "source": [
    "kmeans = KMeans(n_clusters=3, random_state=0, n_init=\"auto\").fit(x)\n",
    "kmeans.labels_"
   ]
  },
  {
   "cell_type": "markdown",
   "id": "2a4cb0e6",
   "metadata": {},
   "source": [
    "- Para cada cluster, calcula descriptores estadísticos como la media, mediana, desviación estándar, etc., para cada característica (longitud y ancho de sépalos y pétalos).\n"
   ]
  },
  {
   "cell_type": "code",
   "execution_count": 11,
   "id": "4bc2bb9f",
   "metadata": {},
   "outputs": [],
   "source": [
    "#Añadimos kmeans labels\n",
    "xk = x.copy()\n",
    "xk['kmeans_labels'] = kmeans.labels_\n"
   ]
  },
  {
   "cell_type": "code",
   "execution_count": 92,
   "id": "88d608de",
   "metadata": {},
   "outputs": [
    {
     "data": {
      "text/html": [
       "<div>\n",
       "<style scoped>\n",
       "    .dataframe tbody tr th:only-of-type {\n",
       "        vertical-align: middle;\n",
       "    }\n",
       "\n",
       "    .dataframe tbody tr th {\n",
       "        vertical-align: top;\n",
       "    }\n",
       "\n",
       "    .dataframe thead tr th {\n",
       "        text-align: left;\n",
       "    }\n",
       "\n",
       "    .dataframe thead tr:last-of-type th {\n",
       "        text-align: right;\n",
       "    }\n",
       "</style>\n",
       "<table border=\"1\" class=\"dataframe\">\n",
       "  <thead>\n",
       "    <tr>\n",
       "      <th></th>\n",
       "      <th colspan=\"8\" halign=\"left\">sepal length (cm)</th>\n",
       "      <th colspan=\"2\" halign=\"left\">sepal width (cm)</th>\n",
       "      <th>...</th>\n",
       "      <th colspan=\"2\" halign=\"left\">petal length (cm)</th>\n",
       "      <th colspan=\"8\" halign=\"left\">petal width (cm)</th>\n",
       "    </tr>\n",
       "    <tr>\n",
       "      <th></th>\n",
       "      <th>count</th>\n",
       "      <th>mean</th>\n",
       "      <th>std</th>\n",
       "      <th>min</th>\n",
       "      <th>25%</th>\n",
       "      <th>50%</th>\n",
       "      <th>75%</th>\n",
       "      <th>max</th>\n",
       "      <th>count</th>\n",
       "      <th>mean</th>\n",
       "      <th>...</th>\n",
       "      <th>75%</th>\n",
       "      <th>max</th>\n",
       "      <th>count</th>\n",
       "      <th>mean</th>\n",
       "      <th>std</th>\n",
       "      <th>min</th>\n",
       "      <th>25%</th>\n",
       "      <th>50%</th>\n",
       "      <th>75%</th>\n",
       "      <th>max</th>\n",
       "    </tr>\n",
       "    <tr>\n",
       "      <th>kmeans_labels</th>\n",
       "      <th></th>\n",
       "      <th></th>\n",
       "      <th></th>\n",
       "      <th></th>\n",
       "      <th></th>\n",
       "      <th></th>\n",
       "      <th></th>\n",
       "      <th></th>\n",
       "      <th></th>\n",
       "      <th></th>\n",
       "      <th></th>\n",
       "      <th></th>\n",
       "      <th></th>\n",
       "      <th></th>\n",
       "      <th></th>\n",
       "      <th></th>\n",
       "      <th></th>\n",
       "      <th></th>\n",
       "      <th></th>\n",
       "      <th></th>\n",
       "      <th></th>\n",
       "    </tr>\n",
       "  </thead>\n",
       "  <tbody>\n",
       "    <tr>\n",
       "      <th>0</th>\n",
       "      <td>61.0</td>\n",
       "      <td>5.883607</td>\n",
       "      <td>0.448025</td>\n",
       "      <td>4.9</td>\n",
       "      <td>5.60</td>\n",
       "      <td>5.9</td>\n",
       "      <td>6.2</td>\n",
       "      <td>6.8</td>\n",
       "      <td>61.0</td>\n",
       "      <td>2.740984</td>\n",
       "      <td>...</td>\n",
       "      <td>4.800</td>\n",
       "      <td>5.1</td>\n",
       "      <td>61.0</td>\n",
       "      <td>1.434426</td>\n",
       "      <td>0.299936</td>\n",
       "      <td>1.0</td>\n",
       "      <td>1.3</td>\n",
       "      <td>1.4</td>\n",
       "      <td>1.6</td>\n",
       "      <td>2.4</td>\n",
       "    </tr>\n",
       "    <tr>\n",
       "      <th>1</th>\n",
       "      <td>50.0</td>\n",
       "      <td>5.006000</td>\n",
       "      <td>0.352490</td>\n",
       "      <td>4.3</td>\n",
       "      <td>4.80</td>\n",
       "      <td>5.0</td>\n",
       "      <td>5.2</td>\n",
       "      <td>5.8</td>\n",
       "      <td>50.0</td>\n",
       "      <td>3.428000</td>\n",
       "      <td>...</td>\n",
       "      <td>1.575</td>\n",
       "      <td>1.9</td>\n",
       "      <td>50.0</td>\n",
       "      <td>0.246000</td>\n",
       "      <td>0.105386</td>\n",
       "      <td>0.1</td>\n",
       "      <td>0.2</td>\n",
       "      <td>0.2</td>\n",
       "      <td>0.3</td>\n",
       "      <td>0.6</td>\n",
       "    </tr>\n",
       "    <tr>\n",
       "      <th>2</th>\n",
       "      <td>39.0</td>\n",
       "      <td>6.853846</td>\n",
       "      <td>0.488201</td>\n",
       "      <td>6.1</td>\n",
       "      <td>6.45</td>\n",
       "      <td>6.7</td>\n",
       "      <td>7.2</td>\n",
       "      <td>7.9</td>\n",
       "      <td>39.0</td>\n",
       "      <td>3.076923</td>\n",
       "      <td>...</td>\n",
       "      <td>6.000</td>\n",
       "      <td>6.9</td>\n",
       "      <td>39.0</td>\n",
       "      <td>2.053846</td>\n",
       "      <td>0.296334</td>\n",
       "      <td>1.4</td>\n",
       "      <td>1.8</td>\n",
       "      <td>2.1</td>\n",
       "      <td>2.3</td>\n",
       "      <td>2.5</td>\n",
       "    </tr>\n",
       "  </tbody>\n",
       "</table>\n",
       "<p>3 rows × 32 columns</p>\n",
       "</div>"
      ],
      "text/plain": [
       "              sepal length (cm)                                                \\\n",
       "                          count      mean       std  min   25%  50%  75%  max   \n",
       "kmeans_labels                                                                   \n",
       "0                          61.0  5.883607  0.448025  4.9  5.60  5.9  6.2  6.8   \n",
       "1                          50.0  5.006000  0.352490  4.3  4.80  5.0  5.2  5.8   \n",
       "2                          39.0  6.853846  0.488201  6.1  6.45  6.7  7.2  7.9   \n",
       "\n",
       "              sepal width (cm)            ... petal length (cm)       \\\n",
       "                         count      mean  ...               75%  max   \n",
       "kmeans_labels                             ...                          \n",
       "0                         61.0  2.740984  ...             4.800  5.1   \n",
       "1                         50.0  3.428000  ...             1.575  1.9   \n",
       "2                         39.0  3.076923  ...             6.000  6.9   \n",
       "\n",
       "              petal width (cm)                                               \n",
       "                         count      mean       std  min  25%  50%  75%  max  \n",
       "kmeans_labels                                                                \n",
       "0                         61.0  1.434426  0.299936  1.0  1.3  1.4  1.6  2.4  \n",
       "1                         50.0  0.246000  0.105386  0.1  0.2  0.2  0.3  0.6  \n",
       "2                         39.0  2.053846  0.296334  1.4  1.8  2.1  2.3  2.5  \n",
       "\n",
       "[3 rows x 32 columns]"
      ]
     },
     "execution_count": 92,
     "metadata": {},
     "output_type": "execute_result"
    }
   ],
   "source": [
    "xk.groupby('kmeans_labels').describe()"
   ]
  },
  {
   "cell_type": "code",
   "execution_count": 12,
   "id": "60a39604",
   "metadata": {},
   "outputs": [
    {
     "data": {
      "text/html": [
       "<div>\n",
       "<style scoped>\n",
       "    .dataframe tbody tr th:only-of-type {\n",
       "        vertical-align: middle;\n",
       "    }\n",
       "\n",
       "    .dataframe tbody tr th {\n",
       "        vertical-align: top;\n",
       "    }\n",
       "\n",
       "    .dataframe thead th {\n",
       "        text-align: right;\n",
       "    }\n",
       "</style>\n",
       "<table border=\"1\" class=\"dataframe\">\n",
       "  <thead>\n",
       "    <tr style=\"text-align: right;\">\n",
       "      <th></th>\n",
       "      <th>sepal length (cm)</th>\n",
       "      <th>sepal width (cm)</th>\n",
       "      <th>petal length (cm)</th>\n",
       "      <th>petal width (cm)</th>\n",
       "      <th>kmeans_labels</th>\n",
       "    </tr>\n",
       "  </thead>\n",
       "  <tbody>\n",
       "    <tr>\n",
       "      <th>51</th>\n",
       "      <td>6.4</td>\n",
       "      <td>3.2</td>\n",
       "      <td>4.5</td>\n",
       "      <td>1.5</td>\n",
       "      <td>0</td>\n",
       "    </tr>\n",
       "    <tr>\n",
       "      <th>53</th>\n",
       "      <td>5.5</td>\n",
       "      <td>2.3</td>\n",
       "      <td>4.0</td>\n",
       "      <td>1.3</td>\n",
       "      <td>0</td>\n",
       "    </tr>\n",
       "    <tr>\n",
       "      <th>54</th>\n",
       "      <td>6.5</td>\n",
       "      <td>2.8</td>\n",
       "      <td>4.6</td>\n",
       "      <td>1.5</td>\n",
       "      <td>0</td>\n",
       "    </tr>\n",
       "    <tr>\n",
       "      <th>55</th>\n",
       "      <td>5.7</td>\n",
       "      <td>2.8</td>\n",
       "      <td>4.5</td>\n",
       "      <td>1.3</td>\n",
       "      <td>0</td>\n",
       "    </tr>\n",
       "    <tr>\n",
       "      <th>56</th>\n",
       "      <td>6.3</td>\n",
       "      <td>3.3</td>\n",
       "      <td>4.7</td>\n",
       "      <td>1.6</td>\n",
       "      <td>0</td>\n",
       "    </tr>\n",
       "    <tr>\n",
       "      <th>...</th>\n",
       "      <td>...</td>\n",
       "      <td>...</td>\n",
       "      <td>...</td>\n",
       "      <td>...</td>\n",
       "      <td>...</td>\n",
       "    </tr>\n",
       "    <tr>\n",
       "      <th>133</th>\n",
       "      <td>6.3</td>\n",
       "      <td>2.8</td>\n",
       "      <td>5.1</td>\n",
       "      <td>1.5</td>\n",
       "      <td>0</td>\n",
       "    </tr>\n",
       "    <tr>\n",
       "      <th>138</th>\n",
       "      <td>6.0</td>\n",
       "      <td>3.0</td>\n",
       "      <td>4.8</td>\n",
       "      <td>1.8</td>\n",
       "      <td>0</td>\n",
       "    </tr>\n",
       "    <tr>\n",
       "      <th>142</th>\n",
       "      <td>5.8</td>\n",
       "      <td>2.7</td>\n",
       "      <td>5.1</td>\n",
       "      <td>1.9</td>\n",
       "      <td>0</td>\n",
       "    </tr>\n",
       "    <tr>\n",
       "      <th>146</th>\n",
       "      <td>6.3</td>\n",
       "      <td>2.5</td>\n",
       "      <td>5.0</td>\n",
       "      <td>1.9</td>\n",
       "      <td>0</td>\n",
       "    </tr>\n",
       "    <tr>\n",
       "      <th>149</th>\n",
       "      <td>5.9</td>\n",
       "      <td>3.0</td>\n",
       "      <td>5.1</td>\n",
       "      <td>1.8</td>\n",
       "      <td>0</td>\n",
       "    </tr>\n",
       "  </tbody>\n",
       "</table>\n",
       "<p>61 rows × 5 columns</p>\n",
       "</div>"
      ],
      "text/plain": [
       "     sepal length (cm)  sepal width (cm)  petal length (cm)  petal width (cm)  \\\n",
       "51                 6.4               3.2                4.5               1.5   \n",
       "53                 5.5               2.3                4.0               1.3   \n",
       "54                 6.5               2.8                4.6               1.5   \n",
       "55                 5.7               2.8                4.5               1.3   \n",
       "56                 6.3               3.3                4.7               1.6   \n",
       "..                 ...               ...                ...               ...   \n",
       "133                6.3               2.8                5.1               1.5   \n",
       "138                6.0               3.0                4.8               1.8   \n",
       "142                5.8               2.7                5.1               1.9   \n",
       "146                6.3               2.5                5.0               1.9   \n",
       "149                5.9               3.0                5.1               1.8   \n",
       "\n",
       "     kmeans_labels  \n",
       "51               0  \n",
       "53               0  \n",
       "54               0  \n",
       "55               0  \n",
       "56               0  \n",
       "..             ...  \n",
       "133              0  \n",
       "138              0  \n",
       "142              0  \n",
       "146              0  \n",
       "149              0  \n",
       "\n",
       "[61 rows x 5 columns]"
      ]
     },
     "execution_count": 12,
     "metadata": {},
     "output_type": "execute_result"
    }
   ],
   "source": [
    "#Dividimos en tres dataframes\n",
    "x0 = xk[xk['kmeans_labels'] == 0]\n",
    "x1 = xk[xk['kmeans_labels'] == 1]\n",
    "x2 = xk[xk['kmeans_labels'] == 2]\n",
    "\n",
    "#Dibujamos histogramas\n",
    "#x0.hist()\n",
    "#x1.hist()\n",
    "#x2.hist()\n",
    "x0"
   ]
  },
  {
   "cell_type": "code",
   "execution_count": 13,
   "id": "fc8241cc",
   "metadata": {},
   "outputs": [],
   "source": [
    "#Predicciones\n",
    "\n",
    "y = kmeans.predict(x)\n",
    "y0 = kmeans.predict(x0.iloc[:,:4])\n",
    "y1 = kmeans.predict(x1.iloc[:,:4])\n",
    "y2 = kmeans.predict(x2.iloc[:,:4])\n",
    "\n",
    "col = list(x1.iloc[:,:4].columns)"
   ]
  },
  {
   "cell_type": "code",
   "execution_count": 14,
   "id": "b7f57f69",
   "metadata": {
    "scrolled": true
   },
   "outputs": [
    {
     "data": {
      "text/html": [
       "<div>\n",
       "<style scoped>\n",
       "    .dataframe tbody tr th:only-of-type {\n",
       "        vertical-align: middle;\n",
       "    }\n",
       "\n",
       "    .dataframe tbody tr th {\n",
       "        vertical-align: top;\n",
       "    }\n",
       "\n",
       "    .dataframe thead tr th {\n",
       "        text-align: left;\n",
       "    }\n",
       "</style>\n",
       "<table border=\"1\" class=\"dataframe\">\n",
       "  <thead>\n",
       "    <tr>\n",
       "      <th></th>\n",
       "      <th>x0</th>\n",
       "      <th>x1</th>\n",
       "      <th>x2</th>\n",
       "    </tr>\n",
       "    <tr>\n",
       "      <th></th>\n",
       "      <th>Media</th>\n",
       "      <th>Media</th>\n",
       "      <th>Media</th>\n",
       "    </tr>\n",
       "  </thead>\n",
       "  <tbody>\n",
       "    <tr>\n",
       "      <th>sepal length (cm)</th>\n",
       "      <td>5.883607</td>\n",
       "      <td>5.006</td>\n",
       "      <td>6.853846</td>\n",
       "    </tr>\n",
       "    <tr>\n",
       "      <th>sepal width (cm)</th>\n",
       "      <td>2.740984</td>\n",
       "      <td>3.428</td>\n",
       "      <td>3.076923</td>\n",
       "    </tr>\n",
       "    <tr>\n",
       "      <th>petal length (cm)</th>\n",
       "      <td>4.388525</td>\n",
       "      <td>1.462</td>\n",
       "      <td>5.715385</td>\n",
       "    </tr>\n",
       "    <tr>\n",
       "      <th>petal width (cm)</th>\n",
       "      <td>1.434426</td>\n",
       "      <td>0.246</td>\n",
       "      <td>2.053846</td>\n",
       "    </tr>\n",
       "  </tbody>\n",
       "</table>\n",
       "</div>"
      ],
      "text/plain": [
       "                         x0     x1        x2\n",
       "                      Media  Media     Media\n",
       "sepal length (cm)  5.883607  5.006  6.853846\n",
       "sepal width (cm)   2.740984  3.428  3.076923\n",
       "petal length (cm)  4.388525  1.462  5.715385\n",
       "petal width (cm)   1.434426  0.246  2.053846"
      ]
     },
     "execution_count": 14,
     "metadata": {},
     "output_type": "execute_result"
    }
   ],
   "source": [
    "#Descriptores estadisticos\n",
    "\n",
    "v = [x0, x1, x2]\n",
    "\n",
    " \n",
    "def crear_dt_media():    \n",
    "    dfs = []\n",
    "    medias = pd.DataFrame()\n",
    "    for i in v:\n",
    "        data = []\n",
    "        for j in col:\n",
    "            data.append(np.mean(np.array(i[j])))\n",
    "        df = pd.DataFrame(data, index=col, columns=['Media'])\n",
    "        dfs.append(df)\n",
    "    medias = pd.concat(dfs, axis=1, keys=['x0', 'x1', 'x2'])\n",
    "    return medias\n",
    "def crear_dt_mediana():       \n",
    "    dfs = []\n",
    "    mediana = pd.DataFrame()\n",
    "    for i in v:\n",
    "        data = []\n",
    "        for j in col:\n",
    "            data.append(np.median(np.array(i[j])))\n",
    "        df = pd.DataFrame(data, index=col, columns=['Mediana'])\n",
    "        dfs.append(df)\n",
    "    mediana = pd.concat(dfs, axis=1, keys=['x0', 'x1', 'x2'])\n",
    "    return mediana\n",
    "def crear_dt_desv():\n",
    "    dfs = []\n",
    "    desviacion = pd.DataFrame()\n",
    "    for i in v:\n",
    "        data = []\n",
    "        for j in col:\n",
    "            data.append(np.std(np.array(i[j])))\n",
    "        df = pd.DataFrame(data, index=col, columns=['Desviacion'])\n",
    "        dfs.append(df)\n",
    "    desviacion = pd.concat(dfs, axis=1, keys=['x0', 'x1', 'x2'])\n",
    "    return desviacion\n",
    "\n",
    "crear_dt_media()"
   ]
  },
  {
   "cell_type": "code",
   "execution_count": 15,
   "id": "0e90dd94",
   "metadata": {},
   "outputs": [
    {
     "data": {
      "text/html": [
       "<div>\n",
       "<style scoped>\n",
       "    .dataframe tbody tr th:only-of-type {\n",
       "        vertical-align: middle;\n",
       "    }\n",
       "\n",
       "    .dataframe tbody tr th {\n",
       "        vertical-align: top;\n",
       "    }\n",
       "\n",
       "    .dataframe thead tr th {\n",
       "        text-align: left;\n",
       "    }\n",
       "</style>\n",
       "<table border=\"1\" class=\"dataframe\">\n",
       "  <thead>\n",
       "    <tr>\n",
       "      <th></th>\n",
       "      <th>x0</th>\n",
       "      <th>x1</th>\n",
       "      <th>x2</th>\n",
       "    </tr>\n",
       "    <tr>\n",
       "      <th></th>\n",
       "      <th>Mediana</th>\n",
       "      <th>Mediana</th>\n",
       "      <th>Mediana</th>\n",
       "    </tr>\n",
       "  </thead>\n",
       "  <tbody>\n",
       "    <tr>\n",
       "      <th>sepal length (cm)</th>\n",
       "      <td>5.9</td>\n",
       "      <td>5.0</td>\n",
       "      <td>6.7</td>\n",
       "    </tr>\n",
       "    <tr>\n",
       "      <th>sepal width (cm)</th>\n",
       "      <td>2.8</td>\n",
       "      <td>3.4</td>\n",
       "      <td>3.0</td>\n",
       "    </tr>\n",
       "    <tr>\n",
       "      <th>petal length (cm)</th>\n",
       "      <td>4.5</td>\n",
       "      <td>1.5</td>\n",
       "      <td>5.6</td>\n",
       "    </tr>\n",
       "    <tr>\n",
       "      <th>petal width (cm)</th>\n",
       "      <td>1.4</td>\n",
       "      <td>0.2</td>\n",
       "      <td>2.1</td>\n",
       "    </tr>\n",
       "  </tbody>\n",
       "</table>\n",
       "</div>"
      ],
      "text/plain": [
       "                       x0      x1      x2\n",
       "                  Mediana Mediana Mediana\n",
       "sepal length (cm)     5.9     5.0     6.7\n",
       "sepal width (cm)      2.8     3.4     3.0\n",
       "petal length (cm)     4.5     1.5     5.6\n",
       "petal width (cm)      1.4     0.2     2.1"
      ]
     },
     "execution_count": 15,
     "metadata": {},
     "output_type": "execute_result"
    }
   ],
   "source": [
    "crear_dt_mediana()"
   ]
  },
  {
   "cell_type": "code",
   "execution_count": 16,
   "id": "9f528087",
   "metadata": {},
   "outputs": [
    {
     "data": {
      "text/html": [
       "<div>\n",
       "<style scoped>\n",
       "    .dataframe tbody tr th:only-of-type {\n",
       "        vertical-align: middle;\n",
       "    }\n",
       "\n",
       "    .dataframe tbody tr th {\n",
       "        vertical-align: top;\n",
       "    }\n",
       "\n",
       "    .dataframe thead tr th {\n",
       "        text-align: left;\n",
       "    }\n",
       "</style>\n",
       "<table border=\"1\" class=\"dataframe\">\n",
       "  <thead>\n",
       "    <tr>\n",
       "      <th></th>\n",
       "      <th>x0</th>\n",
       "      <th>x1</th>\n",
       "      <th>x2</th>\n",
       "    </tr>\n",
       "    <tr>\n",
       "      <th></th>\n",
       "      <th>Desviacion</th>\n",
       "      <th>Desviacion</th>\n",
       "      <th>Desviacion</th>\n",
       "    </tr>\n",
       "  </thead>\n",
       "  <tbody>\n",
       "    <tr>\n",
       "      <th>sepal length (cm)</th>\n",
       "      <td>0.444338</td>\n",
       "      <td>0.348947</td>\n",
       "      <td>0.481901</td>\n",
       "    </tr>\n",
       "    <tr>\n",
       "      <th>sepal width (cm)</th>\n",
       "      <td>0.290493</td>\n",
       "      <td>0.375255</td>\n",
       "      <td>0.283261</td>\n",
       "    </tr>\n",
       "    <tr>\n",
       "      <th>petal length (cm)</th>\n",
       "      <td>0.507355</td>\n",
       "      <td>0.171919</td>\n",
       "      <td>0.503597</td>\n",
       "    </tr>\n",
       "    <tr>\n",
       "      <th>petal width (cm)</th>\n",
       "      <td>0.297468</td>\n",
       "      <td>0.104326</td>\n",
       "      <td>0.292510</td>\n",
       "    </tr>\n",
       "  </tbody>\n",
       "</table>\n",
       "</div>"
      ],
      "text/plain": [
       "                          x0         x1         x2\n",
       "                  Desviacion Desviacion Desviacion\n",
       "sepal length (cm)   0.444338   0.348947   0.481901\n",
       "sepal width (cm)    0.290493   0.375255   0.283261\n",
       "petal length (cm)   0.507355   0.171919   0.503597\n",
       "petal width (cm)    0.297468   0.104326   0.292510"
      ]
     },
     "execution_count": 16,
     "metadata": {},
     "output_type": "execute_result"
    }
   ],
   "source": [
    "crear_dt_desv()"
   ]
  },
  {
   "cell_type": "markdown",
   "id": "20048ca1",
   "metadata": {},
   "source": [
    "\n",
    "- Crea una tabla de contingencia (https://es.wikipedia.org/wiki/Tabla_de_contingencia, puedes utiliza `pd.crosstab`) entre las etiquetas reales y las etiquetas de cluster. Esto te dará una idea de qué tan bien el algoritmo de clustering ha coincidido con las etiquetas reales.\n"
   ]
  },
  {
   "attachments": {
    "image.png": {
     "image/png": "[encoded data removed]"
    }
   },
   "cell_type": "markdown",
   "id": "e4811649",
   "metadata": {},
   "source": [
    "![image.png](attachment:image.png)"
   ]
  },
  {
   "cell_type": "code",
   "execution_count": 17,
   "id": "b71d088c",
   "metadata": {},
   "outputs": [
    {
     "name": "stdout",
     "output_type": "stream",
     "text": [
      "target          0   1   2\n",
      "kmeans_labels            \n",
      "0               0  47  14\n",
      "1              50   0   0\n",
      "2               0   3  36\n"
     ]
    }
   ],
   "source": [
    "t_contigencia = pd.crosstab(xk['kmeans_labels'], iris['target'])\n",
    "\n",
    "print(t_contigencia)"
   ]
  },
  {
   "cell_type": "markdown",
   "id": "eb9fced1",
   "metadata": {},
   "source": [
    "\n",
    "- ¿Que cluster se corresponde con cada etiqueta? Ten en cuenta que los numeros pueden no coincidir. ¿A que se debe esto?\n"
   ]
  },
  {
   "cell_type": "markdown",
   "id": "04a796a1",
   "metadata": {},
   "source": [
    "A los errores del modelo"
   ]
  },
  {
   "cell_type": "markdown",
   "id": "ddff508d",
   "metadata": {},
   "source": [
    "\n",
    "- Utiliza técnicas de reducción de dimensionalidad, como PCA, para visualizar los clusters en 2D. Haz dos scatterplot con las dos coordenadas del PCA, y en uno utiliza el cluster al que pertenece cada instancia para colorearlo. En el otro utiliza la etiqueta real."
   ]
  },
  {
   "cell_type": "code",
   "execution_count": 25,
   "id": "991befdb",
   "metadata": {},
   "outputs": [],
   "source": [
    "from sklearn.decomposition import PCA\n",
    "pca = PCA(n_components=2)\n",
    "x_pca = pca.fit_transform(x)\n"
   ]
  },
  {
   "cell_type": "code",
   "execution_count": 39,
   "id": "5f3729c4",
   "metadata": {},
   "outputs": [
    {
     "data": {
      "text/plain": [
       "<matplotlib.collections.PathCollection at 0x17cf536f970>"
      ]
     },
     "execution_count": 39,
     "metadata": {},
     "output_type": "execute_result"
    },
    {
     "data": {
      "image/png": "[encoded data removed]",
      "text/plain": [
       "<Figure size 640x480 with 2 Axes>"
      ]
     },
     "metadata": {},
     "output_type": "display_data"
    }
   ],
   "source": [
    "plt.subplot(121)\n",
    "plt.title('Real')\n",
    "plt.scatter(x_pca[:, 0],\n",
    "            x_pca[:, 1],\n",
    "            c=iris['target'],\n",
    "            cmap='Dark2',\n",
    "            s=34)\n",
    "\n",
    "plt.subplot(122)\n",
    "plt.title('Kmeans')\n",
    "plt.scatter(x_pca[:, 0],\n",
    "            x_pca[:, 1],\n",
    "            c=xk['kmeans_labels'],\n",
    "            cmap='Dark2',\n",
    "            s=34)\n"
   ]
  },
  {
   "cell_type": "markdown",
   "id": "cab184c2",
   "metadata": {},
   "source": [
    "### Reto 2\n",
    "\n",
    "En este ejercicio, vamos a utilizar un conjunto de datos de alta dimensión y lo reduciremo usando el Análisis de Componentes Principales (PCA) para conservar el **90%** de la varianza explicada. Luego, entrenaremos un modelo usando ambos: el conjunto de datos original y el conjunto de datos reducido para luego comparar el rendimiento de los modelos.\n",
    "\n",
    "- Utiliza el conjunto de datos \"digits\" de scikit-learn, que contiene imágenes de dígitos escritos a mano y es de alta dimensión. ¿Cuantas instancias y features tiene?\n",
    "- Escala tus datos para que tengan media 0 y varianza 1. Utiliza el StandardScaler.\n",
    "- Utiliza PCA para reducir la dimensionalidad, probando desde una unica dimension hasta N-1, donde N es el numero de fatures. Realiza un grafico en el que en el eje X se muestre el numero de dimensione sy en el eje Y se muestre el porcentaje de varianza explicada. Utiliza este grafico para elegir un valor que conserve el 90% y obten las features proyectadas.\n",
    "- Divide entre train y test\n",
    "- Escoge un modelo y crea dos isntancias del mismo. Entrena uno con el dataset entero y el otro con el dataset con las variables proyectadas. \n",
    "- Evalúa los modelos. ¿Hay alguna diferencia entre ellos?\n",
    "- ¿Con cuantas features menos se ha entrnado del modelo en el que se utilizan los datos reducidos?"
   ]
  },
  {
   "cell_type": "code",
   "execution_count": 48,
   "id": "64e862fd",
   "metadata": {},
   "outputs": [],
   "source": [
    "from sklearn.datasets import load_digits\n",
    "from sklearn.preprocessing import StandardScaler"
   ]
  },
  {
   "cell_type": "code",
   "execution_count": 46,
   "id": "de76d3f7",
   "metadata": {},
   "outputs": [],
   "source": [
    "data = load_digits()\n",
    "x = data['data']\n",
    "y = data['target']"
   ]
  },
  {
   "cell_type": "code",
   "execution_count": 49,
   "id": "05745764",
   "metadata": {},
   "outputs": [
    {
     "data": {
      "text/plain": [
       "[<matplotlib.lines.Line2D at 0x17cf4e94a60>]"
      ]
     },
     "execution_count": 49,
     "metadata": {},
     "output_type": "execute_result"
    },
    {
     "data": {
      "image/png": "[encoded data removed]",
      "text/plain": [
       "<Figure size 640x480 with 1 Axes>"
      ]
     },
     "metadata": {},
     "output_type": "display_data"
    }
   ],
   "source": [
    "scaler = StandardScaler()\n",
    "scaler.fit(x)\n",
    "    \n",
    "x_scaled = scaler.transform(x)\n",
    "    \n",
    "plt.ylim(-0.2,0.2)\n",
    "plt.plot(x_scaled.mean(axis=0))"
   ]
  },
  {
   "cell_type": "code",
   "execution_count": 53,
   "id": "1b89e858",
   "metadata": {},
   "outputs": [
    {
     "data": {
      "text/html": [
       "<style>#sk-container-id-1 {color: black;}#sk-container-id-1 pre{padding: 0;}#sk-container-id-1 div.sk-toggleable {background-color: white;}#sk-container-id-1 label.sk-toggleable__label {cursor: pointer;display: block;width: 100%;margin-bottom: 0;padding: 0.3em;box-sizing: border-box;text-align: center;}#sk-container-id-1 label.sk-toggleable__label-arrow:before {content: \"▸\";float: left;margin-right: 0.25em;color: #696969;}#sk-container-id-1 label.sk-toggleable__label-arrow:hover:before {color: black;}#sk-container-id-1 div.sk-estimator:hover label.sk-toggleable__label-arrow:before {color: black;}#sk-container-id-1 div.sk-toggleable__content {max-height: 0;max-width: 0;overflow: hidden;text-align: left;background-color: #f0f8ff;}#sk-container-id-1 div.sk-toggleable__content pre {margin: 0.2em;color: black;border-radius: 0.25em;background-color: #f0f8ff;}#sk-container-id-1 input.sk-toggleable__control:checked~div.sk-toggleable__content {max-height: 200px;max-width: 100%;overflow: auto;}#sk-container-id-1 input.sk-toggleable__control:checked~label.sk-toggleable__label-arrow:before {content: \"▾\";}#sk-container-id-1 div.sk-estimator input.sk-toggleable__control:checked~label.sk-toggleable__label {background-color: #d4ebff;}#sk-container-id-1 div.sk-label input.sk-toggleable__control:checked~label.sk-toggleable__label {background-color: #d4ebff;}#sk-container-id-1 input.sk-hidden--visually {border: 0;clip: rect(1px 1px 1px 1px);clip: rect(1px, 1px, 1px, 1px);height: 1px;margin: -1px;overflow: hidden;padding: 0;position: absolute;width: 1px;}#sk-container-id-1 div.sk-estimator {font-family: monospace;background-color: #f0f8ff;border: 1px dotted black;border-radius: 0.25em;box-sizing: border-box;margin-bottom: 0.5em;}#sk-container-id-1 div.sk-estimator:hover {background-color: #d4ebff;}#sk-container-id-1 div.sk-parallel-item::after {content: \"\";width: 100%;border-bottom: 1px solid gray;flex-grow: 1;}#sk-container-id-1 div.sk-label:hover label.sk-toggleable__label {background-color: #d4ebff;}#sk-container-id-1 div.sk-serial::before {content: \"\";position: absolute;border-left: 1px solid gray;box-sizing: border-box;top: 0;bottom: 0;left: 50%;z-index: 0;}#sk-container-id-1 div.sk-serial {display: flex;flex-direction: column;align-items: center;background-color: white;padding-right: 0.2em;padding-left: 0.2em;position: relative;}#sk-container-id-1 div.sk-item {position: relative;z-index: 1;}#sk-container-id-1 div.sk-parallel {display: flex;align-items: stretch;justify-content: center;background-color: white;position: relative;}#sk-container-id-1 div.sk-item::before, #sk-container-id-1 div.sk-parallel-item::before {content: \"\";position: absolute;border-left: 1px solid gray;box-sizing: border-box;top: 0;bottom: 0;left: 50%;z-index: -1;}#sk-container-id-1 div.sk-parallel-item {display: flex;flex-direction: column;z-index: 1;position: relative;background-color: white;}#sk-container-id-1 div.sk-parallel-item:first-child::after {align-self: flex-end;width: 50%;}#sk-container-id-1 div.sk-parallel-item:last-child::after {align-self: flex-start;width: 50%;}#sk-container-id-1 div.sk-parallel-item:only-child::after {width: 0;}#sk-container-id-1 div.sk-dashed-wrapped {border: 1px dashed gray;margin: 0 0.4em 0.5em 0.4em;box-sizing: border-box;padding-bottom: 0.4em;background-color: white;}#sk-container-id-1 div.sk-label label {font-family: monospace;font-weight: bold;display: inline-block;line-height: 1.2em;}#sk-container-id-1 div.sk-label-container {text-align: center;}#sk-container-id-1 div.sk-container {/* jupyter's `normalize.less` sets `[hidden] { display: none; }` but bootstrap.min.css set `[hidden] { display: none !important; }` so we also need the `!important` here to be able to override the default hidden behavior on the sphinx rendered scikit-learn.org. See: https://github.com/scikit-learn/scikit-learn/issues/21755 */display: inline-block !important;position: relative;}#sk-container-id-1 div.sk-text-repr-fallback {display: none;}</style><div id=\"sk-container-id-1\" class=\"sk-top-container\"><div class=\"sk-text-repr-fallback\"><pre>PCA(n_components=64)</pre><b>In a Jupyter environment, please rerun this cell to show the HTML representation or trust the notebook. <br />On GitHub, the HTML representation is unable to render, please try loading this page with nbviewer.org.</b></div><div class=\"sk-container\" hidden><div class=\"sk-item\"><div class=\"sk-estimator sk-toggleable\"><input class=\"sk-toggleable__control sk-hidden--visually\" id=\"sk-estimator-id-1\" type=\"checkbox\" checked><label for=\"sk-estimator-id-1\" class=\"sk-toggleable__label sk-toggleable__label-arrow\">PCA</label><div class=\"sk-toggleable__content\"><pre>PCA(n_components=64)</pre></div></div></div></div></div>"
      ],
      "text/plain": [
       "PCA(n_components=64)"
      ]
     },
     "execution_count": 53,
     "metadata": {},
     "output_type": "execute_result"
    }
   ],
   "source": [
    "pca = PCA(n_components = x.shape[1])\n",
    "pca.fit(x_scaled)"
   ]
  },
  {
   "cell_type": "code",
   "execution_count": 62,
   "id": "8ae65756",
   "metadata": {},
   "outputs": [],
   "source": [
    "ve = [sum(pca.explained_variance_ratio_[:i]) for i in range(x.shape[1])]"
   ]
  },
  {
   "cell_type": "code",
   "execution_count": 89,
   "id": "84528ec2",
   "metadata": {},
   "outputs": [
    {
     "data": {
      "text/plain": [
       "Text(0.5, 1.0, 'Varianza explicada por nº features incluidas')"
      ]
     },
     "execution_count": 89,
     "metadata": {},
     "output_type": "execute_result"
    },
    {
     "data": {
      "image/png": "[encoded data removed]",
      "text/plain": [
       "<Figure size 640x480 with 1 Axes>"
      ]
     },
     "metadata": {},
     "output_type": "display_data"
    }
   ],
   "source": [
    "plt.plot(range(x.shape[1]), ve)\n",
    "plt.axhline(y=0.9, color='r', linestyle='--')\n",
    "plt.axvline(x=30, color='g', linestyle='--')\n",
    "plt.title('Varianza explicada por nº features incluidas')\n"
   ]
  },
  {
   "cell_type": "code",
   "execution_count": 81,
   "id": "80a45f87",
   "metadata": {},
   "outputs": [],
   "source": [
    "n = 30\n",
    "pca = PCA(n_components=n)\n",
    "x_pca = pca.fit_transform(x_scaled)"
   ]
  },
  {
   "cell_type": "code",
   "execution_count": 82,
   "id": "d3baccf3",
   "metadata": {},
   "outputs": [],
   "source": [
    "X_train_pca, X_test_pca, y_train_pca, y_test_pca = train_test_split(x_pca, y, test_size=0.30)\n",
    "X_train, X_test, y_train, y_test = train_test_split(x_scaled, y, test_size=0.30)"
   ]
  },
  {
   "cell_type": "code",
   "execution_count": 83,
   "id": "09e5e679",
   "metadata": {},
   "outputs": [
    {
     "data": {
      "text/html": [
       "<style>#sk-container-id-3 {color: black;}#sk-container-id-3 pre{padding: 0;}#sk-container-id-3 div.sk-toggleable {background-color: white;}#sk-container-id-3 label.sk-toggleable__label {cursor: pointer;display: block;width: 100%;margin-bottom: 0;padding: 0.3em;box-sizing: border-box;text-align: center;}#sk-container-id-3 label.sk-toggleable__label-arrow:before {content: \"▸\";float: left;margin-right: 0.25em;color: #696969;}#sk-container-id-3 label.sk-toggleable__label-arrow:hover:before {color: black;}#sk-container-id-3 div.sk-estimator:hover label.sk-toggleable__label-arrow:before {color: black;}#sk-container-id-3 div.sk-toggleable__content {max-height: 0;max-width: 0;overflow: hidden;text-align: left;background-color: #f0f8ff;}#sk-container-id-3 div.sk-toggleable__content pre {margin: 0.2em;color: black;border-radius: 0.25em;background-color: #f0f8ff;}#sk-container-id-3 input.sk-toggleable__control:checked~div.sk-toggleable__content {max-height: 200px;max-width: 100%;overflow: auto;}#sk-container-id-3 input.sk-toggleable__control:checked~label.sk-toggleable__label-arrow:before {content: \"▾\";}#sk-container-id-3 div.sk-estimator input.sk-toggleable__control:checked~label.sk-toggleable__label {background-color: #d4ebff;}#sk-container-id-3 div.sk-label input.sk-toggleable__control:checked~label.sk-toggleable__label {background-color: #d4ebff;}#sk-container-id-3 input.sk-hidden--visually {border: 0;clip: rect(1px 1px 1px 1px);clip: rect(1px, 1px, 1px, 1px);height: 1px;margin: -1px;overflow: hidden;padding: 0;position: absolute;width: 1px;}#sk-container-id-3 div.sk-estimator {font-family: monospace;background-color: #f0f8ff;border: 1px dotted black;border-radius: 0.25em;box-sizing: border-box;margin-bottom: 0.5em;}#sk-container-id-3 div.sk-estimator:hover {background-color: #d4ebff;}#sk-container-id-3 div.sk-parallel-item::after {content: \"\";width: 100%;border-bottom: 1px solid gray;flex-grow: 1;}#sk-container-id-3 div.sk-label:hover label.sk-toggleable__label {background-color: #d4ebff;}#sk-container-id-3 div.sk-serial::before {content: \"\";position: absolute;border-left: 1px solid gray;box-sizing: border-box;top: 0;bottom: 0;left: 50%;z-index: 0;}#sk-container-id-3 div.sk-serial {display: flex;flex-direction: column;align-items: center;background-color: white;padding-right: 0.2em;padding-left: 0.2em;position: relative;}#sk-container-id-3 div.sk-item {position: relative;z-index: 1;}#sk-container-id-3 div.sk-parallel {display: flex;align-items: stretch;justify-content: center;background-color: white;position: relative;}#sk-container-id-3 div.sk-item::before, #sk-container-id-3 div.sk-parallel-item::before {content: \"\";position: absolute;border-left: 1px solid gray;box-sizing: border-box;top: 0;bottom: 0;left: 50%;z-index: -1;}#sk-container-id-3 div.sk-parallel-item {display: flex;flex-direction: column;z-index: 1;position: relative;background-color: white;}#sk-container-id-3 div.sk-parallel-item:first-child::after {align-self: flex-end;width: 50%;}#sk-container-id-3 div.sk-parallel-item:last-child::after {align-self: flex-start;width: 50%;}#sk-container-id-3 div.sk-parallel-item:only-child::after {width: 0;}#sk-container-id-3 div.sk-dashed-wrapped {border: 1px dashed gray;margin: 0 0.4em 0.5em 0.4em;box-sizing: border-box;padding-bottom: 0.4em;background-color: white;}#sk-container-id-3 div.sk-label label {font-family: monospace;font-weight: bold;display: inline-block;line-height: 1.2em;}#sk-container-id-3 div.sk-label-container {text-align: center;}#sk-container-id-3 div.sk-container {/* jupyter's `normalize.less` sets `[hidden] { display: none; }` but bootstrap.min.css set `[hidden] { display: none !important; }` so we also need the `!important` here to be able to override the default hidden behavior on the sphinx rendered scikit-learn.org. See: https://github.com/scikit-learn/scikit-learn/issues/21755 */display: inline-block !important;position: relative;}#sk-container-id-3 div.sk-text-repr-fallback {display: none;}</style><div id=\"sk-container-id-3\" class=\"sk-top-container\"><div class=\"sk-text-repr-fallback\"><pre>LinearRegression()</pre><b>In a Jupyter environment, please rerun this cell to show the HTML representation or trust the notebook. <br />On GitHub, the HTML representation is unable to render, please try loading this page with nbviewer.org.</b></div><div class=\"sk-container\" hidden><div class=\"sk-item\"><div class=\"sk-estimator sk-toggleable\"><input class=\"sk-toggleable__control sk-hidden--visually\" id=\"sk-estimator-id-3\" type=\"checkbox\" checked><label for=\"sk-estimator-id-3\" class=\"sk-toggleable__label sk-toggleable__label-arrow\">LinearRegression</label><div class=\"sk-toggleable__content\"><pre>LinearRegression()</pre></div></div></div></div></div>"
      ],
      "text/plain": [
       "LinearRegression()"
      ]
     },
     "execution_count": 83,
     "metadata": {},
     "output_type": "execute_result"
    }
   ],
   "source": [
    "from sklearn.linear_model import LinearRegression\n",
    "\n",
    "lreg_pca = LinearRegression()\n",
    "lreg = LinearRegression()\n",
    "\n",
    "lreg_pca.fit(X_train_pca,y_train_pca)\n",
    "lreg.fit(X_train,y_train)"
   ]
  },
  {
   "cell_type": "code",
   "execution_count": 84,
   "id": "620ff43e",
   "metadata": {},
   "outputs": [],
   "source": [
    "y_pred_pca = lreg_pca.predict(X_test_pca)\n",
    "y_pred = lreg.predict(X_test)\n"
   ]
  },
  {
   "cell_type": "code",
   "execution_count": 90,
   "id": "7412ecd0",
   "metadata": {},
   "outputs": [],
   "source": [
    "from sklearn.metrics import accuracy_score, precision_score\n",
    "\n"
   ]
  },
  {
   "cell_type": "code",
   "execution_count": null,
   "id": "e0b193a6",
   "metadata": {},
   "outputs": [],
   "source": []
  }
 ],
 "metadata": {
  "kernelspec": {
   "display_name": "Python 3 (ipykernel)",
   "language": "python",
   "name": "python3"
  },
  "language_info": {
   "codemirror_mode": {
    "name": "ipython",
    "version": 3
   },
   "file_extension": ".py",
   "mimetype": "text/x-python",
   "name": "python",
   "nbconvert_exporter": "python",
   "pygments_lexer": "ipython3",
   "version": "3.10.9"
  }
 },
 "nbformat": 4,
 "nbformat_minor": 5
}
