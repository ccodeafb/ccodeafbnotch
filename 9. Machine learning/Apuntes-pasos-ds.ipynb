{
 "cells": [
  {
   "cell_type": "code",
   "execution_count": 1,
   "id": "7cb82cf2",
   "metadata": {},
   "outputs": [],
   "source": [
    "import pandas as pd\n",
    "import numpy as np\n",
    "import matplotlib.pyplot as plt\n",
    "\n",
    "from sklearn.model_selection import train_test_split"
   ]
  },
  {
   "cell_type": "code",
   "execution_count": 2,
   "id": "27fa5ad2",
   "metadata": {},
   "outputs": [],
   "source": [
    "df = pd.read_csv('train.csv')"
   ]
  },
  {
   "cell_type": "code",
   "execution_count": 3,
   "id": "a189979e",
   "metadata": {},
   "outputs": [
    {
     "data": {
      "text/plain": [
       "(array([ 11.,  38.,  99., 232., 273., 218., 176., 104.,  93.,  58.,  42.,\n",
       "         35.,  24.,  10.,  17.,   8.,   7.,   4.,   2.,   1.,   1.,   2.,\n",
       "          1.,   0.,   2.,   0.,   0.,   0.,   0.,   2.]),\n",
       " array([ 34900.        ,  58903.33333333,  82906.66666667, 106910.        ,\n",
       "        130913.33333333, 154916.66666667, 178920.        , 202923.33333333,\n",
       "        226926.66666667, 250930.        , 274933.33333333, 298936.66666667,\n",
       "        322940.        , 346943.33333333, 370946.66666667, 394950.        ,\n",
       "        418953.33333333, 442956.66666667, 466960.        , 490963.33333333,\n",
       "        514966.66666667, 538970.        , 562973.33333333, 586976.66666667,\n",
       "        610980.        , 634983.33333333, 658986.66666667, 682990.        ,\n",
       "        706993.33333333, 730996.66666667, 755000.        ]),\n",
       " <BarContainer object of 30 artists>)"
      ]
     },
     "execution_count": 3,
     "metadata": {},
     "output_type": "execute_result"
    },
    {
     "data": {
      "image/png": "[encoded data removed]",
      "text/plain": [
       "<Figure size 640x480 with 1 Axes>"
      ]
     },
     "metadata": {},
     "output_type": "display_data"
    }
   ],
   "source": [
    "plt.hist(df.SalePrice, bins=30)"
   ]
  },
  {
   "cell_type": "code",
   "execution_count": 4,
   "id": "5d7df04c",
   "metadata": {},
   "outputs": [
    {
     "data": {
      "text/plain": [
       "(array([  3.,   2.,   0.,   2.,   3.,   7.,   5.,  10.,  39.,  35.,  49.,\n",
       "        100., 138., 186., 146., 156., 142., 102., 100.,  68.,  52.,  44.,\n",
       "         22.,  24.,  12.,   4.,   3.,   3.,   1.,   2.]),\n",
       " array([10.46024211, 10.56271647, 10.66519084, 10.7676652 , 10.87013956,\n",
       "        10.97261393, 11.07508829, 11.17756266, 11.28003702, 11.38251138,\n",
       "        11.48498575, 11.58746011, 11.68993448, 11.79240884, 11.8948832 ,\n",
       "        11.99735757, 12.09983193, 12.2023063 , 12.30478066, 12.40725502,\n",
       "        12.50972939, 12.61220375, 12.71467812, 12.81715248, 12.91962684,\n",
       "        13.02210121, 13.12457557, 13.22704994, 13.3295243 , 13.43199866,\n",
       "        13.53447303]),\n",
       " <BarContainer object of 30 artists>)"
      ]
     },
     "execution_count": 4,
     "metadata": {},
     "output_type": "execute_result"
    },
    {
     "data": {
      "image/png": "[encoded data removed]",
      "text/plain": [
       "<Figure size 640x480 with 1 Axes>"
      ]
     },
     "metadata": {},
     "output_type": "display_data"
    }
   ],
   "source": [
    "plt.hist(np.log(df.SalePrice), bins=30)"
   ]
  },
  {
   "cell_type": "code",
   "execution_count": 5,
   "id": "bcdc7e42",
   "metadata": {},
   "outputs": [],
   "source": [
    "df['SalePrice'] = np.log(df['SalePrice'])"
   ]
  },
  {
   "cell_type": "code",
   "execution_count": 6,
   "id": "cbdd4d05",
   "metadata": {},
   "outputs": [],
   "source": [
    "features = ['MSSubClass', 'OverallQual']"
   ]
  },
  {
   "cell_type": "code",
   "execution_count": 7,
   "id": "40e9ac0f",
   "metadata": {},
   "outputs": [],
   "source": [
    "num_cols = df.describe().columns"
   ]
  },
  {
   "cell_type": "code",
   "execution_count": 8,
   "id": "feea3656",
   "metadata": {},
   "outputs": [],
   "source": [
    "sale_corr = df[num_cols].corr()['SalePrice']\n",
    "features_to_use = sale_corr[sale_corr.abs() > 0.3].index"
   ]
  },
  {
   "cell_type": "code",
   "execution_count": 9,
   "id": "21b07a95",
   "metadata": {},
   "outputs": [],
   "source": [
    "drop_cols = ['MasVnrArea', 'LotFrontage', 'GarageYrBlt']\n",
    "features_to_use = features_to_use.drop(drop_cols)\n",
    "df = df.drop(drop_cols, axis=1)"
   ]
  },
  {
   "cell_type": "code",
   "execution_count": 10,
   "id": "c0414d27",
   "metadata": {
    "scrolled": true
   },
   "outputs": [],
   "source": [
    "X = df[features_to_use].drop('SalePrice', axis=1)\n",
    "y = df['SalePrice']"
   ]
  },
  {
   "cell_type": "code",
   "execution_count": 11,
   "id": "365336e6",
   "metadata": {},
   "outputs": [
    {
     "data": {
      "text/plain": [
       "OverallQual     0\n",
       "YearBuilt       0\n",
       "YearRemodAdd    0\n",
       "BsmtFinSF1      0\n",
       "TotalBsmtSF     0\n",
       "1stFlrSF        0\n",
       "2ndFlrSF        0\n",
       "GrLivArea       0\n",
       "FullBath        0\n",
       "HalfBath        0\n",
       "TotRmsAbvGrd    0\n",
       "Fireplaces      0\n",
       "GarageCars      0\n",
       "GarageArea      0\n",
       "WoodDeckSF      0\n",
       "OpenPorchSF     0\n",
       "dtype: int64"
      ]
     },
     "execution_count": 11,
     "metadata": {},
     "output_type": "execute_result"
    }
   ],
   "source": [
    "X.isna().sum()"
   ]
  },
  {
   "cell_type": "code",
   "execution_count": 12,
   "id": "67ea690e",
   "metadata": {},
   "outputs": [],
   "source": [
    "X_train, X_test, y_train, y_test = train_test_split(X, y, test_size=0.2, random_state=42)"
   ]
  },
  {
   "cell_type": "code",
   "execution_count": 13,
   "id": "3c60d2ea",
   "metadata": {},
   "outputs": [],
   "source": [
    "from sklearn.ensemble import RandomForestRegressor"
   ]
  },
  {
   "cell_type": "code",
   "execution_count": 14,
   "id": "543b3d28",
   "metadata": {},
   "outputs": [],
   "source": [
    "rf = RandomForestRegressor().fit(X_train, y_train)\n",
    "y_pred = rf.predict(X_test)"
   ]
  },
  {
   "cell_type": "code",
   "execution_count": 15,
   "id": "4bd50ccd",
   "metadata": {},
   "outputs": [],
   "source": [
    "from sklearn.metrics import mean_absolute_error, mean_squared_error, r2_score"
   ]
  },
  {
   "cell_type": "code",
   "execution_count": 16,
   "id": "d04d1fec",
   "metadata": {},
   "outputs": [
    {
     "name": "stdout",
     "output_type": "stream",
     "text": [
      "0.10618636780730774\n",
      "0.15835522827302645\n"
     ]
    }
   ],
   "source": [
    "print(mean_absolute_error(y_test, y_pred))\n",
    "print(mean_squared_error(y_test, y_pred) ** 0.5)"
   ]
  },
  {
   "cell_type": "code",
   "execution_count": 17,
   "id": "737f7651",
   "metadata": {},
   "outputs": [
    {
     "data": {
      "text/plain": [
       "155231.82102779916"
      ]
     },
     "execution_count": 17,
     "metadata": {},
     "output_type": "execute_result"
    }
   ],
   "source": [
    "18675.4 / y_train.mean() * 100"
   ]
  },
  {
   "cell_type": "code",
   "execution_count": 18,
   "id": "da328e8f",
   "metadata": {},
   "outputs": [
    {
     "name": "stdout",
     "output_type": "stream",
     "text": [
      "18661.473662930683\n",
      "30352.459340623256\n"
     ]
    }
   ],
   "source": [
    "print(mean_absolute_error(np.exp(y_test), np.exp(y_pred)))\n",
    "print(mean_squared_error(np.exp(y_test), np.exp(y_pred)) ** 0.5)"
   ]
  },
  {
   "cell_type": "code",
   "execution_count": null,
   "id": "8dc0d967",
   "metadata": {},
   "outputs": [],
   "source": []
  }
 ],
 "metadata": {
  "kernelspec": {
   "display_name": "Python 3 (ipykernel)",
   "language": "python",
   "name": "python3"
  },
  "language_info": {
   "codemirror_mode": {
    "name": "ipython",
    "version": 3
   },
   "file_extension": ".py",
   "mimetype": "text/x-python",
   "name": "python",
   "nbconvert_exporter": "python",
   "pygments_lexer": "ipython3",
   "version": "3.10.9"
  }
 },
 "nbformat": 4,
 "nbformat_minor": 5
}
