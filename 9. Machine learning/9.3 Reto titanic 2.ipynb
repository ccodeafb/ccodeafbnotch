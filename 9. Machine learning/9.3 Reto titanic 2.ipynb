{
 "cells": [
  {
   "cell_type": "code",
   "execution_count": 2,
   "id": "c7cd5a97",
   "metadata": {},
   "outputs": [],
   "source": [
    "import pandas as pd\n",
    "import numpy as np\n",
    "import sklearn\n",
    "from sklearn.model_selection import train_test_split\n",
    "import matplotlib.pyplot as plt\n",
    "from sklearn.svm import SVC\n",
    "from sklearn.pipeline import make_pipeline\n",
    "from sklearn.preprocessing import StandardScaler\n",
    "from sklearn.metrics import accuracy_score, precision_score, recall_score, f1_score"
   ]
  },
  {
   "cell_type": "markdown",
   "id": "e80192b4",
   "metadata": {},
   "source": [
    "### Reto 2\n",
    "\n",
    "Resuelve de nuevo el problema del titanic hasta llegar a un modelo final.\n",
    "\n",
    "Obten las probabilidades de supervivencia en el test set."
   ]
  },
  {
   "cell_type": "code",
   "execution_count": 3,
   "id": "13a57a6c",
   "metadata": {},
   "outputs": [
    {
     "name": "stdout",
     "output_type": "stream",
     "text": [
      "Probabilidades de supervivencia en test: [0.6312755  0.31275068 0.3284917  0.31003262 0.54008733 0.37306052\n",
      " 0.30066632 0.71950455 0.31135053 0.34220677 0.30941083 0.36000078\n",
      " 0.31627086 0.30124191 0.41072531 0.78588112 0.74161426 0.3127106\n",
      " 0.32272002 0.33080713 0.30686445 0.35824131 0.48649634 0.77397713\n",
      " 0.5        0.77869836 0.3439482  0.38076264 0.70775043 0.65427456\n",
      " 0.77423791 0.30089313 0.31075009 0.76537734 0.30858395 0.60457543\n",
      " 0.4431716  0.34834537 0.75962722 0.63465834 0.31045901 0.71704475\n",
      " 0.43798449 0.31627457 0.32920634 0.57538652 0.35679225 0.31947158\n",
      " 0.32737969 0.31112519 0.30417076 0.5        0.30946148 0.40136442\n",
      " 0.36341013 0.31601157 0.34030531 0.31920495 0.30355165 0.36319322\n",
      " 0.44353776 0.77555749 0.75660911 0.79222548 0.4381359  0.31221869\n",
      " 0.44366672 0.40983414 0.3137439  0.5838637  0.2984148  0.34850374\n",
      " 0.31275068 0.3284917  0.30405298 0.52395011 0.38945798 0.31113976\n",
      " 0.76769501 0.30134434 0.3109015  0.30693863 0.31227659 0.3047659\n",
      " 0.38505116 0.31862618 0.34296043 0.79637144 0.3153867  0.30789266\n",
      " 0.67135332 0.32782673 0.76446538 0.76563624 0.32155233 0.30832301\n",
      " 0.31047778 0.79239021 0.34480944 0.33690126 0.31930067 0.30417076\n",
      " 0.31230877 0.31315853 0.30310413 0.30355014 0.31766688 0.31013462\n",
      " 0.31917047 0.7648028  0.39863943 0.56933769 0.33651497 0.32863783\n",
      " 0.30139643 0.47160046 0.30258409 0.34974615 0.30578461 0.3552235\n",
      " 0.30747314 0.3471611  0.32083477 0.73735148 0.36546251 0.30937656\n",
      " 0.3194756  0.40792414 0.31220981 0.44645606 0.3012998  0.30187858\n",
      " 0.43839538 0.3051406  0.29324869 0.38657847 0.31360127 0.30614639\n",
      " 0.52271437 0.77467083 0.36354595 0.30930077 0.31113976]\n"
     ]
    }
   ],
   "source": [
    "#Abrimos dataset\n",
    "titanic_machine = pd.read_csv(\"titanic_machine.csv\")\n",
    "\n",
    "#Division test y train\n",
    "X, y = titanic_machine[titanic_machine.columns[-12:]], titanic_machine[\"Survived\"]\n",
    "X_train, X_test, y_train, y_test = train_test_split(X, y, test_size=0.20)\n",
    "\n",
    "#Entrenamos el modelo\n",
    "clf = SVC(probability=True)\n",
    "clf.fit(X_train, y_train)\n",
    "\n",
    "#Calculamos predicciones\n",
    "y_test_pred = clf.predict(X_test)\n",
    "y_train_pred = clf.predict(X_train)\n",
    "\n",
    "y_test_prob = clf.predict_proba(X_test)\n",
    "y_train_prob = clf.predict_proba(X_train)\n",
    "\n",
    "print(f'Probabilidades de supervivencia en test: {y_test_prob[:, 1]}')"
   ]
  },
  {
   "cell_type": "code",
   "execution_count": 3,
   "id": "6b33313a",
   "metadata": {},
   "outputs": [
    {
     "name": "stdout",
     "output_type": "stream",
     "text": [
      "Probabilidad de supervivencia en test: 40.45%\n"
     ]
    }
   ],
   "source": [
    "mean = np.mean(y_test_prob[:, 1])\n",
    "print(f'Probabilidad de supervivencia en test: {mean:.2%}')"
   ]
  },
  {
   "cell_type": "markdown",
   "id": "bd3504f5",
   "metadata": {},
   "source": [
    "##### A)\n",
    "Realiza dos histogramas que contengan:\n",
    "- probabilidad de la prediccion de supervivencia de los pasajeros que realmente sobrevivieron (rojo)\n",
    "- probabilidad de la prediccion de supervivencia de los pasajeros que realmente NO sobrevivieron (azul)\n",
    "\n",
    "Muestra esa informacion en un mismo grafico, superponiendo los dos anteriores."
   ]
  },
  {
   "cell_type": "code",
   "execution_count": 4,
   "id": "2ae1ef28",
   "metadata": {},
   "outputs": [
    {
     "data": {
      "image/png": "[encoded data removed]",
      "text/plain": [
       "<Figure size 640x480 with 1 Axes>"
      ]
     },
     "metadata": {},
     "output_type": "display_data"
    }
   ],
   "source": [
    "#Almacenamos datos Probabilidad si sobrevivieron:\n",
    "prob_si = []\n",
    "#almacenar_datos_prob_reales('rojo')\n",
    "prob_si = y_test_prob[y_test == 1,1]\n",
    "\n",
    "#Almacenamos datos Probabilidad no sobrevivieron:\n",
    "prob_no = []\n",
    "#almacenar_datos_prob_reales('azul')\n",
    "prob_no = y_test_prob[y_test == 0,1]\n",
    "\n",
    "#Realizamos histograma\n",
    "plt.hist(prob_si, bins=30, color= 'red', label='Pred sobrv supervivientes', alpha= 0.5)\n",
    "plt.hist(prob_no, bins=30, color= 'blue', label='Pred sobrv NO supervivientes', alpha= 0.5)\n",
    "plt.legend()\n",
    "plt.grid()"
   ]
  },
  {
   "cell_type": "code",
   "execution_count": null,
   "id": "71461365",
   "metadata": {},
   "outputs": [],
   "source": []
  },
  {
   "cell_type": "markdown",
   "id": "6ee32f2a",
   "metadata": {},
   "source": [
    "##### B)\n",
    "Realiza el grafico que hemos visto en clase, variando el umbral y mostrando como varia la precision, el recall y el f1_score."
   ]
  },
  {
   "cell_type": "code",
   "execution_count": 9,
   "id": "92ba6daa",
   "metadata": {},
   "outputs": [],
   "source": [
    "df = pd.DataFrame()\n",
    "def crear_df_metricas(v):\n",
    "    for i in v:\n",
    "        umbral = i/10\n",
    "        metricas = []\n",
    "        metricas.append(precision_score(y_test, y_test_prob[:, 1] > umbral))\n",
    "        metricas.append(recall_score(y_test, y_test_prob[:, 1] > umbral))\n",
    "        metricas.append(f1_score(y_test, y_test_prob[:, 1] > umbral))\n",
    "        df['Metricas '+str(umbral)]=metricas\n",
    "    df['Metrica']=['Precision','Recall','F1']\n",
    "    df.set_index(['Metrica'], inplace=True)\n",
    "    "
   ]
  },
  {
   "cell_type": "code",
   "execution_count": 14,
   "id": "0778f522",
   "metadata": {},
   "outputs": [
    {
     "data": {
      "text/html": [
       "<div>\n",
       "<style scoped>\n",
       "    .dataframe tbody tr th:only-of-type {\n",
       "        vertical-align: middle;\n",
       "    }\n",
       "\n",
       "    .dataframe tbody tr th {\n",
       "        vertical-align: top;\n",
       "    }\n",
       "\n",
       "    .dataframe thead th {\n",
       "        text-align: right;\n",
       "    }\n",
       "</style>\n",
       "<table border=\"1\" class=\"dataframe\">\n",
       "  <thead>\n",
       "    <tr style=\"text-align: right;\">\n",
       "      <th></th>\n",
       "      <th>Metricas 0.2</th>\n",
       "      <th>Metricas 0.4</th>\n",
       "      <th>Metricas 0.5</th>\n",
       "      <th>Metricas 0.6</th>\n",
       "      <th>Metricas 0.7</th>\n",
       "    </tr>\n",
       "    <tr>\n",
       "      <th>Metrica</th>\n",
       "      <th></th>\n",
       "      <th></th>\n",
       "      <th></th>\n",
       "      <th></th>\n",
       "      <th></th>\n",
       "    </tr>\n",
       "  </thead>\n",
       "  <tbody>\n",
       "    <tr>\n",
       "      <th>Precision</th>\n",
       "      <td>0.349650</td>\n",
       "      <td>0.547619</td>\n",
       "      <td>0.575758</td>\n",
       "      <td>0.789474</td>\n",
       "      <td>0.846154</td>\n",
       "    </tr>\n",
       "    <tr>\n",
       "      <th>Recall</th>\n",
       "      <td>1.000000</td>\n",
       "      <td>0.460000</td>\n",
       "      <td>0.380000</td>\n",
       "      <td>0.300000</td>\n",
       "      <td>0.220000</td>\n",
       "    </tr>\n",
       "    <tr>\n",
       "      <th>F1</th>\n",
       "      <td>0.518135</td>\n",
       "      <td>0.500000</td>\n",
       "      <td>0.457831</td>\n",
       "      <td>0.434783</td>\n",
       "      <td>0.349206</td>\n",
       "    </tr>\n",
       "  </tbody>\n",
       "</table>\n",
       "</div>"
      ],
      "text/plain": [
       "           Metricas 0.2  Metricas 0.4  Metricas 0.5  Metricas 0.6  \\\n",
       "Metrica                                                             \n",
       "Precision      0.349650      0.547619      0.575758      0.789474   \n",
       "Recall         1.000000      0.460000      0.380000      0.300000   \n",
       "F1             0.518135      0.500000      0.457831      0.434783   \n",
       "\n",
       "           Metricas 0.7  \n",
       "Metrica                  \n",
       "Precision      0.846154  \n",
       "Recall         0.220000  \n",
       "F1             0.349206  "
      ]
     },
     "execution_count": 14,
     "metadata": {},
     "output_type": "execute_result"
    },
    {
     "data": {
      "image/png": "[encoded data removed]",
      "text/plain": [
       "<Figure size 640x480 with 1 Axes>"
      ]
     },
     "metadata": {},
     "output_type": "display_data"
    }
   ],
   "source": [
    "from sklearn.metrics import roc_curve\n",
    "lr_fpr, lr_tpr, _ = roc_curve(y_test, y_test_pred)\n",
    "plt.plot(lr_fpr, lr_tpr, marker='.', label='Regresión Logística')\n",
    "plt.xlabel('Tasa de Falsos Positivos')\n",
    "plt.ylabel('Tasa de Verdaderos Positivos')\n",
    "plt.grid()\n",
    "plt.legend()\n",
    "plt.title('ROC')\n",
    "\n",
    "crear_df_metricas([2,4,5,6,7])\n",
    "df"
   ]
  },
  {
   "cell_type": "code",
   "execution_count": null,
   "id": "02b432f7",
   "metadata": {},
   "outputs": [],
   "source": []
  },
  {
   "cell_type": "code",
   "execution_count": null,
   "id": "7c599af9",
   "metadata": {},
   "outputs": [],
   "source": []
  },
  {
   "cell_type": "code",
   "execution_count": null,
   "id": "84e7a161",
   "metadata": {},
   "outputs": [],
   "source": []
  },
  {
   "cell_type": "code",
   "execution_count": null,
   "id": "00f57c1d",
   "metadata": {},
   "outputs": [],
   "source": []
  },
  {
   "cell_type": "code",
   "execution_count": null,
   "id": "ed0ab76c",
   "metadata": {},
   "outputs": [],
   "source": []
  },
  {
   "cell_type": "code",
   "execution_count": null,
   "id": "53e9c12b",
   "metadata": {},
   "outputs": [],
   "source": []
  },
  {
   "cell_type": "code",
   "execution_count": null,
   "id": "19638ee0",
   "metadata": {},
   "outputs": [],
   "source": []
  },
  {
   "cell_type": "code",
   "execution_count": null,
   "id": "7031cb0a",
   "metadata": {},
   "outputs": [],
   "source": []
  },
  {
   "cell_type": "code",
   "execution_count": null,
   "id": "c1000c63",
   "metadata": {},
   "outputs": [],
   "source": []
  },
  {
   "cell_type": "code",
   "execution_count": null,
   "id": "cc58c1b3",
   "metadata": {},
   "outputs": [],
   "source": []
  },
  {
   "cell_type": "code",
   "execution_count": null,
   "id": "d885bb87",
   "metadata": {},
   "outputs": [],
   "source": [
    "#Funcion para almacenar probabilidades cruzadas: \n",
    "    \n",
    "def almacenar_datos_prob_reales(x):\n",
    "    if x == 'rojo':\n",
    "        for i in y_test:\n",
    "            for j in y_test_prob[:, 1]:\n",
    "                if i == 1: prob_si.append(j)\n",
    "    elif x == 'azul':\n",
    "        for i in y_test:\n",
    "            for j in y_test_prob[:, 1]:\n",
    "                if i == 0: prob_no.append(j)"
   ]
  }
 ],
 "metadata": {
  "kernelspec": {
   "display_name": "Python 3 (ipykernel)",
   "language": "python",
   "name": "python3"
  },
  "language_info": {
   "codemirror_mode": {
    "name": "ipython",
    "version": 3
   },
   "file_extension": ".py",
   "mimetype": "text/x-python",
   "name": "python",
   "nbconvert_exporter": "python",
   "pygments_lexer": "ipython3",
   "version": "3.10.9"
  }
 },
 "nbformat": 4,
 "nbformat_minor": 5
}
