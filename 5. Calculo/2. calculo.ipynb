{
 "cells": [
  {
   "cell_type": "code",
   "execution_count": 9,
   "metadata": {},
   "outputs": [],
   "source": [
    "import numpy as np\n",
    "import matplotlib.pyplot as plt\n",
    "\n",
    "from sympy import diff, integrate\n",
    "\n",
    "from ipywidgets import interactive\n",
    "\n",
    "x, y, z = symbols('x y z')"
   ]
  },
  {
   "cell_type": "markdown",
   "metadata": {},
   "source": [
    "Documentación Sympy\n",
    "\n",
    "https://docs.sympy.org/latest/tutorial/calculus.html\n",
    "\n",
    "Utilizar la funcion ``diff`` para diferenciar.\n",
    "\n",
    "Utilizar la función ``integrate`` para integrar."
   ]
  },
  {
   "cell_type": "markdown",
   "metadata": {},
   "source": [
    "### Pendiente de una recta\n",
    "\n",
    "Dada la recta que pasa por los puntos $(0, 3)$ y $(4, 6)$. Calcula su pendiente y dibuja esa recta en el plano."
   ]
  },
  {
   "cell_type": "code",
   "execution_count": 1,
   "metadata": {},
   "outputs": [],
   "source": [
    "### Your code here"
   ]
  },
  {
   "cell_type": "markdown",
   "metadata": {},
   "source": [
    "### Ejercicio 1\n",
    "\n",
    "Elegir una función representarla en el rango $[-20, 20]$"
   ]
  },
  {
   "cell_type": "code",
   "execution_count": 2,
   "metadata": {},
   "outputs": [],
   "source": [
    "### Your code here"
   ]
  },
  {
   "cell_type": "markdown",
   "metadata": {},
   "source": [
    "### Ejercicio 2\n",
    "\n",
    "Con esa misma función, calcular su derivada en el punto $x_0=-5$, $x_0=0$ y $x_0=5$"
   ]
  },
  {
   "cell_type": "code",
   "execution_count": 3,
   "metadata": {},
   "outputs": [],
   "source": [
    "### Your code here"
   ]
  },
  {
   "cell_type": "markdown",
   "metadata": {},
   "source": [
    "### Ejercicio 3\n",
    "\n",
    "Dibujar la recta tangente en el punto $x_0=0$. Utilizar la siguiente fórmula.\n",
    "\n",
    "$y-f(x_0)=f'(x_0)(x-x_0)$"
   ]
  },
  {
   "cell_type": "code",
   "execution_count": 4,
   "metadata": {},
   "outputs": [],
   "source": [
    "### Your code here"
   ]
  },
  {
   "cell_type": "markdown",
   "metadata": {},
   "source": [
    "### Ejercicio 4\n",
    "\n",
    "Hacer un gráfico interactivo en el que se pueda deslizar el punto sobre el que se calcula la derivada."
   ]
  },
  {
   "cell_type": "code",
   "execution_count": 5,
   "metadata": {},
   "outputs": [],
   "source": [
    "### Your code here"
   ]
  },
  {
   "cell_type": "markdown",
   "metadata": {},
   "source": [
    "### Ejercicio 5\n",
    "\n",
    "\n",
    "\n",
    "Sobre esa función (u otra), hallar su integral indefinida y realizar el siguiente cálculo con sympy:\n",
    "\n",
    "$\\int_{-3}^{3} f(x) \\,dx$\n",
    "\n",
    "¿Qué significa el resultado?"
   ]
  },
  {
   "cell_type": "code",
   "execution_count": 6,
   "metadata": {},
   "outputs": [],
   "source": [
    "### Your code here"
   ]
  },
  {
   "cell_type": "markdown",
   "metadata": {},
   "source": [
    "### Ejercicio 6\n",
    "\n",
    "\n",
    "Realizar un gráfico parecido al que se encuentra abajo, entre los límites -3 y 3.\n",
    "\n",
    "Utilizar la función fill_between de matplotlib (https://matplotlib.org/3.1.1/api/_as_gen/matplotlib.pyplot.fill_between.html)\n",
    "\n",
    "<img src=\"imgs/integral.svg\" alt=\"Drawing\" style=\"width: 200px;\"/>"
   ]
  },
  {
   "cell_type": "code",
   "execution_count": 7,
   "metadata": {},
   "outputs": [],
   "source": [
    "### Your code here"
   ]
  },
  {
   "cell_type": "markdown",
   "metadata": {},
   "source": [
    "### Ejercicio 7\n",
    "\n",
    "Realizar el gráfico anterior de forma interactiva"
   ]
  },
  {
   "cell_type": "code",
   "execution_count": 8,
   "metadata": {},
   "outputs": [],
   "source": [
    "### Your code here"
   ]
  },
  {
   "cell_type": "code",
   "execution_count": null,
   "metadata": {},
   "outputs": [],
   "source": []
  }
 ],
 "metadata": {
  "kernelspec": {
   "display_name": "Python 3 (ipykernel)",
   "language": "python",
   "name": "python3"
  },
  "language_info": {
   "codemirror_mode": {
    "name": "ipython",
    "version": 3
   },
   "file_extension": ".py",
   "mimetype": "text/x-python",
   "name": "python",
   "nbconvert_exporter": "python",
   "pygments_lexer": "ipython3",
   "version": "3.10.10"
  }
 },
 "nbformat": 4,
 "nbformat_minor": 4
}
