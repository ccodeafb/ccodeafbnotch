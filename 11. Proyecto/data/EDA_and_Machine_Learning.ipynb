{
 "cells": [
  {
   "cell_type": "code",
   "execution_count": 3,
   "id": "5e3e86df",
   "metadata": {},
   "outputs": [],
   "source": [
    "import pandas as pd \n",
    "import numpy as np \n",
    "import matplotlib.pyplot as plt\n",
    "import pickle\n",
    "import joblib\n",
    "from sklearn.cluster import KMeans\n",
    "from sklearn.metrics import precision_score, mean_absolute_error, mean_squared_error\n",
    "from sklearn import preprocessing\n",
    "from sklearn.cluster import HDBSCAN\n",
    "from sklearn.preprocessing import StandardScaler\n",
    "from sklearn.decomposition import PCA"
   ]
  },
  {
   "cell_type": "code",
   "execution_count": 4,
   "id": "7c825088",
   "metadata": {
    "scrolled": true
   },
   "outputs": [],
   "source": [
    "df_provincia = pd.read_csv('Coches010923Completo.csv')\n",
    "\n",
    "df1 = pd.read_csv('dataset1.csv')\n",
    "df2 = pd.read_csv('dataset2.csv')\n",
    "df = pd.concat([df1, df2], axis=0, ignore_index=True)"
   ]
  },
  {
   "cell_type": "markdown",
   "id": "d9c83fc0",
   "metadata": {},
   "source": [
    "## EDA"
   ]
  },
  {
   "cell_type": "code",
   "execution_count": 5,
   "id": "089ffe1e",
   "metadata": {},
   "outputs": [
    {
     "data": {
      "text/html": [
       "<div>\n",
       "<style scoped>\n",
       "    .dataframe tbody tr th:only-of-type {\n",
       "        vertical-align: middle;\n",
       "    }\n",
       "\n",
       "    .dataframe tbody tr th {\n",
       "        vertical-align: top;\n",
       "    }\n",
       "\n",
       "    .dataframe thead th {\n",
       "        text-align: right;\n",
       "    }\n",
       "</style>\n",
       "<table border=\"1\" class=\"dataframe\">\n",
       "  <thead>\n",
       "    <tr style=\"text-align: right;\">\n",
       "      <th></th>\n",
       "      <th>vehicle_type</th>\n",
       "      <th>make</th>\n",
       "      <th>model</th>\n",
       "      <th>version</th>\n",
       "      <th>fuel</th>\n",
       "      <th>year</th>\n",
       "      <th>kms</th>\n",
       "      <th>power</th>\n",
       "      <th>doors</th>\n",
       "      <th>shift</th>\n",
       "      <th>...</th>\n",
       "      <th>dealer_name</th>\n",
       "      <th>dealer_description</th>\n",
       "      <th>dealer_address</th>\n",
       "      <th>dealer_zip_code</th>\n",
       "      <th>dealer_city</th>\n",
       "      <th>dealer_country_code</th>\n",
       "      <th>dealer_is_professional</th>\n",
       "      <th>dealer_website</th>\n",
       "      <th>dealer_registered_at</th>\n",
       "      <th>date</th>\n",
       "    </tr>\n",
       "  </thead>\n",
       "  <tbody>\n",
       "    <tr>\n",
       "      <th>0</th>\n",
       "      <td>car</td>\n",
       "      <td>Opel</td>\n",
       "      <td>Crossland</td>\n",
       "      <td>1.2 GAS 110 GS Line 5p S/S</td>\n",
       "      <td>Gasolina</td>\n",
       "      <td>2022</td>\n",
       "      <td>5.0</td>\n",
       "      <td>110.0</td>\n",
       "      <td>NaN</td>\n",
       "      <td>manual</td>\n",
       "      <td>...</td>\n",
       "      <td>Sergio Y.</td>\n",
       "      <td>NaN</td>\n",
       "      <td>2, Carrer de Jacint Benavente, Poblenou, Pined...</td>\n",
       "      <td>8397.0</td>\n",
       "      <td>Pineda de Mar</td>\n",
       "      <td>ES</td>\n",
       "      <td>True</td>\n",
       "      <td>www.cocheauto.com</td>\n",
       "      <td>2017-01-18</td>\n",
       "      <td>2023-02-06</td>\n",
       "    </tr>\n",
       "    <tr>\n",
       "      <th>1</th>\n",
       "      <td>car</td>\n",
       "      <td>Opel</td>\n",
       "      <td>Crossland</td>\n",
       "      <td>1.2 81kW (110CV) GS Line</td>\n",
       "      <td>Gasolina</td>\n",
       "      <td>2022</td>\n",
       "      <td>24847.0</td>\n",
       "      <td>110.0</td>\n",
       "      <td>NaN</td>\n",
       "      <td>manual</td>\n",
       "      <td>...</td>\n",
       "      <td>Peugeot Alcala 534</td>\n",
       "      <td>Concesionario Oficial Peugeot Alcalá 534. Disp...</td>\n",
       "      <td>Avenida de José Gárate, Coslada, Área metropol...</td>\n",
       "      <td>28823.0</td>\n",
       "      <td>Coslada</td>\n",
       "      <td>ES</td>\n",
       "      <td>True</td>\n",
       "      <td>www.alcala534.com/es/vehiculos-ocasion</td>\n",
       "      <td>2019-02-15</td>\n",
       "      <td>2023-02-06</td>\n",
       "    </tr>\n",
       "    <tr>\n",
       "      <th>2</th>\n",
       "      <td>car</td>\n",
       "      <td>Opel</td>\n",
       "      <td>Crossland</td>\n",
       "      <td>1.5D 88kW (120CV) Business Elegance Auto</td>\n",
       "      <td>Diésel</td>\n",
       "      <td>2021</td>\n",
       "      <td>41356.0</td>\n",
       "      <td>120.0</td>\n",
       "      <td>NaN</td>\n",
       "      <td>automatic</td>\n",
       "      <td>...</td>\n",
       "      <td>Clicars S.</td>\n",
       "      <td>Nº1 en Europa en venta de coches online. \\nYa ...</td>\n",
       "      <td>San Cristóbal, Avenida de Andalucía, San Crist...</td>\n",
       "      <td>28021.0</td>\n",
       "      <td>Madrid</td>\n",
       "      <td>ES</td>\n",
       "      <td>True</td>\n",
       "      <td>www.clicars.com/</td>\n",
       "      <td>2016-05-09</td>\n",
       "      <td>2023-02-06</td>\n",
       "    </tr>\n",
       "    <tr>\n",
       "      <th>3</th>\n",
       "      <td>car</td>\n",
       "      <td>Opel</td>\n",
       "      <td>Crossland</td>\n",
       "      <td>GS-Line 1.2 GAS MT6 S/S 110cv</td>\n",
       "      <td>Gasolina</td>\n",
       "      <td>2022</td>\n",
       "      <td>11.0</td>\n",
       "      <td>110.0</td>\n",
       "      <td>NaN</td>\n",
       "      <td>manual</td>\n",
       "      <td>...</td>\n",
       "      <td>Vallescar S.</td>\n",
       "      <td>¿QUIERES UN VEHÍCULO HECHO A TU MEDIDA, CON LA...</td>\n",
       "      <td>Parc de Bombers de Sabadell, 52, Carretera de ...</td>\n",
       "      <td>8200.0</td>\n",
       "      <td>Sabadell</td>\n",
       "      <td>ES</td>\n",
       "      <td>True</td>\n",
       "      <td>https://www.vallescarocasion.es/</td>\n",
       "      <td>2019-09-30</td>\n",
       "      <td>2023-02-06</td>\n",
       "    </tr>\n",
       "    <tr>\n",
       "      <th>4</th>\n",
       "      <td>car</td>\n",
       "      <td>Opel</td>\n",
       "      <td>Crossland</td>\n",
       "      <td>GS-Line 1.2 GAS MT6 S/S 110cv</td>\n",
       "      <td>Gasolina</td>\n",
       "      <td>2022</td>\n",
       "      <td>11.0</td>\n",
       "      <td>110.0</td>\n",
       "      <td>NaN</td>\n",
       "      <td>manual</td>\n",
       "      <td>...</td>\n",
       "      <td>Vallescar Ocasion M.</td>\n",
       "      <td>¿QUIERES UN VEHÍCULO HECHO A TU MEDIDA, CON LA...</td>\n",
       "      <td>27, Carrer de Fèlix Ferran, Mollet del Vallès,...</td>\n",
       "      <td>8100.0</td>\n",
       "      <td>Mollet del Vallès</td>\n",
       "      <td>ES</td>\n",
       "      <td>True</td>\n",
       "      <td>https://www.vallescarocasion.es/</td>\n",
       "      <td>2017-04-19</td>\n",
       "      <td>2023-02-06</td>\n",
       "    </tr>\n",
       "  </tbody>\n",
       "</table>\n",
       "<p>5 rows × 28 columns</p>\n",
       "</div>"
      ],
      "text/plain": [
       "  vehicle_type  make      model                                   version  \\\n",
       "0          car  Opel  Crossland                1.2 GAS 110 GS Line 5p S/S   \n",
       "1          car  Opel  Crossland                  1.2 81kW (110CV) GS Line   \n",
       "2          car  Opel  Crossland  1.5D 88kW (120CV) Business Elegance Auto   \n",
       "3          car  Opel  Crossland             GS-Line 1.2 GAS MT6 S/S 110cv   \n",
       "4          car  Opel  Crossland             GS-Line 1.2 GAS MT6 S/S 110cv   \n",
       "\n",
       "       fuel  year      kms  power  doors      shift  ...  \\\n",
       "0  Gasolina  2022      5.0  110.0    NaN     manual  ...   \n",
       "1  Gasolina  2022  24847.0  110.0    NaN     manual  ...   \n",
       "2    Diésel  2021  41356.0  120.0    NaN  automatic  ...   \n",
       "3  Gasolina  2022     11.0  110.0    NaN     manual  ...   \n",
       "4  Gasolina  2022     11.0  110.0    NaN     manual  ...   \n",
       "\n",
       "            dealer_name                                 dealer_description  \\\n",
       "0             Sergio Y.                                                NaN   \n",
       "1    Peugeot Alcala 534  Concesionario Oficial Peugeot Alcalá 534. Disp...   \n",
       "2            Clicars S.  Nº1 en Europa en venta de coches online. \\nYa ...   \n",
       "3          Vallescar S.  ¿QUIERES UN VEHÍCULO HECHO A TU MEDIDA, CON LA...   \n",
       "4  Vallescar Ocasion M.  ¿QUIERES UN VEHÍCULO HECHO A TU MEDIDA, CON LA...   \n",
       "\n",
       "                                      dealer_address  dealer_zip_code  \\\n",
       "0  2, Carrer de Jacint Benavente, Poblenou, Pined...           8397.0   \n",
       "1  Avenida de José Gárate, Coslada, Área metropol...          28823.0   \n",
       "2  San Cristóbal, Avenida de Andalucía, San Crist...          28021.0   \n",
       "3  Parc de Bombers de Sabadell, 52, Carretera de ...           8200.0   \n",
       "4  27, Carrer de Fèlix Ferran, Mollet del Vallès,...           8100.0   \n",
       "\n",
       "         dealer_city dealer_country_code dealer_is_professional  \\\n",
       "0      Pineda de Mar                  ES                   True   \n",
       "1            Coslada                  ES                   True   \n",
       "2             Madrid                  ES                   True   \n",
       "3           Sabadell                  ES                   True   \n",
       "4  Mollet del Vallès                  ES                   True   \n",
       "\n",
       "                           dealer_website dealer_registered_at        date  \n",
       "0                       www.cocheauto.com           2017-01-18  2023-02-06  \n",
       "1  www.alcala534.com/es/vehiculos-ocasion           2019-02-15  2023-02-06  \n",
       "2                        www.clicars.com/           2016-05-09  2023-02-06  \n",
       "3        https://www.vallescarocasion.es/           2019-09-30  2023-02-06  \n",
       "4        https://www.vallescarocasion.es/           2017-04-19  2023-02-06  \n",
       "\n",
       "[5 rows x 28 columns]"
      ]
     },
     "execution_count": 5,
     "metadata": {},
     "output_type": "execute_result"
    }
   ],
   "source": [
    "df.head()"
   ]
  },
  {
   "cell_type": "markdown",
   "id": "e5a4d890",
   "metadata": {},
   "source": [
    "Obtenemos el numero de valores únicos por cada columna"
   ]
  },
  {
   "cell_type": "code",
   "execution_count": 6,
   "id": "5ba68fce",
   "metadata": {},
   "outputs": [
    {
     "data": {
      "text/plain": [
       "vehicle_type                 1\n",
       "make                        66\n",
       "model                      748\n",
       "version                   8658\n",
       "fuel                         4\n",
       "year                        43\n",
       "kms                       6643\n",
       "power                      349\n",
       "doors                        0\n",
       "shift                        2\n",
       "color                        0\n",
       "photos                      10\n",
       "description               6439\n",
       "price                     2665\n",
       "currency                     1\n",
       "location                   669\n",
       "publish_date               424\n",
       "update_date                 38\n",
       "dealer_name               1678\n",
       "dealer_description        1181\n",
       "dealer_address            1675\n",
       "dealer_zip_code            872\n",
       "dealer_city                665\n",
       "dealer_country_code          1\n",
       "dealer_is_professional       1\n",
       "dealer_website             888\n",
       "dealer_registered_at      1177\n",
       "date                        13\n",
       "dtype: int64"
      ]
     },
     "execution_count": 6,
     "metadata": {},
     "output_type": "execute_result"
    }
   ],
   "source": [
    "df.nunique()"
   ]
  },
  {
   "cell_type": "markdown",
   "id": "0204f288",
   "metadata": {},
   "source": [
    "Obtenemos la suma del numero de valores nulos por cada columna"
   ]
  },
  {
   "cell_type": "code",
   "execution_count": 7,
   "id": "74568b49",
   "metadata": {},
   "outputs": [
    {
     "data": {
      "text/plain": [
       "vehicle_type                   0\n",
       "make                           0\n",
       "model                          0\n",
       "version                      158\n",
       "fuel                        3190\n",
       "year                           0\n",
       "kms                          811\n",
       "power                        291\n",
       "doors                     100000\n",
       "shift                       1018\n",
       "color                     100000\n",
       "photos                         0\n",
       "description                44190\n",
       "price                          0\n",
       "currency                       0\n",
       "location                       0\n",
       "publish_date                   0\n",
       "update_date                    0\n",
       "dealer_name                   92\n",
       "dealer_description         18442\n",
       "dealer_address                92\n",
       "dealer_zip_code               92\n",
       "dealer_city                   92\n",
       "dealer_country_code            0\n",
       "dealer_is_professional         0\n",
       "dealer_website             20087\n",
       "dealer_registered_at          92\n",
       "date                           0\n",
       "dtype: int64"
      ]
     },
     "execution_count": 7,
     "metadata": {},
     "output_type": "execute_result"
    }
   ],
   "source": [
    "df.isna().sum()"
   ]
  },
  {
   "cell_type": "markdown",
   "id": "58d95827",
   "metadata": {},
   "source": [
    "Inspeccionamos las columnas de localidades y provincias"
   ]
  },
  {
   "cell_type": "code",
   "execution_count": 8,
   "id": "0961e721",
   "metadata": {},
   "outputs": [
    {
     "data": {
      "text/html": [
       "<div>\n",
       "<style scoped>\n",
       "    .dataframe tbody tr th:only-of-type {\n",
       "        vertical-align: middle;\n",
       "    }\n",
       "\n",
       "    .dataframe tbody tr th {\n",
       "        vertical-align: top;\n",
       "    }\n",
       "\n",
       "    .dataframe thead th {\n",
       "        text-align: right;\n",
       "    }\n",
       "</style>\n",
       "<table border=\"1\" class=\"dataframe\">\n",
       "  <thead>\n",
       "    <tr style=\"text-align: right;\">\n",
       "      <th></th>\n",
       "      <th>make</th>\n",
       "      <th>model</th>\n",
       "      <th>fuel</th>\n",
       "      <th>kms</th>\n",
       "      <th>power</th>\n",
       "      <th>shift</th>\n",
       "      <th>price</th>\n",
       "      <th>location</th>\n",
       "      <th>codigopostalid</th>\n",
       "      <th>provincia</th>\n",
       "      <th>poblacion</th>\n",
       "    </tr>\n",
       "  </thead>\n",
       "  <tbody>\n",
       "    <tr>\n",
       "      <th>0</th>\n",
       "      <td>Opel</td>\n",
       "      <td>Crossland</td>\n",
       "      <td>Gasolina</td>\n",
       "      <td>5.0</td>\n",
       "      <td>110.0</td>\n",
       "      <td>manual</td>\n",
       "      <td>22900</td>\n",
       "      <td>Pineda de Mar</td>\n",
       "      <td>8397</td>\n",
       "      <td>Barcelona</td>\n",
       "      <td>Pineda de Mar</td>\n",
       "    </tr>\n",
       "    <tr>\n",
       "      <th>1</th>\n",
       "      <td>Opel</td>\n",
       "      <td>Crossland</td>\n",
       "      <td>Gasolina</td>\n",
       "      <td>24847.0</td>\n",
       "      <td>110.0</td>\n",
       "      <td>manual</td>\n",
       "      <td>19990</td>\n",
       "      <td>Coslada</td>\n",
       "      <td>28823</td>\n",
       "      <td>Madrid</td>\n",
       "      <td>Coslada</td>\n",
       "    </tr>\n",
       "    <tr>\n",
       "      <th>2</th>\n",
       "      <td>Opel</td>\n",
       "      <td>Crossland</td>\n",
       "      <td>Diésel</td>\n",
       "      <td>41356.0</td>\n",
       "      <td>120.0</td>\n",
       "      <td>automatic</td>\n",
       "      <td>18590</td>\n",
       "      <td>Madrid</td>\n",
       "      <td>28021</td>\n",
       "      <td>Madrid</td>\n",
       "      <td>Madrid</td>\n",
       "    </tr>\n",
       "    <tr>\n",
       "      <th>3</th>\n",
       "      <td>Opel</td>\n",
       "      <td>Crossland</td>\n",
       "      <td>Gasolina</td>\n",
       "      <td>11.0</td>\n",
       "      <td>110.0</td>\n",
       "      <td>manual</td>\n",
       "      <td>22700</td>\n",
       "      <td>Sabadell</td>\n",
       "      <td>8201</td>\n",
       "      <td>Barcelona</td>\n",
       "      <td>Sabadell</td>\n",
       "    </tr>\n",
       "    <tr>\n",
       "      <th>4</th>\n",
       "      <td>Opel</td>\n",
       "      <td>Crossland</td>\n",
       "      <td>Gasolina</td>\n",
       "      <td>11.0</td>\n",
       "      <td>110.0</td>\n",
       "      <td>manual</td>\n",
       "      <td>22700</td>\n",
       "      <td>Mollet del Vallès</td>\n",
       "      <td>8100</td>\n",
       "      <td>Barcelona</td>\n",
       "      <td>Mollet del Vallès</td>\n",
       "    </tr>\n",
       "  </tbody>\n",
       "</table>\n",
       "</div>"
      ],
      "text/plain": [
       "   make      model      fuel      kms  power      shift  price  \\\n",
       "0  Opel  Crossland  Gasolina      5.0  110.0     manual  22900   \n",
       "1  Opel  Crossland  Gasolina  24847.0  110.0     manual  19990   \n",
       "2  Opel  Crossland    Diésel  41356.0  120.0  automatic  18590   \n",
       "3  Opel  Crossland  Gasolina     11.0  110.0     manual  22700   \n",
       "4  Opel  Crossland  Gasolina     11.0  110.0     manual  22700   \n",
       "\n",
       "            location  codigopostalid  provincia          poblacion  \n",
       "0      Pineda de Mar            8397  Barcelona      Pineda de Mar  \n",
       "1            Coslada           28823     Madrid            Coslada  \n",
       "2             Madrid           28021     Madrid             Madrid  \n",
       "3           Sabadell            8201  Barcelona           Sabadell  \n",
       "4  Mollet del Vallès            8100  Barcelona  Mollet del Vallès  "
      ]
     },
     "execution_count": 8,
     "metadata": {},
     "output_type": "execute_result"
    }
   ],
   "source": [
    "df_provincia.head()"
   ]
  },
  {
   "cell_type": "code",
   "execution_count": 7,
   "id": "1b90c6ae",
   "metadata": {},
   "outputs": [
    {
     "data": {
      "text/plain": [
       "Madrid                                 5135\n",
       "Barcelona                              4488\n",
       "Vigo                                   3519\n",
       "Sevilla                                3411\n",
       "Murcia                                 3358\n",
       "                                       ... \n",
       "Baeza                                     1\n",
       "Foz                                       1\n",
       "Residencia Nuestra Señora del Pilar       1\n",
       "Orio                                      1\n",
       "El Saucejo                                1\n",
       "Name: location, Length: 669, dtype: int64"
      ]
     },
     "execution_count": 7,
     "metadata": {},
     "output_type": "execute_result"
    }
   ],
   "source": [
    "df.location.value_counts()"
   ]
  },
  {
   "cell_type": "markdown",
   "id": "b09c9271",
   "metadata": {},
   "source": [
    "Conclusion tras ver duplicados, nulos, etc, quitamos las siguientes columnas:"
   ]
  },
  {
   "cell_type": "code",
   "execution_count": 9,
   "id": "77e72ba7",
   "metadata": {},
   "outputs": [],
   "source": [
    "df = df.drop(['vehicle_type','dealer_country_code','dealer_is_professional','color','description','currency','dealer_zip_code','dealer_address','doors','dealer_description','update_date','dealer_registered_at','date','version','dealer_website','photos','dealer_name','dealer_city','publish_date'], axis = 1)"
   ]
  },
  {
   "cell_type": "markdown",
   "id": "086c7086",
   "metadata": {},
   "source": [
    "Ahora quitamos duplicados:"
   ]
  },
  {
   "cell_type": "code",
   "execution_count": 10,
   "id": "bb4a0f06",
   "metadata": {},
   "outputs": [
    {
     "data": {
      "text/plain": [
       "(100000, 9)"
      ]
     },
     "execution_count": 10,
     "metadata": {},
     "output_type": "execute_result"
    }
   ],
   "source": [
    "df.shape"
   ]
  },
  {
   "cell_type": "code",
   "execution_count": 11,
   "id": "163fa345",
   "metadata": {},
   "outputs": [],
   "source": [
    "df = df.drop_duplicates()"
   ]
  },
  {
   "cell_type": "markdown",
   "id": "380d3248",
   "metadata": {},
   "source": [
    "Descubrimos que prácticamente la mitad de nuestro dataframe son duplicados:"
   ]
  },
  {
   "cell_type": "code",
   "execution_count": 12,
   "id": "19c6cde6",
   "metadata": {},
   "outputs": [
    {
     "data": {
      "text/plain": [
       "(41764, 9)"
      ]
     },
     "execution_count": 12,
     "metadata": {},
     "output_type": "execute_result"
    }
   ],
   "source": [
    "df.shape"
   ]
  },
  {
   "cell_type": "markdown",
   "id": "c2adef9c",
   "metadata": {},
   "source": [
    "Quitamos los nulos"
   ]
  },
  {
   "cell_type": "code",
   "execution_count": 13,
   "id": "d2bde30f",
   "metadata": {},
   "outputs": [
    {
     "data": {
      "text/plain": [
       "(39648, 9)"
      ]
     },
     "execution_count": 13,
     "metadata": {},
     "output_type": "execute_result"
    }
   ],
   "source": [
    "df = df.dropna()\n",
    "df.shape"
   ]
  },
  {
   "cell_type": "markdown",
   "id": "5274406f",
   "metadata": {},
   "source": [
    "Unimos los dos Data Frame"
   ]
  },
  {
   "cell_type": "code",
   "execution_count": 14,
   "id": "f3265dc4",
   "metadata": {},
   "outputs": [],
   "source": [
    "loc2cp = df_provincia[['location','codigopostalid']].set_index('location').to_dict()['codigopostalid']\n",
    "loc2provincia = df_provincia[['location','provincia']].set_index('location').to_dict()['provincia']"
   ]
  },
  {
   "cell_type": "code",
   "execution_count": 15,
   "id": "4c131131",
   "metadata": {},
   "outputs": [],
   "source": [
    "df['cp'] = df.location.map(loc2cp)\n",
    "df['provincia'] = df.location.map(loc2provincia)"
   ]
  },
  {
   "cell_type": "code",
   "execution_count": 16,
   "id": "e604fb01",
   "metadata": {},
   "outputs": [
    {
     "data": {
      "text/plain": [
       "1452"
      ]
     },
     "execution_count": 16,
     "metadata": {},
     "output_type": "execute_result"
    }
   ],
   "source": [
    "df['provincia'].isna().sum()"
   ]
  },
  {
   "cell_type": "code",
   "execution_count": 17,
   "id": "930baff4",
   "metadata": {},
   "outputs": [
    {
     "data": {
      "text/plain": [
       "make            0\n",
       "model           0\n",
       "fuel            0\n",
       "year            0\n",
       "kms             0\n",
       "power           0\n",
       "shift           0\n",
       "price           0\n",
       "location        0\n",
       "cp           1452\n",
       "provincia    1452\n",
       "dtype: int64"
      ]
     },
     "execution_count": 17,
     "metadata": {},
     "output_type": "execute_result"
    }
   ],
   "source": [
    "df.isna().sum()"
   ]
  },
  {
   "cell_type": "markdown",
   "id": "95174d37",
   "metadata": {},
   "source": [
    "Volvemos a quitar duplicados y vemos la forma final"
   ]
  },
  {
   "cell_type": "code",
   "execution_count": 18,
   "id": "62695e51",
   "metadata": {},
   "outputs": [
    {
     "data": {
      "text/plain": [
       "(38196, 11)"
      ]
     },
     "execution_count": 18,
     "metadata": {},
     "output_type": "execute_result"
    }
   ],
   "source": [
    "df = df.dropna()\n",
    "df.shape"
   ]
  },
  {
   "cell_type": "markdown",
   "id": "f214a0db",
   "metadata": {},
   "source": [
    "Creamos columna antiguedad"
   ]
  },
  {
   "cell_type": "code",
   "execution_count": 19,
   "id": "83251df4",
   "metadata": {},
   "outputs": [
    {
     "data": {
      "text/html": [
       "<div>\n",
       "<style scoped>\n",
       "    .dataframe tbody tr th:only-of-type {\n",
       "        vertical-align: middle;\n",
       "    }\n",
       "\n",
       "    .dataframe tbody tr th {\n",
       "        vertical-align: top;\n",
       "    }\n",
       "\n",
       "    .dataframe thead th {\n",
       "        text-align: right;\n",
       "    }\n",
       "</style>\n",
       "<table border=\"1\" class=\"dataframe\">\n",
       "  <thead>\n",
       "    <tr style=\"text-align: right;\">\n",
       "      <th></th>\n",
       "      <th>make</th>\n",
       "      <th>model</th>\n",
       "      <th>fuel</th>\n",
       "      <th>kms</th>\n",
       "      <th>power</th>\n",
       "      <th>shift</th>\n",
       "      <th>price</th>\n",
       "      <th>location</th>\n",
       "      <th>cp</th>\n",
       "      <th>provincia</th>\n",
       "      <th>antiguedad</th>\n",
       "    </tr>\n",
       "  </thead>\n",
       "  <tbody>\n",
       "    <tr>\n",
       "      <th>0</th>\n",
       "      <td>Opel</td>\n",
       "      <td>Crossland</td>\n",
       "      <td>Gasolina</td>\n",
       "      <td>5.0</td>\n",
       "      <td>110.0</td>\n",
       "      <td>manual</td>\n",
       "      <td>22900</td>\n",
       "      <td>Pineda de Mar</td>\n",
       "      <td>8397.0</td>\n",
       "      <td>Barcelona</td>\n",
       "      <td>1</td>\n",
       "    </tr>\n",
       "    <tr>\n",
       "      <th>1</th>\n",
       "      <td>Opel</td>\n",
       "      <td>Crossland</td>\n",
       "      <td>Gasolina</td>\n",
       "      <td>24847.0</td>\n",
       "      <td>110.0</td>\n",
       "      <td>manual</td>\n",
       "      <td>19990</td>\n",
       "      <td>Coslada</td>\n",
       "      <td>28823.0</td>\n",
       "      <td>Madrid</td>\n",
       "      <td>1</td>\n",
       "    </tr>\n",
       "    <tr>\n",
       "      <th>2</th>\n",
       "      <td>Opel</td>\n",
       "      <td>Crossland</td>\n",
       "      <td>Diésel</td>\n",
       "      <td>41356.0</td>\n",
       "      <td>120.0</td>\n",
       "      <td>automatic</td>\n",
       "      <td>18590</td>\n",
       "      <td>Madrid</td>\n",
       "      <td>28014.0</td>\n",
       "      <td>Madrid</td>\n",
       "      <td>2</td>\n",
       "    </tr>\n",
       "    <tr>\n",
       "      <th>3</th>\n",
       "      <td>Opel</td>\n",
       "      <td>Crossland</td>\n",
       "      <td>Gasolina</td>\n",
       "      <td>11.0</td>\n",
       "      <td>110.0</td>\n",
       "      <td>manual</td>\n",
       "      <td>22700</td>\n",
       "      <td>Sabadell</td>\n",
       "      <td>8203.0</td>\n",
       "      <td>Barcelona</td>\n",
       "      <td>1</td>\n",
       "    </tr>\n",
       "    <tr>\n",
       "      <th>4</th>\n",
       "      <td>Opel</td>\n",
       "      <td>Crossland</td>\n",
       "      <td>Gasolina</td>\n",
       "      <td>11.0</td>\n",
       "      <td>110.0</td>\n",
       "      <td>manual</td>\n",
       "      <td>22700</td>\n",
       "      <td>Mollet del Vallès</td>\n",
       "      <td>8100.0</td>\n",
       "      <td>Barcelona</td>\n",
       "      <td>1</td>\n",
       "    </tr>\n",
       "    <tr>\n",
       "      <th>...</th>\n",
       "      <td>...</td>\n",
       "      <td>...</td>\n",
       "      <td>...</td>\n",
       "      <td>...</td>\n",
       "      <td>...</td>\n",
       "      <td>...</td>\n",
       "      <td>...</td>\n",
       "      <td>...</td>\n",
       "      <td>...</td>\n",
       "      <td>...</td>\n",
       "      <td>...</td>\n",
       "    </tr>\n",
       "    <tr>\n",
       "      <th>99990</th>\n",
       "      <td>Citroen</td>\n",
       "      <td>C4 Picasso</td>\n",
       "      <td>Diésel</td>\n",
       "      <td>148527.0</td>\n",
       "      <td>150.0</td>\n",
       "      <td>manual</td>\n",
       "      <td>13310</td>\n",
       "      <td>Granollers</td>\n",
       "      <td>8403.0</td>\n",
       "      <td>Barcelona</td>\n",
       "      <td>8</td>\n",
       "    </tr>\n",
       "    <tr>\n",
       "      <th>99992</th>\n",
       "      <td>Citroen</td>\n",
       "      <td>C4 Picasso</td>\n",
       "      <td>Diésel</td>\n",
       "      <td>148527.0</td>\n",
       "      <td>150.0</td>\n",
       "      <td>manual</td>\n",
       "      <td>13310</td>\n",
       "      <td>Estepona</td>\n",
       "      <td>29680.0</td>\n",
       "      <td>Málaga</td>\n",
       "      <td>8</td>\n",
       "    </tr>\n",
       "    <tr>\n",
       "      <th>99994</th>\n",
       "      <td>Citroen</td>\n",
       "      <td>C4 Picasso</td>\n",
       "      <td>Diésel</td>\n",
       "      <td>148527.0</td>\n",
       "      <td>150.0</td>\n",
       "      <td>manual</td>\n",
       "      <td>13310</td>\n",
       "      <td>Saladar</td>\n",
       "      <td>3700.0</td>\n",
       "      <td>Alicante</td>\n",
       "      <td>8</td>\n",
       "    </tr>\n",
       "    <tr>\n",
       "      <th>99996</th>\n",
       "      <td>Citroen</td>\n",
       "      <td>C4 Picasso</td>\n",
       "      <td>Diésel</td>\n",
       "      <td>173035.0</td>\n",
       "      <td>111.0</td>\n",
       "      <td>automatic</td>\n",
       "      <td>9290</td>\n",
       "      <td>Valencia</td>\n",
       "      <td>46002.0</td>\n",
       "      <td>Valencia</td>\n",
       "      <td>10</td>\n",
       "    </tr>\n",
       "    <tr>\n",
       "      <th>99998</th>\n",
       "      <td>Citroen</td>\n",
       "      <td>C4 Picasso</td>\n",
       "      <td>Diésel</td>\n",
       "      <td>178131.0</td>\n",
       "      <td>110.0</td>\n",
       "      <td>manual</td>\n",
       "      <td>7950</td>\n",
       "      <td>Valencia</td>\n",
       "      <td>46002.0</td>\n",
       "      <td>Valencia</td>\n",
       "      <td>11</td>\n",
       "    </tr>\n",
       "  </tbody>\n",
       "</table>\n",
       "<p>38196 rows × 11 columns</p>\n",
       "</div>"
      ],
      "text/plain": [
       "          make       model      fuel       kms  power      shift  price  \\\n",
       "0         Opel   Crossland  Gasolina       5.0  110.0     manual  22900   \n",
       "1         Opel   Crossland  Gasolina   24847.0  110.0     manual  19990   \n",
       "2         Opel   Crossland    Diésel   41356.0  120.0  automatic  18590   \n",
       "3         Opel   Crossland  Gasolina      11.0  110.0     manual  22700   \n",
       "4         Opel   Crossland  Gasolina      11.0  110.0     manual  22700   \n",
       "...        ...         ...       ...       ...    ...        ...    ...   \n",
       "99990  Citroen  C4 Picasso    Diésel  148527.0  150.0     manual  13310   \n",
       "99992  Citroen  C4 Picasso    Diésel  148527.0  150.0     manual  13310   \n",
       "99994  Citroen  C4 Picasso    Diésel  148527.0  150.0     manual  13310   \n",
       "99996  Citroen  C4 Picasso    Diésel  173035.0  111.0  automatic   9290   \n",
       "99998  Citroen  C4 Picasso    Diésel  178131.0  110.0     manual   7950   \n",
       "\n",
       "                location       cp  provincia  antiguedad  \n",
       "0          Pineda de Mar   8397.0  Barcelona           1  \n",
       "1                Coslada  28823.0     Madrid           1  \n",
       "2                 Madrid  28014.0     Madrid           2  \n",
       "3               Sabadell   8203.0  Barcelona           1  \n",
       "4      Mollet del Vallès   8100.0  Barcelona           1  \n",
       "...                  ...      ...        ...         ...  \n",
       "99990         Granollers   8403.0  Barcelona           8  \n",
       "99992           Estepona  29680.0     Málaga           8  \n",
       "99994            Saladar   3700.0   Alicante           8  \n",
       "99996           Valencia  46002.0   Valencia          10  \n",
       "99998           Valencia  46002.0   Valencia          11  \n",
       "\n",
       "[38196 rows x 11 columns]"
      ]
     },
     "execution_count": 19,
     "metadata": {},
     "output_type": "execute_result"
    }
   ],
   "source": [
    "df['antiguedad'] = (2023 - df['year'])\n",
    "df = df.drop(['year'], axis = 1)\n",
    "df"
   ]
  },
  {
   "cell_type": "markdown",
   "id": "45941dd8",
   "metadata": {},
   "source": [
    "Histograma mostrando la distribucion de las distintas features"
   ]
  },
  {
   "cell_type": "code",
   "execution_count": 20,
   "id": "b4587daf",
   "metadata": {},
   "outputs": [
    {
     "data": {
      "image/png": "[encoded data removed]",
      "text/plain": [
       "<Figure size 1500x700 with 6 Axes>"
      ]
     },
     "metadata": {},
     "output_type": "display_data"
    }
   ],
   "source": [
    "df.hist(figsize=(15, 7), bins=80)\n",
    "plt.show()"
   ]
  },
  {
   "cell_type": "markdown",
   "id": "d0789784",
   "metadata": {},
   "source": [
    "Examinamos la distribución de datos precio "
   ]
  },
  {
   "cell_type": "code",
   "execution_count": 21,
   "id": "319a5c0a",
   "metadata": {},
   "outputs": [
    {
     "data": {
      "text/plain": [
       "Text(0.5, 0, 'Precio en escala logaritmica')"
      ]
     },
     "execution_count": 21,
     "metadata": {},
     "output_type": "execute_result"
    },
    {
     "data": {
      "image/png": "[encoded data removed]",
      "text/plain": [
       "<Figure size 640x480 with 1 Axes>"
      ]
     },
     "metadata": {},
     "output_type": "display_data"
    }
   ],
   "source": [
    "np.log(df.price + 1).hist(bins = 30)\n",
    "plt.axvline(x=6.9, color='g', linestyle='--')\n",
    "plt.axvline(x=13.12, color='g', linestyle='--')\n",
    "plt.axvline(x=6.7, color='r', linestyle='--')\n",
    "plt.axvline(x=5, color='r', linestyle='--')\n",
    "plt.ylabel('Frecuencia')\n",
    "plt.xlabel('Precio en escala logaritmica')"
   ]
  },
  {
   "cell_type": "markdown",
   "id": "288c55e5",
   "metadata": {},
   "source": [
    "Al realizar la distribución logarítmica del precio descubrimos dos agrupaciones en nuestra distribución, gracias a nuestro análisis anterior sabemos que la agrupacion de la izquierda es consecuencia de precios inusualmente bajos en relación al precio de venta de un coche de segunda mano habitual, concluimos que los coches dentro de este ranfgo de precio se destinan a la venta para piezas y desguace. Por ello encontramos pertinente aislarla del conjunto de datos usado en el análisis. \n",
    "\n",
    "Los puntos que usamos para separar estas agrupaciones coinciden los límites de la agrupación, con un valor de:"
   ]
  },
  {
   "cell_type": "code",
   "execution_count": 21,
   "id": "c6bd7b92",
   "metadata": {},
   "outputs": [
    {
     "name": "stdout",
     "output_type": "stream",
     "text": [
      "(992.2747156050262, 498819.7065866096)\n"
     ]
    }
   ],
   "source": [
    "print(f'({np.exp(6.9)}, {np.exp(13.12)})')"
   ]
  },
  {
   "cell_type": "markdown",
   "id": "d7640ce1",
   "metadata": {},
   "source": [
    "#### Escalamos logaritmicamente la distribución de los precios "
   ]
  },
  {
   "cell_type": "code",
   "execution_count": 22,
   "id": "1162a067",
   "metadata": {},
   "outputs": [],
   "source": [
    "df_escalado = df.copy()"
   ]
  },
  {
   "cell_type": "code",
   "execution_count": 23,
   "id": "48637f6b",
   "metadata": {},
   "outputs": [
    {
     "name": "stderr",
     "output_type": "stream",
     "text": [
      "C:\\Users\\Usuario\\anaconda3\\lib\\site-packages\\pandas\\core\\arraylike.py:402: RuntimeWarning: divide by zero encountered in log\n",
      "  result = getattr(ufunc, method)(*inputs, **kwargs)\n"
     ]
    }
   ],
   "source": [
    "df_escalado['precio_escalado'] = np.log(df_escalado['price'])\n",
    "df_escalado = df_escalado.drop(['price'], axis =1)"
   ]
  },
  {
   "cell_type": "markdown",
   "id": "f0e317e8",
   "metadata": {},
   "source": [
    "#### Seleccionamos el conjunto acotado "
   ]
  },
  {
   "cell_type": "code",
   "execution_count": 24,
   "id": "ff9d7413",
   "metadata": {},
   "outputs": [
    {
     "data": {
      "text/html": [
       "<div>\n",
       "<style scoped>\n",
       "    .dataframe tbody tr th:only-of-type {\n",
       "        vertical-align: middle;\n",
       "    }\n",
       "\n",
       "    .dataframe tbody tr th {\n",
       "        vertical-align: top;\n",
       "    }\n",
       "\n",
       "    .dataframe thead th {\n",
       "        text-align: right;\n",
       "    }\n",
       "</style>\n",
       "<table border=\"1\" class=\"dataframe\">\n",
       "  <thead>\n",
       "    <tr style=\"text-align: right;\">\n",
       "      <th></th>\n",
       "      <th>make</th>\n",
       "      <th>model</th>\n",
       "      <th>fuel</th>\n",
       "      <th>kms</th>\n",
       "      <th>power</th>\n",
       "      <th>shift</th>\n",
       "      <th>location</th>\n",
       "      <th>cp</th>\n",
       "      <th>provincia</th>\n",
       "      <th>antiguedad</th>\n",
       "      <th>precio_escalado</th>\n",
       "    </tr>\n",
       "  </thead>\n",
       "  <tbody>\n",
       "    <tr>\n",
       "      <th>0</th>\n",
       "      <td>Opel</td>\n",
       "      <td>Crossland</td>\n",
       "      <td>Gasolina</td>\n",
       "      <td>5.0</td>\n",
       "      <td>110.0</td>\n",
       "      <td>manual</td>\n",
       "      <td>Pineda de Mar</td>\n",
       "      <td>8397.0</td>\n",
       "      <td>Barcelona</td>\n",
       "      <td>1</td>\n",
       "      <td>10.038892</td>\n",
       "    </tr>\n",
       "    <tr>\n",
       "      <th>1</th>\n",
       "      <td>Opel</td>\n",
       "      <td>Crossland</td>\n",
       "      <td>Gasolina</td>\n",
       "      <td>24847.0</td>\n",
       "      <td>110.0</td>\n",
       "      <td>manual</td>\n",
       "      <td>Coslada</td>\n",
       "      <td>28823.0</td>\n",
       "      <td>Madrid</td>\n",
       "      <td>1</td>\n",
       "      <td>9.902987</td>\n",
       "    </tr>\n",
       "    <tr>\n",
       "      <th>2</th>\n",
       "      <td>Opel</td>\n",
       "      <td>Crossland</td>\n",
       "      <td>Diésel</td>\n",
       "      <td>41356.0</td>\n",
       "      <td>120.0</td>\n",
       "      <td>automatic</td>\n",
       "      <td>Madrid</td>\n",
       "      <td>28014.0</td>\n",
       "      <td>Madrid</td>\n",
       "      <td>2</td>\n",
       "      <td>9.830379</td>\n",
       "    </tr>\n",
       "    <tr>\n",
       "      <th>3</th>\n",
       "      <td>Opel</td>\n",
       "      <td>Crossland</td>\n",
       "      <td>Gasolina</td>\n",
       "      <td>11.0</td>\n",
       "      <td>110.0</td>\n",
       "      <td>manual</td>\n",
       "      <td>Sabadell</td>\n",
       "      <td>8203.0</td>\n",
       "      <td>Barcelona</td>\n",
       "      <td>1</td>\n",
       "      <td>10.030120</td>\n",
       "    </tr>\n",
       "    <tr>\n",
       "      <th>4</th>\n",
       "      <td>Opel</td>\n",
       "      <td>Crossland</td>\n",
       "      <td>Gasolina</td>\n",
       "      <td>11.0</td>\n",
       "      <td>110.0</td>\n",
       "      <td>manual</td>\n",
       "      <td>Mollet del Vallès</td>\n",
       "      <td>8100.0</td>\n",
       "      <td>Barcelona</td>\n",
       "      <td>1</td>\n",
       "      <td>10.030120</td>\n",
       "    </tr>\n",
       "    <tr>\n",
       "      <th>...</th>\n",
       "      <td>...</td>\n",
       "      <td>...</td>\n",
       "      <td>...</td>\n",
       "      <td>...</td>\n",
       "      <td>...</td>\n",
       "      <td>...</td>\n",
       "      <td>...</td>\n",
       "      <td>...</td>\n",
       "      <td>...</td>\n",
       "      <td>...</td>\n",
       "      <td>...</td>\n",
       "    </tr>\n",
       "    <tr>\n",
       "      <th>99990</th>\n",
       "      <td>Citroen</td>\n",
       "      <td>C4 Picasso</td>\n",
       "      <td>Diésel</td>\n",
       "      <td>148527.0</td>\n",
       "      <td>150.0</td>\n",
       "      <td>manual</td>\n",
       "      <td>Granollers</td>\n",
       "      <td>8403.0</td>\n",
       "      <td>Barcelona</td>\n",
       "      <td>8</td>\n",
       "      <td>9.496271</td>\n",
       "    </tr>\n",
       "    <tr>\n",
       "      <th>99992</th>\n",
       "      <td>Citroen</td>\n",
       "      <td>C4 Picasso</td>\n",
       "      <td>Diésel</td>\n",
       "      <td>148527.0</td>\n",
       "      <td>150.0</td>\n",
       "      <td>manual</td>\n",
       "      <td>Estepona</td>\n",
       "      <td>29680.0</td>\n",
       "      <td>Málaga</td>\n",
       "      <td>8</td>\n",
       "      <td>9.496271</td>\n",
       "    </tr>\n",
       "    <tr>\n",
       "      <th>99994</th>\n",
       "      <td>Citroen</td>\n",
       "      <td>C4 Picasso</td>\n",
       "      <td>Diésel</td>\n",
       "      <td>148527.0</td>\n",
       "      <td>150.0</td>\n",
       "      <td>manual</td>\n",
       "      <td>Saladar</td>\n",
       "      <td>3700.0</td>\n",
       "      <td>Alicante</td>\n",
       "      <td>8</td>\n",
       "      <td>9.496271</td>\n",
       "    </tr>\n",
       "    <tr>\n",
       "      <th>99996</th>\n",
       "      <td>Citroen</td>\n",
       "      <td>C4 Picasso</td>\n",
       "      <td>Diésel</td>\n",
       "      <td>173035.0</td>\n",
       "      <td>111.0</td>\n",
       "      <td>automatic</td>\n",
       "      <td>Valencia</td>\n",
       "      <td>46002.0</td>\n",
       "      <td>Valencia</td>\n",
       "      <td>10</td>\n",
       "      <td>9.136694</td>\n",
       "    </tr>\n",
       "    <tr>\n",
       "      <th>99998</th>\n",
       "      <td>Citroen</td>\n",
       "      <td>C4 Picasso</td>\n",
       "      <td>Diésel</td>\n",
       "      <td>178131.0</td>\n",
       "      <td>110.0</td>\n",
       "      <td>manual</td>\n",
       "      <td>Valencia</td>\n",
       "      <td>46002.0</td>\n",
       "      <td>Valencia</td>\n",
       "      <td>11</td>\n",
       "      <td>8.980927</td>\n",
       "    </tr>\n",
       "  </tbody>\n",
       "</table>\n",
       "<p>37274 rows × 11 columns</p>\n",
       "</div>"
      ],
      "text/plain": [
       "          make       model      fuel       kms  power      shift  \\\n",
       "0         Opel   Crossland  Gasolina       5.0  110.0     manual   \n",
       "1         Opel   Crossland  Gasolina   24847.0  110.0     manual   \n",
       "2         Opel   Crossland    Diésel   41356.0  120.0  automatic   \n",
       "3         Opel   Crossland  Gasolina      11.0  110.0     manual   \n",
       "4         Opel   Crossland  Gasolina      11.0  110.0     manual   \n",
       "...        ...         ...       ...       ...    ...        ...   \n",
       "99990  Citroen  C4 Picasso    Diésel  148527.0  150.0     manual   \n",
       "99992  Citroen  C4 Picasso    Diésel  148527.0  150.0     manual   \n",
       "99994  Citroen  C4 Picasso    Diésel  148527.0  150.0     manual   \n",
       "99996  Citroen  C4 Picasso    Diésel  173035.0  111.0  automatic   \n",
       "99998  Citroen  C4 Picasso    Diésel  178131.0  110.0     manual   \n",
       "\n",
       "                location       cp  provincia  antiguedad  precio_escalado  \n",
       "0          Pineda de Mar   8397.0  Barcelona           1        10.038892  \n",
       "1                Coslada  28823.0     Madrid           1         9.902987  \n",
       "2                 Madrid  28014.0     Madrid           2         9.830379  \n",
       "3               Sabadell   8203.0  Barcelona           1        10.030120  \n",
       "4      Mollet del Vallès   8100.0  Barcelona           1        10.030120  \n",
       "...                  ...      ...        ...         ...              ...  \n",
       "99990         Granollers   8403.0  Barcelona           8         9.496271  \n",
       "99992           Estepona  29680.0     Málaga           8         9.496271  \n",
       "99994            Saladar   3700.0   Alicante           8         9.496271  \n",
       "99996           Valencia  46002.0   Valencia          10         9.136694  \n",
       "99998           Valencia  46002.0   Valencia          11         8.980927  \n",
       "\n",
       "[37274 rows x 11 columns]"
      ]
     },
     "execution_count": 24,
     "metadata": {},
     "output_type": "execute_result"
    }
   ],
   "source": [
    "df_acotado = df_escalado[(df_escalado['precio_escalado'] < 13.12) & (df_escalado['precio_escalado'] > 6.9)]\n",
    "\n",
    "df_acotado"
   ]
  },
  {
   "cell_type": "markdown",
   "id": "f9fc0008",
   "metadata": {},
   "source": [
    "#### Introducimos valores numericos como etiquetas"
   ]
  },
  {
   "cell_type": "code",
   "execution_count": 25,
   "id": "9502dd82",
   "metadata": {},
   "outputs": [
    {
     "data": {
      "text/plain": [
       "array(['Gasolina', 'Diésel', 'Eléctrico', 'Otros'], dtype=object)"
      ]
     },
     "execution_count": 25,
     "metadata": {},
     "output_type": "execute_result"
    }
   ],
   "source": [
    "df_acotado.fuel.unique()"
   ]
  },
  {
   "cell_type": "code",
   "execution_count": 26,
   "id": "0f7f0b9b",
   "metadata": {},
   "outputs": [
    {
     "name": "stderr",
     "output_type": "stream",
     "text": [
      "C:\\Users\\Usuario\\AppData\\Local\\Temp\\ipykernel_3404\\288593387.py:1: SettingWithCopyWarning: \n",
      "A value is trying to be set on a copy of a slice from a DataFrame.\n",
      "Try using .loc[row_indexer,col_indexer] = value instead\n",
      "\n",
      "See the caveats in the documentation: https://pandas.pydata.org/pandas-docs/stable/user_guide/indexing.html#returning-a-view-versus-a-copy\n",
      "  df_acotado[\"shift\"] = df_acotado[\"shift\"].replace({'manual': 1, 'automatic': 0})\n",
      "C:\\Users\\Usuario\\AppData\\Local\\Temp\\ipykernel_3404\\288593387.py:2: SettingWithCopyWarning: \n",
      "A value is trying to be set on a copy of a slice from a DataFrame.\n",
      "Try using .loc[row_indexer,col_indexer] = value instead\n",
      "\n",
      "See the caveats in the documentation: https://pandas.pydata.org/pandas-docs/stable/user_guide/indexing.html#returning-a-view-versus-a-copy\n",
      "  df_acotado[\"fuel\"] = df_acotado[\"fuel\"].replace({'Gasolina': 0, 'Diésel': 1, 'Eléctrico': 2, 'Otros': 3})\n"
     ]
    }
   ],
   "source": [
    "df_acotado[\"shift\"] = df_acotado[\"shift\"].replace({'manual': 1, 'automatic': 0})\n",
    "df_acotado[\"fuel\"] = df_acotado[\"fuel\"].replace({'Gasolina': 0, 'Diésel': 1, 'Eléctrico': 2, 'Otros': 3})"
   ]
  },
  {
   "cell_type": "markdown",
   "id": "edacd6f4",
   "metadata": {},
   "source": [
    "#### Hacemos una tabla de correlación  "
   ]
  },
  {
   "cell_type": "code",
   "execution_count": 27,
   "id": "33446b3c",
   "metadata": {},
   "outputs": [
    {
     "data": {
      "text/html": [
       "<style type=\"text/css\">\n",
       "#T_97d1b_row0_col0, #T_97d1b_row1_col1, #T_97d1b_row2_col2, #T_97d1b_row3_col3, #T_97d1b_row4_col4, #T_97d1b_row5_col5, #T_97d1b_row6_col6 {\n",
       "  background-color: #00441b;\n",
       "  color: #f1f1f1;\n",
       "}\n",
       "#T_97d1b_row0_col1 {\n",
       "  background-color: #88ce87;\n",
       "  color: #000000;\n",
       "}\n",
       "#T_97d1b_row0_col2, #T_97d1b_row3_col4 {\n",
       "  background-color: #f4fbf1;\n",
       "  color: #000000;\n",
       "}\n",
       "#T_97d1b_row0_col3 {\n",
       "  background-color: #d1edcb;\n",
       "  color: #000000;\n",
       "}\n",
       "#T_97d1b_row0_col4, #T_97d1b_row1_col2, #T_97d1b_row6_col2 {\n",
       "  background-color: #f1faee;\n",
       "  color: #000000;\n",
       "}\n",
       "#T_97d1b_row0_col5 {\n",
       "  background-color: #aadda4;\n",
       "  color: #000000;\n",
       "}\n",
       "#T_97d1b_row0_col6 {\n",
       "  background-color: #91d28e;\n",
       "  color: #000000;\n",
       "}\n",
       "#T_97d1b_row1_col0, #T_97d1b_row2_col1 {\n",
       "  background-color: #b4e1ad;\n",
       "  color: #000000;\n",
       "}\n",
       "#T_97d1b_row1_col3 {\n",
       "  background-color: #afdfa8;\n",
       "  color: #000000;\n",
       "}\n",
       "#T_97d1b_row1_col4 {\n",
       "  background-color: #f0f9ed;\n",
       "  color: #000000;\n",
       "}\n",
       "#T_97d1b_row1_col5 {\n",
       "  background-color: #258d47;\n",
       "  color: #f1f1f1;\n",
       "}\n",
       "#T_97d1b_row1_col6 {\n",
       "  background-color: #eef8ea;\n",
       "  color: #000000;\n",
       "}\n",
       "#T_97d1b_row2_col0, #T_97d1b_row5_col0 {\n",
       "  background-color: #e1f3dc;\n",
       "  color: #000000;\n",
       "}\n",
       "#T_97d1b_row2_col3 {\n",
       "  background-color: #b6e2af;\n",
       "  color: #000000;\n",
       "}\n",
       "#T_97d1b_row2_col4 {\n",
       "  background-color: #f5fbf3;\n",
       "  color: #000000;\n",
       "}\n",
       "#T_97d1b_row2_col5 {\n",
       "  background-color: #a4da9e;\n",
       "  color: #000000;\n",
       "}\n",
       "#T_97d1b_row2_col6 {\n",
       "  background-color: #a5db9f;\n",
       "  color: #000000;\n",
       "}\n",
       "#T_97d1b_row3_col0, #T_97d1b_row3_col2, #T_97d1b_row5_col6, #T_97d1b_row6_col1, #T_97d1b_row6_col3, #T_97d1b_row6_col4, #T_97d1b_row6_col5 {\n",
       "  background-color: #f7fcf5;\n",
       "  color: #000000;\n",
       "}\n",
       "#T_97d1b_row3_col1 {\n",
       "  background-color: #b5e1ae;\n",
       "  color: #000000;\n",
       "}\n",
       "#T_97d1b_row3_col5 {\n",
       "  background-color: #a0d99b;\n",
       "  color: #000000;\n",
       "}\n",
       "#T_97d1b_row3_col6 {\n",
       "  background-color: #f2faef;\n",
       "  color: #000000;\n",
       "}\n",
       "#T_97d1b_row4_col0 {\n",
       "  background-color: #dcf2d7;\n",
       "  color: #000000;\n",
       "}\n",
       "#T_97d1b_row4_col1 {\n",
       "  background-color: #b1e0ab;\n",
       "  color: #000000;\n",
       "}\n",
       "#T_97d1b_row4_col2, #T_97d1b_row5_col4 {\n",
       "  background-color: #f4fbf2;\n",
       "  color: #000000;\n",
       "}\n",
       "#T_97d1b_row4_col3 {\n",
       "  background-color: #b0dfaa;\n",
       "  color: #000000;\n",
       "}\n",
       "#T_97d1b_row4_col5 {\n",
       "  background-color: #a9dca3;\n",
       "  color: #000000;\n",
       "}\n",
       "#T_97d1b_row4_col6 {\n",
       "  background-color: #aedea7;\n",
       "  color: #000000;\n",
       "}\n",
       "#T_97d1b_row5_col1 {\n",
       "  background-color: #2a924a;\n",
       "  color: #f1f1f1;\n",
       "}\n",
       "#T_97d1b_row5_col2 {\n",
       "  background-color: #f0f9ec;\n",
       "  color: #000000;\n",
       "}\n",
       "#T_97d1b_row5_col3 {\n",
       "  background-color: #a8dca2;\n",
       "  color: #000000;\n",
       "}\n",
       "#T_97d1b_row6_col0 {\n",
       "  background-color: #caeac3;\n",
       "  color: #000000;\n",
       "}\n",
       "</style>\n",
       "<table id=\"T_97d1b\">\n",
       "  <thead>\n",
       "    <tr>\n",
       "      <th class=\"blank level0\" >&nbsp;</th>\n",
       "      <th id=\"T_97d1b_level0_col0\" class=\"col_heading level0 col0\" >fuel</th>\n",
       "      <th id=\"T_97d1b_level0_col1\" class=\"col_heading level0 col1\" >kms</th>\n",
       "      <th id=\"T_97d1b_level0_col2\" class=\"col_heading level0 col2\" >power</th>\n",
       "      <th id=\"T_97d1b_level0_col3\" class=\"col_heading level0 col3\" >shift</th>\n",
       "      <th id=\"T_97d1b_level0_col4\" class=\"col_heading level0 col4\" >cp</th>\n",
       "      <th id=\"T_97d1b_level0_col5\" class=\"col_heading level0 col5\" >antiguedad</th>\n",
       "      <th id=\"T_97d1b_level0_col6\" class=\"col_heading level0 col6\" >precio_escalado</th>\n",
       "    </tr>\n",
       "  </thead>\n",
       "  <tbody>\n",
       "    <tr>\n",
       "      <th id=\"T_97d1b_level0_row0\" class=\"row_heading level0 row0\" >fuel</th>\n",
       "      <td id=\"T_97d1b_row0_col0\" class=\"data row0 col0\" >1.000</td>\n",
       "      <td id=\"T_97d1b_row0_col1\" class=\"data row0 col1\" >0.198</td>\n",
       "      <td id=\"T_97d1b_row0_col2\" class=\"data row0 col2\" >-0.004</td>\n",
       "      <td id=\"T_97d1b_row0_col3\" class=\"data row0 col3\" >-0.172</td>\n",
       "      <td id=\"T_97d1b_row0_col4\" class=\"data row0 col4\" >0.018</td>\n",
       "      <td id=\"T_97d1b_row0_col5\" class=\"data row0 col5\" >-0.003</td>\n",
       "      <td id=\"T_97d1b_row0_col6\" class=\"data row0 col6\" >0.111</td>\n",
       "    </tr>\n",
       "    <tr>\n",
       "      <th id=\"T_97d1b_level0_row1\" class=\"row_heading level0 row1\" >kms</th>\n",
       "      <td id=\"T_97d1b_row1_col0\" class=\"data row1 col0\" >0.198</td>\n",
       "      <td id=\"T_97d1b_row1_col1\" class=\"data row1 col1\" >1.000</td>\n",
       "      <td id=\"T_97d1b_row1_col2\" class=\"data row1 col2\" >0.015</td>\n",
       "      <td id=\"T_97d1b_row1_col3\" class=\"data row1 col3\" >0.007</td>\n",
       "      <td id=\"T_97d1b_row1_col4\" class=\"data row1 col4\" >0.027</td>\n",
       "      <td id=\"T_97d1b_row1_col5\" class=\"data row1 col5\" >0.599</td>\n",
       "      <td id=\"T_97d1b_row1_col6\" class=\"data row1 col6\" >-0.439</td>\n",
       "    </tr>\n",
       "    <tr>\n",
       "      <th id=\"T_97d1b_level0_row2\" class=\"row_heading level0 row2\" >power</th>\n",
       "      <td id=\"T_97d1b_row2_col0\" class=\"data row2 col0\" >-0.004</td>\n",
       "      <td id=\"T_97d1b_row2_col1\" class=\"data row2 col1\" >0.015</td>\n",
       "      <td id=\"T_97d1b_row2_col2\" class=\"data row2 col2\" >1.000</td>\n",
       "      <td id=\"T_97d1b_row2_col3\" class=\"data row2 col3\" >-0.029</td>\n",
       "      <td id=\"T_97d1b_row2_col4\" class=\"data row2 col4\" >-0.008</td>\n",
       "      <td id=\"T_97d1b_row2_col5\" class=\"data row2 col5\" >0.024</td>\n",
       "      <td id=\"T_97d1b_row2_col6\" class=\"data row2 col6\" >0.016</td>\n",
       "    </tr>\n",
       "    <tr>\n",
       "      <th id=\"T_97d1b_level0_row3\" class=\"row_heading level0 row3\" >shift</th>\n",
       "      <td id=\"T_97d1b_row3_col0\" class=\"data row3 col0\" >-0.172</td>\n",
       "      <td id=\"T_97d1b_row3_col1\" class=\"data row3 col1\" >0.007</td>\n",
       "      <td id=\"T_97d1b_row3_col2\" class=\"data row3 col2\" >-0.029</td>\n",
       "      <td id=\"T_97d1b_row3_col3\" class=\"data row3 col3\" >1.000</td>\n",
       "      <td id=\"T_97d1b_row3_col4\" class=\"data row3 col4\" >0.002</td>\n",
       "      <td id=\"T_97d1b_row3_col5\" class=\"data row3 col5\" >0.044</td>\n",
       "      <td id=\"T_97d1b_row3_col6\" class=\"data row3 col6\" >-0.480</td>\n",
       "    </tr>\n",
       "    <tr>\n",
       "      <th id=\"T_97d1b_level0_row4\" class=\"row_heading level0 row4\" >cp</th>\n",
       "      <td id=\"T_97d1b_row4_col0\" class=\"data row4 col0\" >0.018</td>\n",
       "      <td id=\"T_97d1b_row4_col1\" class=\"data row4 col1\" >0.027</td>\n",
       "      <td id=\"T_97d1b_row4_col2\" class=\"data row4 col2\" >-0.008</td>\n",
       "      <td id=\"T_97d1b_row4_col3\" class=\"data row4 col3\" >0.002</td>\n",
       "      <td id=\"T_97d1b_row4_col4\" class=\"data row4 col4\" >1.000</td>\n",
       "      <td id=\"T_97d1b_row4_col5\" class=\"data row4 col5\" >0.001</td>\n",
       "      <td id=\"T_97d1b_row4_col6\" class=\"data row4 col6\" >-0.022</td>\n",
       "    </tr>\n",
       "    <tr>\n",
       "      <th id=\"T_97d1b_level0_row5\" class=\"row_heading level0 row5\" >antiguedad</th>\n",
       "      <td id=\"T_97d1b_row5_col0\" class=\"data row5 col0\" >-0.003</td>\n",
       "      <td id=\"T_97d1b_row5_col1\" class=\"data row5 col1\" >0.599</td>\n",
       "      <td id=\"T_97d1b_row5_col2\" class=\"data row5 col2\" >0.024</td>\n",
       "      <td id=\"T_97d1b_row5_col3\" class=\"data row5 col3\" >0.044</td>\n",
       "      <td id=\"T_97d1b_row5_col4\" class=\"data row5 col4\" >0.001</td>\n",
       "      <td id=\"T_97d1b_row5_col5\" class=\"data row5 col5\" >1.000</td>\n",
       "      <td id=\"T_97d1b_row5_col6\" class=\"data row5 col6\" >-0.537</td>\n",
       "    </tr>\n",
       "    <tr>\n",
       "      <th id=\"T_97d1b_level0_row6\" class=\"row_heading level0 row6\" >precio_escalado</th>\n",
       "      <td id=\"T_97d1b_row6_col0\" class=\"data row6 col0\" >0.111</td>\n",
       "      <td id=\"T_97d1b_row6_col1\" class=\"data row6 col1\" >-0.439</td>\n",
       "      <td id=\"T_97d1b_row6_col2\" class=\"data row6 col2\" >0.016</td>\n",
       "      <td id=\"T_97d1b_row6_col3\" class=\"data row6 col3\" >-0.480</td>\n",
       "      <td id=\"T_97d1b_row6_col4\" class=\"data row6 col4\" >-0.022</td>\n",
       "      <td id=\"T_97d1b_row6_col5\" class=\"data row6 col5\" >-0.537</td>\n",
       "      <td id=\"T_97d1b_row6_col6\" class=\"data row6 col6\" >1.000</td>\n",
       "    </tr>\n",
       "  </tbody>\n",
       "</table>\n"
      ],
      "text/plain": [
       "<pandas.io.formats.style.Styler at 0x221632fed70>"
      ]
     },
     "execution_count": 27,
     "metadata": {},
     "output_type": "execute_result"
    }
   ],
   "source": [
    "corr = df_acotado.drop(['make', 'model', 'location', 'provincia'], axis =1).corr()\n",
    "corr.style.background_gradient(cmap='Greens').format(precision=3)"
   ]
  },
  {
   "cell_type": "markdown",
   "id": "613986a4",
   "metadata": {},
   "source": [
    "Concluimos que power tiene poca correlacion con el target (precio) y ademas tiene una distribucion muy limitada. \n",
    "Por eso lo quitamos de nuestro dataset. "
   ]
  },
  {
   "cell_type": "markdown",
   "id": "c7580823",
   "metadata": {},
   "source": [
    "A tomar en cuenta:"
   ]
  },
  {
   "cell_type": "markdown",
   "id": "0f5dd1b8",
   "metadata": {},
   "source": [
    "Al estudiar los datos nos hemos dado cuenta de que coinciden anuncios de coches en los que solo cambia \n",
    "la locacalización, es decir, son duplicados. Por ello, eliminamos la columna y hacemos drop.duplicate()."
   ]
  },
  {
   "cell_type": "code",
   "execution_count": 28,
   "id": "776c9f36",
   "metadata": {},
   "outputs": [],
   "source": [
    "df_acotado  = df_acotado[['make','fuel','kms','shift','antiguedad', 'precio_escalado']]"
   ]
  },
  {
   "cell_type": "code",
   "execution_count": 29,
   "id": "ae247c97",
   "metadata": {},
   "outputs": [],
   "source": [
    "df_acotado = df_acotado.drop_duplicates()"
   ]
  },
  {
   "cell_type": "markdown",
   "id": "ba6540e3",
   "metadata": {},
   "source": [
    "Descubrimos que hay anuncios duplicados en varias provincias distintas, por lo que quitamos duplicados tras quitar las columnas correspondientes. Así que el df pasa a tener 11656 registros:"
   ]
  },
  {
   "cell_type": "code",
   "execution_count": 30,
   "id": "66d9926e",
   "metadata": {},
   "outputs": [
    {
     "data": {
      "text/plain": [
       "(11656, 6)"
      ]
     },
     "execution_count": 30,
     "metadata": {},
     "output_type": "execute_result"
    }
   ],
   "source": [
    "df_acotado.shape"
   ]
  },
  {
   "cell_type": "markdown",
   "id": "6ec7b55f",
   "metadata": {},
   "source": [
    "####  Vemos que resultados ha producido nuestro modelado"
   ]
  },
  {
   "cell_type": "markdown",
   "id": "801b62c1",
   "metadata": {},
   "source": [
    "Para ello hemos decido realizar un boxplot que nos permita ver la distribución del precio."
   ]
  },
  {
   "cell_type": "code",
   "execution_count": 31,
   "id": "eab8d066",
   "metadata": {},
   "outputs": [
    {
     "data": {
      "image/png": "[encoded data removed]",
      "text/plain": [
       "<Figure size 1000x480 with 2 Axes>"
      ]
     },
     "metadata": {},
     "output_type": "display_data"
    }
   ],
   "source": [
    "fig, (ax2, ax1) = plt.subplots(1, 2)\n",
    "\n",
    "z = df_acotado.precio_escalado\n",
    "\n",
    "ax2.boxplot(df.price)\n",
    "ax1.boxplot(z)\n",
    "ax2.set_title('Distribucion de precios anterior')\n",
    "ax1.set_title('Distribucion de precios posterior')\n",
    "ax2.set_ylabel('Precios en €')\n",
    "ax1.set_ylabel('Precios escala logaritmica y acotados')\n",
    "fig.subplots_adjust(wspace=0.5)\n",
    "fig.set_figwidth(10)"
   ]
  },
  {
   "cell_type": "markdown",
   "id": "424e57ae",
   "metadata": {},
   "source": [
    "Podemos ver que tras nuestra acotación y la transformación a escala logarítmica, la distrubución será mas eficiente para nuestro\n",
    "modelo. "
   ]
  },
  {
   "cell_type": "code",
   "execution_count": 32,
   "id": "af7eb72c",
   "metadata": {},
   "outputs": [
    {
     "data": {
      "text/plain": [
       "0        10.038892\n",
       "1         9.902987\n",
       "2         9.830379\n",
       "3        10.030120\n",
       "5         9.809177\n",
       "           ...    \n",
       "99931     9.809177\n",
       "99947     9.366489\n",
       "99948     9.487896\n",
       "99996     9.136694\n",
       "99998     8.980927\n",
       "Name: precio_escalado, Length: 11656, dtype: float64"
      ]
     },
     "execution_count": 32,
     "metadata": {},
     "output_type": "execute_result"
    }
   ],
   "source": [
    "df_acotado.precio_escalado"
   ]
  },
  {
   "cell_type": "markdown",
   "id": "8c74d5de",
   "metadata": {},
   "source": [
    "Además hemos escogido un diagrama de violín con el objetivo de tener otra perspectiva:"
   ]
  },
  {
   "cell_type": "code",
   "execution_count": 33,
   "id": "426af5b4",
   "metadata": {
    "scrolled": false
   },
   "outputs": [
    {
     "data": {
      "text/plain": [
       "Text(0.5, 0, 'Frecuencia')"
      ]
     },
     "execution_count": 33,
     "metadata": {},
     "output_type": "execute_result"
    },
    {
     "data": {
      "image/png": "[encoded data removed]",
      "text/plain": [
       "<Figure size 640x480 with 1 Axes>"
      ]
     },
     "metadata": {},
     "output_type": "display_data"
    }
   ],
   "source": [
    "plt.violinplot(df_acotado['precio_escalado'], quantiles = [0.25, 0.5, 0.75])\n",
    "plt.title('Distribución del precio')\n",
    "plt.ylabel('Precio en escala logaritmica')\n",
    "plt.xlabel('Frecuencia')"
   ]
  },
  {
   "cell_type": "markdown",
   "id": "1517e0c3",
   "metadata": {},
   "source": [
    "Podemos apreciar que nuestra distribución recae sobre los caurtiles medios, algo típico de una distribución normal. "
   ]
  },
  {
   "cell_type": "code",
   "execution_count": 34,
   "id": "d7747b13",
   "metadata": {},
   "outputs": [
    {
     "data": {
      "text/html": [
       "<div>\n",
       "<style scoped>\n",
       "    .dataframe tbody tr th:only-of-type {\n",
       "        vertical-align: middle;\n",
       "    }\n",
       "\n",
       "    .dataframe tbody tr th {\n",
       "        vertical-align: top;\n",
       "    }\n",
       "\n",
       "    .dataframe thead th {\n",
       "        text-align: right;\n",
       "    }\n",
       "</style>\n",
       "<table border=\"1\" class=\"dataframe\">\n",
       "  <thead>\n",
       "    <tr style=\"text-align: right;\">\n",
       "      <th></th>\n",
       "      <th>make</th>\n",
       "      <th>fuel</th>\n",
       "      <th>kms</th>\n",
       "      <th>shift</th>\n",
       "      <th>antiguedad</th>\n",
       "      <th>precio_escalado</th>\n",
       "    </tr>\n",
       "  </thead>\n",
       "  <tbody>\n",
       "    <tr>\n",
       "      <th>0</th>\n",
       "      <td>Opel</td>\n",
       "      <td>0</td>\n",
       "      <td>5.0</td>\n",
       "      <td>1</td>\n",
       "      <td>1</td>\n",
       "      <td>10.038892</td>\n",
       "    </tr>\n",
       "    <tr>\n",
       "      <th>1</th>\n",
       "      <td>Opel</td>\n",
       "      <td>0</td>\n",
       "      <td>24847.0</td>\n",
       "      <td>1</td>\n",
       "      <td>1</td>\n",
       "      <td>9.902987</td>\n",
       "    </tr>\n",
       "    <tr>\n",
       "      <th>2</th>\n",
       "      <td>Opel</td>\n",
       "      <td>1</td>\n",
       "      <td>41356.0</td>\n",
       "      <td>0</td>\n",
       "      <td>2</td>\n",
       "      <td>9.830379</td>\n",
       "    </tr>\n",
       "    <tr>\n",
       "      <th>3</th>\n",
       "      <td>Opel</td>\n",
       "      <td>0</td>\n",
       "      <td>11.0</td>\n",
       "      <td>1</td>\n",
       "      <td>1</td>\n",
       "      <td>10.030120</td>\n",
       "    </tr>\n",
       "    <tr>\n",
       "      <th>5</th>\n",
       "      <td>Opel</td>\n",
       "      <td>0</td>\n",
       "      <td>51390.0</td>\n",
       "      <td>1</td>\n",
       "      <td>2</td>\n",
       "      <td>9.809177</td>\n",
       "    </tr>\n",
       "  </tbody>\n",
       "</table>\n",
       "</div>"
      ],
      "text/plain": [
       "   make  fuel      kms  shift  antiguedad  precio_escalado\n",
       "0  Opel     0      5.0      1           1        10.038892\n",
       "1  Opel     0  24847.0      1           1         9.902987\n",
       "2  Opel     1  41356.0      0           2         9.830379\n",
       "3  Opel     0     11.0      1           1        10.030120\n",
       "5  Opel     0  51390.0      1           2         9.809177"
      ]
     },
     "execution_count": 34,
     "metadata": {},
     "output_type": "execute_result"
    }
   ],
   "source": [
    "df_acotado.head()"
   ]
  },
  {
   "cell_type": "markdown",
   "id": "2d6841c0",
   "metadata": {},
   "source": [
    "#### Label Encoder"
   ]
  },
  {
   "cell_type": "code",
   "execution_count": 35,
   "id": "83fea47b",
   "metadata": {},
   "outputs": [],
   "source": [
    "le = preprocessing.LabelEncoder()"
   ]
  },
  {
   "cell_type": "code",
   "execution_count": 36,
   "id": "2b9a8350",
   "metadata": {},
   "outputs": [
    {
     "data": {
      "text/html": [
       "<style>#sk-container-id-1 {color: black;}#sk-container-id-1 pre{padding: 0;}#sk-container-id-1 div.sk-toggleable {background-color: white;}#sk-container-id-1 label.sk-toggleable__label {cursor: pointer;display: block;width: 100%;margin-bottom: 0;padding: 0.3em;box-sizing: border-box;text-align: center;}#sk-container-id-1 label.sk-toggleable__label-arrow:before {content: \"▸\";float: left;margin-right: 0.25em;color: #696969;}#sk-container-id-1 label.sk-toggleable__label-arrow:hover:before {color: black;}#sk-container-id-1 div.sk-estimator:hover label.sk-toggleable__label-arrow:before {color: black;}#sk-container-id-1 div.sk-toggleable__content {max-height: 0;max-width: 0;overflow: hidden;text-align: left;background-color: #f0f8ff;}#sk-container-id-1 div.sk-toggleable__content pre {margin: 0.2em;color: black;border-radius: 0.25em;background-color: #f0f8ff;}#sk-container-id-1 input.sk-toggleable__control:checked~div.sk-toggleable__content {max-height: 200px;max-width: 100%;overflow: auto;}#sk-container-id-1 input.sk-toggleable__control:checked~label.sk-toggleable__label-arrow:before {content: \"▾\";}#sk-container-id-1 div.sk-estimator input.sk-toggleable__control:checked~label.sk-toggleable__label {background-color: #d4ebff;}#sk-container-id-1 div.sk-label input.sk-toggleable__control:checked~label.sk-toggleable__label {background-color: #d4ebff;}#sk-container-id-1 input.sk-hidden--visually {border: 0;clip: rect(1px 1px 1px 1px);clip: rect(1px, 1px, 1px, 1px);height: 1px;margin: -1px;overflow: hidden;padding: 0;position: absolute;width: 1px;}#sk-container-id-1 div.sk-estimator {font-family: monospace;background-color: #f0f8ff;border: 1px dotted black;border-radius: 0.25em;box-sizing: border-box;margin-bottom: 0.5em;}#sk-container-id-1 div.sk-estimator:hover {background-color: #d4ebff;}#sk-container-id-1 div.sk-parallel-item::after {content: \"\";width: 100%;border-bottom: 1px solid gray;flex-grow: 1;}#sk-container-id-1 div.sk-label:hover label.sk-toggleable__label {background-color: #d4ebff;}#sk-container-id-1 div.sk-serial::before {content: \"\";position: absolute;border-left: 1px solid gray;box-sizing: border-box;top: 0;bottom: 0;left: 50%;z-index: 0;}#sk-container-id-1 div.sk-serial {display: flex;flex-direction: column;align-items: center;background-color: white;padding-right: 0.2em;padding-left: 0.2em;position: relative;}#sk-container-id-1 div.sk-item {position: relative;z-index: 1;}#sk-container-id-1 div.sk-parallel {display: flex;align-items: stretch;justify-content: center;background-color: white;position: relative;}#sk-container-id-1 div.sk-item::before, #sk-container-id-1 div.sk-parallel-item::before {content: \"\";position: absolute;border-left: 1px solid gray;box-sizing: border-box;top: 0;bottom: 0;left: 50%;z-index: -1;}#sk-container-id-1 div.sk-parallel-item {display: flex;flex-direction: column;z-index: 1;position: relative;background-color: white;}#sk-container-id-1 div.sk-parallel-item:first-child::after {align-self: flex-end;width: 50%;}#sk-container-id-1 div.sk-parallel-item:last-child::after {align-self: flex-start;width: 50%;}#sk-container-id-1 div.sk-parallel-item:only-child::after {width: 0;}#sk-container-id-1 div.sk-dashed-wrapped {border: 1px dashed gray;margin: 0 0.4em 0.5em 0.4em;box-sizing: border-box;padding-bottom: 0.4em;background-color: white;}#sk-container-id-1 div.sk-label label {font-family: monospace;font-weight: bold;display: inline-block;line-height: 1.2em;}#sk-container-id-1 div.sk-label-container {text-align: center;}#sk-container-id-1 div.sk-container {/* jupyter's `normalize.less` sets `[hidden] { display: none; }` but bootstrap.min.css set `[hidden] { display: none !important; }` so we also need the `!important` here to be able to override the default hidden behavior on the sphinx rendered scikit-learn.org. See: https://github.com/scikit-learn/scikit-learn/issues/21755 */display: inline-block !important;position: relative;}#sk-container-id-1 div.sk-text-repr-fallback {display: none;}</style><div id=\"sk-container-id-1\" class=\"sk-top-container\"><div class=\"sk-text-repr-fallback\"><pre>LabelEncoder()</pre><b>In a Jupyter environment, please rerun this cell to show the HTML representation or trust the notebook. <br />On GitHub, the HTML representation is unable to render, please try loading this page with nbviewer.org.</b></div><div class=\"sk-container\" hidden><div class=\"sk-item\"><div class=\"sk-estimator sk-toggleable\"><input class=\"sk-toggleable__control sk-hidden--visually\" id=\"sk-estimator-id-1\" type=\"checkbox\" checked><label for=\"sk-estimator-id-1\" class=\"sk-toggleable__label sk-toggleable__label-arrow\">LabelEncoder</label><div class=\"sk-toggleable__content\"><pre>LabelEncoder()</pre></div></div></div></div></div>"
      ],
      "text/plain": [
       "LabelEncoder()"
      ]
     },
     "execution_count": 36,
     "metadata": {},
     "output_type": "execute_result"
    }
   ],
   "source": [
    "le.fit(df_acotado['make'])"
   ]
  },
  {
   "cell_type": "code",
   "execution_count": 37,
   "id": "d4979ba5",
   "metadata": {},
   "outputs": [],
   "source": [
    "make_encoded = le.transform(df_acotado['make'])"
   ]
  },
  {
   "cell_type": "code",
   "execution_count": 38,
   "id": "eb722b61",
   "metadata": {},
   "outputs": [],
   "source": [
    "df_acotado['make'] = make_encoded"
   ]
  },
  {
   "cell_type": "code",
   "execution_count": 39,
   "id": "53ac4ff3",
   "metadata": {},
   "outputs": [
    {
     "data": {
      "text/plain": [
       "(11656, 6)"
      ]
     },
     "execution_count": 39,
     "metadata": {},
     "output_type": "execute_result"
    }
   ],
   "source": [
    "df_acotado.shape"
   ]
  },
  {
   "cell_type": "raw",
   "id": "fa43c200",
   "metadata": {},
   "source": [
    "#save the label encoder to disk pickle\n",
    "with open('label_encoder.sav', \"wb\") as f:\n",
    "    pickle.dump(le, f)"
   ]
  },
  {
   "cell_type": "markdown",
   "id": "5a08c9e6",
   "metadata": {},
   "source": [
    "#### Estudio de los posibles clusters en el dataset"
   ]
  },
  {
   "cell_type": "code",
   "execution_count": 40,
   "id": "2a971b43",
   "metadata": {},
   "outputs": [],
   "source": [
    "np_aux2 = StandardScaler().fit_transform(df_acotado)\n",
    "\n",
    "hdb = HDBSCAN(min_cluster_size=530).fit(np_aux2)\n",
    "\n",
    "df_acotado['hdb_labels'] = hdb.labels_"
   ]
  },
  {
   "cell_type": "code",
   "execution_count": 41,
   "id": "3902d658",
   "metadata": {},
   "outputs": [
    {
     "data": {
      "text/plain": [
       "Text(0.5, 0, 'Precio en escala logaritmica')"
      ]
     },
     "execution_count": 41,
     "metadata": {},
     "output_type": "execute_result"
    },
    {
     "data": {
      "image/png": "[encoded data removed]",
      "text/plain": [
       "<Figure size 640x480 with 1 Axes>"
      ]
     },
     "metadata": {},
     "output_type": "display_data"
    }
   ],
   "source": [
    "plt.scatter(df_acotado['precio_escalado'],\n",
    "                df_acotado['antiguedad'],\n",
    "                c=df_acotado['hdb_labels'],\n",
    "                cmap='brg',\n",
    "                s=14)\n",
    "\n",
    "plt.ylabel('Antiguedad')\n",
    "plt.xlabel('Precio en escala logaritmica')"
   ]
  },
  {
   "cell_type": "markdown",
   "id": "a1e73706",
   "metadata": {},
   "source": [
    "Conclusión: \n",
    "\n",
    "- Se puede apreciar un grupo de vehiculos con menor varianza, y distinta antiguedad media (verde).\n",
    "    \n",
    "- Además podemos ver valores atípicos como un coche con más  de 50 años y con un valor bastante alto que ha reslutado ser un porche 911 (azul)."
   ]
  },
  {
   "cell_type": "code",
   "execution_count": 42,
   "id": "07b2776f",
   "metadata": {},
   "outputs": [
    {
     "data": {
      "text/html": [
       "<div>\n",
       "<style scoped>\n",
       "    .dataframe tbody tr th:only-of-type {\n",
       "        vertical-align: middle;\n",
       "    }\n",
       "\n",
       "    .dataframe tbody tr th {\n",
       "        vertical-align: top;\n",
       "    }\n",
       "\n",
       "    .dataframe thead th {\n",
       "        text-align: right;\n",
       "    }\n",
       "</style>\n",
       "<table border=\"1\" class=\"dataframe\">\n",
       "  <thead>\n",
       "    <tr style=\"text-align: right;\">\n",
       "      <th></th>\n",
       "      <th>make</th>\n",
       "      <th>fuel</th>\n",
       "      <th>kms</th>\n",
       "      <th>shift</th>\n",
       "      <th>antiguedad</th>\n",
       "      <th>precio_escalado</th>\n",
       "    </tr>\n",
       "  </thead>\n",
       "  <tbody>\n",
       "    <tr>\n",
       "      <th>46234</th>\n",
       "      <td>49</td>\n",
       "      <td>0</td>\n",
       "      <td>51000.0</td>\n",
       "      <td>1</td>\n",
       "      <td>56</td>\n",
       "      <td>11.154821</td>\n",
       "    </tr>\n",
       "  </tbody>\n",
       "</table>\n",
       "</div>"
      ],
      "text/plain": [
       "       make  fuel      kms  shift  antiguedad  precio_escalado\n",
       "46234    49     0  51000.0      1          56        11.154821"
      ]
     },
     "execution_count": 42,
     "metadata": {},
     "output_type": "execute_result"
    }
   ],
   "source": [
    "df_acotado = df_acotado.drop(['hdb_labels'], axis = 1)\n",
    "df_acotado[df_acotado.antiguedad > 50]"
   ]
  },
  {
   "cell_type": "markdown",
   "id": "37563419",
   "metadata": {},
   "source": [
    "# Modelo Machine Learning\n"
   ]
  },
  {
   "cell_type": "code",
   "execution_count": 43,
   "id": "0b03247c",
   "metadata": {},
   "outputs": [],
   "source": [
    "#Split X e Y\n",
    "\n",
    "X = df_acotado.drop([\"precio_escalado\"], axis=1)\n",
    "y = df_acotado.precio_escalado"
   ]
  },
  {
   "cell_type": "markdown",
   "id": "1623abb7",
   "metadata": {},
   "source": [
    "### Normalizacion y reducción de la dimensionalidad"
   ]
  },
  {
   "cell_type": "code",
   "execution_count": 44,
   "id": "7b364b24",
   "metadata": {},
   "outputs": [],
   "source": [
    "from sklearn.preprocessing import Normalizer"
   ]
  },
  {
   "cell_type": "code",
   "execution_count": 45,
   "id": "6d7bf1fd",
   "metadata": {},
   "outputs": [],
   "source": [
    "#Normalizamos todas las features sin valores inf para no sobredimensionar Kms\n",
    "\n",
    "normalizador = Normalizer().fit(X)\n",
    "X_nor = normalizador.transform(X)"
   ]
  },
  {
   "cell_type": "code",
   "execution_count": 46,
   "id": "7286f7c7",
   "metadata": {},
   "outputs": [
    {
     "data": {
      "text/html": [
       "<style>#sk-container-id-2 {color: black;}#sk-container-id-2 pre{padding: 0;}#sk-container-id-2 div.sk-toggleable {background-color: white;}#sk-container-id-2 label.sk-toggleable__label {cursor: pointer;display: block;width: 100%;margin-bottom: 0;padding: 0.3em;box-sizing: border-box;text-align: center;}#sk-container-id-2 label.sk-toggleable__label-arrow:before {content: \"▸\";float: left;margin-right: 0.25em;color: #696969;}#sk-container-id-2 label.sk-toggleable__label-arrow:hover:before {color: black;}#sk-container-id-2 div.sk-estimator:hover label.sk-toggleable__label-arrow:before {color: black;}#sk-container-id-2 div.sk-toggleable__content {max-height: 0;max-width: 0;overflow: hidden;text-align: left;background-color: #f0f8ff;}#sk-container-id-2 div.sk-toggleable__content pre {margin: 0.2em;color: black;border-radius: 0.25em;background-color: #f0f8ff;}#sk-container-id-2 input.sk-toggleable__control:checked~div.sk-toggleable__content {max-height: 200px;max-width: 100%;overflow: auto;}#sk-container-id-2 input.sk-toggleable__control:checked~label.sk-toggleable__label-arrow:before {content: \"▾\";}#sk-container-id-2 div.sk-estimator input.sk-toggleable__control:checked~label.sk-toggleable__label {background-color: #d4ebff;}#sk-container-id-2 div.sk-label input.sk-toggleable__control:checked~label.sk-toggleable__label {background-color: #d4ebff;}#sk-container-id-2 input.sk-hidden--visually {border: 0;clip: rect(1px 1px 1px 1px);clip: rect(1px, 1px, 1px, 1px);height: 1px;margin: -1px;overflow: hidden;padding: 0;position: absolute;width: 1px;}#sk-container-id-2 div.sk-estimator {font-family: monospace;background-color: #f0f8ff;border: 1px dotted black;border-radius: 0.25em;box-sizing: border-box;margin-bottom: 0.5em;}#sk-container-id-2 div.sk-estimator:hover {background-color: #d4ebff;}#sk-container-id-2 div.sk-parallel-item::after {content: \"\";width: 100%;border-bottom: 1px solid gray;flex-grow: 1;}#sk-container-id-2 div.sk-label:hover label.sk-toggleable__label {background-color: #d4ebff;}#sk-container-id-2 div.sk-serial::before {content: \"\";position: absolute;border-left: 1px solid gray;box-sizing: border-box;top: 0;bottom: 0;left: 50%;z-index: 0;}#sk-container-id-2 div.sk-serial {display: flex;flex-direction: column;align-items: center;background-color: white;padding-right: 0.2em;padding-left: 0.2em;position: relative;}#sk-container-id-2 div.sk-item {position: relative;z-index: 1;}#sk-container-id-2 div.sk-parallel {display: flex;align-items: stretch;justify-content: center;background-color: white;position: relative;}#sk-container-id-2 div.sk-item::before, #sk-container-id-2 div.sk-parallel-item::before {content: \"\";position: absolute;border-left: 1px solid gray;box-sizing: border-box;top: 0;bottom: 0;left: 50%;z-index: -1;}#sk-container-id-2 div.sk-parallel-item {display: flex;flex-direction: column;z-index: 1;position: relative;background-color: white;}#sk-container-id-2 div.sk-parallel-item:first-child::after {align-self: flex-end;width: 50%;}#sk-container-id-2 div.sk-parallel-item:last-child::after {align-self: flex-start;width: 50%;}#sk-container-id-2 div.sk-parallel-item:only-child::after {width: 0;}#sk-container-id-2 div.sk-dashed-wrapped {border: 1px dashed gray;margin: 0 0.4em 0.5em 0.4em;box-sizing: border-box;padding-bottom: 0.4em;background-color: white;}#sk-container-id-2 div.sk-label label {font-family: monospace;font-weight: bold;display: inline-block;line-height: 1.2em;}#sk-container-id-2 div.sk-label-container {text-align: center;}#sk-container-id-2 div.sk-container {/* jupyter's `normalize.less` sets `[hidden] { display: none; }` but bootstrap.min.css set `[hidden] { display: none !important; }` so we also need the `!important` here to be able to override the default hidden behavior on the sphinx rendered scikit-learn.org. See: https://github.com/scikit-learn/scikit-learn/issues/21755 */display: inline-block !important;position: relative;}#sk-container-id-2 div.sk-text-repr-fallback {display: none;}</style><div id=\"sk-container-id-2\" class=\"sk-top-container\"><div class=\"sk-text-repr-fallback\"><pre>PCA(n_components=5)</pre><b>In a Jupyter environment, please rerun this cell to show the HTML representation or trust the notebook. <br />On GitHub, the HTML representation is unable to render, please try loading this page with nbviewer.org.</b></div><div class=\"sk-container\" hidden><div class=\"sk-item\"><div class=\"sk-estimator sk-toggleable\"><input class=\"sk-toggleable__control sk-hidden--visually\" id=\"sk-estimator-id-2\" type=\"checkbox\" checked><label for=\"sk-estimator-id-2\" class=\"sk-toggleable__label sk-toggleable__label-arrow\">PCA</label><div class=\"sk-toggleable__content\"><pre>PCA(n_components=5)</pre></div></div></div></div></div>"
      ],
      "text/plain": [
       "PCA(n_components=5)"
      ]
     },
     "execution_count": 46,
     "metadata": {},
     "output_type": "execute_result"
    }
   ],
   "source": [
    "pca = PCA(n_components = X_nor.shape[1])\n",
    "pca.fit(X_nor)"
   ]
  },
  {
   "cell_type": "raw",
   "id": "d2b1a605",
   "metadata": {},
   "source": [
    "#save the normalizator to disk pickle\n",
    "with open('normalizador.sav', \"wb\") as f:\n",
    "    pickle.dump(normalizador, f)"
   ]
  },
  {
   "cell_type": "code",
   "execution_count": 47,
   "id": "dad1d20f",
   "metadata": {},
   "outputs": [
    {
     "data": {
      "text/plain": [
       "5"
      ]
     },
     "execution_count": 47,
     "metadata": {},
     "output_type": "execute_result"
    }
   ],
   "source": [
    "pca.n_components"
   ]
  },
  {
   "cell_type": "code",
   "execution_count": 48,
   "id": "7696af0b",
   "metadata": {},
   "outputs": [
    {
     "data": {
      "text/plain": [
       "array([ 0.75492294,  0.0386395 , -0.65076547,  0.03160349,  0.06406145])"
      ]
     },
     "execution_count": 48,
     "metadata": {},
     "output_type": "execute_result"
    }
   ],
   "source": [
    "pca.components_[0]"
   ]
  },
  {
   "cell_type": "code",
   "execution_count": 49,
   "id": "eb2542e3",
   "metadata": {},
   "outputs": [
    {
     "data": {
      "text/plain": [
       "array([-0.45862746,  0.13571315, -0.44666993,  0.06475473,  0.75334958])"
      ]
     },
     "execution_count": 49,
     "metadata": {},
     "output_type": "execute_result"
    }
   ],
   "source": [
    "pca.components_[1]"
   ]
  },
  {
   "cell_type": "code",
   "execution_count": 50,
   "id": "9e1813e1",
   "metadata": {},
   "outputs": [],
   "source": [
    "ve = [sum(pca.explained_variance_ratio_[:i]) for i in range(X_nor.shape[1])]"
   ]
  },
  {
   "cell_type": "code",
   "execution_count": 51,
   "id": "c6ff017f",
   "metadata": {},
   "outputs": [
    {
     "data": {
      "text/plain": [
       "Text(0.5, 1.0, 'Varianza explicada por nº features incluidas')"
      ]
     },
     "execution_count": 51,
     "metadata": {},
     "output_type": "execute_result"
    },
    {
     "data": {
      "image/png": "[encoded data removed]",
      "text/plain": [
       "<Figure size 640x480 with 1 Axes>"
      ]
     },
     "metadata": {},
     "output_type": "display_data"
    }
   ],
   "source": [
    "plt.plot(range(X_nor.shape[1]), ve, label='Vararianza explicada')\n",
    "plt.axhline(y=0.98, color='r', linestyle='--', label='98% Var expl')\n",
    "plt.axvline(x=3, color='g', linestyle='--', label='Dos features')\n",
    "\n",
    "plt.ylabel('Varianza')\n",
    "plt.xlabel('Nº features')\n",
    "plt.xlim(right=3.5)\n",
    "plt.xlim(left=-0.1)\n",
    "plt.grid()\n",
    "plt.legend()\n",
    "\n",
    "plt.title('Varianza explicada por nº features incluidas')"
   ]
  },
  {
   "cell_type": "markdown",
   "id": "3446eb56",
   "metadata": {},
   "source": [
    "En el gráfico podemos apreciar que con tres features se supera el óptimo para llegar a un 98% de varianza explicada"
   ]
  },
  {
   "cell_type": "markdown",
   "id": "222a1cc1",
   "metadata": {},
   "source": [
    "### Entrenamos modelo con y sin PCA"
   ]
  },
  {
   "cell_type": "markdown",
   "id": "3c07d95d",
   "metadata": {},
   "source": [
    "#### Regresion lineal"
   ]
  },
  {
   "cell_type": "markdown",
   "id": "7b0e4243",
   "metadata": {},
   "source": [
    "Sin PCA"
   ]
  },
  {
   "cell_type": "code",
   "execution_count": 52,
   "id": "3a741aa1",
   "metadata": {},
   "outputs": [],
   "source": [
    "from sklearn.model_selection import train_test_split"
   ]
  },
  {
   "cell_type": "code",
   "execution_count": 53,
   "id": "88748bfd",
   "metadata": {},
   "outputs": [],
   "source": [
    "#Split train y test SIN PCA\n",
    "\n",
    "X_train_S, X_test_S, y_train_S, y_test_S = train_test_split(X_nor,y, test_size=0.25)"
   ]
  },
  {
   "cell_type": "code",
   "execution_count": 54,
   "id": "eef7d413",
   "metadata": {},
   "outputs": [
    {
     "name": "stdout",
     "output_type": "stream",
     "text": [
      "{'mean_fit_time': array([0.00159588, 0.00099716, 0.00159578, 0.00119696, 0.00997305,\n",
      "       0.0027925 ]), 'std_fit_time': array([4.88830831e-04, 3.23406696e-07, 4.88752863e-04, 3.99422770e-04,\n",
      "       1.64604220e-02, 7.45945305e-04]), 'mean_score_time': array([0.00059824, 0.00099726, 0.00059848, 0.0009973 , 0.00059862,\n",
      "       0.00059843]), 'std_score_time': array([4.88460832e-04, 2.78041453e-07, 4.88655508e-04, 4.26496120e-07,\n",
      "       4.88772355e-04, 4.88616807e-04]), 'param_fit_intercept': masked_array(data=[True, True, True, False, False, False],\n",
      "             mask=[False, False, False, False, False, False],\n",
      "       fill_value='?',\n",
      "            dtype=object), 'param_n_jobs': masked_array(data=[1, 2, -1, 1, 2, -1],\n",
      "             mask=[False, False, False, False, False, False],\n",
      "       fill_value='?',\n",
      "            dtype=object), 'params': [{'fit_intercept': True, 'n_jobs': 1}, {'fit_intercept': True, 'n_jobs': 2}, {'fit_intercept': True, 'n_jobs': -1}, {'fit_intercept': False, 'n_jobs': 1}, {'fit_intercept': False, 'n_jobs': 2}, {'fit_intercept': False, 'n_jobs': -1}], 'split0_test_score': array([ 0.01126397,  0.01126397,  0.01126397, -0.04555804, -0.04555804,\n",
      "       -0.04555804]), 'split1_test_score': array([-0.00437699, -0.00437699, -0.00437699, -0.23325023, -0.23325023,\n",
      "       -0.23325023]), 'split2_test_score': array([ 0.01500894,  0.01500894,  0.01500894, -0.0563847 , -0.0563847 ,\n",
      "       -0.0563847 ]), 'split3_test_score': array([ 0.01328792,  0.01328792,  0.01328792, -0.09528083, -0.09528083,\n",
      "       -0.09528083]), 'split4_test_score': array([-0.01675885, -0.01675885, -0.01675885, -0.11864787, -0.11864787,\n",
      "       -0.11864787]), 'mean_test_score': array([ 0.003685  ,  0.003685  ,  0.003685  , -0.10982433, -0.10982433,\n",
      "       -0.10982433]), 'std_test_score': array([0.0123356 , 0.0123356 , 0.0123356 , 0.06709586, 0.06709586,\n",
      "       0.06709586]), 'rank_test_score': array([1, 1, 1, 4, 4, 4])}\n"
     ]
    }
   ],
   "source": [
    "#Entrenamos modelo regresivo con GridSearch previo \n",
    "from sklearn.model_selection import GridSearchCV\n",
    "from sklearn.linear_model import LinearRegression\n",
    "\n",
    "parameters = {'fit_intercept': [True, False], 'n_jobs': [1, 2, -1]}\n",
    "\n",
    "reg = LinearRegression()\n",
    "\n",
    "GSLRsinPCA = GridSearchCV(reg, parameters)\n",
    "\n",
    "GSLRsinPCA.fit(X_train_S, y_train_S)\n",
    "\n",
    "print(GSLRsinPCA.cv_results_)"
   ]
  },
  {
   "cell_type": "markdown",
   "id": "ab431e67",
   "metadata": {},
   "source": [
    "La busqueda de hiperparametros señala a los modelos primero, segundo y tercero como mejores, con misma consistencia \n",
    "(desviacion tipica de score) y media de score, resultando en la primera posición en el ranking"
   ]
  },
  {
   "cell_type": "code",
   "execution_count": 55,
   "id": "f6779c13",
   "metadata": {},
   "outputs": [],
   "source": [
    "y_pred_S = GSLRsinPCA.predict(X_test_S)"
   ]
  },
  {
   "cell_type": "code",
   "execution_count": 56,
   "id": "76db5991",
   "metadata": {},
   "outputs": [
    {
     "data": {
      "text/plain": [
       "0.5617064326123248"
      ]
     },
     "execution_count": 56,
     "metadata": {},
     "output_type": "execute_result"
    }
   ],
   "source": [
    "mae = mean_absolute_error(y_test_S, y_pred_S)\n",
    "mae"
   ]
  },
  {
   "cell_type": "code",
   "execution_count": 57,
   "id": "16cd35b0",
   "metadata": {},
   "outputs": [],
   "source": [
    "reg_S_mae = mean_absolute_error(y_test_S, y_pred_S)\n",
    "reg_S_mse = mean_squared_error(y_test_S, y_pred_S)\n",
    "reg_S_rmse = reg_S_mse**.5"
   ]
  },
  {
   "cell_type": "code",
   "execution_count": 58,
   "id": "593e1cb3",
   "metadata": {},
   "outputs": [],
   "source": [
    "data0 = ['Modelo', 'mae', 'mse','sqmse']"
   ]
  },
  {
   "cell_type": "code",
   "execution_count": 59,
   "id": "4df00292",
   "metadata": {},
   "outputs": [
    {
     "data": {
      "text/plain": [
       "['Regresion Lineal sin PCA',\n",
       " 1.7536624552969273,\n",
       " 1.7536624552969273,\n",
       " 2.137141921730547]"
      ]
     },
     "execution_count": 59,
     "metadata": {},
     "output_type": "execute_result"
    }
   ],
   "source": [
    "data1 = ['Regresion Lineal sin PCA', np.exp(reg_S_mae), np.exp(reg_S_mae), np.exp(reg_S_rmse)] \n",
    "data1"
   ]
  },
  {
   "cell_type": "code",
   "execution_count": 60,
   "id": "6a09cb64",
   "metadata": {},
   "outputs": [
    {
     "name": "stdout",
     "output_type": "stream",
     "text": [
      "reg_S_mae=0.5617064326123248 \n",
      "reg_S_mae=0.5617064326123248 \n",
      "reg_S_rmse=0.7594693857979963 \n"
     ]
    }
   ],
   "source": [
    "print(f'{reg_S_mae=} \\n{reg_S_mae=} \\n{reg_S_rmse=} ')"
   ]
  },
  {
   "cell_type": "code",
   "execution_count": 61,
   "id": "f5aeaa88",
   "metadata": {},
   "outputs": [
    {
     "name": "stdout",
     "output_type": "stream",
     "text": [
      " Regresion Lineal sin PCA GSLRsinPCA.score=<bound method BaseSearchCV.score of GridSearchCV(estimator=LinearRegression(),\n",
      "             param_grid={'fit_intercept': [True, False], 'n_jobs': [1, 2, -1]})>, mae=0.5617064326123248\n"
     ]
    }
   ],
   "source": [
    "print(f' Regresion Lineal sin PCA {GSLRsinPCA.score=}, {mae=}')"
   ]
  },
  {
   "cell_type": "markdown",
   "id": "69958235",
   "metadata": {},
   "source": [
    "Con PCA"
   ]
  },
  {
   "cell_type": "code",
   "execution_count": 62,
   "id": "bc154e57",
   "metadata": {},
   "outputs": [],
   "source": [
    "x_pca = pca.fit_transform(X_nor)"
   ]
  },
  {
   "cell_type": "code",
   "execution_count": 63,
   "id": "e64b281f",
   "metadata": {},
   "outputs": [],
   "source": [
    "#Split train y test CON PCA\n",
    "\n",
    "X_train_c, X_test_c, y_train_c, y_test_c = train_test_split(x_pca,y, test_size=0.25)"
   ]
  },
  {
   "cell_type": "code",
   "execution_count": 64,
   "id": "d096d872",
   "metadata": {},
   "outputs": [
    {
     "name": "stdout",
     "output_type": "stream",
     "text": [
      "{'mean_fit_time': array([0.00179548, 0.00179529, 0.00199571, 0.00139604, 0.00099726,\n",
      "       0.0009974 ]), 'std_fit_time': array([7.46658893e-04, 3.98993531e-04, 2.08176422e-06, 4.88733421e-04,\n",
      "       4.86280395e-07, 4.90933902e-07]), 'mean_score_time': array([0.00059805, 0.00059838, 0.00079684, 0.00059857, 0.00099735,\n",
      "       0.00059848]), 'std_score_time': array([4.88305385e-04, 4.88577702e-04, 3.98426092e-04, 4.88733398e-04,\n",
      "       2.78041453e-07, 4.88655531e-04]), 'param_fit_intercept': masked_array(data=[True, True, True, False, False, False],\n",
      "             mask=[False, False, False, False, False, False],\n",
      "       fill_value='?',\n",
      "            dtype=object), 'param_n_jobs': masked_array(data=[1, 2, -1, 1, 2, -1],\n",
      "             mask=[False, False, False, False, False, False],\n",
      "       fill_value='?',\n",
      "            dtype=object), 'params': [{'fit_intercept': True, 'n_jobs': 1}, {'fit_intercept': True, 'n_jobs': 2}, {'fit_intercept': True, 'n_jobs': -1}, {'fit_intercept': False, 'n_jobs': 1}, {'fit_intercept': False, 'n_jobs': 2}, {'fit_intercept': False, 'n_jobs': -1}], 'split0_test_score': array([-2.04228579e-02, -2.04228579e-02, -2.04228579e-02, -1.60264781e+02,\n",
      "       -1.60264781e+02, -1.60264781e+02]), 'split1_test_score': array([ 1.47891628e-02,  1.47891628e-02,  1.47891628e-02, -1.59249393e+02,\n",
      "       -1.59249393e+02, -1.59249393e+02]), 'split2_test_score': array([ 1.38234144e-02,  1.38234144e-02,  1.38234144e-02, -1.54687333e+02,\n",
      "       -1.54687333e+02, -1.54687333e+02]), 'split3_test_score': array([ 1.47210731e-02,  1.47210731e-02,  1.47210731e-02, -1.52552453e+02,\n",
      "       -1.52552453e+02, -1.52552453e+02]), 'split4_test_score': array([ 5.36670611e-03,  5.36670611e-03,  5.36670611e-03, -1.64840481e+02,\n",
      "       -1.64840481e+02, -1.64840481e+02]), 'mean_test_score': array([ 5.65549969e-03,  5.65549969e-03,  5.65549969e-03, -1.58318888e+02,\n",
      "       -1.58318888e+02, -1.58318888e+02]), 'std_test_score': array([0.01350916, 0.01350916, 0.01350916, 4.32720427, 4.32720427,\n",
      "       4.32720427]), 'rank_test_score': array([1, 1, 1, 4, 4, 4])}\n"
     ]
    }
   ],
   "source": [
    "#Entrenamos modelo regresivo con Grid Search y PCA\n",
    "\n",
    "parameters = {'fit_intercept': [True, False], 'n_jobs': [1, 2, -1]}\n",
    "\n",
    "reg = LinearRegression()\n",
    "\n",
    "GSLRconPCA = GridSearchCV(reg, parameters)\n",
    "\n",
    "GSLRconPCA.fit(X_train_c, y_train_c)\n",
    "\n",
    "print(GSLRconPCA.cv_results_)\n"
   ]
  },
  {
   "cell_type": "markdown",
   "id": "2b218310",
   "metadata": {},
   "source": [
    "La busqueda de hiperparametros señala a los modelos primero, segundo y tercero como mejores, con misma consistencia \n",
    "(desviacion tipica de score) y media de score, resultando en la primera posición en el ranking"
   ]
  },
  {
   "cell_type": "code",
   "execution_count": 65,
   "id": "17acf6a2",
   "metadata": {},
   "outputs": [
    {
     "data": {
      "text/plain": [
       "0.5738937779514428"
      ]
     },
     "execution_count": 65,
     "metadata": {},
     "output_type": "execute_result"
    }
   ],
   "source": [
    "y_pred_c = GSLRconPCA.predict(X_test_c)\n",
    "mae = mean_absolute_error(y_test_c, y_pred_c)\n",
    "mae"
   ]
  },
  {
   "cell_type": "code",
   "execution_count": 66,
   "id": "381138ca",
   "metadata": {},
   "outputs": [],
   "source": [
    "reg_C_mae = mean_absolute_error(y_test_c, y_pred_c)\n",
    "reg_C_mse = mean_squared_error(y_test_c, y_pred_c)\n",
    "reg_C_rmse = reg_C_mse**.5"
   ]
  },
  {
   "cell_type": "code",
   "execution_count": 67,
   "id": "23d5b28e",
   "metadata": {},
   "outputs": [],
   "source": [
    "data2 = ['Regresion Lineal con PCA', np.exp(reg_C_mae), np.exp(reg_C_mse), np.exp(reg_C_rmse)] "
   ]
  },
  {
   "cell_type": "code",
   "execution_count": 68,
   "id": "7ae50d38",
   "metadata": {},
   "outputs": [
    {
     "name": "stdout",
     "output_type": "stream",
     "text": [
      "reg_C_mae=0.5738937779514428 \n",
      "reg_C_mse=0.6051085810641407 \n",
      "reg_C_rmse=0.7778872547253495 \n"
     ]
    }
   ],
   "source": [
    "print(f'{reg_C_mae=} \\n{reg_C_mse=} \\n{reg_C_rmse=} ')"
   ]
  },
  {
   "cell_type": "markdown",
   "id": "7a22d0af",
   "metadata": {},
   "source": [
    "#### Random Forest Regressor"
   ]
  },
  {
   "cell_type": "code",
   "execution_count": 69,
   "id": "4e9ed005",
   "metadata": {},
   "outputs": [],
   "source": [
    "from sklearn.ensemble import RandomForestRegressor\n",
    "from sklearn.datasets import make_regression"
   ]
  },
  {
   "cell_type": "markdown",
   "id": "d67a877d",
   "metadata": {},
   "source": [
    "SIN PCA"
   ]
  },
  {
   "cell_type": "code",
   "execution_count": 70,
   "id": "1a93def3",
   "metadata": {},
   "outputs": [
    {
     "data": {
      "text/html": [
       "<style>#sk-container-id-3 {color: black;}#sk-container-id-3 pre{padding: 0;}#sk-container-id-3 div.sk-toggleable {background-color: white;}#sk-container-id-3 label.sk-toggleable__label {cursor: pointer;display: block;width: 100%;margin-bottom: 0;padding: 0.3em;box-sizing: border-box;text-align: center;}#sk-container-id-3 label.sk-toggleable__label-arrow:before {content: \"▸\";float: left;margin-right: 0.25em;color: #696969;}#sk-container-id-3 label.sk-toggleable__label-arrow:hover:before {color: black;}#sk-container-id-3 div.sk-estimator:hover label.sk-toggleable__label-arrow:before {color: black;}#sk-container-id-3 div.sk-toggleable__content {max-height: 0;max-width: 0;overflow: hidden;text-align: left;background-color: #f0f8ff;}#sk-container-id-3 div.sk-toggleable__content pre {margin: 0.2em;color: black;border-radius: 0.25em;background-color: #f0f8ff;}#sk-container-id-3 input.sk-toggleable__control:checked~div.sk-toggleable__content {max-height: 200px;max-width: 100%;overflow: auto;}#sk-container-id-3 input.sk-toggleable__control:checked~label.sk-toggleable__label-arrow:before {content: \"▾\";}#sk-container-id-3 div.sk-estimator input.sk-toggleable__control:checked~label.sk-toggleable__label {background-color: #d4ebff;}#sk-container-id-3 div.sk-label input.sk-toggleable__control:checked~label.sk-toggleable__label {background-color: #d4ebff;}#sk-container-id-3 input.sk-hidden--visually {border: 0;clip: rect(1px 1px 1px 1px);clip: rect(1px, 1px, 1px, 1px);height: 1px;margin: -1px;overflow: hidden;padding: 0;position: absolute;width: 1px;}#sk-container-id-3 div.sk-estimator {font-family: monospace;background-color: #f0f8ff;border: 1px dotted black;border-radius: 0.25em;box-sizing: border-box;margin-bottom: 0.5em;}#sk-container-id-3 div.sk-estimator:hover {background-color: #d4ebff;}#sk-container-id-3 div.sk-parallel-item::after {content: \"\";width: 100%;border-bottom: 1px solid gray;flex-grow: 1;}#sk-container-id-3 div.sk-label:hover label.sk-toggleable__label {background-color: #d4ebff;}#sk-container-id-3 div.sk-serial::before {content: \"\";position: absolute;border-left: 1px solid gray;box-sizing: border-box;top: 0;bottom: 0;left: 50%;z-index: 0;}#sk-container-id-3 div.sk-serial {display: flex;flex-direction: column;align-items: center;background-color: white;padding-right: 0.2em;padding-left: 0.2em;position: relative;}#sk-container-id-3 div.sk-item {position: relative;z-index: 1;}#sk-container-id-3 div.sk-parallel {display: flex;align-items: stretch;justify-content: center;background-color: white;position: relative;}#sk-container-id-3 div.sk-item::before, #sk-container-id-3 div.sk-parallel-item::before {content: \"\";position: absolute;border-left: 1px solid gray;box-sizing: border-box;top: 0;bottom: 0;left: 50%;z-index: -1;}#sk-container-id-3 div.sk-parallel-item {display: flex;flex-direction: column;z-index: 1;position: relative;background-color: white;}#sk-container-id-3 div.sk-parallel-item:first-child::after {align-self: flex-end;width: 50%;}#sk-container-id-3 div.sk-parallel-item:last-child::after {align-self: flex-start;width: 50%;}#sk-container-id-3 div.sk-parallel-item:only-child::after {width: 0;}#sk-container-id-3 div.sk-dashed-wrapped {border: 1px dashed gray;margin: 0 0.4em 0.5em 0.4em;box-sizing: border-box;padding-bottom: 0.4em;background-color: white;}#sk-container-id-3 div.sk-label label {font-family: monospace;font-weight: bold;display: inline-block;line-height: 1.2em;}#sk-container-id-3 div.sk-label-container {text-align: center;}#sk-container-id-3 div.sk-container {/* jupyter's `normalize.less` sets `[hidden] { display: none; }` but bootstrap.min.css set `[hidden] { display: none !important; }` so we also need the `!important` here to be able to override the default hidden behavior on the sphinx rendered scikit-learn.org. See: https://github.com/scikit-learn/scikit-learn/issues/21755 */display: inline-block !important;position: relative;}#sk-container-id-3 div.sk-text-repr-fallback {display: none;}</style><div id=\"sk-container-id-3\" class=\"sk-top-container\"><div class=\"sk-text-repr-fallback\"><pre>GridSearchCV(estimator=RandomForestRegressor(),\n",
       "             param_grid={&#x27;max_depth&#x27;: (10, 20, None),\n",
       "                         &#x27;n_estimators&#x27;: [10, 100, 500]})</pre><b>In a Jupyter environment, please rerun this cell to show the HTML representation or trust the notebook. <br />On GitHub, the HTML representation is unable to render, please try loading this page with nbviewer.org.</b></div><div class=\"sk-container\" hidden><div class=\"sk-item sk-dashed-wrapped\"><div class=\"sk-label-container\"><div class=\"sk-label sk-toggleable\"><input class=\"sk-toggleable__control sk-hidden--visually\" id=\"sk-estimator-id-3\" type=\"checkbox\" ><label for=\"sk-estimator-id-3\" class=\"sk-toggleable__label sk-toggleable__label-arrow\">GridSearchCV</label><div class=\"sk-toggleable__content\"><pre>GridSearchCV(estimator=RandomForestRegressor(),\n",
       "             param_grid={&#x27;max_depth&#x27;: (10, 20, None),\n",
       "                         &#x27;n_estimators&#x27;: [10, 100, 500]})</pre></div></div></div><div class=\"sk-parallel\"><div class=\"sk-parallel-item\"><div class=\"sk-item\"><div class=\"sk-label-container\"><div class=\"sk-label sk-toggleable\"><input class=\"sk-toggleable__control sk-hidden--visually\" id=\"sk-estimator-id-4\" type=\"checkbox\" ><label for=\"sk-estimator-id-4\" class=\"sk-toggleable__label sk-toggleable__label-arrow\">estimator: RandomForestRegressor</label><div class=\"sk-toggleable__content\"><pre>RandomForestRegressor()</pre></div></div></div><div class=\"sk-serial\"><div class=\"sk-item\"><div class=\"sk-estimator sk-toggleable\"><input class=\"sk-toggleable__control sk-hidden--visually\" id=\"sk-estimator-id-5\" type=\"checkbox\" ><label for=\"sk-estimator-id-5\" class=\"sk-toggleable__label sk-toggleable__label-arrow\">RandomForestRegressor</label><div class=\"sk-toggleable__content\"><pre>RandomForestRegressor()</pre></div></div></div></div></div></div></div></div></div></div>"
      ],
      "text/plain": [
       "GridSearchCV(estimator=RandomForestRegressor(),\n",
       "             param_grid={'max_depth': (10, 20, None),\n",
       "                         'n_estimators': [10, 100, 500]})"
      ]
     },
     "execution_count": 70,
     "metadata": {},
     "output_type": "execute_result"
    }
   ],
   "source": [
    "\n",
    "parameters = {'n_estimators':[10, 100, 500], 'max_depth':(10, 20, None)}\n",
    "\n",
    "rfr = RandomForestRegressor()\n",
    "\n",
    "GSRFsinPCA = GridSearchCV(rfr, parameters)\n",
    "\n",
    "GSRFsinPCA.fit(X_train_S, y_train_S)\n"
   ]
  },
  {
   "cell_type": "code",
   "execution_count": 71,
   "id": "199b37d2",
   "metadata": {
    "scrolled": true
   },
   "outputs": [
    {
     "name": "stdout",
     "output_type": "stream",
     "text": [
      "{'mean_fit_time': array([ 0.31276221,  2.78376842, 13.34495997,  0.51504111,  5.04590383,\n",
      "       25.62928033,  0.52379422,  5.25354638, 26.4515511 ]), 'std_fit_time': array([0.01583816, 0.09417719, 0.18716343, 0.01635916, 0.03445293,\n",
      "       1.03094163, 0.00358278, 0.05789679, 0.96229023]), 'mean_score_time': array([0.00379009, 0.026724  , 0.10158491, 0.00458155, 0.03829231,\n",
      "       0.18908882, 0.00458798, 0.03849893, 0.18989921]), 'std_score_time': array([0.00074602, 0.00749193, 0.00112999, 0.00049677, 0.00205311,\n",
      "       0.01354981, 0.00079833, 0.00100675, 0.00240055]), 'param_max_depth': masked_array(data=[10, 10, 10, 20, 20, 20, None, None, None],\n",
      "             mask=[False, False, False, False, False, False, False, False,\n",
      "                   False],\n",
      "       fill_value='?',\n",
      "            dtype=object), 'param_n_estimators': masked_array(data=[10, 100, 500, 10, 100, 500, 10, 100, 500],\n",
      "             mask=[False, False, False, False, False, False, False, False,\n",
      "                   False],\n",
      "       fill_value='?',\n",
      "            dtype=object), 'params': [{'max_depth': 10, 'n_estimators': 10}, {'max_depth': 10, 'n_estimators': 100}, {'max_depth': 10, 'n_estimators': 500}, {'max_depth': 20, 'n_estimators': 10}, {'max_depth': 20, 'n_estimators': 100}, {'max_depth': 20, 'n_estimators': 500}, {'max_depth': None, 'n_estimators': 10}, {'max_depth': None, 'n_estimators': 100}, {'max_depth': None, 'n_estimators': 500}], 'split0_test_score': array([0.65463137, 0.66619435, 0.6691682 , 0.65222125, 0.6723413 ,\n",
      "       0.67756323, 0.65363461, 0.67344029, 0.67589235]), 'split1_test_score': array([0.62729043, 0.63920314, 0.64247198, 0.62382239, 0.64479515,\n",
      "       0.64602977, 0.61706978, 0.63864   , 0.6444165 ]), 'split2_test_score': array([0.62194063, 0.64406639, 0.64598332, 0.61759092, 0.64524305,\n",
      "       0.64786303, 0.62252552, 0.64059117, 0.64711076]), 'split3_test_score': array([0.65293488, 0.66564625, 0.66806288, 0.65292771, 0.67241933,\n",
      "       0.67451349, 0.63087805, 0.67066008, 0.67398118]), 'split4_test_score': array([0.64824413, 0.66121207, 0.66298147, 0.63886133, 0.65760515,\n",
      "       0.66157062, 0.64742221, 0.66015003, 0.66051047]), 'mean_test_score': array([0.64100829, 0.65526444, 0.65773357, 0.63708472, 0.6584808 ,\n",
      "       0.66150803, 0.63430603, 0.65669631, 0.66038225]), 'std_test_score': array([0.01365243, 0.01136645, 0.01127804, 0.01441644, 0.01224498,\n",
      "       0.01305893, 0.01409431, 0.01464706, 0.01308853]), 'rank_test_score': array([7, 6, 4, 8, 3, 1, 9, 5, 2])}\n"
     ]
    }
   ],
   "source": [
    "print(GSRFsinPCA.cv_results_)\n"
   ]
  },
  {
   "cell_type": "markdown",
   "id": "e9b942c2",
   "metadata": {},
   "source": [
    "Los resultados del Grid Search indican que el modelo mas eficiente es el tercero (max depth = 10, nº estimators = 100), \n",
    "con la primera posicion en el ranking y mayor consistencia (menor desviacion tipica de score)"
   ]
  },
  {
   "cell_type": "code",
   "execution_count": 72,
   "id": "19c6b159",
   "metadata": {},
   "outputs": [],
   "source": [
    "y_pred_S_rf = GSRFsinPCA.predict(X_test_S)"
   ]
  },
  {
   "cell_type": "code",
   "execution_count": 73,
   "id": "a80d024c",
   "metadata": {},
   "outputs": [],
   "source": [
    "rf_S_mae = mean_absolute_error(y_test_S, y_pred_S_rf)\n",
    "rf_S_mse = mean_squared_error(y_test_S, y_pred_S_rf)\n",
    "rf_S_rmse = rf_S_mse**.5"
   ]
  },
  {
   "cell_type": "code",
   "execution_count": 74,
   "id": "3a36785e",
   "metadata": {},
   "outputs": [],
   "source": [
    "data3 = ['Random Forest sin PCA', np.exp(rf_S_mae), np.exp(rf_S_mse), np.exp(rf_S_rmse)] "
   ]
  },
  {
   "cell_type": "code",
   "execution_count": 75,
   "id": "283906da",
   "metadata": {},
   "outputs": [
    {
     "name": "stdout",
     "output_type": "stream",
     "text": [
      "rf_S_mae=0.3006030772626294 \n",
      "rf_S_mse=0.1999452311867151 \n",
      "rf_S_rmse=0.44715235791250735 \n"
     ]
    }
   ],
   "source": [
    "print(f'{rf_S_mae=} \\n{rf_S_mse=} \\n{rf_S_rmse=} ')"
   ]
  },
  {
   "cell_type": "markdown",
   "id": "319b8150",
   "metadata": {},
   "source": [
    "CON PCA"
   ]
  },
  {
   "cell_type": "code",
   "execution_count": 76,
   "id": "4ab98a17",
   "metadata": {},
   "outputs": [
    {
     "data": {
      "text/html": [
       "<style>#sk-container-id-4 {color: black;}#sk-container-id-4 pre{padding: 0;}#sk-container-id-4 div.sk-toggleable {background-color: white;}#sk-container-id-4 label.sk-toggleable__label {cursor: pointer;display: block;width: 100%;margin-bottom: 0;padding: 0.3em;box-sizing: border-box;text-align: center;}#sk-container-id-4 label.sk-toggleable__label-arrow:before {content: \"▸\";float: left;margin-right: 0.25em;color: #696969;}#sk-container-id-4 label.sk-toggleable__label-arrow:hover:before {color: black;}#sk-container-id-4 div.sk-estimator:hover label.sk-toggleable__label-arrow:before {color: black;}#sk-container-id-4 div.sk-toggleable__content {max-height: 0;max-width: 0;overflow: hidden;text-align: left;background-color: #f0f8ff;}#sk-container-id-4 div.sk-toggleable__content pre {margin: 0.2em;color: black;border-radius: 0.25em;background-color: #f0f8ff;}#sk-container-id-4 input.sk-toggleable__control:checked~div.sk-toggleable__content {max-height: 200px;max-width: 100%;overflow: auto;}#sk-container-id-4 input.sk-toggleable__control:checked~label.sk-toggleable__label-arrow:before {content: \"▾\";}#sk-container-id-4 div.sk-estimator input.sk-toggleable__control:checked~label.sk-toggleable__label {background-color: #d4ebff;}#sk-container-id-4 div.sk-label input.sk-toggleable__control:checked~label.sk-toggleable__label {background-color: #d4ebff;}#sk-container-id-4 input.sk-hidden--visually {border: 0;clip: rect(1px 1px 1px 1px);clip: rect(1px, 1px, 1px, 1px);height: 1px;margin: -1px;overflow: hidden;padding: 0;position: absolute;width: 1px;}#sk-container-id-4 div.sk-estimator {font-family: monospace;background-color: #f0f8ff;border: 1px dotted black;border-radius: 0.25em;box-sizing: border-box;margin-bottom: 0.5em;}#sk-container-id-4 div.sk-estimator:hover {background-color: #d4ebff;}#sk-container-id-4 div.sk-parallel-item::after {content: \"\";width: 100%;border-bottom: 1px solid gray;flex-grow: 1;}#sk-container-id-4 div.sk-label:hover label.sk-toggleable__label {background-color: #d4ebff;}#sk-container-id-4 div.sk-serial::before {content: \"\";position: absolute;border-left: 1px solid gray;box-sizing: border-box;top: 0;bottom: 0;left: 50%;z-index: 0;}#sk-container-id-4 div.sk-serial {display: flex;flex-direction: column;align-items: center;background-color: white;padding-right: 0.2em;padding-left: 0.2em;position: relative;}#sk-container-id-4 div.sk-item {position: relative;z-index: 1;}#sk-container-id-4 div.sk-parallel {display: flex;align-items: stretch;justify-content: center;background-color: white;position: relative;}#sk-container-id-4 div.sk-item::before, #sk-container-id-4 div.sk-parallel-item::before {content: \"\";position: absolute;border-left: 1px solid gray;box-sizing: border-box;top: 0;bottom: 0;left: 50%;z-index: -1;}#sk-container-id-4 div.sk-parallel-item {display: flex;flex-direction: column;z-index: 1;position: relative;background-color: white;}#sk-container-id-4 div.sk-parallel-item:first-child::after {align-self: flex-end;width: 50%;}#sk-container-id-4 div.sk-parallel-item:last-child::after {align-self: flex-start;width: 50%;}#sk-container-id-4 div.sk-parallel-item:only-child::after {width: 0;}#sk-container-id-4 div.sk-dashed-wrapped {border: 1px dashed gray;margin: 0 0.4em 0.5em 0.4em;box-sizing: border-box;padding-bottom: 0.4em;background-color: white;}#sk-container-id-4 div.sk-label label {font-family: monospace;font-weight: bold;display: inline-block;line-height: 1.2em;}#sk-container-id-4 div.sk-label-container {text-align: center;}#sk-container-id-4 div.sk-container {/* jupyter's `normalize.less` sets `[hidden] { display: none; }` but bootstrap.min.css set `[hidden] { display: none !important; }` so we also need the `!important` here to be able to override the default hidden behavior on the sphinx rendered scikit-learn.org. See: https://github.com/scikit-learn/scikit-learn/issues/21755 */display: inline-block !important;position: relative;}#sk-container-id-4 div.sk-text-repr-fallback {display: none;}</style><div id=\"sk-container-id-4\" class=\"sk-top-container\"><div class=\"sk-text-repr-fallback\"><pre>GridSearchCV(estimator=RandomForestRegressor(),\n",
       "             param_grid={&#x27;max_depth&#x27;: (10, 20, None),\n",
       "                         &#x27;n_estimators&#x27;: [10, 100, 500]})</pre><b>In a Jupyter environment, please rerun this cell to show the HTML representation or trust the notebook. <br />On GitHub, the HTML representation is unable to render, please try loading this page with nbviewer.org.</b></div><div class=\"sk-container\" hidden><div class=\"sk-item sk-dashed-wrapped\"><div class=\"sk-label-container\"><div class=\"sk-label sk-toggleable\"><input class=\"sk-toggleable__control sk-hidden--visually\" id=\"sk-estimator-id-6\" type=\"checkbox\" ><label for=\"sk-estimator-id-6\" class=\"sk-toggleable__label sk-toggleable__label-arrow\">GridSearchCV</label><div class=\"sk-toggleable__content\"><pre>GridSearchCV(estimator=RandomForestRegressor(),\n",
       "             param_grid={&#x27;max_depth&#x27;: (10, 20, None),\n",
       "                         &#x27;n_estimators&#x27;: [10, 100, 500]})</pre></div></div></div><div class=\"sk-parallel\"><div class=\"sk-parallel-item\"><div class=\"sk-item\"><div class=\"sk-label-container\"><div class=\"sk-label sk-toggleable\"><input class=\"sk-toggleable__control sk-hidden--visually\" id=\"sk-estimator-id-7\" type=\"checkbox\" ><label for=\"sk-estimator-id-7\" class=\"sk-toggleable__label sk-toggleable__label-arrow\">estimator: RandomForestRegressor</label><div class=\"sk-toggleable__content\"><pre>RandomForestRegressor()</pre></div></div></div><div class=\"sk-serial\"><div class=\"sk-item\"><div class=\"sk-estimator sk-toggleable\"><input class=\"sk-toggleable__control sk-hidden--visually\" id=\"sk-estimator-id-8\" type=\"checkbox\" ><label for=\"sk-estimator-id-8\" class=\"sk-toggleable__label sk-toggleable__label-arrow\">RandomForestRegressor</label><div class=\"sk-toggleable__content\"><pre>RandomForestRegressor()</pre></div></div></div></div></div></div></div></div></div></div>"
      ],
      "text/plain": [
       "GridSearchCV(estimator=RandomForestRegressor(),\n",
       "             param_grid={'max_depth': (10, 20, None),\n",
       "                         'n_estimators': [10, 100, 500]})"
      ]
     },
     "execution_count": 76,
     "metadata": {},
     "output_type": "execute_result"
    }
   ],
   "source": [
    "parameters = {'n_estimators':[10, 100, 500], 'max_depth':(10, 20, None)}\n",
    "\n",
    "rfr = RandomForestRegressor()\n",
    "\n",
    "GSRFconPCA = GridSearchCV(rfr, parameters)\n",
    "\n",
    "GSRFconPCA.fit(X_train_c, y_train_c)"
   ]
  },
  {
   "cell_type": "code",
   "execution_count": 77,
   "id": "9c66790a",
   "metadata": {
    "scrolled": true
   },
   "outputs": [
    {
     "name": "stdout",
     "output_type": "stream",
     "text": [
      "{'mean_fit_time': array([ 0.40711174,  4.07258048, 20.10579801,  0.72944889,  7.21369867,\n",
      "       36.70725207,  0.74759998,  7.50233183, 38.25124187]), 'std_fit_time': array([0.0047694 , 0.05773654, 0.12823554, 0.0030675 , 0.0251915 ,\n",
      "       0.20698984, 0.00847209, 0.04742468, 0.3111331 ]), 'mean_score_time': array([0.00299683, 0.02194414, 0.10510716, 0.00458746, 0.03570833,\n",
      "       0.19785886, 0.00458708, 0.03829427, 0.19348116]), 'std_score_time': array([1.20410588e-05, 1.41244852e-03, 3.24792171e-03, 4.89824653e-04,\n",
      "       7.54625312e-04, 2.46996324e-02, 4.87764526e-04, 1.01125900e-03,\n",
      "       7.07990139e-03]), 'param_max_depth': masked_array(data=[10, 10, 10, 20, 20, 20, None, None, None],\n",
      "             mask=[False, False, False, False, False, False, False, False,\n",
      "                   False],\n",
      "       fill_value='?',\n",
      "            dtype=object), 'param_n_estimators': masked_array(data=[10, 100, 500, 10, 100, 500, 10, 100, 500],\n",
      "             mask=[False, False, False, False, False, False, False, False,\n",
      "                   False],\n",
      "       fill_value='?',\n",
      "            dtype=object), 'params': [{'max_depth': 10, 'n_estimators': 10}, {'max_depth': 10, 'n_estimators': 100}, {'max_depth': 10, 'n_estimators': 500}, {'max_depth': 20, 'n_estimators': 10}, {'max_depth': 20, 'n_estimators': 100}, {'max_depth': 20, 'n_estimators': 500}, {'max_depth': None, 'n_estimators': 10}, {'max_depth': None, 'n_estimators': 100}, {'max_depth': None, 'n_estimators': 500}], 'split0_test_score': array([0.56258205, 0.56763746, 0.57295144, 0.59926717, 0.63663411,\n",
      "       0.64481185, 0.6061369 , 0.63681902, 0.64370977]), 'split1_test_score': array([0.48710506, 0.51277213, 0.52197294, 0.53829255, 0.57544974,\n",
      "       0.57794892, 0.55889126, 0.57175415, 0.57441363]), 'split2_test_score': array([0.51137835, 0.52858919, 0.53157172, 0.5583442 , 0.58572407,\n",
      "       0.58698767, 0.556938  , 0.58143787, 0.5839034 ]), 'split3_test_score': array([0.52197568, 0.54361555, 0.54301216, 0.55423212, 0.60679831,\n",
      "       0.6063623 , 0.57116941, 0.60006176, 0.60602665]), 'split4_test_score': array([0.4991524 , 0.51442048, 0.5149113 , 0.54127458, 0.57981751,\n",
      "       0.5776424 , 0.51863901, 0.5685398 , 0.57500383]), 'mean_test_score': array([0.51643871, 0.53340696, 0.53688391, 0.55828213, 0.59688475,\n",
      "       0.59875063, 0.56235492, 0.59172252, 0.59661146]), 'std_test_score': array([0.02586408, 0.02042271, 0.02035571, 0.02184042, 0.02259912,\n",
      "       0.02528323, 0.02809618, 0.02508061, 0.02618406]), 'rank_test_score': array([9, 8, 7, 6, 2, 1, 5, 4, 3])}\n"
     ]
    }
   ],
   "source": [
    "print(GSRFconPCA.cv_results_)\n"
   ]
  },
  {
   "cell_type": "markdown",
   "id": "01eeec46",
   "metadata": {},
   "source": [
    "El modelo mas eficiente es el cuarto, con mayor consistencia (max_depth': 15, 'n_estimators': 100) \n"
   ]
  },
  {
   "cell_type": "code",
   "execution_count": 78,
   "id": "361253e1",
   "metadata": {},
   "outputs": [],
   "source": [
    "y_pred_C_rf = GSRFconPCA.predict(X_test_c)"
   ]
  },
  {
   "cell_type": "code",
   "execution_count": 79,
   "id": "9ef755ab",
   "metadata": {},
   "outputs": [],
   "source": [
    "rfc2_C_mae = mean_absolute_error(y_test_c, y_pred_C_rf)\n",
    "rfc2_C_mse = mean_squared_error(y_test_c, y_pred_C_rf)\n",
    "rfc2_C_rmse = rfc2_C_mse**.5"
   ]
  },
  {
   "cell_type": "code",
   "execution_count": 80,
   "id": "cbdb0a0d",
   "metadata": {},
   "outputs": [],
   "source": [
    "data4 = ['Random Forest con PCA', np.exp(rfc2_C_mae), np.exp(rfc2_C_mse), np.exp(rfc2_C_rmse)] "
   ]
  },
  {
   "cell_type": "code",
   "execution_count": 81,
   "id": "71d59537",
   "metadata": {},
   "outputs": [
    {
     "name": "stdout",
     "output_type": "stream",
     "text": [
      "rfc2_C_mae=0.312933532379232 \n",
      "rfc2_C_mse=0.21785948173346772 \n",
      "rfc2_C_rmse=0.4667541984101136 \n"
     ]
    }
   ],
   "source": [
    "print(f'{rfc2_C_mae=} \\n{rfc2_C_mse=} \\n{rfc2_C_rmse=} ')"
   ]
  },
  {
   "cell_type": "markdown",
   "id": "b9d4becf",
   "metadata": {},
   "source": [
    "#### XGBOOST"
   ]
  },
  {
   "cell_type": "code",
   "execution_count": 82,
   "id": "e5370392",
   "metadata": {},
   "outputs": [],
   "source": [
    "from xgboost import XGBRegressor "
   ]
  },
  {
   "cell_type": "markdown",
   "id": "35eb9456",
   "metadata": {},
   "source": [
    "SIN PCA"
   ]
  },
  {
   "cell_type": "code",
   "execution_count": 83,
   "id": "ead5b1ee",
   "metadata": {},
   "outputs": [
    {
     "data": {
      "text/html": [
       "<style>#sk-container-id-5 {color: black;}#sk-container-id-5 pre{padding: 0;}#sk-container-id-5 div.sk-toggleable {background-color: white;}#sk-container-id-5 label.sk-toggleable__label {cursor: pointer;display: block;width: 100%;margin-bottom: 0;padding: 0.3em;box-sizing: border-box;text-align: center;}#sk-container-id-5 label.sk-toggleable__label-arrow:before {content: \"▸\";float: left;margin-right: 0.25em;color: #696969;}#sk-container-id-5 label.sk-toggleable__label-arrow:hover:before {color: black;}#sk-container-id-5 div.sk-estimator:hover label.sk-toggleable__label-arrow:before {color: black;}#sk-container-id-5 div.sk-toggleable__content {max-height: 0;max-width: 0;overflow: hidden;text-align: left;background-color: #f0f8ff;}#sk-container-id-5 div.sk-toggleable__content pre {margin: 0.2em;color: black;border-radius: 0.25em;background-color: #f0f8ff;}#sk-container-id-5 input.sk-toggleable__control:checked~div.sk-toggleable__content {max-height: 200px;max-width: 100%;overflow: auto;}#sk-container-id-5 input.sk-toggleable__control:checked~label.sk-toggleable__label-arrow:before {content: \"▾\";}#sk-container-id-5 div.sk-estimator input.sk-toggleable__control:checked~label.sk-toggleable__label {background-color: #d4ebff;}#sk-container-id-5 div.sk-label input.sk-toggleable__control:checked~label.sk-toggleable__label {background-color: #d4ebff;}#sk-container-id-5 input.sk-hidden--visually {border: 0;clip: rect(1px 1px 1px 1px);clip: rect(1px, 1px, 1px, 1px);height: 1px;margin: -1px;overflow: hidden;padding: 0;position: absolute;width: 1px;}#sk-container-id-5 div.sk-estimator {font-family: monospace;background-color: #f0f8ff;border: 1px dotted black;border-radius: 0.25em;box-sizing: border-box;margin-bottom: 0.5em;}#sk-container-id-5 div.sk-estimator:hover {background-color: #d4ebff;}#sk-container-id-5 div.sk-parallel-item::after {content: \"\";width: 100%;border-bottom: 1px solid gray;flex-grow: 1;}#sk-container-id-5 div.sk-label:hover label.sk-toggleable__label {background-color: #d4ebff;}#sk-container-id-5 div.sk-serial::before {content: \"\";position: absolute;border-left: 1px solid gray;box-sizing: border-box;top: 0;bottom: 0;left: 50%;z-index: 0;}#sk-container-id-5 div.sk-serial {display: flex;flex-direction: column;align-items: center;background-color: white;padding-right: 0.2em;padding-left: 0.2em;position: relative;}#sk-container-id-5 div.sk-item {position: relative;z-index: 1;}#sk-container-id-5 div.sk-parallel {display: flex;align-items: stretch;justify-content: center;background-color: white;position: relative;}#sk-container-id-5 div.sk-item::before, #sk-container-id-5 div.sk-parallel-item::before {content: \"\";position: absolute;border-left: 1px solid gray;box-sizing: border-box;top: 0;bottom: 0;left: 50%;z-index: -1;}#sk-container-id-5 div.sk-parallel-item {display: flex;flex-direction: column;z-index: 1;position: relative;background-color: white;}#sk-container-id-5 div.sk-parallel-item:first-child::after {align-self: flex-end;width: 50%;}#sk-container-id-5 div.sk-parallel-item:last-child::after {align-self: flex-start;width: 50%;}#sk-container-id-5 div.sk-parallel-item:only-child::after {width: 0;}#sk-container-id-5 div.sk-dashed-wrapped {border: 1px dashed gray;margin: 0 0.4em 0.5em 0.4em;box-sizing: border-box;padding-bottom: 0.4em;background-color: white;}#sk-container-id-5 div.sk-label label {font-family: monospace;font-weight: bold;display: inline-block;line-height: 1.2em;}#sk-container-id-5 div.sk-label-container {text-align: center;}#sk-container-id-5 div.sk-container {/* jupyter's `normalize.less` sets `[hidden] { display: none; }` but bootstrap.min.css set `[hidden] { display: none !important; }` so we also need the `!important` here to be able to override the default hidden behavior on the sphinx rendered scikit-learn.org. See: https://github.com/scikit-learn/scikit-learn/issues/21755 */display: inline-block !important;position: relative;}#sk-container-id-5 div.sk-text-repr-fallback {display: none;}</style><div id=\"sk-container-id-5\" class=\"sk-top-container\"><div class=\"sk-text-repr-fallback\"><pre>GridSearchCV(estimator=XGBRegressor(base_score=None, booster=None,\n",
       "                                    callbacks=None, colsample_bylevel=None,\n",
       "                                    colsample_bynode=None,\n",
       "                                    colsample_bytree=None,\n",
       "                                    early_stopping_rounds=None,\n",
       "                                    enable_categorical=False, eval_metric=None,\n",
       "                                    feature_types=None, gamma=None, gpu_id=None,\n",
       "                                    grow_policy=None, importance_type=None,\n",
       "                                    interaction_constraints=None,\n",
       "                                    learning_rate=None, max_bin=None,\n",
       "                                    max_cat_threshold=None,\n",
       "                                    max_cat_to_onehot=None, max_delta_step=None,\n",
       "                                    max_depth=None, max_leaves=None,\n",
       "                                    min_child_weight=None, missing=nan,\n",
       "                                    monotone_constraints=None, n_estimators=100,\n",
       "                                    n_jobs=None, num_parallel_tree=None,\n",
       "                                    predictor=None, random_state=None, ...),\n",
       "             param_grid={&#x27;learning_rate&#x27;: [0.2, 0.5, 0.1],\n",
       "                         &#x27;max_depth&#x27;: (10, 20, None),\n",
       "                         &#x27;n_estimators&#x27;: [10, 100, 500]})</pre><b>In a Jupyter environment, please rerun this cell to show the HTML representation or trust the notebook. <br />On GitHub, the HTML representation is unable to render, please try loading this page with nbviewer.org.</b></div><div class=\"sk-container\" hidden><div class=\"sk-item sk-dashed-wrapped\"><div class=\"sk-label-container\"><div class=\"sk-label sk-toggleable\"><input class=\"sk-toggleable__control sk-hidden--visually\" id=\"sk-estimator-id-9\" type=\"checkbox\" ><label for=\"sk-estimator-id-9\" class=\"sk-toggleable__label sk-toggleable__label-arrow\">GridSearchCV</label><div class=\"sk-toggleable__content\"><pre>GridSearchCV(estimator=XGBRegressor(base_score=None, booster=None,\n",
       "                                    callbacks=None, colsample_bylevel=None,\n",
       "                                    colsample_bynode=None,\n",
       "                                    colsample_bytree=None,\n",
       "                                    early_stopping_rounds=None,\n",
       "                                    enable_categorical=False, eval_metric=None,\n",
       "                                    feature_types=None, gamma=None, gpu_id=None,\n",
       "                                    grow_policy=None, importance_type=None,\n",
       "                                    interaction_constraints=None,\n",
       "                                    learning_rate=None, max_bin=None,\n",
       "                                    max_cat_threshold=None,\n",
       "                                    max_cat_to_onehot=None, max_delta_step=None,\n",
       "                                    max_depth=None, max_leaves=None,\n",
       "                                    min_child_weight=None, missing=nan,\n",
       "                                    monotone_constraints=None, n_estimators=100,\n",
       "                                    n_jobs=None, num_parallel_tree=None,\n",
       "                                    predictor=None, random_state=None, ...),\n",
       "             param_grid={&#x27;learning_rate&#x27;: [0.2, 0.5, 0.1],\n",
       "                         &#x27;max_depth&#x27;: (10, 20, None),\n",
       "                         &#x27;n_estimators&#x27;: [10, 100, 500]})</pre></div></div></div><div class=\"sk-parallel\"><div class=\"sk-parallel-item\"><div class=\"sk-item\"><div class=\"sk-label-container\"><div class=\"sk-label sk-toggleable\"><input class=\"sk-toggleable__control sk-hidden--visually\" id=\"sk-estimator-id-10\" type=\"checkbox\" ><label for=\"sk-estimator-id-10\" class=\"sk-toggleable__label sk-toggleable__label-arrow\">estimator: XGBRegressor</label><div class=\"sk-toggleable__content\"><pre>XGBRegressor(base_score=None, booster=None, callbacks=None,\n",
       "             colsample_bylevel=None, colsample_bynode=None,\n",
       "             colsample_bytree=None, early_stopping_rounds=None,\n",
       "             enable_categorical=False, eval_metric=None, feature_types=None,\n",
       "             gamma=None, gpu_id=None, grow_policy=None, importance_type=None,\n",
       "             interaction_constraints=None, learning_rate=None, max_bin=None,\n",
       "             max_cat_threshold=None, max_cat_to_onehot=None,\n",
       "             max_delta_step=None, max_depth=None, max_leaves=None,\n",
       "             min_child_weight=None, missing=nan, monotone_constraints=None,\n",
       "             n_estimators=100, n_jobs=None, num_parallel_tree=None,\n",
       "             predictor=None, random_state=None, ...)</pre></div></div></div><div class=\"sk-serial\"><div class=\"sk-item\"><div class=\"sk-estimator sk-toggleable\"><input class=\"sk-toggleable__control sk-hidden--visually\" id=\"sk-estimator-id-11\" type=\"checkbox\" ><label for=\"sk-estimator-id-11\" class=\"sk-toggleable__label sk-toggleable__label-arrow\">XGBRegressor</label><div class=\"sk-toggleable__content\"><pre>XGBRegressor(base_score=None, booster=None, callbacks=None,\n",
       "             colsample_bylevel=None, colsample_bynode=None,\n",
       "             colsample_bytree=None, early_stopping_rounds=None,\n",
       "             enable_categorical=False, eval_metric=None, feature_types=None,\n",
       "             gamma=None, gpu_id=None, grow_policy=None, importance_type=None,\n",
       "             interaction_constraints=None, learning_rate=None, max_bin=None,\n",
       "             max_cat_threshold=None, max_cat_to_onehot=None,\n",
       "             max_delta_step=None, max_depth=None, max_leaves=None,\n",
       "             min_child_weight=None, missing=nan, monotone_constraints=None,\n",
       "             n_estimators=100, n_jobs=None, num_parallel_tree=None,\n",
       "             predictor=None, random_state=None, ...)</pre></div></div></div></div></div></div></div></div></div></div>"
      ],
      "text/plain": [
       "GridSearchCV(estimator=XGBRegressor(base_score=None, booster=None,\n",
       "                                    callbacks=None, colsample_bylevel=None,\n",
       "                                    colsample_bynode=None,\n",
       "                                    colsample_bytree=None,\n",
       "                                    early_stopping_rounds=None,\n",
       "                                    enable_categorical=False, eval_metric=None,\n",
       "                                    feature_types=None, gamma=None, gpu_id=None,\n",
       "                                    grow_policy=None, importance_type=None,\n",
       "                                    interaction_constraints=None,\n",
       "                                    learning_rate=None, max_bin=None,\n",
       "                                    max_cat_threshold=None,\n",
       "                                    max_cat_to_onehot=None, max_delta_step=None,\n",
       "                                    max_depth=None, max_leaves=None,\n",
       "                                    min_child_weight=None, missing=nan,\n",
       "                                    monotone_constraints=None, n_estimators=100,\n",
       "                                    n_jobs=None, num_parallel_tree=None,\n",
       "                                    predictor=None, random_state=None, ...),\n",
       "             param_grid={'learning_rate': [0.2, 0.5, 0.1],\n",
       "                         'max_depth': (10, 20, None),\n",
       "                         'n_estimators': [10, 100, 500]})"
      ]
     },
     "execution_count": 83,
     "metadata": {},
     "output_type": "execute_result"
    }
   ],
   "source": [
    "xgb = XGBRegressor()\n",
    "\n",
    "parameters = {'learning_rate':[0.2, 0.5, 0.1], 'max_depth':(10, 20, None), 'n_estimators':[10, 100, 500]}\n",
    "\n",
    "xgb.fit(X_train_S, y_train_S)\n",
    "\n",
    "GSXGBsinPCA = GridSearchCV(xgb, parameters)\n",
    "\n",
    "GSXGBsinPCA.fit(X_train_S, y_train_S)"
   ]
  },
  {
   "cell_type": "code",
   "execution_count": 84,
   "id": "2d10b255",
   "metadata": {},
   "outputs": [
    {
     "name": "stdout",
     "output_type": "stream",
     "text": [
      "{'mean_fit_time': array([0.0221405 , 0.35884027, 1.63103738, 0.02333775, 0.74281259,\n",
      "       1.66773958, 0.01914873, 0.19846883, 1.08769121, 0.03590355,\n",
      "       0.3761941 , 1.32844663, 0.05984015, 0.57067318, 0.76974087,\n",
      "       0.02553158, 0.23676672, 1.02545695, 0.01695476, 0.29900074,\n",
      "       1.72019863, 0.01894884, 0.75498028, 3.35482721, 0.01894951,\n",
      "       0.19288378, 0.96481929]), 'std_fit_time': array([0.00074597, 0.02889433, 0.04057354, 0.00119658, 0.0465066 ,\n",
      "       0.04934288, 0.00116272, 0.0059514 , 0.12802293, 0.00063075,\n",
      "       0.02888727, 0.04176876, 0.00309025, 0.03443007, 0.07596332,\n",
      "       0.00048846, 0.02030884, 0.07400301, 0.00063075, 0.00865823,\n",
      "       0.14007504, 0.00063075, 0.05996295, 0.35130984, 0.00109223,\n",
      "       0.01295147, 0.04974895]), 'mean_score_time': array([0.00139637, 0.00259299, 0.00718074, 0.00119686, 0.00638304,\n",
      "       0.01156921, 0.00139656, 0.00219431, 0.00558443, 0.00159578,\n",
      "       0.00319104, 0.00558515, 0.00159564, 0.00518661, 0.00658245,\n",
      "       0.00139637, 0.00219398, 0.00518627, 0.00139618, 0.00299153,\n",
      "       0.00937519, 0.00119729, 0.00977407, 0.02593074, 0.00119677,\n",
      "       0.00239382, 0.00478721]), 'std_score_time': array([0.00048875, 0.00048868, 0.00074653, 0.00039876, 0.00079854,\n",
      "       0.00173859, 0.00048879, 0.00097808, 0.00135176, 0.00048866,\n",
      "       0.00074666, 0.00048877, 0.00048854, 0.00074647, 0.00119716,\n",
      "       0.00048905, 0.00039861, 0.00074649, 0.00048862, 0.00063045,\n",
      "       0.00184992, 0.00039926, 0.00912788, 0.00735583, 0.0003988 ,\n",
      "       0.00048864, 0.00074616]), 'param_learning_rate': masked_array(data=[0.2, 0.2, 0.2, 0.2, 0.2, 0.2, 0.2, 0.2, 0.2, 0.5, 0.5,\n",
      "                   0.5, 0.5, 0.5, 0.5, 0.5, 0.5, 0.5, 0.1, 0.1, 0.1, 0.1,\n",
      "                   0.1, 0.1, 0.1, 0.1, 0.1],\n",
      "             mask=[False, False, False, False, False, False, False, False,\n",
      "                   False, False, False, False, False, False, False, False,\n",
      "                   False, False, False, False, False, False, False, False,\n",
      "                   False, False, False],\n",
      "       fill_value='?',\n",
      "            dtype=object), 'param_max_depth': masked_array(data=[10, 10, 10, 20, 20, 20, None, None, None, 10, 10, 10,\n",
      "                   20, 20, 20, None, None, None, 10, 10, 10, 20, 20, 20,\n",
      "                   None, None, None],\n",
      "             mask=[False, False, False, False, False, False, False, False,\n",
      "                   False, False, False, False, False, False, False, False,\n",
      "                   False, False, False, False, False, False, False, False,\n",
      "                   False, False, False],\n",
      "       fill_value='?',\n",
      "            dtype=object), 'param_n_estimators': masked_array(data=[10, 100, 500, 10, 100, 500, 10, 100, 500, 10, 100, 500,\n",
      "                   10, 100, 500, 10, 100, 500, 10, 100, 500, 10, 100, 500,\n",
      "                   10, 100, 500],\n",
      "             mask=[False, False, False, False, False, False, False, False,\n",
      "                   False, False, False, False, False, False, False, False,\n",
      "                   False, False, False, False, False, False, False, False,\n",
      "                   False, False, False],\n",
      "       fill_value='?',\n",
      "            dtype=object), 'params': [{'learning_rate': 0.2, 'max_depth': 10, 'n_estimators': 10}, {'learning_rate': 0.2, 'max_depth': 10, 'n_estimators': 100}, {'learning_rate': 0.2, 'max_depth': 10, 'n_estimators': 500}, {'learning_rate': 0.2, 'max_depth': 20, 'n_estimators': 10}, {'learning_rate': 0.2, 'max_depth': 20, 'n_estimators': 100}, {'learning_rate': 0.2, 'max_depth': 20, 'n_estimators': 500}, {'learning_rate': 0.2, 'max_depth': None, 'n_estimators': 10}, {'learning_rate': 0.2, 'max_depth': None, 'n_estimators': 100}, {'learning_rate': 0.2, 'max_depth': None, 'n_estimators': 500}, {'learning_rate': 0.5, 'max_depth': 10, 'n_estimators': 10}, {'learning_rate': 0.5, 'max_depth': 10, 'n_estimators': 100}, {'learning_rate': 0.5, 'max_depth': 10, 'n_estimators': 500}, {'learning_rate': 0.5, 'max_depth': 20, 'n_estimators': 10}, {'learning_rate': 0.5, 'max_depth': 20, 'n_estimators': 100}, {'learning_rate': 0.5, 'max_depth': 20, 'n_estimators': 500}, {'learning_rate': 0.5, 'max_depth': None, 'n_estimators': 10}, {'learning_rate': 0.5, 'max_depth': None, 'n_estimators': 100}, {'learning_rate': 0.5, 'max_depth': None, 'n_estimators': 500}, {'learning_rate': 0.1, 'max_depth': 10, 'n_estimators': 10}, {'learning_rate': 0.1, 'max_depth': 10, 'n_estimators': 100}, {'learning_rate': 0.1, 'max_depth': 10, 'n_estimators': 500}, {'learning_rate': 0.1, 'max_depth': 20, 'n_estimators': 10}, {'learning_rate': 0.1, 'max_depth': 20, 'n_estimators': 100}, {'learning_rate': 0.1, 'max_depth': 20, 'n_estimators': 500}, {'learning_rate': 0.1, 'max_depth': None, 'n_estimators': 10}, {'learning_rate': 0.1, 'max_depth': None, 'n_estimators': 100}, {'learning_rate': 0.1, 'max_depth': None, 'n_estimators': 500}], 'split0_test_score': array([ -0.94166437,   0.67001656,   0.65285421,  -0.94278175,\n",
      "         0.64825645,   0.64598482,  -0.93942351,   0.67298614,\n",
      "         0.66123781,   0.65717885,   0.63075326,   0.61912747,\n",
      "         0.65511005,   0.64055456,   0.64055456,   0.64094842,\n",
      "         0.63628433,   0.61089101, -15.87449778,   0.6820701 ,\n",
      "         0.67329382, -15.87449778,   0.66893033,   0.66121719,\n",
      "       -15.87449778,   0.66247126,   0.66878697]), 'split1_test_score': array([ -1.12949317,   0.63486564,   0.61263709,  -1.13734739,\n",
      "         0.60398549,   0.60261343,  -1.1228712 ,   0.63698454,\n",
      "         0.61693989,   0.60854994,   0.59407768,   0.58313639,\n",
      "         0.562815  ,   0.54651251,   0.54651251,   0.62871757,\n",
      "         0.60438141,   0.57851544, -16.8953824 ,   0.63010499,\n",
      "         0.61677354, -16.8953824 ,   0.6076474 ,   0.60186401,\n",
      "       -16.89336878,   0.6384908 ,   0.63886925]), 'split2_test_score': array([ -1.04365515,   0.62894677,   0.6026762 ,  -1.04505429,\n",
      "         0.61168677,   0.60836109,  -1.04483557,   0.63473119,\n",
      "         0.61930449,   0.62895313,   0.61857716,   0.60915359,\n",
      "         0.59200342,   0.57226533,   0.57226533,   0.62312199,\n",
      "         0.60563537,   0.58234746, -16.6757872 ,   0.64724225,\n",
      "         0.63241388, -16.6757872 ,   0.62485048,   0.61541921,\n",
      "       -16.6757872 ,   0.63498048,   0.63260061]), 'split3_test_score': array([ -1.03302727,   0.66840654,   0.64951193,  -1.03808209,\n",
      "         0.62981421,   0.62610396,  -1.03052298,   0.65893461,\n",
      "         0.64139883,   0.6355224 ,   0.60782837,   0.59478723,\n",
      "         0.62650986,   0.61122738,   0.61122738,   0.64962273,\n",
      "         0.63667417,   0.60672317, -16.77687411,   0.66302486,\n",
      "         0.65570861, -16.77687411,   0.64015971,   0.63197785,\n",
      "       -16.77687411,   0.66407585,   0.66256815]), 'split4_test_score': array([ -0.98133264,   0.6585433 ,   0.63738243,  -0.97770756,\n",
      "         0.62762398,   0.62452074,  -0.97845811,   0.65859714,\n",
      "         0.63959117,   0.64296112,   0.61341616,   0.60360952,\n",
      "         0.63372878,   0.61518091,   0.61518091,   0.63963745,\n",
      "         0.62201016,   0.59286339, -16.3775109 ,   0.6714234 ,\n",
      "         0.65314508, -16.3775109 ,   0.64667764,   0.63859187,\n",
      "       -16.3775109 ,   0.66098658,   0.658623  ]), 'mean_test_score': array([ -1.02583452,   0.65215576,   0.63101237,  -1.02819462,\n",
      "         0.62427338,   0.62151681,  -1.02322227,   0.65244672,\n",
      "         0.63569444,   0.63463309,   0.61293053,   0.60196284,\n",
      "         0.61403342,   0.59714814,   0.59714814,   0.63640963,\n",
      "         0.62099709,   0.5942681 , -16.52001048,   0.65877312,\n",
      "         0.64626699, -16.52001048,   0.63765311,   0.62981403,\n",
      "       -16.51960775,   0.65220099,   0.6522896 ]), 'std_test_score': array([0.06352867, 0.0170968 , 0.02000234, 0.06654418, 0.01540867,\n",
      "       0.01522603, 0.06241219, 0.01452382, 0.01625147, 0.01606892,\n",
      "       0.01209324, 0.01228794, 0.03267876, 0.03343843, 0.03343843,\n",
      "       0.00939505, 0.01408943, 0.01283488, 0.36555223, 0.01830672,\n",
      "       0.01964013, 0.36555223, 0.02064093, 0.02027957, 0.36513934,\n",
      "       0.01271371, 0.01404056]), 'rank_test_score': array([23,  5, 11, 24, 13, 14, 22,  2,  9, 10, 17, 18, 16, 19, 19,  8, 15,\n",
      "       21, 26,  1,  6, 26,  7, 12, 25,  4,  3])}\n"
     ]
    }
   ],
   "source": [
    "print(GSXGBsinPCA.cv_results_)"
   ]
  },
  {
   "cell_type": "code",
   "execution_count": 85,
   "id": "a8b2b981",
   "metadata": {},
   "outputs": [],
   "source": [
    "y_pred_S_xb = GSXGBsinPCA.predict(X_test_S)"
   ]
  },
  {
   "cell_type": "code",
   "execution_count": 86,
   "id": "654ae448",
   "metadata": {},
   "outputs": [],
   "source": [
    "xgbS_mae = mean_absolute_error(y_test_S, y_pred_S_xb)\n",
    "xgbS_mse = mean_squared_error(y_test_S, y_pred_S_xb)\n",
    "xgbS_rmse = xgbS_mse**.5\n"
   ]
  },
  {
   "cell_type": "code",
   "execution_count": 87,
   "id": "56c898aa",
   "metadata": {},
   "outputs": [
    {
     "name": "stdout",
     "output_type": "stream",
     "text": [
      "xgbS_mae=0.3059348144245132 \n",
      "xgbS_mse=0.1980287660791025 \n",
      "xgbS_rmse=0.44500423152943447 \n"
     ]
    }
   ],
   "source": [
    "print(f'{xgbS_mae=} \\n{xgbS_mse=} \\n{xgbS_rmse=} ')"
   ]
  },
  {
   "cell_type": "code",
   "execution_count": 88,
   "id": "fdc110bc",
   "metadata": {},
   "outputs": [],
   "source": [
    "data5 = ['XGBoost sin PCA', np.exp(xgbS_mae), np.exp(xgbS_mse), np.exp(xgbS_rmse)] "
   ]
  },
  {
   "cell_type": "markdown",
   "id": "fa7561da",
   "metadata": {},
   "source": [
    "Con PCA"
   ]
  },
  {
   "cell_type": "code",
   "execution_count": 89,
   "id": "4e3934dd",
   "metadata": {},
   "outputs": [
    {
     "data": {
      "text/html": [
       "<style>#sk-container-id-6 {color: black;}#sk-container-id-6 pre{padding: 0;}#sk-container-id-6 div.sk-toggleable {background-color: white;}#sk-container-id-6 label.sk-toggleable__label {cursor: pointer;display: block;width: 100%;margin-bottom: 0;padding: 0.3em;box-sizing: border-box;text-align: center;}#sk-container-id-6 label.sk-toggleable__label-arrow:before {content: \"▸\";float: left;margin-right: 0.25em;color: #696969;}#sk-container-id-6 label.sk-toggleable__label-arrow:hover:before {color: black;}#sk-container-id-6 div.sk-estimator:hover label.sk-toggleable__label-arrow:before {color: black;}#sk-container-id-6 div.sk-toggleable__content {max-height: 0;max-width: 0;overflow: hidden;text-align: left;background-color: #f0f8ff;}#sk-container-id-6 div.sk-toggleable__content pre {margin: 0.2em;color: black;border-radius: 0.25em;background-color: #f0f8ff;}#sk-container-id-6 input.sk-toggleable__control:checked~div.sk-toggleable__content {max-height: 200px;max-width: 100%;overflow: auto;}#sk-container-id-6 input.sk-toggleable__control:checked~label.sk-toggleable__label-arrow:before {content: \"▾\";}#sk-container-id-6 div.sk-estimator input.sk-toggleable__control:checked~label.sk-toggleable__label {background-color: #d4ebff;}#sk-container-id-6 div.sk-label input.sk-toggleable__control:checked~label.sk-toggleable__label {background-color: #d4ebff;}#sk-container-id-6 input.sk-hidden--visually {border: 0;clip: rect(1px 1px 1px 1px);clip: rect(1px, 1px, 1px, 1px);height: 1px;margin: -1px;overflow: hidden;padding: 0;position: absolute;width: 1px;}#sk-container-id-6 div.sk-estimator {font-family: monospace;background-color: #f0f8ff;border: 1px dotted black;border-radius: 0.25em;box-sizing: border-box;margin-bottom: 0.5em;}#sk-container-id-6 div.sk-estimator:hover {background-color: #d4ebff;}#sk-container-id-6 div.sk-parallel-item::after {content: \"\";width: 100%;border-bottom: 1px solid gray;flex-grow: 1;}#sk-container-id-6 div.sk-label:hover label.sk-toggleable__label {background-color: #d4ebff;}#sk-container-id-6 div.sk-serial::before {content: \"\";position: absolute;border-left: 1px solid gray;box-sizing: border-box;top: 0;bottom: 0;left: 50%;z-index: 0;}#sk-container-id-6 div.sk-serial {display: flex;flex-direction: column;align-items: center;background-color: white;padding-right: 0.2em;padding-left: 0.2em;position: relative;}#sk-container-id-6 div.sk-item {position: relative;z-index: 1;}#sk-container-id-6 div.sk-parallel {display: flex;align-items: stretch;justify-content: center;background-color: white;position: relative;}#sk-container-id-6 div.sk-item::before, #sk-container-id-6 div.sk-parallel-item::before {content: \"\";position: absolute;border-left: 1px solid gray;box-sizing: border-box;top: 0;bottom: 0;left: 50%;z-index: -1;}#sk-container-id-6 div.sk-parallel-item {display: flex;flex-direction: column;z-index: 1;position: relative;background-color: white;}#sk-container-id-6 div.sk-parallel-item:first-child::after {align-self: flex-end;width: 50%;}#sk-container-id-6 div.sk-parallel-item:last-child::after {align-self: flex-start;width: 50%;}#sk-container-id-6 div.sk-parallel-item:only-child::after {width: 0;}#sk-container-id-6 div.sk-dashed-wrapped {border: 1px dashed gray;margin: 0 0.4em 0.5em 0.4em;box-sizing: border-box;padding-bottom: 0.4em;background-color: white;}#sk-container-id-6 div.sk-label label {font-family: monospace;font-weight: bold;display: inline-block;line-height: 1.2em;}#sk-container-id-6 div.sk-label-container {text-align: center;}#sk-container-id-6 div.sk-container {/* jupyter's `normalize.less` sets `[hidden] { display: none; }` but bootstrap.min.css set `[hidden] { display: none !important; }` so we also need the `!important` here to be able to override the default hidden behavior on the sphinx rendered scikit-learn.org. See: https://github.com/scikit-learn/scikit-learn/issues/21755 */display: inline-block !important;position: relative;}#sk-container-id-6 div.sk-text-repr-fallback {display: none;}</style><div id=\"sk-container-id-6\" class=\"sk-top-container\"><div class=\"sk-text-repr-fallback\"><pre>GridSearchCV(estimator=XGBRegressor(base_score=None, booster=None,\n",
       "                                    callbacks=None, colsample_bylevel=None,\n",
       "                                    colsample_bynode=None,\n",
       "                                    colsample_bytree=None,\n",
       "                                    early_stopping_rounds=None,\n",
       "                                    enable_categorical=False, eval_metric=None,\n",
       "                                    feature_types=None, gamma=None, gpu_id=None,\n",
       "                                    grow_policy=None, importance_type=None,\n",
       "                                    interaction_constraints=None,\n",
       "                                    learning_rate=None, max_bin=None,\n",
       "                                    max_cat_threshold=None,\n",
       "                                    max_cat_to_onehot=None, max_delta_step=None,\n",
       "                                    max_depth=None, max_leaves=None,\n",
       "                                    min_child_weight=None, missing=nan,\n",
       "                                    monotone_constraints=None, n_estimators=100,\n",
       "                                    n_jobs=None, num_parallel_tree=None,\n",
       "                                    predictor=None, random_state=None, ...),\n",
       "             param_grid={&#x27;learning_rate&#x27;: [0.2, 0.5, 0.1],\n",
       "                         &#x27;max_depth&#x27;: (10, 20, None)})</pre><b>In a Jupyter environment, please rerun this cell to show the HTML representation or trust the notebook. <br />On GitHub, the HTML representation is unable to render, please try loading this page with nbviewer.org.</b></div><div class=\"sk-container\" hidden><div class=\"sk-item sk-dashed-wrapped\"><div class=\"sk-label-container\"><div class=\"sk-label sk-toggleable\"><input class=\"sk-toggleable__control sk-hidden--visually\" id=\"sk-estimator-id-12\" type=\"checkbox\" ><label for=\"sk-estimator-id-12\" class=\"sk-toggleable__label sk-toggleable__label-arrow\">GridSearchCV</label><div class=\"sk-toggleable__content\"><pre>GridSearchCV(estimator=XGBRegressor(base_score=None, booster=None,\n",
       "                                    callbacks=None, colsample_bylevel=None,\n",
       "                                    colsample_bynode=None,\n",
       "                                    colsample_bytree=None,\n",
       "                                    early_stopping_rounds=None,\n",
       "                                    enable_categorical=False, eval_metric=None,\n",
       "                                    feature_types=None, gamma=None, gpu_id=None,\n",
       "                                    grow_policy=None, importance_type=None,\n",
       "                                    interaction_constraints=None,\n",
       "                                    learning_rate=None, max_bin=None,\n",
       "                                    max_cat_threshold=None,\n",
       "                                    max_cat_to_onehot=None, max_delta_step=None,\n",
       "                                    max_depth=None, max_leaves=None,\n",
       "                                    min_child_weight=None, missing=nan,\n",
       "                                    monotone_constraints=None, n_estimators=100,\n",
       "                                    n_jobs=None, num_parallel_tree=None,\n",
       "                                    predictor=None, random_state=None, ...),\n",
       "             param_grid={&#x27;learning_rate&#x27;: [0.2, 0.5, 0.1],\n",
       "                         &#x27;max_depth&#x27;: (10, 20, None)})</pre></div></div></div><div class=\"sk-parallel\"><div class=\"sk-parallel-item\"><div class=\"sk-item\"><div class=\"sk-label-container\"><div class=\"sk-label sk-toggleable\"><input class=\"sk-toggleable__control sk-hidden--visually\" id=\"sk-estimator-id-13\" type=\"checkbox\" ><label for=\"sk-estimator-id-13\" class=\"sk-toggleable__label sk-toggleable__label-arrow\">estimator: XGBRegressor</label><div class=\"sk-toggleable__content\"><pre>XGBRegressor(base_score=None, booster=None, callbacks=None,\n",
       "             colsample_bylevel=None, colsample_bynode=None,\n",
       "             colsample_bytree=None, early_stopping_rounds=None,\n",
       "             enable_categorical=False, eval_metric=None, feature_types=None,\n",
       "             gamma=None, gpu_id=None, grow_policy=None, importance_type=None,\n",
       "             interaction_constraints=None, learning_rate=None, max_bin=None,\n",
       "             max_cat_threshold=None, max_cat_to_onehot=None,\n",
       "             max_delta_step=None, max_depth=None, max_leaves=None,\n",
       "             min_child_weight=None, missing=nan, monotone_constraints=None,\n",
       "             n_estimators=100, n_jobs=None, num_parallel_tree=None,\n",
       "             predictor=None, random_state=None, ...)</pre></div></div></div><div class=\"sk-serial\"><div class=\"sk-item\"><div class=\"sk-estimator sk-toggleable\"><input class=\"sk-toggleable__control sk-hidden--visually\" id=\"sk-estimator-id-14\" type=\"checkbox\" ><label for=\"sk-estimator-id-14\" class=\"sk-toggleable__label sk-toggleable__label-arrow\">XGBRegressor</label><div class=\"sk-toggleable__content\"><pre>XGBRegressor(base_score=None, booster=None, callbacks=None,\n",
       "             colsample_bylevel=None, colsample_bynode=None,\n",
       "             colsample_bytree=None, early_stopping_rounds=None,\n",
       "             enable_categorical=False, eval_metric=None, feature_types=None,\n",
       "             gamma=None, gpu_id=None, grow_policy=None, importance_type=None,\n",
       "             interaction_constraints=None, learning_rate=None, max_bin=None,\n",
       "             max_cat_threshold=None, max_cat_to_onehot=None,\n",
       "             max_delta_step=None, max_depth=None, max_leaves=None,\n",
       "             min_child_weight=None, missing=nan, monotone_constraints=None,\n",
       "             n_estimators=100, n_jobs=None, num_parallel_tree=None,\n",
       "             predictor=None, random_state=None, ...)</pre></div></div></div></div></div></div></div></div></div></div>"
      ],
      "text/plain": [
       "GridSearchCV(estimator=XGBRegressor(base_score=None, booster=None,\n",
       "                                    callbacks=None, colsample_bylevel=None,\n",
       "                                    colsample_bynode=None,\n",
       "                                    colsample_bytree=None,\n",
       "                                    early_stopping_rounds=None,\n",
       "                                    enable_categorical=False, eval_metric=None,\n",
       "                                    feature_types=None, gamma=None, gpu_id=None,\n",
       "                                    grow_policy=None, importance_type=None,\n",
       "                                    interaction_constraints=None,\n",
       "                                    learning_rate=None, max_bin=None,\n",
       "                                    max_cat_threshold=None,\n",
       "                                    max_cat_to_onehot=None, max_delta_step=None,\n",
       "                                    max_depth=None, max_leaves=None,\n",
       "                                    min_child_weight=None, missing=nan,\n",
       "                                    monotone_constraints=None, n_estimators=100,\n",
       "                                    n_jobs=None, num_parallel_tree=None,\n",
       "                                    predictor=None, random_state=None, ...),\n",
       "             param_grid={'learning_rate': [0.2, 0.5, 0.1],\n",
       "                         'max_depth': (10, 20, None)})"
      ]
     },
     "execution_count": 89,
     "metadata": {},
     "output_type": "execute_result"
    }
   ],
   "source": [
    "xgb = XGBRegressor()\n",
    "\n",
    "parameters = {'learning_rate':[0.2, 0.5, 0.1], 'max_depth':(10, 20, None)}\n",
    "\n",
    "xgb.fit(X_train_c, y_train_c)\n",
    "\n",
    "GSXGBconPCA = GridSearchCV(xgb, parameters)\n",
    "\n",
    "GSXGBconPCA.fit(X_train_c, y_train_c)"
   ]
  },
  {
   "cell_type": "code",
   "execution_count": 90,
   "id": "02184a9a",
   "metadata": {},
   "outputs": [
    {
     "name": "stdout",
     "output_type": "stream",
     "text": [
      "{'mean_fit_time': array([0.36522317, 0.85391555, 0.20564971, 0.35345464, 0.62612486,\n",
      "       0.20744519, 0.32572865, 0.68835859, 0.23537154]), 'std_fit_time': array([0.02420421, 0.05866922, 0.00540362, 0.01091783, 0.03269905,\n",
      "       0.00661549, 0.0066036 , 0.02586456, 0.00777763]), 'mean_score_time': array([0.00219402, 0.00698175, 0.00179539, 0.00259295, 0.00418882,\n",
      "       0.00159574, 0.00219417, 0.00558524, 0.00239244]), 'std_score_time': array([0.00039918, 0.00109284, 0.00039916, 0.00048893, 0.00039921,\n",
      "       0.00048871, 0.00039911, 0.0011972 , 0.00048928]), 'param_learning_rate': masked_array(data=[0.2, 0.2, 0.2, 0.5, 0.5, 0.5, 0.1, 0.1, 0.1],\n",
      "             mask=[False, False, False, False, False, False, False, False,\n",
      "                   False],\n",
      "       fill_value='?',\n",
      "            dtype=object), 'param_max_depth': masked_array(data=[10, 20, None, 10, 20, None, 10, 20, None],\n",
      "             mask=[False, False, False, False, False, False, False, False,\n",
      "                   False],\n",
      "       fill_value='?',\n",
      "            dtype=object), 'params': [{'learning_rate': 0.2, 'max_depth': 10}, {'learning_rate': 0.2, 'max_depth': 20}, {'learning_rate': 0.2, 'max_depth': None}, {'learning_rate': 0.5, 'max_depth': 10}, {'learning_rate': 0.5, 'max_depth': 20}, {'learning_rate': 0.5, 'max_depth': None}, {'learning_rate': 0.1, 'max_depth': 10}, {'learning_rate': 0.1, 'max_depth': 20}, {'learning_rate': 0.1, 'max_depth': None}], 'split0_test_score': array([0.62025298, 0.61792438, 0.61919359, 0.57384277, 0.54357481,\n",
      "       0.57750457, 0.63121651, 0.6193911 , 0.61356992]), 'split1_test_score': array([0.56574545, 0.54046032, 0.54603244, 0.497877  , 0.46788596,\n",
      "       0.48676211, 0.57398553, 0.54242399, 0.54850979]), 'split2_test_score': array([0.54987055, 0.51696216, 0.55816097, 0.50328544, 0.48201683,\n",
      "       0.52135612, 0.55436885, 0.52264009, 0.55332351]), 'split3_test_score': array([0.55695172, 0.54311215, 0.54472463, 0.51999032, 0.50098468,\n",
      "       0.54774109, 0.55687817, 0.54681665, 0.53597315]), 'split4_test_score': array([0.54495809, 0.51984124, 0.52204819, 0.49048054, 0.48522071,\n",
      "       0.49148173, 0.5730794 , 0.52790369, 0.53684382]), 'mean_test_score': array([0.56755576, 0.54766005, 0.55803196, 0.51709522, 0.4959366 ,\n",
      "       0.52496912, 0.57790569, 0.55183511, 0.55764404]), 'std_test_score': array([0.02726221, 0.03667654, 0.03273123, 0.02999019, 0.02603963,\n",
      "       0.03427177, 0.02784544, 0.03493602, 0.02874746]), 'rank_test_score': array([2, 6, 3, 8, 9, 7, 1, 5, 4])}\n"
     ]
    }
   ],
   "source": [
    "print(GSXGBconPCA.cv_results_)"
   ]
  },
  {
   "cell_type": "code",
   "execution_count": 91,
   "id": "bf0d18f8",
   "metadata": {},
   "outputs": [],
   "source": [
    "y_pred_C_xb = GSXGBconPCA.predict(X_test_c)"
   ]
  },
  {
   "cell_type": "code",
   "execution_count": 92,
   "id": "1e48d2f4",
   "metadata": {},
   "outputs": [],
   "source": [
    "xgb_C_mae = mean_absolute_error(y_test_c, y_pred_C_xb)\n",
    "xgb_C_mse = mean_squared_error(y_test_c, y_pred_C_xb)\n",
    "xgb_C_rmse = xgb_C_mse**.5"
   ]
  },
  {
   "cell_type": "code",
   "execution_count": 93,
   "id": "d4ab11c0",
   "metadata": {},
   "outputs": [],
   "source": [
    "data6 = ['XGBoost con PCA',  np.exp(xgb_C_mae), np.exp(xgb_C_mse), np.exp(xgb_C_rmse)] "
   ]
  },
  {
   "cell_type": "code",
   "execution_count": 94,
   "id": "6140ba46",
   "metadata": {},
   "outputs": [
    {
     "name": "stdout",
     "output_type": "stream",
     "text": [
      "xgb_C_mae=0.3226337356169597 \n",
      "xgb_C_mse=0.23055934696135946 \n",
      "xgb_C_rmse=0.48016595772853315 \n"
     ]
    }
   ],
   "source": [
    "print(f'{xgb_C_mae=} \\n{xgb_C_mse=} \\n{xgb_C_rmse=} ')"
   ]
  },
  {
   "cell_type": "markdown",
   "id": "f33e3fc8",
   "metadata": {},
   "source": [
    "### Tabla Reporte Resultado Modelos"
   ]
  },
  {
   "cell_type": "code",
   "execution_count": 95,
   "id": "0afbd823",
   "metadata": {},
   "outputs": [
    {
     "data": {
      "text/html": [
       "<div>\n",
       "<style scoped>\n",
       "    .dataframe tbody tr th:only-of-type {\n",
       "        vertical-align: middle;\n",
       "    }\n",
       "\n",
       "    .dataframe tbody tr th {\n",
       "        vertical-align: top;\n",
       "    }\n",
       "\n",
       "    .dataframe thead th {\n",
       "        text-align: right;\n",
       "    }\n",
       "</style>\n",
       "<table border=\"1\" class=\"dataframe\">\n",
       "  <thead>\n",
       "    <tr style=\"text-align: right;\">\n",
       "      <th></th>\n",
       "      <th>Modelo</th>\n",
       "      <th>mae</th>\n",
       "      <th>mse</th>\n",
       "      <th>sqmse</th>\n",
       "    </tr>\n",
       "  </thead>\n",
       "  <tbody>\n",
       "    <tr>\n",
       "      <th>0</th>\n",
       "      <td>Regresion Lineal sin PCA</td>\n",
       "      <td>1.753662</td>\n",
       "      <td>1.753662</td>\n",
       "      <td>2.137142</td>\n",
       "    </tr>\n",
       "    <tr>\n",
       "      <th>1</th>\n",
       "      <td>Regresion Lineal con PCA</td>\n",
       "      <td>1.775166</td>\n",
       "      <td>1.831451</td>\n",
       "      <td>2.176868</td>\n",
       "    </tr>\n",
       "    <tr>\n",
       "      <th>2</th>\n",
       "      <td>Random Forest sin PCA</td>\n",
       "      <td>1.350673</td>\n",
       "      <td>1.221336</td>\n",
       "      <td>1.563853</td>\n",
       "    </tr>\n",
       "    <tr>\n",
       "      <th>3</th>\n",
       "      <td>Random Forest con PCA</td>\n",
       "      <td>1.367431</td>\n",
       "      <td>1.243412</td>\n",
       "      <td>1.594809</td>\n",
       "    </tr>\n",
       "    <tr>\n",
       "      <th>4</th>\n",
       "      <td>XGBoost sin PCA</td>\n",
       "      <td>1.357894</td>\n",
       "      <td>1.218997</td>\n",
       "      <td>1.560497</td>\n",
       "    </tr>\n",
       "    <tr>\n",
       "      <th>5</th>\n",
       "      <td>XGBoost con PCA</td>\n",
       "      <td>1.380760</td>\n",
       "      <td>1.259304</td>\n",
       "      <td>1.616343</td>\n",
       "    </tr>\n",
       "  </tbody>\n",
       "</table>\n",
       "</div>"
      ],
      "text/plain": [
       "                     Modelo       mae       mse     sqmse\n",
       "0  Regresion Lineal sin PCA  1.753662  1.753662  2.137142\n",
       "1  Regresion Lineal con PCA  1.775166  1.831451  2.176868\n",
       "2     Random Forest sin PCA  1.350673  1.221336  1.563853\n",
       "3     Random Forest con PCA  1.367431  1.243412  1.594809\n",
       "4           XGBoost sin PCA  1.357894  1.218997  1.560497\n",
       "5           XGBoost con PCA  1.380760  1.259304  1.616343"
      ]
     },
     "execution_count": 95,
     "metadata": {},
     "output_type": "execute_result"
    }
   ],
   "source": [
    "resultados = pd.DataFrame( [data1,  \n",
    "                            data2, \n",
    "                            data3,  \n",
    "                            data4,  \n",
    "                            data5,\n",
    "                            data6\n",
    "                           ],  columns=data0)\n",
    "resultados"
   ]
  },
  {
   "cell_type": "markdown",
   "id": "181d8c78",
   "metadata": {},
   "source": [
    "Tras analizar las métricas de los resultados de los distintos modelos realizados con y sin PCA, llegamos a la conclusión\n",
    "de que el mejor modelo en base a nuestros datos es el de XGBoost sin PCA."
   ]
  },
  {
   "cell_type": "raw",
   "id": "07c069a1",
   "metadata": {},
   "source": [
    "with open('modelo_final.sav', \"wb\") as f:\n",
    "    pickle.dump(GSXGBsinPCA, f)"
   ]
  }
 ],
 "metadata": {
  "kernelspec": {
   "display_name": "Python 3 (ipykernel)",
   "language": "python",
   "name": "python3"
  },
  "language_info": {
   "codemirror_mode": {
    "name": "ipython",
    "version": 3
   },
   "file_extension": ".py",
   "mimetype": "text/x-python",
   "name": "python",
   "nbconvert_exporter": "python",
   "pygments_lexer": "ipython3",
   "version": "3.10.9"
  }
 },
 "nbformat": 4,
 "nbformat_minor": 5
}
