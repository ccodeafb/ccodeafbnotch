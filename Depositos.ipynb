{
 "cells": [
  {
   "cell_type": "markdown",
   "id": "b6333a47",
   "metadata": {},
   "source": [
    "# Facto"
   ]
  },
  {
   "cell_type": "code",
   "execution_count": 67,
   "id": "5e651eda-b4b3-4d9e-8ee9-f7905e5a07c8",
   "metadata": {},
   "outputs": [],
   "source": [
    "def calcular_tin(tae, periodos):\n",
    "    tin = ((1 + tae / periodos) ** periodos - 1) * 100\n",
    "    return tin\n",
    "\n",
    "def calcular_interes_generado(importe_inicial, tae, periodos):\n",
    "    # Convertir TAE a decimal\n",
    "    r = tae / 100\n",
    "    # Calcular el interés generado con la fórmula del interés simple\n",
    "    interes_generado = importe_inicial * r * (periodos / 12) * 100\n",
    "    return interes_generado\n",
    "\n",
    "def calcular_importe_total(importe_inicial, interes_generado):\n",
    "    importe_total = importe_inicial + interes_generado\n",
    "    return importe_total\n",
    "\n",
    "def calcular_interes_mensual(interes_generado, periodos):\n",
    "    interes_mensual = interes_generado / periodos\n",
    "    return interes_mensual"
   ]
  },
  {
   "cell_type": "code",
   "execution_count": 68,
   "id": "24d78b10-a512-4b4f-a795-b23546eb1da9",
   "metadata": {},
   "outputs": [],
   "source": [
    "def main(tae, periodos, importe_inicial):\n",
    "    tin = calcular_tin(tae, periodos)\n",
    "    print(f\"TIN: {tin:.8f}%\")\n",
    "\n",
    "    interes_generado = calcular_interes_generado(importe_inicial, tae, periodos)\n",
    "    print(f\"Interés generado: {interes_generado:.2f}€\")\n",
    "\n",
    "    importe_total = calcular_importe_total(importe_inicial, interes_generado)\n",
    "    print(f\"Importe total al vencimiento: {importe_total:.2f}€\")\n",
    "\n",
    "    interes_mensual = calcular_interes_mensual(interes_generado,periodos)\n",
    "    print(f\"Interés mensual: {interes_mensual:.2f}€\")\n",
    "\n"
   ]
  },
  {
   "cell_type": "code",
   "execution_count": 69,
   "id": "9290063b-88a3-41ff-b90d-bf60c87bb5c2",
   "metadata": {},
   "outputs": [
    {
     "name": "stdout",
     "output_type": "stream",
     "text": [
      "TIN: 3.84833656%\n",
      "Interés generado: 47.50€\n",
      "Importe total al vencimiento: 5047.50€\n",
      "Interés mensual: 15.83€\n"
     ]
    }
   ],
   "source": [
    "main(0.038,3,5000)"
   ]
  },
  {
   "cell_type": "code",
   "execution_count": 70,
   "id": "12ee2d34-9689-449c-97b4-ff46697e393b",
   "metadata": {},
   "outputs": [
    {
     "name": "stdout",
     "output_type": "stream",
     "text": [
      "TIN: 3.60292651%\n",
      "Interés generado: 88.75€\n",
      "Importe total al vencimiento: 5088.75€\n",
      "Interés mensual: 14.79€\n"
     ]
    }
   ],
   "source": [
    "main(0.0355,6,5000)"
   ]
  },
  {
   "cell_type": "code",
   "execution_count": 71,
   "id": "705467fe-8672-4b93-962f-13be19f15083",
   "metadata": {},
   "outputs": [
    {
     "name": "stdout",
     "output_type": "stream",
     "text": [
      "TIN: 3.07243531%\n",
      "Interés generado: 151.50€\n",
      "Importe total al vencimiento: 5151.50€\n",
      "Interés mensual: 12.62€\n"
     ]
    }
   ],
   "source": [
    "main(0.0303,12,5000)"
   ]
  },
  {
   "cell_type": "markdown",
   "id": "5a9c5da6",
   "metadata": {},
   "source": [
    "# Revolut"
   ]
  },
  {
   "cell_type": "code",
   "execution_count": 6,
   "id": "d86a96f5",
   "metadata": {},
   "outputs": [
    {
     "name": "stdout",
     "output_type": "stream",
     "text": [
      "Saldo inicial: 1131.34€\n",
      "Saldo final: 1131.62€\n"
     ]
    }
   ],
   "source": [
    "def calcular_saldo_inicial(deposito_inicial, intereses_recibidos):\n",
    "    saldo_inicial = deposito_inicial + sum(intereses_recibidos)\n",
    "    return saldo_inicial\n",
    "\n",
    "def calcular_saldo_final(saldo_inicial, comisiones_diarias):\n",
    "    saldo_final = saldo_inicial - sum(comisiones_diarias)\n",
    "    return saldo_final\n",
    "\n",
    "def main():\n",
    "    deposito_inicial = 1131.34\n",
    "    intereses_recibidos = [0.1178, 0.1278, 0.1178]  # Intereses netos recibidos cada día\n",
    "    comision_diaria = 0.0278\n",
    "\n",
    "    saldo_inicial = calcular_saldo_inicial(deposito_inicial, intereses_recibidos)\n",
    "    print(f\"Saldo inicial: {deposito_inicial:.2f}€\")\n",
    "\n",
    "    comisiones_diarias = [comision_diaria] * len(intereses_recibidos)\n",
    "    saldo_final = calcular_saldo_final(saldo_inicial, comisiones_diarias)\n",
    "    print(f\"Saldo final: {saldo_final:.2f}€\")\n",
    "\n",
    "if __name__ == \"__main__\":\n",
    "    main()\n"
   ]
  },
  {
   "cell_type": "code",
   "execution_count": 46,
   "id": "6f343321",
   "metadata": {},
   "outputs": [
    {
     "name": "stdout",
     "output_type": "stream",
     "text": [
      "Deposito final: 5047.55€   (+47.55)\n",
      "Tipo de interés: 3.06%\n"
     ]
    }
   ],
   "source": [
    "def main(deposito_inicial2,dias):\n",
    "    deposito_final = 1131.62\n",
    "    deposito_inicial = 1131.34\n",
    "    tasa_interes_diaria = (deposito_final / deposito_inicial)**(1/3)- 1    \n",
    "    deposito_final2 = ((tasa_interes_diaria +1) ** dias * deposito_inicial2)\n",
    "    ganancia_final = (deposito_final2 - deposito_inicial2)**0.77\n",
    "    deposito_final2 = deposito_inicial2 + ganancia_final\n",
    "    print(f\"Deposito final: {deposito_final2:.2f}€   (+{ganancia_final:.2f})\")\n",
    "    equivalente_anual = (1 + tasa_interes_diaria) ** 365 - 1\n",
    "    print(f\"Tipo de interés: {equivalente_anual * 100:.2f}%\")\n",
    "\n",
    "main(5000,360)\n"
   ]
  }
 ],
 "metadata": {
  "kernelspec": {
   "display_name": "Python 3 (ipykernel)",
   "language": "python",
   "name": "python3"
  },
  "language_info": {
   "codemirror_mode": {
    "name": "ipython",
    "version": 3
   },
   "file_extension": ".py",
   "mimetype": "text/x-python",
   "name": "python",
   "nbconvert_exporter": "python",
   "pygments_lexer": "ipython3",
   "version": "3.10.9"
  }
 },
 "nbformat": 4,
 "nbformat_minor": 5
}
